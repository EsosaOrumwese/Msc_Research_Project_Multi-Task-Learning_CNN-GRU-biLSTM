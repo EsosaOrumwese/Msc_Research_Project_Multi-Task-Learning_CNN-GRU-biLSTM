{
 "cells": [
  {
   "cell_type": "markdown",
   "metadata": {},
   "source": [
    "# Transport Mode Classification using BiLSTM (RNN)\n",
    "To better understand the code, check out `./prep_files/biLSTM_transport_classification.ipynb`. That notebook explains the thought process behind this code on a sample dataset whilst this goes straight to the point. "
   ]
  },
  {
   "cell_type": "code",
   "execution_count": 1,
   "metadata": {},
   "outputs": [],
   "source": [
    "import numpy as np\n",
    "import pandas as pd\n",
    "import torch\n",
    "import torch.nn as nn\n",
    "import torch.optim as optim\n",
    "from torchsummary import summary\n",
    "\n",
    "from src.engine import biLSTM_engine\n",
    "from src.model_transportMode import BiLSTMNetwork\n",
    "from src.plot import plot_history, plot_endgame_history\n",
    "from src.dataset import TransportModeDataset\n",
    "\n",
    "from sklearn.utils.class_weight import compute_class_weight\n",
    "from torch.utils.data import DataLoader, random_split"
   ]
  },
  {
   "cell_type": "markdown",
   "metadata": {},
   "source": [
    "Computing class weights"
   ]
  },
  {
   "cell_type": "code",
   "execution_count": 4,
   "metadata": {},
   "outputs": [
    {
     "name": "stdout",
     "output_type": "stream",
     "text": [
      "Classes: [0. 1. 2. 3. 4. 5. 6. 7.]\n"
     ]
    },
    {
     "data": {
      "text/plain": [
       "tensor([0.0521, 0.0592, 0.4732, 0.1143, 0.0655, 0.1070, 0.0639, 0.0648],\n",
       "       device='cuda:0')"
      ]
     },
     "execution_count": 4,
     "metadata": {},
     "output_type": "execute_result"
    }
   ],
   "source": [
    "y_train = pd.read_csv('./data/lstm_features_labels/train/metadata.csv')\n",
    "y_train = y_train.iloc[:,1].values\n",
    "print('Classes:', np.unique(y_train))\n",
    "\n",
    "class_weights = torch.tensor(compute_class_weight('balanced', classes=np.unique(y_train), y=y_train), dtype=torch.float32)\n",
    "class_weights = class_weights / class_weights.sum()\n",
    "class_weights = class_weights.to(torch.device(\"cuda\" if torch.cuda.is_available() else \"cpu\"))\n",
    "\n",
    "print(class_weights)\n",
    "del y_train"
   ]
  },
  {
   "attachments": {
    "image.png": {
     "image/png": "[encoded data removed]"
    }
   },
   "cell_type": "markdown",
   "metadata": {},
   "source": [
    "Original coarse labels are shown below. During preprocessing, the Null class (`0.0`), was dropped and with the remaining, I substracted `1` from the labels so that it would start from `0`.\n",
    "\n",
    "![image.png](attachment:image.png)"
   ]
  },
  {
   "cell_type": "code",
   "execution_count": 3,
   "metadata": {},
   "outputs": [],
   "source": [
    "base_dir = './data/lstm_features_labels/'\n",
    "\n",
    "train_datasets = TransportModeDataset(base_dir, mode='train')\n",
    "val_test_datasets = TransportModeDataset(base_dir, mode='valid')\n",
    "\n",
    "np.random.seed(42)\n",
    "valid_datasets, test_datasets = random_split(val_test_datasets, [0.5, 0.5])"
   ]
  },
  {
   "cell_type": "code",
   "execution_count": 4,
   "metadata": {},
   "outputs": [
    {
     "data": {
      "text/plain": [
       "(46240, 5782, 5781)"
      ]
     },
     "execution_count": 4,
     "metadata": {},
     "output_type": "execute_result"
    }
   ],
   "source": [
    "len(train_datasets), len(valid_datasets), len(test_datasets)"
   ]
  },
  {
   "cell_type": "markdown",
   "metadata": {},
   "source": [
    "### 1st Run with 1st Config"
   ]
  },
  {
   "cell_type": "code",
   "execution_count": 5,
   "metadata": {},
   "outputs": [],
   "source": [
    "Fst_config= {'optimizer': 'adamw', 'lr': 0.007696965501070433, 'scheduler': 'exp', \n",
    "             'gamma': 0.9318166309092948, 'patience': 10, 'epochs': 1200, \n",
    "             'batch_size': 64, 'weight_decay': 0.07563306484196267, 'hidden_size': 300, \n",
    "             'num_layers': 1, 'dropout': 0.494696861183782}"
   ]
  },
  {
   "cell_type": "code",
   "execution_count": 6,
   "metadata": {},
   "outputs": [],
   "source": [
    "batch_size = 64\n",
    "train_dl = DataLoader(train_datasets, batch_size, shuffle=True, num_workers=4)\n",
    "valid_dl = DataLoader(valid_datasets, batch_size, shuffle=True, num_workers=4)\n",
    "test_dl = DataLoader(test_datasets, batch_size, shuffle=False, num_workers=2)"
   ]
  },
  {
   "cell_type": "code",
   "execution_count": 7,
   "metadata": {},
   "outputs": [],
   "source": [
    "criterion = nn.CrossEntropyLoss(weight=class_weights)\n",
    "model = BiLSTMNetwork(input_size=6, hidden_size=300, num_layers=1, dropout=0.494697) #drop is technically == 0 since n_layers == 1\n",
    "optimizer = optim.AdamW(model.parameters(), lr=0.00769697, weight_decay=0.0756331)\n",
    "scheduler = optim.lr_scheduler.ExponentialLR(optimizer, gamma=0.931817)\n",
    "device = torch.device(\"cuda\" if torch.cuda.is_available() else \"cpu\")\n",
    "\n",
    "model = model.to(device)"
   ]
  },
  {
   "cell_type": "code",
   "execution_count": 8,
   "metadata": {},
   "outputs": [],
   "source": [
    "engine = biLSTM_engine(model, optimizer, scheduler, criterion, device)"
   ]
  },
  {
   "cell_type": "code",
   "execution_count": 9,
   "metadata": {},
   "outputs": [
    {
     "name": "stdout",
     "output_type": "stream",
     "text": [
      "   Epoch [1/100], Train Loss: 1.3762, Train Accuracy: 42.13%, Val Loss: 1.2007, Val Accuracy: 49.90%\n",
      "   Epoch [2/100], Train Loss: 1.1691, Train Accuracy: 51.23%, Val Loss: 1.1444, Val Accuracy: 52.18%\n",
      "   Epoch [3/100], Train Loss: 1.1178, Train Accuracy: 53.51%, Val Loss: 1.0328, Val Accuracy: 56.90%\n",
      "   Epoch [4/100], Train Loss: 1.1338, Train Accuracy: 53.39%, Val Loss: 1.2138, Val Accuracy: 48.56%\n",
      "   Epoch [5/100], Train Loss: 1.0899, Train Accuracy: 54.73%, Val Loss: 1.0583, Val Accuracy: 56.71%\n",
      "   Epoch [6/100], Train Loss: 1.0507, Train Accuracy: 56.39%, Val Loss: 1.0358, Val Accuracy: 57.90%\n",
      "   Epoch [7/100], Train Loss: 0.9951, Train Accuracy: 58.28%, Val Loss: 0.9348, Val Accuracy: 60.29%\n",
      "   Epoch [8/100], Train Loss: 0.8853, Train Accuracy: 62.47%, Val Loss: 0.8691, Val Accuracy: 62.90%\n",
      "   Epoch [9/100], Train Loss: 0.8302, Train Accuracy: 64.79%, Val Loss: 0.9988, Val Accuracy: 55.66%\n",
      "   Epoch [10/100], Train Loss: 0.8115, Train Accuracy: 65.80%, Val Loss: 0.8005, Val Accuracy: 66.07%\n",
      "   Epoch [11/100], Train Loss: 0.7638, Train Accuracy: 67.75%, Val Loss: 0.7994, Val Accuracy: 67.36%\n",
      "   Epoch [12/100], Train Loss: 0.7475, Train Accuracy: 68.48%, Val Loss: 0.7256, Val Accuracy: 69.02%\n",
      "   Epoch [13/100], Train Loss: 0.7273, Train Accuracy: 69.19%, Val Loss: 0.7288, Val Accuracy: 69.44%\n",
      "   Epoch [14/100], Train Loss: 0.7077, Train Accuracy: 69.91%, Val Loss: 0.7332, Val Accuracy: 67.93%\n",
      "   Epoch [15/100], Train Loss: 0.6935, Train Accuracy: 70.40%, Val Loss: 0.6858, Val Accuracy: 71.93%\n",
      "   Epoch [16/100], Train Loss: 0.6659, Train Accuracy: 71.71%, Val Loss: 0.6739, Val Accuracy: 72.45%\n",
      "   Epoch [17/100], Train Loss: 0.6491, Train Accuracy: 72.38%, Val Loss: 0.6478, Val Accuracy: 72.59%\n",
      "   Epoch [18/100], Train Loss: 0.6281, Train Accuracy: 73.30%, Val Loss: 0.6427, Val Accuracy: 72.69%\n",
      "   Epoch [19/100], Train Loss: 0.6105, Train Accuracy: 74.08%, Val Loss: 0.6263, Val Accuracy: 73.97%\n",
      "   Epoch [20/100], Train Loss: 0.6021, Train Accuracy: 74.47%, Val Loss: 0.6281, Val Accuracy: 73.63%\n",
      "   Epoch [21/100], Train Loss: 0.5959, Train Accuracy: 74.38%, Val Loss: 0.6143, Val Accuracy: 74.26%\n",
      "   Epoch [22/100], Train Loss: 0.5787, Train Accuracy: 75.15%, Val Loss: 0.5928, Val Accuracy: 74.85%\n",
      "   Epoch [23/100], Train Loss: 0.5560, Train Accuracy: 76.17%, Val Loss: 0.5995, Val Accuracy: 73.99%\n",
      "   Epoch [24/100], Train Loss: 0.5338, Train Accuracy: 77.33%, Val Loss: 0.6016, Val Accuracy: 75.13%\n",
      "   Epoch [25/100], Train Loss: 0.5189, Train Accuracy: 77.65%, Val Loss: 0.5769, Val Accuracy: 76.34%\n",
      "   Epoch [26/100], Train Loss: 0.5121, Train Accuracy: 77.74%, Val Loss: 0.5840, Val Accuracy: 75.79%\n",
      "   Epoch [27/100], Train Loss: 0.4945, Train Accuracy: 78.74%, Val Loss: 0.5758, Val Accuracy: 76.58%\n",
      "   Epoch [28/100], Train Loss: 0.4963, Train Accuracy: 78.74%, Val Loss: 0.5473, Val Accuracy: 77.14%\n",
      "   Epoch [29/100], Train Loss: 0.4620, Train Accuracy: 80.13%, Val Loss: 0.5526, Val Accuracy: 76.43%\n",
      "   Epoch [30/100], Train Loss: 0.4594, Train Accuracy: 80.15%, Val Loss: 0.5450, Val Accuracy: 77.60%\n",
      "   Epoch [31/100], Train Loss: 0.4429, Train Accuracy: 80.85%, Val Loss: 0.5519, Val Accuracy: 77.40%\n",
      "   Epoch [32/100], Train Loss: 0.4267, Train Accuracy: 81.62%, Val Loss: 0.5343, Val Accuracy: 77.78%\n",
      "   Epoch [33/100], Train Loss: 0.4169, Train Accuracy: 81.99%, Val Loss: 0.5238, Val Accuracy: 78.21%\n",
      "   Epoch [34/100], Train Loss: 0.4026, Train Accuracy: 82.67%, Val Loss: 0.5214, Val Accuracy: 78.29%\n",
      "   Epoch [35/100], Train Loss: 0.3934, Train Accuracy: 82.94%, Val Loss: 0.5104, Val Accuracy: 78.78%\n",
      "   Epoch [36/100], Train Loss: 0.3837, Train Accuracy: 83.55%, Val Loss: 0.5175, Val Accuracy: 79.28%\n",
      "   Epoch [37/100], Train Loss: 0.3751, Train Accuracy: 83.92%, Val Loss: 0.5044, Val Accuracy: 79.63%\n",
      "   Epoch [38/100], Train Loss: 0.3635, Train Accuracy: 84.33%, Val Loss: 0.4999, Val Accuracy: 79.71%\n",
      "   Epoch [39/100], Train Loss: 0.3498, Train Accuracy: 84.65%, Val Loss: 0.5043, Val Accuracy: 79.61%\n",
      "   Epoch [40/100], Train Loss: 0.3419, Train Accuracy: 85.18%, Val Loss: 0.5163, Val Accuracy: 79.38%\n",
      "   Epoch [41/100], Train Loss: 0.3408, Train Accuracy: 85.45%, Val Loss: 0.4924, Val Accuracy: 80.04%\n",
      "   Epoch [42/100], Train Loss: 0.3303, Train Accuracy: 85.90%, Val Loss: 0.5159, Val Accuracy: 80.11%\n",
      "   Epoch [43/100], Train Loss: 0.3131, Train Accuracy: 86.59%, Val Loss: 0.5076, Val Accuracy: 80.63%\n",
      "   Epoch [44/100], Train Loss: 0.3061, Train Accuracy: 86.90%, Val Loss: 0.4902, Val Accuracy: 80.54%\n",
      "   Epoch [45/100], Train Loss: 0.2962, Train Accuracy: 87.36%, Val Loss: 0.5003, Val Accuracy: 81.20%\n",
      "   Epoch [46/100], Train Loss: 0.2888, Train Accuracy: 87.61%, Val Loss: 0.4802, Val Accuracy: 81.65%\n",
      "   Epoch [47/100], Train Loss: 0.2788, Train Accuracy: 87.94%, Val Loss: 0.4865, Val Accuracy: 81.82%\n",
      "   Epoch [48/100], Train Loss: 0.2732, Train Accuracy: 88.23%, Val Loss: 0.4949, Val Accuracy: 82.22%\n",
      "   Epoch [49/100], Train Loss: 0.2657, Train Accuracy: 88.69%, Val Loss: 0.4865, Val Accuracy: 81.91%\n",
      "   Epoch [50/100], Train Loss: 0.2592, Train Accuracy: 88.98%, Val Loss: 0.4970, Val Accuracy: 81.34%\n",
      "   Epoch [51/100], Train Loss: 0.2481, Train Accuracy: 89.55%, Val Loss: 0.4918, Val Accuracy: 82.12%\n",
      "   Epoch [52/100], Train Loss: 0.2422, Train Accuracy: 89.82%, Val Loss: 0.5046, Val Accuracy: 81.44%\n",
      "   Epoch [53/100], Train Loss: 0.2376, Train Accuracy: 89.97%, Val Loss: 0.4944, Val Accuracy: 82.03%\n",
      "   Epoch [54/100], Train Loss: 0.2313, Train Accuracy: 90.24%, Val Loss: 0.5087, Val Accuracy: 81.81%\n",
      "   Epoch [55/100], Train Loss: 0.2204, Train Accuracy: 90.64%, Val Loss: 0.5149, Val Accuracy: 81.70%\n",
      "   Epoch [56/100], Train Loss: 0.2160, Train Accuracy: 90.87%, Val Loss: 0.5231, Val Accuracy: 82.13%\n",
      "   Epoch [57/100], Train Loss: 0.2149, Train Accuracy: 91.01%, Val Loss: 0.5124, Val Accuracy: 82.31%\n",
      "   Epoch [58/100], Train Loss: 0.2040, Train Accuracy: 91.48%, Val Loss: 0.5211, Val Accuracy: 82.10%\n",
      "   Epoch [59/100], Train Loss: 0.1996, Train Accuracy: 91.67%, Val Loss: 0.5372, Val Accuracy: 81.89%\n",
      "   Epoch [60/100], Train Loss: 0.1956, Train Accuracy: 91.92%, Val Loss: 0.5364, Val Accuracy: 81.84%\n",
      "   Epoch [61/100], Train Loss: 0.1909, Train Accuracy: 92.01%, Val Loss: 0.5264, Val Accuracy: 82.12%\n",
      "   Epoch [62/100], Train Loss: 0.1856, Train Accuracy: 92.23%, Val Loss: 0.5415, Val Accuracy: 82.34%\n",
      "   Epoch [63/100], Train Loss: 0.1813, Train Accuracy: 92.53%, Val Loss: 0.5395, Val Accuracy: 81.96%\n",
      "   Epoch [64/100], Train Loss: 0.1762, Train Accuracy: 92.69%, Val Loss: 0.5426, Val Accuracy: 81.91%\n",
      "   Epoch [65/100], Train Loss: 0.1708, Train Accuracy: 92.89%, Val Loss: 0.5480, Val Accuracy: 82.31%\n",
      "   Epoch [66/100], Train Loss: 0.1681, Train Accuracy: 93.07%, Val Loss: 0.5473, Val Accuracy: 82.55%\n",
      "   Epoch [67/100], Train Loss: 0.1643, Train Accuracy: 93.16%, Val Loss: 0.5612, Val Accuracy: 82.34%\n",
      "   Epoch [68/100], Train Loss: 0.1596, Train Accuracy: 93.52%, Val Loss: 0.5557, Val Accuracy: 82.43%\n",
      "   Epoch [69/100], Train Loss: 0.1586, Train Accuracy: 93.57%, Val Loss: 0.5604, Val Accuracy: 82.51%\n",
      "   Epoch [70/100], Train Loss: 0.1528, Train Accuracy: 93.86%, Val Loss: 0.5645, Val Accuracy: 82.22%\n",
      "   Epoch [71/100], Train Loss: 0.1491, Train Accuracy: 93.88%, Val Loss: 0.5688, Val Accuracy: 82.55%\n",
      "   Epoch [72/100], Train Loss: 0.1494, Train Accuracy: 93.90%, Val Loss: 0.5740, Val Accuracy: 82.31%\n",
      "   Epoch [73/100], Train Loss: 0.1449, Train Accuracy: 94.10%, Val Loss: 0.5854, Val Accuracy: 82.51%\n",
      "   Epoch [74/100], Train Loss: 0.1421, Train Accuracy: 94.24%, Val Loss: 0.5884, Val Accuracy: 82.39%\n",
      "   Epoch [75/100], Train Loss: 0.1380, Train Accuracy: 94.40%, Val Loss: 0.5906, Val Accuracy: 82.39%\n",
      "   Epoch [76/100], Train Loss: 0.1356, Train Accuracy: 94.51%, Val Loss: 0.6010, Val Accuracy: 82.31%\n",
      "   Epoch [77/100], Train Loss: 0.1337, Train Accuracy: 94.69%, Val Loss: 0.6007, Val Accuracy: 82.26%\n",
      "   Epoch [78/100], Train Loss: 0.1320, Train Accuracy: 94.73%, Val Loss: 0.5994, Val Accuracy: 82.46%\n",
      "   Epoch [79/100], Train Loss: 0.1298, Train Accuracy: 94.79%, Val Loss: 0.6036, Val Accuracy: 82.26%\n",
      "   Epoch [80/100], Train Loss: 0.1277, Train Accuracy: 94.86%, Val Loss: 0.6135, Val Accuracy: 82.46%\n",
      "   Epoch [81/100], Train Loss: 0.1250, Train Accuracy: 95.00%, Val Loss: 0.6187, Val Accuracy: 82.22%\n",
      "   Epoch [82/100], Train Loss: 0.1235, Train Accuracy: 95.07%, Val Loss: 0.6222, Val Accuracy: 82.41%\n",
      "   Epoch [83/100], Train Loss: 0.1209, Train Accuracy: 95.17%, Val Loss: 0.6324, Val Accuracy: 81.98%\n",
      "   Epoch [84/100], Train Loss: 0.1192, Train Accuracy: 95.22%, Val Loss: 0.6226, Val Accuracy: 82.39%\n",
      "   Epoch [85/100], Train Loss: 0.1185, Train Accuracy: 95.30%, Val Loss: 0.6371, Val Accuracy: 82.48%\n",
      "   Epoch [86/100], Train Loss: 0.1174, Train Accuracy: 95.34%, Val Loss: 0.6388, Val Accuracy: 82.10%\n",
      "   Epoch [87/100], Train Loss: 0.1153, Train Accuracy: 95.46%, Val Loss: 0.6329, Val Accuracy: 82.19%\n",
      "   Epoch [88/100], Train Loss: 0.1142, Train Accuracy: 95.53%, Val Loss: 0.6422, Val Accuracy: 82.41%\n",
      "   Epoch [89/100], Train Loss: 0.1126, Train Accuracy: 95.58%, Val Loss: 0.6417, Val Accuracy: 82.00%\n"
     ]
    },
    {
     "ename": "RuntimeError",
     "evalue": "CUDA error: unspecified launch failure\nCUDA kernel errors might be asynchronously reported at some other API call, so the stacktrace below might be incorrect.\nFor debugging consider passing CUDA_LAUNCH_BLOCKING=1.\nCompile with `TORCH_USE_CUDA_DSA` to enable device-side assertions.\n",
     "output_type": "error",
     "traceback": [
      "\u001b[1;31m---------------------------------------------------------------------------\u001b[0m",
      "\u001b[1;31mRuntimeError\u001b[0m                              Traceback (most recent call last)",
      "Cell \u001b[1;32mIn[9], line 1\u001b[0m\n\u001b[1;32m----> 1\u001b[0m firstRun_hist \u001b[38;5;241m=\u001b[39m \u001b[43mengine\u001b[49m\u001b[38;5;241;43m.\u001b[39;49m\u001b[43mtrain_validation\u001b[49m\u001b[43m(\u001b[49m\u001b[43mtrain_dl\u001b[49m\u001b[43m,\u001b[49m\u001b[43m \u001b[49m\u001b[43mvalid_dl\u001b[49m\u001b[43m,\u001b[49m\u001b[43m \u001b[49m\u001b[43mepochs\u001b[49m\u001b[38;5;241;43m=\u001b[39;49m\u001b[38;5;241;43m100\u001b[39;49m\u001b[43m,\u001b[49m\u001b[43m \u001b[49m\u001b[43msave_path\u001b[49m\u001b[38;5;241;43m=\u001b[39;49m\u001b[38;5;124;43m'\u001b[39;49m\u001b[38;5;124;43m./model_checkpoint/run1_transpMode_BiLSTM_chkpt.pth\u001b[39;49m\u001b[38;5;124;43m'\u001b[39;49m\u001b[43m)\u001b[49m\n\u001b[0;32m      3\u001b[0m np\u001b[38;5;241m.\u001b[39msave(\u001b[38;5;124m'\u001b[39m\u001b[38;5;124m./model_checkpoint/run1_transpMode_BiLSTM_history.npy\u001b[39m\u001b[38;5;124m'\u001b[39m, np\u001b[38;5;241m.\u001b[39marray(firstRun_hist))\n",
      "File \u001b[1;32mc:\\Users\\LEGION\\Documents\\Msc Data Science - Uni of Exeter\\ECMM451 - Data Science Research Project (2023)\\workspace\\src\\engine.py:293\u001b[0m, in \u001b[0;36mbiLSTM_engine.train_validation\u001b[1;34m(self, train_loader, val_loader, epochs, save_path)\u001b[0m\n\u001b[0;32m    289\u001b[0m val_accuracies \u001b[38;5;241m=\u001b[39m []\n\u001b[0;32m    291\u001b[0m \u001b[38;5;28;01mfor\u001b[39;00m epoch \u001b[38;5;129;01min\u001b[39;00m \u001b[38;5;28mrange\u001b[39m(epochs):\n\u001b[0;32m    292\u001b[0m       \u001b[38;5;66;03m# training\u001b[39;00m\n\u001b[1;32m--> 293\u001b[0m       train_loss, train_accuracy \u001b[38;5;241m=\u001b[39m \u001b[38;5;28;43mself\u001b[39;49m\u001b[38;5;241;43m.\u001b[39;49m\u001b[43mtrain\u001b[49m\u001b[43m(\u001b[49m\u001b[43mtrain_loader\u001b[49m\u001b[43m)\u001b[49m\n\u001b[0;32m    294\u001b[0m       train_losses\u001b[38;5;241m.\u001b[39mappend(train_loss)\n\u001b[0;32m    295\u001b[0m       train_accuracies\u001b[38;5;241m.\u001b[39mappend(train_accuracy)\n",
      "File \u001b[1;32mc:\\Users\\LEGION\\Documents\\Msc Data Science - Uni of Exeter\\ECMM451 - Data Science Research Project (2023)\\workspace\\src\\engine.py:254\u001b[0m, in \u001b[0;36mbiLSTM_engine.train\u001b[1;34m(self, train_loader)\u001b[0m\n\u001b[0;32m    251\u001b[0m loss\u001b[38;5;241m.\u001b[39mbackward()\n\u001b[0;32m    252\u001b[0m \u001b[38;5;28mself\u001b[39m\u001b[38;5;241m.\u001b[39moptimizer\u001b[38;5;241m.\u001b[39mstep()\n\u001b[1;32m--> 254\u001b[0m running_loss \u001b[38;5;241m+\u001b[39m\u001b[38;5;241m=\u001b[39m \u001b[43mloss\u001b[49m\u001b[38;5;241;43m.\u001b[39;49m\u001b[43mitem\u001b[49m\u001b[43m(\u001b[49m\u001b[43m)\u001b[49m\n\u001b[0;32m    255\u001b[0m _, predicted \u001b[38;5;241m=\u001b[39m torch\u001b[38;5;241m.\u001b[39mmax(outputs, \u001b[38;5;241m1\u001b[39m)\n\u001b[0;32m    256\u001b[0m total \u001b[38;5;241m+\u001b[39m\u001b[38;5;241m=\u001b[39m labels\u001b[38;5;241m.\u001b[39msize(\u001b[38;5;241m0\u001b[39m)\n",
      "\u001b[1;31mRuntimeError\u001b[0m: CUDA error: unspecified launch failure\nCUDA kernel errors might be asynchronously reported at some other API call, so the stacktrace below might be incorrect.\nFor debugging consider passing CUDA_LAUNCH_BLOCKING=1.\nCompile with `TORCH_USE_CUDA_DSA` to enable device-side assertions.\n"
     ]
    }
   ],
   "source": [
    "firstRun_hist = engine.train_validation(train_dl, valid_dl, epochs=100, save_path='./model_checkpoint/run1_transpMode_BiLSTM_chkpt.pth')\n",
    "\n",
    "np.save('./model_checkpoint/run1_transpMode_BiLSTM_history.npy', np.array(firstRun_hist))"
   ]
  },
  {
   "cell_type": "code",
   "execution_count": null,
   "metadata": {},
   "outputs": [],
   "source": [
    "plot_history(firstRun_hist)"
   ]
  },
  {
   "cell_type": "markdown",
   "metadata": {},
   "source": [
    "### 2nd Run with 2nd Config"
   ]
  },
  {
   "cell_type": "code",
   "execution_count": null,
   "metadata": {},
   "outputs": [],
   "source": [
    "Snd_config= {'optimizer': 'adamw', 'lr': 0.005198989965043782, 'scheduler': 'ReduceLROnPlateau', \n",
    "             'gamma': 0.9383597426554285, 'patience': 5, 'epochs': 50, 'batch_size': 64, \n",
    "             'weight_decay': 0.008375293519355285, 'hidden_size': 300, 'num_layers': 1, \n",
    "             'dropout': 0.618753235646235}"
   ]
  },
  {
   "cell_type": "code",
   "execution_count": null,
   "metadata": {},
   "outputs": [],
   "source": [
    "batch_size = 64\n",
    "train_dl = DataLoader(train_datasets, batch_size, shuffle=True, num_workers=4)\n",
    "valid_dl = DataLoader(valid_datasets, batch_size, shuffle=True, num_workers=4)\n",
    "test_dl = DataLoader(test_datasets, batch_size, shuffle=False, num_workers=2)"
   ]
  },
  {
   "cell_type": "code",
   "execution_count": null,
   "metadata": {},
   "outputs": [],
   "source": [
    "criterion = nn.CrossEntropyLoss(weight=class_weights)\n",
    "model = BiLSTMNetwork(input_size=6, hidden_size=300, num_layers=1, dropout=0.618753235646235) #drop is technically == 0 since n_layers == 1\n",
    "optimizer = optim.AdamW(model.parameters(), lr=0.005198989965043782, weight_decay=0.008375293519355285)\n",
    "scheduler = optim.lr_scheduler.ReduceLROnPlateau(optimizer, patience=5,factor=0.9383597426554285)\n",
    "device = torch.device(\"cuda\" if torch.cuda.is_available() else \"cpu\")\n",
    "\n",
    "model = model.to(device)"
   ]
  },
  {
   "cell_type": "code",
   "execution_count": null,
   "metadata": {},
   "outputs": [],
   "source": [
    "engine = biLSTM_engine(model, optimizer, scheduler, criterion, device)"
   ]
  },
  {
   "cell_type": "code",
   "execution_count": null,
   "metadata": {},
   "outputs": [],
   "source": [
    "secondRun_hist = engine.train_validation(train_dl, valid_dl, epochs=100, save_path='./model_checkpoint/run2_transpMode_BiLSTM_chkpt.pth')\n",
    "\n",
    "np.save('./model_checkpoint/run2_transpMode_BiLSTM_history.npy', np.array(secondRun_hist))"
   ]
  },
  {
   "cell_type": "code",
   "execution_count": null,
   "metadata": {},
   "outputs": [],
   "source": [
    "plot_history(secondRun_hist)"
   ]
  },
  {
   "cell_type": "code",
   "execution_count": 12,
   "metadata": {},
   "outputs": [
    {
     "ename": "RuntimeError",
     "evalue": "CUDA error: unspecified launch failure\nCUDA kernel errors might be asynchronously reported at some other API call, so the stacktrace below might be incorrect.\nFor debugging consider passing CUDA_LAUNCH_BLOCKING=1.\nCompile with `TORCH_USE_CUDA_DSA` to enable device-side assertions.\n",
     "output_type": "error",
     "traceback": [
      "\u001b[1;31m---------------------------------------------------------------------------\u001b[0m",
      "\u001b[1;31mRuntimeError\u001b[0m                              Traceback (most recent call last)",
      "File \u001b[1;32mc:\\Users\\LEGION\\anaconda3\\envs\\torch-gpu\\lib\\site-packages\\IPython\\core\\formatters.py:711\u001b[0m, in \u001b[0;36mPlainTextFormatter.__call__\u001b[1;34m(self, obj)\u001b[0m\n\u001b[0;32m    704\u001b[0m stream \u001b[38;5;241m=\u001b[39m StringIO()\n\u001b[0;32m    705\u001b[0m printer \u001b[38;5;241m=\u001b[39m pretty\u001b[38;5;241m.\u001b[39mRepresentationPrinter(stream, \u001b[38;5;28mself\u001b[39m\u001b[38;5;241m.\u001b[39mverbose,\n\u001b[0;32m    706\u001b[0m     \u001b[38;5;28mself\u001b[39m\u001b[38;5;241m.\u001b[39mmax_width, \u001b[38;5;28mself\u001b[39m\u001b[38;5;241m.\u001b[39mnewline,\n\u001b[0;32m    707\u001b[0m     max_seq_length\u001b[38;5;241m=\u001b[39m\u001b[38;5;28mself\u001b[39m\u001b[38;5;241m.\u001b[39mmax_seq_length,\n\u001b[0;32m    708\u001b[0m     singleton_pprinters\u001b[38;5;241m=\u001b[39m\u001b[38;5;28mself\u001b[39m\u001b[38;5;241m.\u001b[39msingleton_printers,\n\u001b[0;32m    709\u001b[0m     type_pprinters\u001b[38;5;241m=\u001b[39m\u001b[38;5;28mself\u001b[39m\u001b[38;5;241m.\u001b[39mtype_printers,\n\u001b[0;32m    710\u001b[0m     deferred_pprinters\u001b[38;5;241m=\u001b[39m\u001b[38;5;28mself\u001b[39m\u001b[38;5;241m.\u001b[39mdeferred_printers)\n\u001b[1;32m--> 711\u001b[0m \u001b[43mprinter\u001b[49m\u001b[38;5;241;43m.\u001b[39;49m\u001b[43mpretty\u001b[49m\u001b[43m(\u001b[49m\u001b[43mobj\u001b[49m\u001b[43m)\u001b[49m\n\u001b[0;32m    712\u001b[0m printer\u001b[38;5;241m.\u001b[39mflush()\n\u001b[0;32m    713\u001b[0m \u001b[38;5;28;01mreturn\u001b[39;00m stream\u001b[38;5;241m.\u001b[39mgetvalue()\n",
      "File \u001b[1;32mc:\\Users\\LEGION\\anaconda3\\envs\\torch-gpu\\lib\\site-packages\\IPython\\lib\\pretty.py:411\u001b[0m, in \u001b[0;36mRepresentationPrinter.pretty\u001b[1;34m(self, obj)\u001b[0m\n\u001b[0;32m    408\u001b[0m                         \u001b[38;5;28;01mreturn\u001b[39;00m meth(obj, \u001b[38;5;28mself\u001b[39m, cycle)\n\u001b[0;32m    409\u001b[0m                 \u001b[38;5;28;01mif\u001b[39;00m \u001b[38;5;28mcls\u001b[39m \u001b[38;5;129;01mis\u001b[39;00m \u001b[38;5;129;01mnot\u001b[39;00m \u001b[38;5;28mobject\u001b[39m \\\n\u001b[0;32m    410\u001b[0m                         \u001b[38;5;129;01mand\u001b[39;00m \u001b[38;5;28mcallable\u001b[39m(\u001b[38;5;28mcls\u001b[39m\u001b[38;5;241m.\u001b[39m\u001b[38;5;18m__dict__\u001b[39m\u001b[38;5;241m.\u001b[39mget(\u001b[38;5;124m'\u001b[39m\u001b[38;5;124m__repr__\u001b[39m\u001b[38;5;124m'\u001b[39m)):\n\u001b[1;32m--> 411\u001b[0m                     \u001b[38;5;28;01mreturn\u001b[39;00m \u001b[43m_repr_pprint\u001b[49m\u001b[43m(\u001b[49m\u001b[43mobj\u001b[49m\u001b[43m,\u001b[49m\u001b[43m \u001b[49m\u001b[38;5;28;43mself\u001b[39;49m\u001b[43m,\u001b[49m\u001b[43m \u001b[49m\u001b[43mcycle\u001b[49m\u001b[43m)\u001b[49m\n\u001b[0;32m    413\u001b[0m     \u001b[38;5;28;01mreturn\u001b[39;00m _default_pprint(obj, \u001b[38;5;28mself\u001b[39m, cycle)\n\u001b[0;32m    414\u001b[0m \u001b[38;5;28;01mfinally\u001b[39;00m:\n",
      "File \u001b[1;32mc:\\Users\\LEGION\\anaconda3\\envs\\torch-gpu\\lib\\site-packages\\IPython\\lib\\pretty.py:779\u001b[0m, in \u001b[0;36m_repr_pprint\u001b[1;34m(obj, p, cycle)\u001b[0m\n\u001b[0;32m    777\u001b[0m \u001b[38;5;250m\u001b[39m\u001b[38;5;124;03m\"\"\"A pprint that just redirects to the normal repr function.\"\"\"\u001b[39;00m\n\u001b[0;32m    778\u001b[0m \u001b[38;5;66;03m# Find newlines and replace them with p.break_()\u001b[39;00m\n\u001b[1;32m--> 779\u001b[0m output \u001b[38;5;241m=\u001b[39m \u001b[38;5;28;43mrepr\u001b[39;49m\u001b[43m(\u001b[49m\u001b[43mobj\u001b[49m\u001b[43m)\u001b[49m\n\u001b[0;32m    780\u001b[0m lines \u001b[38;5;241m=\u001b[39m output\u001b[38;5;241m.\u001b[39msplitlines()\n\u001b[0;32m    781\u001b[0m \u001b[38;5;28;01mwith\u001b[39;00m p\u001b[38;5;241m.\u001b[39mgroup():\n",
      "File \u001b[1;32mc:\\Users\\LEGION\\anaconda3\\envs\\torch-gpu\\lib\\site-packages\\torch\\_tensor.py:461\u001b[0m, in \u001b[0;36mTensor.__repr__\u001b[1;34m(self, tensor_contents)\u001b[0m\n\u001b[0;32m    457\u001b[0m     \u001b[38;5;28;01mreturn\u001b[39;00m handle_torch_function(\n\u001b[0;32m    458\u001b[0m         Tensor\u001b[38;5;241m.\u001b[39m\u001b[38;5;21m__repr__\u001b[39m, (\u001b[38;5;28mself\u001b[39m,), \u001b[38;5;28mself\u001b[39m, tensor_contents\u001b[38;5;241m=\u001b[39mtensor_contents\n\u001b[0;32m    459\u001b[0m     )\n\u001b[0;32m    460\u001b[0m \u001b[38;5;66;03m# All strings are unicode in Python 3.\u001b[39;00m\n\u001b[1;32m--> 461\u001b[0m \u001b[38;5;28;01mreturn\u001b[39;00m \u001b[43mtorch\u001b[49m\u001b[38;5;241;43m.\u001b[39;49m\u001b[43m_tensor_str\u001b[49m\u001b[38;5;241;43m.\u001b[39;49m\u001b[43m_str\u001b[49m\u001b[43m(\u001b[49m\u001b[38;5;28;43mself\u001b[39;49m\u001b[43m,\u001b[49m\u001b[43m \u001b[49m\u001b[43mtensor_contents\u001b[49m\u001b[38;5;241;43m=\u001b[39;49m\u001b[43mtensor_contents\u001b[49m\u001b[43m)\u001b[49m\n",
      "File \u001b[1;32mc:\\Users\\LEGION\\anaconda3\\envs\\torch-gpu\\lib\\site-packages\\torch\\_tensor_str.py:677\u001b[0m, in \u001b[0;36m_str\u001b[1;34m(self, tensor_contents)\u001b[0m\n\u001b[0;32m    675\u001b[0m \u001b[38;5;28;01mwith\u001b[39;00m torch\u001b[38;5;241m.\u001b[39mno_grad(), torch\u001b[38;5;241m.\u001b[39mutils\u001b[38;5;241m.\u001b[39m_python_dispatch\u001b[38;5;241m.\u001b[39m_disable_current_modes():\n\u001b[0;32m    676\u001b[0m     guard \u001b[38;5;241m=\u001b[39m torch\u001b[38;5;241m.\u001b[39m_C\u001b[38;5;241m.\u001b[39m_DisableFuncTorch()\n\u001b[1;32m--> 677\u001b[0m     \u001b[38;5;28;01mreturn\u001b[39;00m \u001b[43m_str_intern\u001b[49m\u001b[43m(\u001b[49m\u001b[38;5;28;43mself\u001b[39;49m\u001b[43m,\u001b[49m\u001b[43m \u001b[49m\u001b[43mtensor_contents\u001b[49m\u001b[38;5;241;43m=\u001b[39;49m\u001b[43mtensor_contents\u001b[49m\u001b[43m)\u001b[49m\n",
      "File \u001b[1;32mc:\\Users\\LEGION\\anaconda3\\envs\\torch-gpu\\lib\\site-packages\\torch\\_tensor_str.py:597\u001b[0m, in \u001b[0;36m_str_intern\u001b[1;34m(inp, tensor_contents)\u001b[0m\n\u001b[0;32m    595\u001b[0m                     tensor_str \u001b[38;5;241m=\u001b[39m _tensor_str(\u001b[38;5;28mself\u001b[39m\u001b[38;5;241m.\u001b[39mto_dense(), indent)\n\u001b[0;32m    596\u001b[0m                 \u001b[38;5;28;01melse\u001b[39;00m:\n\u001b[1;32m--> 597\u001b[0m                     tensor_str \u001b[38;5;241m=\u001b[39m \u001b[43m_tensor_str\u001b[49m\u001b[43m(\u001b[49m\u001b[38;5;28;43mself\u001b[39;49m\u001b[43m,\u001b[49m\u001b[43m \u001b[49m\u001b[43mindent\u001b[49m\u001b[43m)\u001b[49m\n\u001b[0;32m    599\u001b[0m \u001b[38;5;28;01mif\u001b[39;00m \u001b[38;5;28mself\u001b[39m\u001b[38;5;241m.\u001b[39mlayout \u001b[38;5;241m!=\u001b[39m torch\u001b[38;5;241m.\u001b[39mstrided:\n\u001b[0;32m    600\u001b[0m     suffixes\u001b[38;5;241m.\u001b[39mappend(\u001b[38;5;124m\"\u001b[39m\u001b[38;5;124mlayout=\u001b[39m\u001b[38;5;124m\"\u001b[39m \u001b[38;5;241m+\u001b[39m \u001b[38;5;28mstr\u001b[39m(\u001b[38;5;28mself\u001b[39m\u001b[38;5;241m.\u001b[39mlayout))\n",
      "File \u001b[1;32mc:\\Users\\LEGION\\anaconda3\\envs\\torch-gpu\\lib\\site-packages\\torch\\_tensor_str.py:349\u001b[0m, in \u001b[0;36m_tensor_str\u001b[1;34m(self, indent)\u001b[0m\n\u001b[0;32m    345\u001b[0m     \u001b[38;5;28;01mreturn\u001b[39;00m _tensor_str_with_formatter(\n\u001b[0;32m    346\u001b[0m         \u001b[38;5;28mself\u001b[39m, indent, summarize, real_formatter, imag_formatter\n\u001b[0;32m    347\u001b[0m     )\n\u001b[0;32m    348\u001b[0m \u001b[38;5;28;01melse\u001b[39;00m:\n\u001b[1;32m--> 349\u001b[0m     formatter \u001b[38;5;241m=\u001b[39m \u001b[43m_Formatter\u001b[49m\u001b[43m(\u001b[49m\u001b[43mget_summarized_data\u001b[49m\u001b[43m(\u001b[49m\u001b[38;5;28;43mself\u001b[39;49m\u001b[43m)\u001b[49m\u001b[43m \u001b[49m\u001b[38;5;28;43;01mif\u001b[39;49;00m\u001b[43m \u001b[49m\u001b[43msummarize\u001b[49m\u001b[43m \u001b[49m\u001b[38;5;28;43;01melse\u001b[39;49;00m\u001b[43m \u001b[49m\u001b[38;5;28;43mself\u001b[39;49m\u001b[43m)\u001b[49m\n\u001b[0;32m    350\u001b[0m     \u001b[38;5;28;01mreturn\u001b[39;00m _tensor_str_with_formatter(\u001b[38;5;28mself\u001b[39m, indent, summarize, formatter)\n",
      "File \u001b[1;32mc:\\Users\\LEGION\\anaconda3\\envs\\torch-gpu\\lib\\site-packages\\torch\\_tensor_str.py:138\u001b[0m, in \u001b[0;36m_Formatter.__init__\u001b[1;34m(self, tensor)\u001b[0m\n\u001b[0;32m    134\u001b[0m         \u001b[38;5;28mself\u001b[39m\u001b[38;5;241m.\u001b[39mmax_width \u001b[38;5;241m=\u001b[39m \u001b[38;5;28mmax\u001b[39m(\u001b[38;5;28mself\u001b[39m\u001b[38;5;241m.\u001b[39mmax_width, \u001b[38;5;28mlen\u001b[39m(value_str))\n\u001b[0;32m    136\u001b[0m \u001b[38;5;28;01melse\u001b[39;00m:\n\u001b[0;32m    137\u001b[0m     nonzero_finite_vals \u001b[38;5;241m=\u001b[39m torch\u001b[38;5;241m.\u001b[39mmasked_select(\n\u001b[1;32m--> 138\u001b[0m         tensor_view, \u001b[43mtorch\u001b[49m\u001b[38;5;241;43m.\u001b[39;49m\u001b[43misfinite\u001b[49m\u001b[43m(\u001b[49m\u001b[43mtensor_view\u001b[49m\u001b[43m)\u001b[49m \u001b[38;5;241m&\u001b[39m tensor_view\u001b[38;5;241m.\u001b[39mne(\u001b[38;5;241m0\u001b[39m)\n\u001b[0;32m    139\u001b[0m     )\n\u001b[0;32m    141\u001b[0m     \u001b[38;5;28;01mif\u001b[39;00m nonzero_finite_vals\u001b[38;5;241m.\u001b[39mnumel() \u001b[38;5;241m==\u001b[39m \u001b[38;5;241m0\u001b[39m:\n\u001b[0;32m    142\u001b[0m         \u001b[38;5;66;03m# no valid number, do nothing\u001b[39;00m\n\u001b[0;32m    143\u001b[0m         \u001b[38;5;28;01mreturn\u001b[39;00m\n",
      "\u001b[1;31mRuntimeError\u001b[0m: CUDA error: unspecified launch failure\nCUDA kernel errors might be asynchronously reported at some other API call, so the stacktrace below might be incorrect.\nFor debugging consider passing CUDA_LAUNCH_BLOCKING=1.\nCompile with `TORCH_USE_CUDA_DSA` to enable device-side assertions.\n"
     ]
    }
   ],
   "source": [
    "class_weights"
   ]
  },
  {
   "cell_type": "code",
   "execution_count": null,
   "metadata": {},
   "outputs": [],
   "source": []
  }
 ],
 "metadata": {
  "kernelspec": {
   "display_name": "torch-gpu",
   "language": "python",
   "name": "python3"
  },
  "language_info": {
   "codemirror_mode": {
    "name": "ipython",
    "version": 3
   },
   "file_extension": ".py",
   "mimetype": "text/x-python",
   "name": "python",
   "nbconvert_exporter": "python",
   "pygments_lexer": "ipython3",
   "version": "3.10.13"
  }
 },
 "nbformat": 4,
 "nbformat_minor": 2
}
