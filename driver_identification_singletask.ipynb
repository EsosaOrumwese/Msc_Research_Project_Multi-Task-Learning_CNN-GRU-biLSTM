{
 "cells": [
  {
   "cell_type": "markdown",
   "metadata": {},
   "source": [
    "# Driver Identification using ResNet50 and GRU (RNN)\n",
    "To better understand the code, check out `./prep_files/ResNet50_GRU_driverID.ipynb`. That notebook explains the thought process behind this code on a sample dataset whilst this goes straight to the point. \n",
    "\n",
    "Also the dataset used was different as that stored all data in memory while we plan on streaming from local storage as the dataset is 40+Gb"
   ]
  },
  {
   "cell_type": "code",
   "execution_count": 1,
   "metadata": {},
   "outputs": [
    {
     "data": {
      "text/html": [
       "<link rel=\"stylesheet\" type=\"text/css\" href=\"./custom.css\">"
      ],
      "text/plain": [
       "<IPython.core.display.HTML object>"
      ]
     },
     "metadata": {},
     "output_type": "display_data"
    }
   ],
   "source": [
    "import numpy as np\n",
    "import pandas as pd\n",
    "import torch\n",
    "from torchsummary import summary\n",
    "\n",
    "from src.engine import ResNet50_GRU_engine\n",
    "from src.model_driverID import ResNet50_GRU\n",
    "from src.dataset import FeatureMapDataset\n",
    "from src.hyperparam import RayTuning\n",
    "from ray import tune, train\n",
    "\n",
    "from IPython.display import display, HTML\n",
    "\n",
    "# Load custom CSS file\n",
    "css = HTML('<link rel=\"stylesheet\" type=\"text/css\" href=\"./custom.css\">')  # Ensure the path is correct\n",
    "display(css)"
   ]
  },
  {
   "cell_type": "code",
   "execution_count": 2,
   "metadata": {},
   "outputs": [
    {
     "data": {
      "text/plain": [
       "=================================================================\n",
       "Layer (type:depth-idx)                   Param #\n",
       "=================================================================\n",
       "├─Sequential: 1-1                        --\n",
       "|    └─Conv2d: 2-1                       (9,408)\n",
       "|    └─BatchNorm2d: 2-2                  (128)\n",
       "|    └─ReLU: 2-3                         --\n",
       "|    └─MaxPool2d: 2-4                    --\n",
       "|    └─Sequential: 2-5                   --\n",
       "|    |    └─Bottleneck: 3-1              (75,008)\n",
       "|    |    └─Bottleneck: 3-2              (70,400)\n",
       "|    |    └─Bottleneck: 3-3              (70,400)\n",
       "|    └─Sequential: 2-6                   --\n",
       "|    |    └─Bottleneck: 3-4              (379,392)\n",
       "|    |    └─Bottleneck: 3-5              (280,064)\n",
       "|    |    └─Bottleneck: 3-6              (280,064)\n",
       "|    |    └─Bottleneck: 3-7              (280,064)\n",
       "|    └─Sequential: 2-7                   --\n",
       "|    |    └─Bottleneck: 3-8              (1,512,448)\n",
       "|    |    └─Bottleneck: 3-9              (1,117,184)\n",
       "|    |    └─Bottleneck: 3-10             (1,117,184)\n",
       "|    |    └─Bottleneck: 3-11             (1,117,184)\n",
       "|    |    └─Bottleneck: 3-12             (1,117,184)\n",
       "|    |    └─Bottleneck: 3-13             (1,117,184)\n",
       "|    └─Sequential: 2-8                   --\n",
       "|    |    └─Bottleneck: 3-14             (6,039,552)\n",
       "|    |    └─Bottleneck: 3-15             (4,462,592)\n",
       "|    |    └─Bottleneck: 3-16             (4,462,592)\n",
       "├─BatchNorm2d: 1-2                       4,096\n",
       "├─Dropout: 1-3                           --\n",
       "├─GRU: 1-4                               5,511,168\n",
       "├─Linear: 1-5                            2,052\n",
       "=================================================================\n",
       "Total params: 29,025,348\n",
       "Trainable params: 5,517,316\n",
       "Non-trainable params: 23,508,032\n",
       "================================================================="
      ]
     },
     "execution_count": 2,
     "metadata": {},
     "output_type": "execute_result"
    }
   ],
   "source": [
    "model = ResNet50_GRU()\n",
    "summary(model, verbose=0)"
   ]
  },
  {
   "cell_type": "code",
   "execution_count": 3,
   "metadata": {},
   "outputs": [],
   "source": [
    "from sklearn.utils.class_weight import compute_class_weight\n",
    "\n",
    "import torch.nn as nn\n",
    "import torch.optim as optim"
   ]
  },
  {
   "cell_type": "markdown",
   "metadata": {},
   "source": [
    "#### Hyperparameter tuning of Model"
   ]
  },
  {
   "cell_type": "code",
   "execution_count": 4,
   "metadata": {},
   "outputs": [],
   "source": [
    "y_train = pd.read_csv('./data/feature_maps_labels/train/metadata.csv')\n",
    "y_train = y_train.iloc[:,1].values\n",
    "\n",
    "class_weights = torch.tensor(compute_class_weight('balanced', classes=np.unique(y_train), y=y_train), dtype=torch.float32)\n",
    "class_weights = class_weights.to(torch.device(\"cuda\" if torch.cuda.is_available() else \"cpu\"))\n",
    "\n",
    "del y_train"
   ]
  },
  {
   "cell_type": "code",
   "execution_count": 5,
   "metadata": {},
   "outputs": [],
   "source": [
    "base_dir = './data/feature_maps_labels/'\n",
    "\n",
    "train_datasets = FeatureMapDataset(base_dir, mode='train')\n",
    "val_test_datasets = FeatureMapDataset(base_dir, mode='valid')"
   ]
  },
  {
   "cell_type": "code",
   "execution_count": 6,
   "metadata": {},
   "outputs": [],
   "source": [
    "from torch.utils.data import random_split"
   ]
  },
  {
   "cell_type": "code",
   "execution_count": 7,
   "metadata": {},
   "outputs": [],
   "source": [
    "np.random.seed(42)\n",
    "valid_datasets, test_datasets = random_split(val_test_datasets, [0.5, 0.5])"
   ]
  },
  {
   "cell_type": "code",
   "execution_count": 8,
   "metadata": {},
   "outputs": [
    {
     "data": {
      "text/plain": [
       "(46240, 5782, 5781)"
      ]
     },
     "execution_count": 8,
     "metadata": {},
     "output_type": "execute_result"
    }
   ],
   "source": [
    "len(train_datasets), len(valid_datasets), len(test_datasets)"
   ]
  },
  {
   "cell_type": "code",
   "execution_count": 9,
   "metadata": {},
   "outputs": [],
   "source": [
    "# Enhanced Hyperparameter search space\n",
    "config = {\n",
    "    \"optimizer\": tune.choice([\"adam\"]),\n",
    "    \"lr\": tune.loguniform(1e-4, 1e-1),\n",
    "    \"scheduler\": tune.choice([\"exp\"]),\n",
    "    \"gamma\": tune.uniform(0.1, 0.9),\n",
    "    \"epochs\": tune.choice([30]),\n",
    "    \"batch_size\": tune.choice([32])\n",
    "}\n",
    "\n",
    "criterion = nn.CrossEntropyLoss(weight=class_weights)\n",
    "save_dir = 'ResNet50GRU'\n",
    "model = ResNet50_GRU\n",
    "modelType = 'ResNet50GRU'\n",
    "engine = ResNet50_GRU_engine"
   ]
  },
  {
   "cell_type": "code",
   "execution_count": 10,
   "metadata": {},
   "outputs": [],
   "source": [
    "mytuner = RayTuning(config, save_dir, criterion, model, modelType, engine)"
   ]
  },
  {
   "cell_type": "code",
   "execution_count": 11,
   "metadata": {},
   "outputs": [
    {
     "data": {
      "text/html": [
       "<div class=\"tuneStatus\">\n",
       "  <div style=\"display: flex;flex-direction: row\">\n",
       "    <div style=\"display: flex;flex-direction: column;\">\n",
       "      <h3>Tune Status</h3>\n",
       "      <table>\n",
       "<tbody>\n",
       "<tr><td>Current time:</td><td>2024-07-25 01:56:40</td></tr>\n",
       "<tr><td>Running for: </td><td>04:25:24.84        </td></tr>\n",
       "<tr><td>Memory:      </td><td>9.4/13.9 GiB       </td></tr>\n",
       "</tbody>\n",
       "</table>\n",
       "    </div>\n",
       "    <div class=\"vDivider\"></div>\n",
       "    <div class=\"systemInfo\">\n",
       "      <h3>System Info</h3>\n",
       "      Using AsyncHyperBand: num_stopped=25<br>Bracket: Iter 8.000: -1.279272116679513 | Iter 4.000: -1.2578917047760105 | Iter 2.000: -1.2688528213711734 | Iter 1.000: -1.56605329566239<br>Logical resource usage: 2.0/16 CPUs, 1.0/1 GPUs (0.0/1.0 accelerator_type:G)\n",
       "    </div>\n",
       "    \n",
       "  </div>\n",
       "  <div class=\"hDivider\"></div>\n",
       "  <div class=\"trialStatus\">\n",
       "    <h3>Trial Status</h3>\n",
       "    <table>\n",
       "<thead>\n",
       "<tr><th>Trial name             </th><th>status    </th><th>loc            </th><th style=\"text-align: right;\">  batch_size</th><th style=\"text-align: right;\">  epochs</th><th style=\"text-align: right;\">   gamma</th><th style=\"text-align: right;\">         lr</th><th>optimizer  </th><th>scheduler  </th><th style=\"text-align: right;\">  iter</th><th style=\"text-align: right;\">  total time (s)</th><th style=\"text-align: right;\">    loss</th><th style=\"text-align: right;\">  accuracy</th></tr>\n",
       "</thead>\n",
       "<tbody>\n",
       "<tr><td>train_model_aca60_00000</td><td>TERMINATED</td><td>127.0.0.1:26652</td><td style=\"text-align: right;\">          32</td><td style=\"text-align: right;\">      30</td><td style=\"text-align: right;\">0.860571</td><td style=\"text-align: right;\">0.00132929 </td><td>adam       </td><td>exp        </td><td style=\"text-align: right;\">    10</td><td style=\"text-align: right;\">        1982.37 </td><td style=\"text-align: right;\"> 1.32554</td><td style=\"text-align: right;\">  72.1723 </td></tr>\n",
       "<tr><td>train_model_aca60_00001</td><td>TERMINATED</td><td>127.0.0.1:23756</td><td style=\"text-align: right;\">          32</td><td style=\"text-align: right;\">      30</td><td style=\"text-align: right;\">0.224815</td><td style=\"text-align: right;\">0.00625137 </td><td>adam       </td><td>exp        </td><td style=\"text-align: right;\">     1</td><td style=\"text-align: right;\">         197.118</td><td style=\"text-align: right;\"> 1.82816</td><td style=\"text-align: right;\">  45.0017 </td></tr>\n",
       "<tr><td>train_model_aca60_00002</td><td>TERMINATED</td><td>127.0.0.1:3820 </td><td style=\"text-align: right;\">          32</td><td style=\"text-align: right;\">      30</td><td style=\"text-align: right;\">0.792941</td><td style=\"text-align: right;\">0.000149366</td><td>adam       </td><td>exp        </td><td style=\"text-align: right;\">     2</td><td style=\"text-align: right;\">         394.517</td><td style=\"text-align: right;\"> 1.3426 </td><td style=\"text-align: right;\">  70.1487 </td></tr>\n",
       "<tr><td>train_model_aca60_00003</td><td>TERMINATED</td><td>127.0.0.1:11332</td><td style=\"text-align: right;\">          32</td><td style=\"text-align: right;\">      30</td><td style=\"text-align: right;\">0.116468</td><td style=\"text-align: right;\">0.0133112  </td><td>adam       </td><td>exp        </td><td style=\"text-align: right;\">     1</td><td style=\"text-align: right;\">         196.712</td><td style=\"text-align: right;\"> 2.18458</td><td style=\"text-align: right;\">   5.22311</td></tr>\n",
       "<tr><td>train_model_aca60_00004</td><td>TERMINATED</td><td>127.0.0.1:23032</td><td style=\"text-align: right;\">          32</td><td style=\"text-align: right;\">      30</td><td style=\"text-align: right;\">0.269871</td><td style=\"text-align: right;\">0.0314288  </td><td>adam       </td><td>exp        </td><td style=\"text-align: right;\">     1</td><td style=\"text-align: right;\">         199.061</td><td style=\"text-align: right;\"> 1.80751</td><td style=\"text-align: right;\">   2.97475</td></tr>\n",
       "<tr><td>train_model_aca60_00005</td><td>TERMINATED</td><td>127.0.0.1:28192</td><td style=\"text-align: right;\">          32</td><td style=\"text-align: right;\">      30</td><td style=\"text-align: right;\">0.343394</td><td style=\"text-align: right;\">0.000354988</td><td>adam       </td><td>exp        </td><td style=\"text-align: right;\">    10</td><td style=\"text-align: right;\">        1977.56 </td><td style=\"text-align: right;\"> 1.27229</td><td style=\"text-align: right;\">  65.946  </td></tr>\n",
       "<tr><td>train_model_aca60_00006</td><td>TERMINATED</td><td>127.0.0.1:27660</td><td style=\"text-align: right;\">          32</td><td style=\"text-align: right;\">      30</td><td style=\"text-align: right;\">0.332983</td><td style=\"text-align: right;\">0.00197622 </td><td>adam       </td><td>exp        </td><td style=\"text-align: right;\">     1</td><td style=\"text-align: right;\">         197.52 </td><td style=\"text-align: right;\"> 1.6467 </td><td style=\"text-align: right;\">  66.0671 </td></tr>\n",
       "<tr><td>train_model_aca60_00007</td><td>TERMINATED</td><td>127.0.0.1:29416</td><td style=\"text-align: right;\">          32</td><td style=\"text-align: right;\">      30</td><td style=\"text-align: right;\">0.333716</td><td style=\"text-align: right;\">0.000262109</td><td>adam       </td><td>exp        </td><td style=\"text-align: right;\">     2</td><td style=\"text-align: right;\">         396.341</td><td style=\"text-align: right;\"> 1.288  </td><td style=\"text-align: right;\">  66.8973 </td></tr>\n",
       "<tr><td>train_model_aca60_00008</td><td>TERMINATED</td><td>127.0.0.1:17128</td><td style=\"text-align: right;\">          32</td><td style=\"text-align: right;\">      30</td><td style=\"text-align: right;\">0.728141</td><td style=\"text-align: right;\">0.00233459 </td><td>adam       </td><td>exp        </td><td style=\"text-align: right;\">     1</td><td style=\"text-align: right;\">         198.372</td><td style=\"text-align: right;\"> 1.52186</td><td style=\"text-align: right;\">  68.1425 </td></tr>\n",
       "<tr><td>train_model_aca60_00009</td><td>TERMINATED</td><td>127.0.0.1:10196</td><td style=\"text-align: right;\">          32</td><td style=\"text-align: right;\">      30</td><td style=\"text-align: right;\">0.573932</td><td style=\"text-align: right;\">0.00348902 </td><td>adam       </td><td>exp        </td><td style=\"text-align: right;\">     1</td><td style=\"text-align: right;\">         196.512</td><td style=\"text-align: right;\"> 1.73939</td><td style=\"text-align: right;\">  18.7478 </td></tr>\n",
       "<tr><td>train_model_aca60_00010</td><td>TERMINATED</td><td>127.0.0.1:10856</td><td style=\"text-align: right;\">          32</td><td style=\"text-align: right;\">      30</td><td style=\"text-align: right;\">0.236419</td><td style=\"text-align: right;\">0.00664714 </td><td>adam       </td><td>exp        </td><td style=\"text-align: right;\">     1</td><td style=\"text-align: right;\">         198.049</td><td style=\"text-align: right;\"> 1.7809 </td><td style=\"text-align: right;\">  36.5617 </td></tr>\n",
       "<tr><td>train_model_aca60_00011</td><td>TERMINATED</td><td>127.0.0.1:27236</td><td style=\"text-align: right;\">          32</td><td style=\"text-align: right;\">      30</td><td style=\"text-align: right;\">0.872506</td><td style=\"text-align: right;\">0.0702517  </td><td>adam       </td><td>exp        </td><td style=\"text-align: right;\">     1</td><td style=\"text-align: right;\">         197.887</td><td style=\"text-align: right;\"> 8.54144</td><td style=\"text-align: right;\">   7.88654</td></tr>\n",
       "<tr><td>train_model_aca60_00012</td><td>TERMINATED</td><td>127.0.0.1:11072</td><td style=\"text-align: right;\">          32</td><td style=\"text-align: right;\">      30</td><td style=\"text-align: right;\">0.178138</td><td style=\"text-align: right;\">0.000820052</td><td>adam       </td><td>exp        </td><td style=\"text-align: right;\">    10</td><td style=\"text-align: right;\">        1980.04 </td><td style=\"text-align: right;\"> 1.29178</td><td style=\"text-align: right;\">  66.6724 </td></tr>\n",
       "<tr><td>train_model_aca60_00013</td><td>TERMINATED</td><td>127.0.0.1:24420</td><td style=\"text-align: right;\">          32</td><td style=\"text-align: right;\">      30</td><td style=\"text-align: right;\">0.197631</td><td style=\"text-align: right;\">0.0020915  </td><td>adam       </td><td>exp        </td><td style=\"text-align: right;\">     2</td><td style=\"text-align: right;\">         403.682</td><td style=\"text-align: right;\"> 1.27702</td><td style=\"text-align: right;\">  66.1709 </td></tr>\n",
       "<tr><td>train_model_aca60_00014</td><td>TERMINATED</td><td>127.0.0.1:2104 </td><td style=\"text-align: right;\">          32</td><td style=\"text-align: right;\">      30</td><td style=\"text-align: right;\">0.827456</td><td style=\"text-align: right;\">0.000126814</td><td>adam       </td><td>exp        </td><td style=\"text-align: right;\">    10</td><td style=\"text-align: right;\">        1990.08 </td><td style=\"text-align: right;\"> 1.28492</td><td style=\"text-align: right;\">  65.7558 </td></tr>\n",
       "<tr><td>train_model_aca60_00015</td><td>TERMINATED</td><td>127.0.0.1:20116</td><td style=\"text-align: right;\">          32</td><td style=\"text-align: right;\">      30</td><td style=\"text-align: right;\">0.349369</td><td style=\"text-align: right;\">0.00971778 </td><td>adam       </td><td>exp        </td><td style=\"text-align: right;\">     1</td><td style=\"text-align: right;\">         201.977</td><td style=\"text-align: right;\"> 2.24117</td><td style=\"text-align: right;\">  18.2463 </td></tr>\n",
       "<tr><td>train_model_aca60_00016</td><td>TERMINATED</td><td>127.0.0.1:7552 </td><td style=\"text-align: right;\">          32</td><td style=\"text-align: right;\">      30</td><td style=\"text-align: right;\">0.247884</td><td style=\"text-align: right;\">0.00436647 </td><td>adam       </td><td>exp        </td><td style=\"text-align: right;\">     1</td><td style=\"text-align: right;\">         199.603</td><td style=\"text-align: right;\"> 1.73637</td><td style=\"text-align: right;\">  46.247  </td></tr>\n",
       "<tr><td>train_model_aca60_00017</td><td>TERMINATED</td><td>127.0.0.1:22536</td><td style=\"text-align: right;\">          32</td><td style=\"text-align: right;\">      30</td><td style=\"text-align: right;\">0.851599</td><td style=\"text-align: right;\">0.0211543  </td><td>adam       </td><td>exp        </td><td style=\"text-align: right;\">     1</td><td style=\"text-align: right;\">         199.907</td><td style=\"text-align: right;\"> 2.77228</td><td style=\"text-align: right;\">   5.20581</td></tr>\n",
       "<tr><td>train_model_aca60_00018</td><td>TERMINATED</td><td>127.0.0.1:31504</td><td style=\"text-align: right;\">          32</td><td style=\"text-align: right;\">      30</td><td style=\"text-align: right;\">0.837499</td><td style=\"text-align: right;\">0.0062187  </td><td>adam       </td><td>exp        </td><td style=\"text-align: right;\">     1</td><td style=\"text-align: right;\">         201.282</td><td style=\"text-align: right;\"> 2.32478</td><td style=\"text-align: right;\">  18.3846 </td></tr>\n",
       "<tr><td>train_model_aca60_00019</td><td>TERMINATED</td><td>127.0.0.1:27252</td><td style=\"text-align: right;\">          32</td><td style=\"text-align: right;\">      30</td><td style=\"text-align: right;\">0.136182</td><td style=\"text-align: right;\">0.000387212</td><td>adam       </td><td>exp        </td><td style=\"text-align: right;\">    10</td><td style=\"text-align: right;\">        2007.31 </td><td style=\"text-align: right;\"> 1.22752</td><td style=\"text-align: right;\">  66.0325 </td></tr>\n",
       "<tr><td>train_model_aca60_00020</td><td>TERMINATED</td><td>127.0.0.1:9236 </td><td style=\"text-align: right;\">          32</td><td style=\"text-align: right;\">      30</td><td style=\"text-align: right;\">0.317079</td><td style=\"text-align: right;\">0.00146566 </td><td>adam       </td><td>exp        </td><td style=\"text-align: right;\">     2</td><td style=\"text-align: right;\">         400.798</td><td style=\"text-align: right;\"> 1.32476</td><td style=\"text-align: right;\">  67.8831 </td></tr>\n",
       "<tr><td>train_model_aca60_00021</td><td>TERMINATED</td><td>127.0.0.1:7552 </td><td style=\"text-align: right;\">          32</td><td style=\"text-align: right;\">      30</td><td style=\"text-align: right;\">0.324748</td><td style=\"text-align: right;\">0.0011756  </td><td>adam       </td><td>exp        </td><td style=\"text-align: right;\">     2</td><td style=\"text-align: right;\">         400.944</td><td style=\"text-align: right;\"> 1.27352</td><td style=\"text-align: right;\">  61.0342 </td></tr>\n",
       "<tr><td>train_model_aca60_00022</td><td>TERMINATED</td><td>127.0.0.1:22444</td><td style=\"text-align: right;\">          32</td><td style=\"text-align: right;\">      30</td><td style=\"text-align: right;\">0.741758</td><td style=\"text-align: right;\">0.000264711</td><td>adam       </td><td>exp        </td><td style=\"text-align: right;\">     4</td><td style=\"text-align: right;\">         800.243</td><td style=\"text-align: right;\"> 1.2854 </td><td style=\"text-align: right;\">  63.6804 </td></tr>\n",
       "<tr><td>train_model_aca60_00023</td><td>TERMINATED</td><td>127.0.0.1:14616</td><td style=\"text-align: right;\">          32</td><td style=\"text-align: right;\">      30</td><td style=\"text-align: right;\">0.717796</td><td style=\"text-align: right;\">0.09134    </td><td>adam       </td><td>exp        </td><td style=\"text-align: right;\">     1</td><td style=\"text-align: right;\">         199.987</td><td style=\"text-align: right;\">10.3447 </td><td style=\"text-align: right;\">   5.20581</td></tr>\n",
       "<tr><td>train_model_aca60_00024</td><td>TERMINATED</td><td>127.0.0.1:18540</td><td style=\"text-align: right;\">          32</td><td style=\"text-align: right;\">      30</td><td style=\"text-align: right;\">0.752369</td><td style=\"text-align: right;\">0.000103888</td><td>adam       </td><td>exp        </td><td style=\"text-align: right;\">     2</td><td style=\"text-align: right;\">         399.412</td><td style=\"text-align: right;\"> 1.27256</td><td style=\"text-align: right;\">  68.2117 </td></tr>\n",
       "</tbody>\n",
       "</table>\n",
       "  </div>\n",
       "</div>\n",
       "<style>\n",
       ".tuneStatus {\n",
       "  color: var(--jp-ui-font-color1);\n",
       "}\n",
       ".tuneStatus .systemInfo {\n",
       "  display: flex;\n",
       "  flex-direction: column;\n",
       "}\n",
       ".tuneStatus td {\n",
       "  white-space: nowrap;\n",
       "}\n",
       ".tuneStatus .trialStatus {\n",
       "  display: flex;\n",
       "  flex-direction: column;\n",
       "}\n",
       ".tuneStatus h3 {\n",
       "  font-weight: bold;\n",
       "}\n",
       ".tuneStatus .hDivider {\n",
       "  border-bottom-width: var(--jp-border-width);\n",
       "  border-bottom-color: var(--jp-border-color0);\n",
       "  border-bottom-style: solid;\n",
       "}\n",
       ".tuneStatus .vDivider {\n",
       "  border-left-width: var(--jp-border-width);\n",
       "  border-left-color: var(--jp-border-color0);\n",
       "  border-left-style: solid;\n",
       "  margin: 0.5em 1em 0.5em 1em;\n",
       "}\n",
       "</style>\n"
      ],
      "text/plain": [
       "<IPython.core.display.HTML object>"
      ]
     },
     "metadata": {},
     "output_type": "display_data"
    },
    {
     "name": "stderr",
     "output_type": "stream",
     "text": [
      "\u001b[36m(train_model pid=26652)\u001b[0m Checkpoint successfully created at: Checkpoint(filesystem=local, path=c:/Users/LEGION/Documents/Msc Data Science - Uni of Exeter/ECMM451 - Data Science Research Project (2023)/workspace/ray_results/ResNet50GRU/trial_aca60_00000/checkpoint_000000)\n",
      "\u001b[36m(train_model pid=26652)\u001b[0m Checkpoint successfully created at: Checkpoint(filesystem=local, path=c:/Users/LEGION/Documents/Msc Data Science - Uni of Exeter/ECMM451 - Data Science Research Project (2023)/workspace/ray_results/ResNet50GRU/trial_aca60_00000/checkpoint_000001)\n",
      "\u001b[36m(train_model pid=26652)\u001b[0m Checkpoint successfully created at: Checkpoint(filesystem=local, path=c:/Users/LEGION/Documents/Msc Data Science - Uni of Exeter/ECMM451 - Data Science Research Project (2023)/workspace/ray_results/ResNet50GRU/trial_aca60_00000/checkpoint_000002)\n",
      "\u001b[36m(train_model pid=26652)\u001b[0m Checkpoint successfully created at: Checkpoint(filesystem=local, path=c:/Users/LEGION/Documents/Msc Data Science - Uni of Exeter/ECMM451 - Data Science Research Project (2023)/workspace/ray_results/ResNet50GRU/trial_aca60_00000/checkpoint_000003)\n",
      "\u001b[36m(train_model pid=26652)\u001b[0m Checkpoint successfully created at: Checkpoint(filesystem=local, path=c:/Users/LEGION/Documents/Msc Data Science - Uni of Exeter/ECMM451 - Data Science Research Project (2023)/workspace/ray_results/ResNet50GRU/trial_aca60_00000/checkpoint_000004)\n",
      "\u001b[36m(train_model pid=26652)\u001b[0m Checkpoint successfully created at: Checkpoint(filesystem=local, path=c:/Users/LEGION/Documents/Msc Data Science - Uni of Exeter/ECMM451 - Data Science Research Project (2023)/workspace/ray_results/ResNet50GRU/trial_aca60_00000/checkpoint_000005)\n",
      "\u001b[36m(train_model pid=26652)\u001b[0m Checkpoint successfully created at: Checkpoint(filesystem=local, path=c:/Users/LEGION/Documents/Msc Data Science - Uni of Exeter/ECMM451 - Data Science Research Project (2023)/workspace/ray_results/ResNet50GRU/trial_aca60_00000/checkpoint_000006)\n",
      "\u001b[36m(train_model pid=26652)\u001b[0m Checkpoint successfully created at: Checkpoint(filesystem=local, path=c:/Users/LEGION/Documents/Msc Data Science - Uni of Exeter/ECMM451 - Data Science Research Project (2023)/workspace/ray_results/ResNet50GRU/trial_aca60_00000/checkpoint_000007)\n",
      "\u001b[36m(train_model pid=26652)\u001b[0m Checkpoint successfully created at: Checkpoint(filesystem=local, path=c:/Users/LEGION/Documents/Msc Data Science - Uni of Exeter/ECMM451 - Data Science Research Project (2023)/workspace/ray_results/ResNet50GRU/trial_aca60_00000/checkpoint_000008)\n",
      "\u001b[36m(train_model pid=26652)\u001b[0m Checkpoint successfully created at: Checkpoint(filesystem=local, path=c:/Users/LEGION/Documents/Msc Data Science - Uni of Exeter/ECMM451 - Data Science Research Project (2023)/workspace/ray_results/ResNet50GRU/trial_aca60_00000/checkpoint_000009)\n",
      "\u001b[36m(train_model pid=23756)\u001b[0m Checkpoint successfully created at: Checkpoint(filesystem=local, path=c:/Users/LEGION/Documents/Msc Data Science - Uni of Exeter/ECMM451 - Data Science Research Project (2023)/workspace/ray_results/ResNet50GRU/trial_aca60_00001/checkpoint_000000)\n",
      "\u001b[36m(train_model pid=3820)\u001b[0m Checkpoint successfully created at: Checkpoint(filesystem=local, path=c:/Users/LEGION/Documents/Msc Data Science - Uni of Exeter/ECMM451 - Data Science Research Project (2023)/workspace/ray_results/ResNet50GRU/trial_aca60_00002/checkpoint_000000)\n",
      "\u001b[36m(train_model pid=3820)\u001b[0m Checkpoint successfully created at: Checkpoint(filesystem=local, path=c:/Users/LEGION/Documents/Msc Data Science - Uni of Exeter/ECMM451 - Data Science Research Project (2023)/workspace/ray_results/ResNet50GRU/trial_aca60_00002/checkpoint_000001)\n",
      "\u001b[36m(train_model pid=11332)\u001b[0m Checkpoint successfully created at: Checkpoint(filesystem=local, path=c:/Users/LEGION/Documents/Msc Data Science - Uni of Exeter/ECMM451 - Data Science Research Project (2023)/workspace/ray_results/ResNet50GRU/trial_aca60_00003/checkpoint_000000)\n",
      "\u001b[36m(train_model pid=23032)\u001b[0m Checkpoint successfully created at: Checkpoint(filesystem=local, path=c:/Users/LEGION/Documents/Msc Data Science - Uni of Exeter/ECMM451 - Data Science Research Project (2023)/workspace/ray_results/ResNet50GRU/trial_aca60_00004/checkpoint_000000)\n",
      "\u001b[36m(train_model pid=28192)\u001b[0m Checkpoint successfully created at: Checkpoint(filesystem=local, path=c:/Users/LEGION/Documents/Msc Data Science - Uni of Exeter/ECMM451 - Data Science Research Project (2023)/workspace/ray_results/ResNet50GRU/trial_aca60_00005/checkpoint_000000)\n",
      "\u001b[36m(train_model pid=28192)\u001b[0m Checkpoint successfully created at: Checkpoint(filesystem=local, path=c:/Users/LEGION/Documents/Msc Data Science - Uni of Exeter/ECMM451 - Data Science Research Project (2023)/workspace/ray_results/ResNet50GRU/trial_aca60_00005/checkpoint_000001)\n",
      "\u001b[36m(train_model pid=28192)\u001b[0m Checkpoint successfully created at: Checkpoint(filesystem=local, path=c:/Users/LEGION/Documents/Msc Data Science - Uni of Exeter/ECMM451 - Data Science Research Project (2023)/workspace/ray_results/ResNet50GRU/trial_aca60_00005/checkpoint_000002)\n",
      "\u001b[36m(train_model pid=28192)\u001b[0m Checkpoint successfully created at: Checkpoint(filesystem=local, path=c:/Users/LEGION/Documents/Msc Data Science - Uni of Exeter/ECMM451 - Data Science Research Project (2023)/workspace/ray_results/ResNet50GRU/trial_aca60_00005/checkpoint_000003)\n",
      "\u001b[36m(train_model pid=28192)\u001b[0m Checkpoint successfully created at: Checkpoint(filesystem=local, path=c:/Users/LEGION/Documents/Msc Data Science - Uni of Exeter/ECMM451 - Data Science Research Project (2023)/workspace/ray_results/ResNet50GRU/trial_aca60_00005/checkpoint_000004)\n",
      "\u001b[36m(train_model pid=28192)\u001b[0m Checkpoint successfully created at: Checkpoint(filesystem=local, path=c:/Users/LEGION/Documents/Msc Data Science - Uni of Exeter/ECMM451 - Data Science Research Project (2023)/workspace/ray_results/ResNet50GRU/trial_aca60_00005/checkpoint_000005)\n",
      "\u001b[36m(train_model pid=28192)\u001b[0m Checkpoint successfully created at: Checkpoint(filesystem=local, path=c:/Users/LEGION/Documents/Msc Data Science - Uni of Exeter/ECMM451 - Data Science Research Project (2023)/workspace/ray_results/ResNet50GRU/trial_aca60_00005/checkpoint_000006)\n",
      "\u001b[36m(train_model pid=28192)\u001b[0m Checkpoint successfully created at: Checkpoint(filesystem=local, path=c:/Users/LEGION/Documents/Msc Data Science - Uni of Exeter/ECMM451 - Data Science Research Project (2023)/workspace/ray_results/ResNet50GRU/trial_aca60_00005/checkpoint_000007)\n",
      "\u001b[36m(train_model pid=28192)\u001b[0m Checkpoint successfully created at: Checkpoint(filesystem=local, path=c:/Users/LEGION/Documents/Msc Data Science - Uni of Exeter/ECMM451 - Data Science Research Project (2023)/workspace/ray_results/ResNet50GRU/trial_aca60_00005/checkpoint_000008)\n",
      "\u001b[36m(train_model pid=28192)\u001b[0m Checkpoint successfully created at: Checkpoint(filesystem=local, path=c:/Users/LEGION/Documents/Msc Data Science - Uni of Exeter/ECMM451 - Data Science Research Project (2023)/workspace/ray_results/ResNet50GRU/trial_aca60_00005/checkpoint_000009)\n",
      "\u001b[36m(train_model pid=27660)\u001b[0m Checkpoint successfully created at: Checkpoint(filesystem=local, path=c:/Users/LEGION/Documents/Msc Data Science - Uni of Exeter/ECMM451 - Data Science Research Project (2023)/workspace/ray_results/ResNet50GRU/trial_aca60_00006/checkpoint_000000)\n",
      "\u001b[36m(train_model pid=29416)\u001b[0m Checkpoint successfully created at: Checkpoint(filesystem=local, path=c:/Users/LEGION/Documents/Msc Data Science - Uni of Exeter/ECMM451 - Data Science Research Project (2023)/workspace/ray_results/ResNet50GRU/trial_aca60_00007/checkpoint_000000)\n",
      "\u001b[36m(train_model pid=29416)\u001b[0m Checkpoint successfully created at: Checkpoint(filesystem=local, path=c:/Users/LEGION/Documents/Msc Data Science - Uni of Exeter/ECMM451 - Data Science Research Project (2023)/workspace/ray_results/ResNet50GRU/trial_aca60_00007/checkpoint_000001)\n",
      "\u001b[36m(train_model pid=17128)\u001b[0m Checkpoint successfully created at: Checkpoint(filesystem=local, path=c:/Users/LEGION/Documents/Msc Data Science - Uni of Exeter/ECMM451 - Data Science Research Project (2023)/workspace/ray_results/ResNet50GRU/trial_aca60_00008/checkpoint_000000)\n",
      "\u001b[36m(train_model pid=10196)\u001b[0m Checkpoint successfully created at: Checkpoint(filesystem=local, path=c:/Users/LEGION/Documents/Msc Data Science - Uni of Exeter/ECMM451 - Data Science Research Project (2023)/workspace/ray_results/ResNet50GRU/trial_aca60_00009/checkpoint_000000)\n",
      "\u001b[36m(train_model pid=10856)\u001b[0m Checkpoint successfully created at: Checkpoint(filesystem=local, path=c:/Users/LEGION/Documents/Msc Data Science - Uni of Exeter/ECMM451 - Data Science Research Project (2023)/workspace/ray_results/ResNet50GRU/trial_aca60_00010/checkpoint_000000)\n",
      "\u001b[36m(train_model pid=27236)\u001b[0m Checkpoint successfully created at: Checkpoint(filesystem=local, path=c:/Users/LEGION/Documents/Msc Data Science - Uni of Exeter/ECMM451 - Data Science Research Project (2023)/workspace/ray_results/ResNet50GRU/trial_aca60_00011/checkpoint_000000)\n",
      "\u001b[36m(train_model pid=11072)\u001b[0m Checkpoint successfully created at: Checkpoint(filesystem=local, path=c:/Users/LEGION/Documents/Msc Data Science - Uni of Exeter/ECMM451 - Data Science Research Project (2023)/workspace/ray_results/ResNet50GRU/trial_aca60_00012/checkpoint_000000)\n",
      "\u001b[36m(train_model pid=11072)\u001b[0m Checkpoint successfully created at: Checkpoint(filesystem=local, path=c:/Users/LEGION/Documents/Msc Data Science - Uni of Exeter/ECMM451 - Data Science Research Project (2023)/workspace/ray_results/ResNet50GRU/trial_aca60_00012/checkpoint_000001)\n",
      "\u001b[36m(train_model pid=11072)\u001b[0m Checkpoint successfully created at: Checkpoint(filesystem=local, path=c:/Users/LEGION/Documents/Msc Data Science - Uni of Exeter/ECMM451 - Data Science Research Project (2023)/workspace/ray_results/ResNet50GRU/trial_aca60_00012/checkpoint_000002)\n",
      "\u001b[36m(train_model pid=11072)\u001b[0m Checkpoint successfully created at: Checkpoint(filesystem=local, path=c:/Users/LEGION/Documents/Msc Data Science - Uni of Exeter/ECMM451 - Data Science Research Project (2023)/workspace/ray_results/ResNet50GRU/trial_aca60_00012/checkpoint_000003)\n",
      "\u001b[36m(train_model pid=11072)\u001b[0m Checkpoint successfully created at: Checkpoint(filesystem=local, path=c:/Users/LEGION/Documents/Msc Data Science - Uni of Exeter/ECMM451 - Data Science Research Project (2023)/workspace/ray_results/ResNet50GRU/trial_aca60_00012/checkpoint_000004)\n",
      "\u001b[36m(train_model pid=11072)\u001b[0m Checkpoint successfully created at: Checkpoint(filesystem=local, path=c:/Users/LEGION/Documents/Msc Data Science - Uni of Exeter/ECMM451 - Data Science Research Project (2023)/workspace/ray_results/ResNet50GRU/trial_aca60_00012/checkpoint_000005)\n",
      "\u001b[36m(train_model pid=11072)\u001b[0m Checkpoint successfully created at: Checkpoint(filesystem=local, path=c:/Users/LEGION/Documents/Msc Data Science - Uni of Exeter/ECMM451 - Data Science Research Project (2023)/workspace/ray_results/ResNet50GRU/trial_aca60_00012/checkpoint_000006)\n",
      "\u001b[36m(train_model pid=11072)\u001b[0m Checkpoint successfully created at: Checkpoint(filesystem=local, path=c:/Users/LEGION/Documents/Msc Data Science - Uni of Exeter/ECMM451 - Data Science Research Project (2023)/workspace/ray_results/ResNet50GRU/trial_aca60_00012/checkpoint_000007)\n",
      "\u001b[36m(train_model pid=11072)\u001b[0m Checkpoint successfully created at: Checkpoint(filesystem=local, path=c:/Users/LEGION/Documents/Msc Data Science - Uni of Exeter/ECMM451 - Data Science Research Project (2023)/workspace/ray_results/ResNet50GRU/trial_aca60_00012/checkpoint_000008)\n",
      "\u001b[36m(train_model pid=11072)\u001b[0m Checkpoint successfully created at: Checkpoint(filesystem=local, path=c:/Users/LEGION/Documents/Msc Data Science - Uni of Exeter/ECMM451 - Data Science Research Project (2023)/workspace/ray_results/ResNet50GRU/trial_aca60_00012/checkpoint_000009)\n",
      "\u001b[36m(train_model pid=24420)\u001b[0m Checkpoint successfully created at: Checkpoint(filesystem=local, path=c:/Users/LEGION/Documents/Msc Data Science - Uni of Exeter/ECMM451 - Data Science Research Project (2023)/workspace/ray_results/ResNet50GRU/trial_aca60_00013/checkpoint_000000)\n",
      "\u001b[36m(train_model pid=24420)\u001b[0m Checkpoint successfully created at: Checkpoint(filesystem=local, path=c:/Users/LEGION/Documents/Msc Data Science - Uni of Exeter/ECMM451 - Data Science Research Project (2023)/workspace/ray_results/ResNet50GRU/trial_aca60_00013/checkpoint_000001)\n",
      "\u001b[36m(train_model pid=2104)\u001b[0m Checkpoint successfully created at: Checkpoint(filesystem=local, path=c:/Users/LEGION/Documents/Msc Data Science - Uni of Exeter/ECMM451 - Data Science Research Project (2023)/workspace/ray_results/ResNet50GRU/trial_aca60_00014/checkpoint_000000)\n",
      "\u001b[36m(train_model pid=2104)\u001b[0m Checkpoint successfully created at: Checkpoint(filesystem=local, path=c:/Users/LEGION/Documents/Msc Data Science - Uni of Exeter/ECMM451 - Data Science Research Project (2023)/workspace/ray_results/ResNet50GRU/trial_aca60_00014/checkpoint_000001)\n",
      "\u001b[36m(train_model pid=2104)\u001b[0m Checkpoint successfully created at: Checkpoint(filesystem=local, path=c:/Users/LEGION/Documents/Msc Data Science - Uni of Exeter/ECMM451 - Data Science Research Project (2023)/workspace/ray_results/ResNet50GRU/trial_aca60_00014/checkpoint_000002)\n",
      "\u001b[36m(train_model pid=2104)\u001b[0m Checkpoint successfully created at: Checkpoint(filesystem=local, path=c:/Users/LEGION/Documents/Msc Data Science - Uni of Exeter/ECMM451 - Data Science Research Project (2023)/workspace/ray_results/ResNet50GRU/trial_aca60_00014/checkpoint_000003)\n",
      "\u001b[36m(train_model pid=2104)\u001b[0m Checkpoint successfully created at: Checkpoint(filesystem=local, path=c:/Users/LEGION/Documents/Msc Data Science - Uni of Exeter/ECMM451 - Data Science Research Project (2023)/workspace/ray_results/ResNet50GRU/trial_aca60_00014/checkpoint_000004)\n",
      "\u001b[36m(train_model pid=2104)\u001b[0m Checkpoint successfully created at: Checkpoint(filesystem=local, path=c:/Users/LEGION/Documents/Msc Data Science - Uni of Exeter/ECMM451 - Data Science Research Project (2023)/workspace/ray_results/ResNet50GRU/trial_aca60_00014/checkpoint_000005)\n",
      "\u001b[36m(train_model pid=2104)\u001b[0m Checkpoint successfully created at: Checkpoint(filesystem=local, path=c:/Users/LEGION/Documents/Msc Data Science - Uni of Exeter/ECMM451 - Data Science Research Project (2023)/workspace/ray_results/ResNet50GRU/trial_aca60_00014/checkpoint_000006)\n",
      "\u001b[36m(train_model pid=2104)\u001b[0m Checkpoint successfully created at: Checkpoint(filesystem=local, path=c:/Users/LEGION/Documents/Msc Data Science - Uni of Exeter/ECMM451 - Data Science Research Project (2023)/workspace/ray_results/ResNet50GRU/trial_aca60_00014/checkpoint_000007)\n",
      "\u001b[36m(train_model pid=2104)\u001b[0m Checkpoint successfully created at: Checkpoint(filesystem=local, path=c:/Users/LEGION/Documents/Msc Data Science - Uni of Exeter/ECMM451 - Data Science Research Project (2023)/workspace/ray_results/ResNet50GRU/trial_aca60_00014/checkpoint_000008)\n",
      "\u001b[36m(train_model pid=2104)\u001b[0m Checkpoint successfully created at: Checkpoint(filesystem=local, path=c:/Users/LEGION/Documents/Msc Data Science - Uni of Exeter/ECMM451 - Data Science Research Project (2023)/workspace/ray_results/ResNet50GRU/trial_aca60_00014/checkpoint_000009)\n",
      "\u001b[36m(train_model pid=20116)\u001b[0m Checkpoint successfully created at: Checkpoint(filesystem=local, path=c:/Users/LEGION/Documents/Msc Data Science - Uni of Exeter/ECMM451 - Data Science Research Project (2023)/workspace/ray_results/ResNet50GRU/trial_aca60_00015/checkpoint_000000)\n",
      "\u001b[36m(train_model pid=7552)\u001b[0m Checkpoint successfully created at: Checkpoint(filesystem=local, path=c:/Users/LEGION/Documents/Msc Data Science - Uni of Exeter/ECMM451 - Data Science Research Project (2023)/workspace/ray_results/ResNet50GRU/trial_aca60_00016/checkpoint_000000)\n",
      "\u001b[36m(train_model pid=22536)\u001b[0m Checkpoint successfully created at: Checkpoint(filesystem=local, path=c:/Users/LEGION/Documents/Msc Data Science - Uni of Exeter/ECMM451 - Data Science Research Project (2023)/workspace/ray_results/ResNet50GRU/trial_aca60_00017/checkpoint_000000)\n",
      "\u001b[36m(train_model pid=31504)\u001b[0m Checkpoint successfully created at: Checkpoint(filesystem=local, path=c:/Users/LEGION/Documents/Msc Data Science - Uni of Exeter/ECMM451 - Data Science Research Project (2023)/workspace/ray_results/ResNet50GRU/trial_aca60_00018/checkpoint_000000)\n",
      "\u001b[36m(train_model pid=27252)\u001b[0m Checkpoint successfully created at: Checkpoint(filesystem=local, path=c:/Users/LEGION/Documents/Msc Data Science - Uni of Exeter/ECMM451 - Data Science Research Project (2023)/workspace/ray_results/ResNet50GRU/trial_aca60_00019/checkpoint_000000)\n",
      "\u001b[36m(train_model pid=27252)\u001b[0m Checkpoint successfully created at: Checkpoint(filesystem=local, path=c:/Users/LEGION/Documents/Msc Data Science - Uni of Exeter/ECMM451 - Data Science Research Project (2023)/workspace/ray_results/ResNet50GRU/trial_aca60_00019/checkpoint_000001)\n",
      "\u001b[36m(train_model pid=27252)\u001b[0m Checkpoint successfully created at: Checkpoint(filesystem=local, path=c:/Users/LEGION/Documents/Msc Data Science - Uni of Exeter/ECMM451 - Data Science Research Project (2023)/workspace/ray_results/ResNet50GRU/trial_aca60_00019/checkpoint_000002)\n",
      "\u001b[36m(train_model pid=27252)\u001b[0m Checkpoint successfully created at: Checkpoint(filesystem=local, path=c:/Users/LEGION/Documents/Msc Data Science - Uni of Exeter/ECMM451 - Data Science Research Project (2023)/workspace/ray_results/ResNet50GRU/trial_aca60_00019/checkpoint_000003)\n",
      "\u001b[36m(train_model pid=27252)\u001b[0m Checkpoint successfully created at: Checkpoint(filesystem=local, path=c:/Users/LEGION/Documents/Msc Data Science - Uni of Exeter/ECMM451 - Data Science Research Project (2023)/workspace/ray_results/ResNet50GRU/trial_aca60_00019/checkpoint_000004)\n",
      "\u001b[36m(train_model pid=27252)\u001b[0m Checkpoint successfully created at: Checkpoint(filesystem=local, path=c:/Users/LEGION/Documents/Msc Data Science - Uni of Exeter/ECMM451 - Data Science Research Project (2023)/workspace/ray_results/ResNet50GRU/trial_aca60_00019/checkpoint_000005)\n",
      "\u001b[36m(train_model pid=27252)\u001b[0m Checkpoint successfully created at: Checkpoint(filesystem=local, path=c:/Users/LEGION/Documents/Msc Data Science - Uni of Exeter/ECMM451 - Data Science Research Project (2023)/workspace/ray_results/ResNet50GRU/trial_aca60_00019/checkpoint_000006)\n",
      "\u001b[36m(train_model pid=27252)\u001b[0m Checkpoint successfully created at: Checkpoint(filesystem=local, path=c:/Users/LEGION/Documents/Msc Data Science - Uni of Exeter/ECMM451 - Data Science Research Project (2023)/workspace/ray_results/ResNet50GRU/trial_aca60_00019/checkpoint_000007)\n",
      "\u001b[36m(train_model pid=27252)\u001b[0m Checkpoint successfully created at: Checkpoint(filesystem=local, path=c:/Users/LEGION/Documents/Msc Data Science - Uni of Exeter/ECMM451 - Data Science Research Project (2023)/workspace/ray_results/ResNet50GRU/trial_aca60_00019/checkpoint_000008)\n",
      "\u001b[36m(train_model pid=27252)\u001b[0m Checkpoint successfully created at: Checkpoint(filesystem=local, path=c:/Users/LEGION/Documents/Msc Data Science - Uni of Exeter/ECMM451 - Data Science Research Project (2023)/workspace/ray_results/ResNet50GRU/trial_aca60_00019/checkpoint_000009)\n",
      "\u001b[36m(train_model pid=9236)\u001b[0m Checkpoint successfully created at: Checkpoint(filesystem=local, path=c:/Users/LEGION/Documents/Msc Data Science - Uni of Exeter/ECMM451 - Data Science Research Project (2023)/workspace/ray_results/ResNet50GRU/trial_aca60_00020/checkpoint_000000)\n",
      "\u001b[36m(train_model pid=9236)\u001b[0m Checkpoint successfully created at: Checkpoint(filesystem=local, path=c:/Users/LEGION/Documents/Msc Data Science - Uni of Exeter/ECMM451 - Data Science Research Project (2023)/workspace/ray_results/ResNet50GRU/trial_aca60_00020/checkpoint_000001)\n",
      "\u001b[36m(train_model pid=7552)\u001b[0m Checkpoint successfully created at: Checkpoint(filesystem=local, path=c:/Users/LEGION/Documents/Msc Data Science - Uni of Exeter/ECMM451 - Data Science Research Project (2023)/workspace/ray_results/ResNet50GRU/trial_aca60_00021/checkpoint_000000)\n",
      "\u001b[36m(train_model pid=7552)\u001b[0m Checkpoint successfully created at: Checkpoint(filesystem=local, path=c:/Users/LEGION/Documents/Msc Data Science - Uni of Exeter/ECMM451 - Data Science Research Project (2023)/workspace/ray_results/ResNet50GRU/trial_aca60_00021/checkpoint_000001)\n",
      "\u001b[36m(train_model pid=22444)\u001b[0m Checkpoint successfully created at: Checkpoint(filesystem=local, path=c:/Users/LEGION/Documents/Msc Data Science - Uni of Exeter/ECMM451 - Data Science Research Project (2023)/workspace/ray_results/ResNet50GRU/trial_aca60_00022/checkpoint_000000)\n",
      "\u001b[36m(train_model pid=22444)\u001b[0m Checkpoint successfully created at: Checkpoint(filesystem=local, path=c:/Users/LEGION/Documents/Msc Data Science - Uni of Exeter/ECMM451 - Data Science Research Project (2023)/workspace/ray_results/ResNet50GRU/trial_aca60_00022/checkpoint_000001)\n",
      "\u001b[36m(train_model pid=22444)\u001b[0m Checkpoint successfully created at: Checkpoint(filesystem=local, path=c:/Users/LEGION/Documents/Msc Data Science - Uni of Exeter/ECMM451 - Data Science Research Project (2023)/workspace/ray_results/ResNet50GRU/trial_aca60_00022/checkpoint_000002)\n",
      "\u001b[36m(train_model pid=22444)\u001b[0m Checkpoint successfully created at: Checkpoint(filesystem=local, path=c:/Users/LEGION/Documents/Msc Data Science - Uni of Exeter/ECMM451 - Data Science Research Project (2023)/workspace/ray_results/ResNet50GRU/trial_aca60_00022/checkpoint_000003)\n",
      "\u001b[36m(train_model pid=14616)\u001b[0m Checkpoint successfully created at: Checkpoint(filesystem=local, path=c:/Users/LEGION/Documents/Msc Data Science - Uni of Exeter/ECMM451 - Data Science Research Project (2023)/workspace/ray_results/ResNet50GRU/trial_aca60_00023/checkpoint_000000)\n",
      "\u001b[36m(train_model pid=18540)\u001b[0m Checkpoint successfully created at: Checkpoint(filesystem=local, path=c:/Users/LEGION/Documents/Msc Data Science - Uni of Exeter/ECMM451 - Data Science Research Project (2023)/workspace/ray_results/ResNet50GRU/trial_aca60_00024/checkpoint_000000)\n",
      "\u001b[36m(train_model pid=18540)\u001b[0m Checkpoint successfully created at: Checkpoint(filesystem=local, path=c:/Users/LEGION/Documents/Msc Data Science - Uni of Exeter/ECMM451 - Data Science Research Project (2023)/workspace/ray_results/ResNet50GRU/trial_aca60_00024/checkpoint_000001)\n",
      "2024-07-25 01:56:40,261\tINFO tune.py:1009 -- Wrote the latest version of all result files and experiment state to 'c:/Users/LEGION/Documents/Msc Data Science - Uni of Exeter/ECMM451 - Data Science Research Project (2023)/workspace/ray_results/ResNet50GRU' in 0.0345s.\n",
      "2024-07-25 01:56:40,291\tINFO tune.py:1041 -- Total run time: 15924.90 seconds (15924.80 seconds for the tuning loop).\n"
     ]
    },
    {
     "name": "stdout",
     "output_type": "stream",
     "text": [
      "Best trial config: {'optimizer': 'adam', 'lr': 0.0003872118032174588, 'scheduler': 'exp', 'gamma': 0.13618183112843046, 'epochs': 30, 'batch_size': 32}\n",
      "Best trial final validation loss: 1.2275166817791554\n",
      "Best trial final validation accuracy: 66.0325%\n",
      "Test Accuracy: 0.6652828230409964\n",
      "Best trial test set accuracy: 0.6653%\n"
     ]
    }
   ],
   "source": [
    "mytuner.main(train_datasets, valid_datasets, test_datasets, num_samples=25)"
   ]
  }
 ],
 "metadata": {
  "kernelspec": {
   "display_name": "torch-gpu",
   "language": "python",
   "name": "python3"
  },
  "language_info": {
   "codemirror_mode": {
    "name": "ipython",
    "version": 3
   },
   "file_extension": ".py",
   "mimetype": "text/x-python",
   "name": "python",
   "nbconvert_exporter": "python",
   "pygments_lexer": "ipython3",
   "version": "3.10.13"
  }
 },
 "nbformat": 4,
 "nbformat_minor": 2
}
