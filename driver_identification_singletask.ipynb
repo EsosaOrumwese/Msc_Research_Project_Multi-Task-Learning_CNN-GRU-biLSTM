{
 "cells": [
  {
   "cell_type": "markdown",
   "metadata": {},
   "source": [
    "# Driver Identification using ResNet50 and GRU (RNN)\n",
    "To better understand the code, check out `./prep_files/ResNet50_GRU_driverID.ipynb`. That notebook explains the thought process behind this code on a sample dataset whilst this goes straight to the point. \n",
    "\n",
    "Also the dataset used was different as that stored all data in memory while we plan on streaming from local storage as the dataset is 40+Gb"
   ]
  },
  {
   "cell_type": "code",
   "execution_count": 1,
   "metadata": {},
   "outputs": [
    {
     "data": {
      "text/html": [
       "<link rel=\"stylesheet\" type=\"text/css\" href=\"./custom.css\">"
      ],
      "text/plain": [
       "<IPython.core.display.HTML object>"
      ]
     },
     "metadata": {},
     "output_type": "display_data"
    }
   ],
   "source": [
    "import numpy as np\n",
    "import pandas as pd\n",
    "import torch\n",
    "from torchsummary import summary\n",
    "\n",
    "from src.engine import ResNet50_GRU_engine\n",
    "from src.model_driverID import ResNet50_GRU\n",
    "from src.dataset import FeatureMapDataset\n",
    "from src.hyperparam import RayTuning\n",
    "from ray import tune, train\n",
    "\n",
    "from IPython.display import display, HTML\n",
    "\n",
    "# Load custom CSS file\n",
    "css = HTML('<link rel=\"stylesheet\" type=\"text/css\" href=\"./custom.css\">')  # Ensure the path is correct\n",
    "display(css)"
   ]
  },
  {
   "cell_type": "code",
   "execution_count": 2,
   "metadata": {},
   "outputs": [
    {
     "data": {
      "text/plain": [
       "=================================================================\n",
       "Layer (type:depth-idx)                   Param #\n",
       "=================================================================\n",
       "├─Sequential: 1-1                        --\n",
       "|    └─Conv2d: 2-1                       (9,408)\n",
       "|    └─BatchNorm2d: 2-2                  (128)\n",
       "|    └─ReLU: 2-3                         --\n",
       "|    └─MaxPool2d: 2-4                    --\n",
       "|    └─Sequential: 2-5                   --\n",
       "|    |    └─Bottleneck: 3-1              (75,008)\n",
       "|    |    └─Bottleneck: 3-2              (70,400)\n",
       "|    |    └─Bottleneck: 3-3              (70,400)\n",
       "|    └─Sequential: 2-6                   --\n",
       "|    |    └─Bottleneck: 3-4              (379,392)\n",
       "|    |    └─Bottleneck: 3-5              (280,064)\n",
       "|    |    └─Bottleneck: 3-6              (280,064)\n",
       "|    |    └─Bottleneck: 3-7              (280,064)\n",
       "|    └─Sequential: 2-7                   --\n",
       "|    |    └─Bottleneck: 3-8              (1,512,448)\n",
       "|    |    └─Bottleneck: 3-9              (1,117,184)\n",
       "|    |    └─Bottleneck: 3-10             (1,117,184)\n",
       "|    |    └─Bottleneck: 3-11             (1,117,184)\n",
       "|    |    └─Bottleneck: 3-12             (1,117,184)\n",
       "|    |    └─Bottleneck: 3-13             (1,117,184)\n",
       "|    └─Sequential: 2-8                   --\n",
       "|    |    └─Bottleneck: 3-14             (6,039,552)\n",
       "|    |    └─Bottleneck: 3-15             (4,462,592)\n",
       "|    |    └─Bottleneck: 3-16             (4,462,592)\n",
       "├─BatchNorm2d: 1-2                       4,096\n",
       "├─Dropout: 1-3                           --\n",
       "├─GRU: 1-4                               5,511,168\n",
       "├─Linear: 1-5                            2,052\n",
       "=================================================================\n",
       "Total params: 29,025,348\n",
       "Trainable params: 5,517,316\n",
       "Non-trainable params: 23,508,032\n",
       "================================================================="
      ]
     },
     "execution_count": 2,
     "metadata": {},
     "output_type": "execute_result"
    }
   ],
   "source": [
    "model = ResNet50_GRU()\n",
    "summary(model, verbose=0)"
   ]
  },
  {
   "cell_type": "code",
   "execution_count": 3,
   "metadata": {},
   "outputs": [],
   "source": [
    "from sklearn.utils.class_weight import compute_class_weight\n",
    "\n",
    "import torch.nn as nn\n",
    "import torch.optim as optim"
   ]
  },
  {
   "cell_type": "markdown",
   "metadata": {},
   "source": [
    "#### Hyperparameter tuning of Model"
   ]
  },
  {
   "cell_type": "code",
   "execution_count": 4,
   "metadata": {},
   "outputs": [],
   "source": [
    "y_train = pd.read_csv('./data/feature_maps_labels/train/metadata.csv')\n",
    "y_train = y_train.iloc[:,1].values\n",
    "\n",
    "class_weights = torch.tensor(compute_class_weight('balanced', classes=np.unique(y_train), y=y_train), dtype=torch.float32)\n",
    "class_weights = class_weights.to(torch.device(\"cuda\" if torch.cuda.is_available() else \"cpu\"))\n",
    "\n",
    "del y_train"
   ]
  },
  {
   "cell_type": "code",
   "execution_count": 16,
   "metadata": {},
   "outputs": [],
   "source": [
    "base_dir = './data/feature_maps_labels/'\n",
    "\n",
    "train_datasets = FeatureMapDataset(base_dir, mode='train')\n",
    "val_test_datasets = FeatureMapDataset(base_dir, mode='valid')"
   ]
  },
  {
   "cell_type": "code",
   "execution_count": 17,
   "metadata": {},
   "outputs": [],
   "source": [
    "from torch.utils.data import random_split"
   ]
  },
  {
   "cell_type": "code",
   "execution_count": 18,
   "metadata": {},
   "outputs": [],
   "source": [
    "np.random.seed(42)\n",
    "valid_datasets, test_datasets = random_split(val_test_datasets, [0.5, 0.5])"
   ]
  },
  {
   "cell_type": "code",
   "execution_count": 19,
   "metadata": {},
   "outputs": [
    {
     "data": {
      "text/plain": [
       "(46240, 5782, 5781)"
      ]
     },
     "execution_count": 19,
     "metadata": {},
     "output_type": "execute_result"
    }
   ],
   "source": [
    "len(train_datasets), len(valid_datasets), len(test_datasets)"
   ]
  },
  {
   "cell_type": "code",
   "execution_count": 20,
   "metadata": {},
   "outputs": [],
   "source": [
    "# Enhanced Hyperparameter search space\n",
    "config = {\n",
    "    \"optimizer\": tune.choice([\"adam\"]),\n",
    "    \"lr\": tune.loguniform(1e-4, 1e-1),\n",
    "    \"scheduler\": tune.choice([\"exp\"]),\n",
    "    \"gamma\": tune.uniform(0.1, 0.9),\n",
    "    \"epochs\": tune.choice([30]),\n",
    "    \"batch_size\": tune.choice([32])\n",
    "}\n",
    "\n",
    "criterion = nn.CrossEntropyLoss(weight=class_weights)\n",
    "save_dir = 'ResNet50GRU'\n",
    "model = ResNet50_GRU\n",
    "modelType = 'ResNet50GRU'\n",
    "engine = ResNet50_GRU_engine"
   ]
  },
  {
   "cell_type": "code",
   "execution_count": 21,
   "metadata": {},
   "outputs": [],
   "source": [
    "mytuner = RayTuning(config, save_dir, criterion, model, modelType, engine)"
   ]
  },
  {
   "cell_type": "code",
   "execution_count": 22,
   "metadata": {},
   "outputs": [
    {
     "data": {
      "text/html": [
       "<div class=\"tuneStatus\">\n",
       "  <div style=\"display: flex;flex-direction: row\">\n",
       "    <div style=\"display: flex;flex-direction: column;\">\n",
       "      <h3>Tune Status</h3>\n",
       "      <table>\n",
       "<tbody>\n",
       "<tr><td>Current time:</td><td>2024-07-24 21:17:33</td></tr>\n",
       "<tr><td>Running for: </td><td>00:01:18.88        </td></tr>\n",
       "<tr><td>Memory:      </td><td>12.2/13.9 GiB      </td></tr>\n",
       "</tbody>\n",
       "</table>\n",
       "    </div>\n",
       "    <div class=\"vDivider\"></div>\n",
       "    <div class=\"systemInfo\">\n",
       "      <h3>System Info</h3>\n",
       "      Using AsyncHyperBand: num_stopped=0<br>Bracket: Iter 8.000: None | Iter 4.000: None | Iter 2.000: None | Iter 1.000: None<br>Logical resource usage: 2.0/16 CPUs, 1.0/1 GPUs (0.0/1.0 accelerator_type:G)\n",
       "    </div>\n",
       "    <div class=\"vDivider\"></div>\n",
       "<div class=\"messages\">\n",
       "  <h3>Messages</h3>\n",
       "  \n",
       "  \n",
       "  Number of errored trials: 2<br><table>\n",
       "<thead>\n",
       "<tr><th>Trial name             </th><th style=\"text-align: right;\">  # failures</th><th>error file                                                                                                                                                           </th></tr>\n",
       "</thead>\n",
       "<tbody>\n",
       "<tr><td>train_model_93c48_00000</td><td style=\"text-align: right;\">           1</td><td>C:/Users/LEGION/AppData/Local/Temp/ray/session_2024-07-24_21-16-10_616677_8736/artifacts/2024-07-24_21-16-14/ResNet50GRU/driver_artifacts/trial_93c48_00000/error.txt</td></tr>\n",
       "<tr><td>train_model_93c48_00001</td><td style=\"text-align: right;\">           1</td><td>C:/Users/LEGION/AppData/Local/Temp/ray/session_2024-07-24_21-16-10_616677_8736/artifacts/2024-07-24_21-16-14/ResNet50GRU/driver_artifacts/trial_93c48_00001/error.txt</td></tr>\n",
       "</tbody>\n",
       "</table>\n",
       "</div>\n",
       "<style>\n",
       ".messages {\n",
       "  color: var(--jp-ui-font-color1);\n",
       "  display: flex;\n",
       "  flex-direction: column;\n",
       "  padding-left: 1em;\n",
       "  overflow-y: auto;\n",
       "}\n",
       ".messages h3 {\n",
       "  font-weight: bold;\n",
       "}\n",
       ".vDivider {\n",
       "  border-left-width: var(--jp-border-width);\n",
       "  border-left-color: var(--jp-border-color0);\n",
       "  border-left-style: solid;\n",
       "  margin: 0.5em 1em 0.5em 1em;\n",
       "}\n",
       "</style>\n",
       "\n",
       "  </div>\n",
       "  <div class=\"hDivider\"></div>\n",
       "  <div class=\"trialStatus\">\n",
       "    <h3>Trial Status</h3>\n",
       "    <table>\n",
       "<thead>\n",
       "<tr><th>Trial name             </th><th>status  </th><th>loc            </th><th style=\"text-align: right;\">  batch_size</th><th style=\"text-align: right;\">  epochs</th><th style=\"text-align: right;\">   gamma</th><th style=\"text-align: right;\">         lr</th><th>optimizer  </th><th>scheduler  </th></tr>\n",
       "</thead>\n",
       "<tbody>\n",
       "<tr><td>train_model_93c48_00002</td><td>RUNNING </td><td>127.0.0.1:19560</td><td style=\"text-align: right;\">          32</td><td style=\"text-align: right;\">      30</td><td style=\"text-align: right;\">0.792941</td><td style=\"text-align: right;\">0.000149366</td><td>adam       </td><td>exp        </td></tr>\n",
       "<tr><td>train_model_93c48_00003</td><td>PENDING </td><td>               </td><td style=\"text-align: right;\">          32</td><td style=\"text-align: right;\">      30</td><td style=\"text-align: right;\">0.116468</td><td style=\"text-align: right;\">0.0133112  </td><td>adam       </td><td>exp        </td></tr>\n",
       "<tr><td>train_model_93c48_00004</td><td>PENDING </td><td>               </td><td style=\"text-align: right;\">          32</td><td style=\"text-align: right;\">      30</td><td style=\"text-align: right;\">0.269871</td><td style=\"text-align: right;\">0.0314288  </td><td>adam       </td><td>exp        </td></tr>\n",
       "<tr><td>train_model_93c48_00005</td><td>PENDING </td><td>               </td><td style=\"text-align: right;\">          32</td><td style=\"text-align: right;\">      30</td><td style=\"text-align: right;\">0.343394</td><td style=\"text-align: right;\">0.000354988</td><td>adam       </td><td>exp        </td></tr>\n",
       "<tr><td>train_model_93c48_00006</td><td>PENDING </td><td>               </td><td style=\"text-align: right;\">          32</td><td style=\"text-align: right;\">      30</td><td style=\"text-align: right;\">0.332983</td><td style=\"text-align: right;\">0.00197622 </td><td>adam       </td><td>exp        </td></tr>\n",
       "<tr><td>train_model_93c48_00007</td><td>PENDING </td><td>               </td><td style=\"text-align: right;\">          32</td><td style=\"text-align: right;\">      30</td><td style=\"text-align: right;\">0.333716</td><td style=\"text-align: right;\">0.000262109</td><td>adam       </td><td>exp        </td></tr>\n",
       "<tr><td>train_model_93c48_00008</td><td>PENDING </td><td>               </td><td style=\"text-align: right;\">          32</td><td style=\"text-align: right;\">      30</td><td style=\"text-align: right;\">0.728141</td><td style=\"text-align: right;\">0.00233459 </td><td>adam       </td><td>exp        </td></tr>\n",
       "<tr><td>train_model_93c48_00009</td><td>PENDING </td><td>               </td><td style=\"text-align: right;\">          32</td><td style=\"text-align: right;\">      30</td><td style=\"text-align: right;\">0.573932</td><td style=\"text-align: right;\">0.00348902 </td><td>adam       </td><td>exp        </td></tr>\n",
       "<tr><td>train_model_93c48_00010</td><td>PENDING </td><td>               </td><td style=\"text-align: right;\">          32</td><td style=\"text-align: right;\">      30</td><td style=\"text-align: right;\">0.236419</td><td style=\"text-align: right;\">0.00664714 </td><td>adam       </td><td>exp        </td></tr>\n",
       "<tr><td>train_model_93c48_00011</td><td>PENDING </td><td>               </td><td style=\"text-align: right;\">          32</td><td style=\"text-align: right;\">      30</td><td style=\"text-align: right;\">0.872506</td><td style=\"text-align: right;\">0.0702517  </td><td>adam       </td><td>exp        </td></tr>\n",
       "<tr><td>train_model_93c48_00012</td><td>PENDING </td><td>               </td><td style=\"text-align: right;\">          32</td><td style=\"text-align: right;\">      30</td><td style=\"text-align: right;\">0.178138</td><td style=\"text-align: right;\">0.000820052</td><td>adam       </td><td>exp        </td></tr>\n",
       "<tr><td>train_model_93c48_00013</td><td>PENDING </td><td>               </td><td style=\"text-align: right;\">          32</td><td style=\"text-align: right;\">      30</td><td style=\"text-align: right;\">0.197631</td><td style=\"text-align: right;\">0.0020915  </td><td>adam       </td><td>exp        </td></tr>\n",
       "<tr><td>train_model_93c48_00014</td><td>PENDING </td><td>               </td><td style=\"text-align: right;\">          32</td><td style=\"text-align: right;\">      30</td><td style=\"text-align: right;\">0.827456</td><td style=\"text-align: right;\">0.000126814</td><td>adam       </td><td>exp        </td></tr>\n",
       "<tr><td>train_model_93c48_00015</td><td>PENDING </td><td>               </td><td style=\"text-align: right;\">          32</td><td style=\"text-align: right;\">      30</td><td style=\"text-align: right;\">0.349369</td><td style=\"text-align: right;\">0.00971778 </td><td>adam       </td><td>exp        </td></tr>\n",
       "<tr><td>train_model_93c48_00016</td><td>PENDING </td><td>               </td><td style=\"text-align: right;\">          32</td><td style=\"text-align: right;\">      30</td><td style=\"text-align: right;\">0.247884</td><td style=\"text-align: right;\">0.00436647 </td><td>adam       </td><td>exp        </td></tr>\n",
       "<tr><td>train_model_93c48_00017</td><td>PENDING </td><td>               </td><td style=\"text-align: right;\">          32</td><td style=\"text-align: right;\">      30</td><td style=\"text-align: right;\">0.851599</td><td style=\"text-align: right;\">0.0211543  </td><td>adam       </td><td>exp        </td></tr>\n",
       "<tr><td>train_model_93c48_00018</td><td>PENDING </td><td>               </td><td style=\"text-align: right;\">          32</td><td style=\"text-align: right;\">      30</td><td style=\"text-align: right;\">0.837499</td><td style=\"text-align: right;\">0.0062187  </td><td>adam       </td><td>exp        </td></tr>\n",
       "<tr><td>train_model_93c48_00019</td><td>PENDING </td><td>               </td><td style=\"text-align: right;\">          32</td><td style=\"text-align: right;\">      30</td><td style=\"text-align: right;\">0.136182</td><td style=\"text-align: right;\">0.000387212</td><td>adam       </td><td>exp        </td></tr>\n",
       "<tr><td>train_model_93c48_00020</td><td>PENDING </td><td>               </td><td style=\"text-align: right;\">          32</td><td style=\"text-align: right;\">      30</td><td style=\"text-align: right;\">0.317079</td><td style=\"text-align: right;\">0.00146566 </td><td>adam       </td><td>exp        </td></tr>\n",
       "<tr><td>train_model_93c48_00021</td><td>PENDING </td><td>               </td><td style=\"text-align: right;\">          32</td><td style=\"text-align: right;\">      30</td><td style=\"text-align: right;\">0.324748</td><td style=\"text-align: right;\">0.0011756  </td><td>adam       </td><td>exp        </td></tr>\n",
       "<tr><td>train_model_93c48_00022</td><td>PENDING </td><td>               </td><td style=\"text-align: right;\">          32</td><td style=\"text-align: right;\">      30</td><td style=\"text-align: right;\">0.741758</td><td style=\"text-align: right;\">0.000264711</td><td>adam       </td><td>exp        </td></tr>\n",
       "<tr><td>train_model_93c48_00023</td><td>PENDING </td><td>               </td><td style=\"text-align: right;\">          32</td><td style=\"text-align: right;\">      30</td><td style=\"text-align: right;\">0.717796</td><td style=\"text-align: right;\">0.09134    </td><td>adam       </td><td>exp        </td></tr>\n",
       "<tr><td>train_model_93c48_00024</td><td>PENDING </td><td>               </td><td style=\"text-align: right;\">          32</td><td style=\"text-align: right;\">      30</td><td style=\"text-align: right;\">0.752369</td><td style=\"text-align: right;\">0.000103888</td><td>adam       </td><td>exp        </td></tr>\n",
       "<tr><td>train_model_93c48_00000</td><td>ERROR   </td><td>127.0.0.1:21404</td><td style=\"text-align: right;\">          32</td><td style=\"text-align: right;\">      30</td><td style=\"text-align: right;\">0.860571</td><td style=\"text-align: right;\">0.00132929 </td><td>adam       </td><td>exp        </td></tr>\n",
       "<tr><td>train_model_93c48_00001</td><td>ERROR   </td><td>127.0.0.1:26768</td><td style=\"text-align: right;\">          32</td><td style=\"text-align: right;\">      30</td><td style=\"text-align: right;\">0.224815</td><td style=\"text-align: right;\">0.00625137 </td><td>adam       </td><td>exp        </td></tr>\n",
       "</tbody>\n",
       "</table>\n",
       "  </div>\n",
       "</div>\n",
       "<style>\n",
       ".tuneStatus {\n",
       "  color: var(--jp-ui-font-color1);\n",
       "}\n",
       ".tuneStatus .systemInfo {\n",
       "  display: flex;\n",
       "  flex-direction: column;\n",
       "}\n",
       ".tuneStatus td {\n",
       "  white-space: nowrap;\n",
       "}\n",
       ".tuneStatus .trialStatus {\n",
       "  display: flex;\n",
       "  flex-direction: column;\n",
       "}\n",
       ".tuneStatus h3 {\n",
       "  font-weight: bold;\n",
       "}\n",
       ".tuneStatus .hDivider {\n",
       "  border-bottom-width: var(--jp-border-width);\n",
       "  border-bottom-color: var(--jp-border-color0);\n",
       "  border-bottom-style: solid;\n",
       "}\n",
       ".tuneStatus .vDivider {\n",
       "  border-left-width: var(--jp-border-width);\n",
       "  border-left-color: var(--jp-border-color0);\n",
       "  border-left-style: solid;\n",
       "  margin: 0.5em 1em 0.5em 1em;\n",
       "}\n",
       "</style>\n"
      ],
      "text/plain": [
       "<IPython.core.display.HTML object>"
      ]
     },
     "metadata": {},
     "output_type": "display_data"
    },
    {
     "name": "stderr",
     "output_type": "stream",
     "text": [
      "2024-07-24 21:16:47,870\tERROR tune_controller.py:1331 -- Trial task failed for trial train_model_93c48_00000\n",
      "Traceback (most recent call last):\n",
      "  File \"c:\\Users\\LEGION\\anaconda3\\envs\\torch-gpu\\lib\\site-packages\\ray\\air\\execution\\_internal\\event_manager.py\", line 110, in resolve_future\n",
      "    result = ray.get(future)\n",
      "  File \"c:\\Users\\LEGION\\anaconda3\\envs\\torch-gpu\\lib\\site-packages\\ray\\_private\\auto_init_hook.py\", line 21, in auto_init_wrapper\n",
      "    return fn(*args, **kwargs)\n",
      "  File \"c:\\Users\\LEGION\\anaconda3\\envs\\torch-gpu\\lib\\site-packages\\ray\\_private\\client_mode_hook.py\", line 103, in wrapper\n",
      "    return func(*args, **kwargs)\n",
      "  File \"c:\\Users\\LEGION\\anaconda3\\envs\\torch-gpu\\lib\\site-packages\\ray\\_private\\worker.py\", line 2656, in get\n",
      "    values, debugger_breakpoint = worker.get_objects(object_refs, timeout=timeout)\n",
      "  File \"c:\\Users\\LEGION\\anaconda3\\envs\\torch-gpu\\lib\\site-packages\\ray\\_private\\worker.py\", line 871, in get_objects\n",
      "    raise value.as_instanceof_cause()\n",
      "ray.exceptions.RayTaskError(FileNotFoundError): \u001b[36mray::ImplicitFunc.train()\u001b[39m (pid=21404, ip=127.0.0.1, actor_id=d3e87446272e37c9d7adbbd101000000, repr=train_model)\n",
      "  File \"python\\ray\\_raylet.pyx\", line 1901, in ray._raylet.execute_task\n",
      "  File \"python\\ray\\_raylet.pyx\", line 1842, in ray._raylet.execute_task.function_executor\n",
      "  File \"c:\\Users\\LEGION\\anaconda3\\envs\\torch-gpu\\lib\\site-packages\\ray\\_private\\function_manager.py\", line 691, in actor_method_executor\n",
      "    return method(__ray_actor, *args, **kwargs)\n",
      "  File \"c:\\Users\\LEGION\\anaconda3\\envs\\torch-gpu\\lib\\site-packages\\ray\\util\\tracing\\tracing_helper.py\", line 467, in _resume_span\n",
      "    return method(self, *_args, **_kwargs)\n",
      "  File \"c:\\Users\\LEGION\\anaconda3\\envs\\torch-gpu\\lib\\site-packages\\ray\\tune\\trainable\\trainable.py\", line 331, in train\n",
      "    raise skipped from exception_cause(skipped)\n",
      "  File \"c:\\Users\\LEGION\\anaconda3\\envs\\torch-gpu\\lib\\site-packages\\ray\\air\\_internal\\util.py\", line 98, in run\n",
      "    self._ret = self._target(*self._args, **self._kwargs)\n",
      "  File \"c:\\Users\\LEGION\\anaconda3\\envs\\torch-gpu\\lib\\site-packages\\ray\\tune\\trainable\\function_trainable.py\", line 45, in <lambda>\n",
      "    training_func=lambda: self._trainable_func(self.config),\n",
      "  File \"c:\\Users\\LEGION\\anaconda3\\envs\\torch-gpu\\lib\\site-packages\\ray\\util\\tracing\\tracing_helper.py\", line 467, in _resume_span\n",
      "    return method(self, *_args, **_kwargs)\n",
      "  File \"c:\\Users\\LEGION\\anaconda3\\envs\\torch-gpu\\lib\\site-packages\\ray\\tune\\trainable\\function_trainable.py\", line 248, in _trainable_func\n",
      "    output = fn()\n",
      "  File \"c:\\Users\\LEGION\\anaconda3\\envs\\torch-gpu\\lib\\site-packages\\ray\\tune\\trainable\\util.py\", line 130, in inner\n",
      "    return trainable(config, **fn_kwargs)\n",
      "  File \"c:\\Users\\LEGION\\Documents\\Msc Data Science - Uni of Exeter\\ECMM451 - Data Science Research Project (2023)\\workspace\\src\\hyperparam.py\", line 109, in train_model\n",
      "    train_loss, train_acc = engine.train(train_loader)\n",
      "  File \"c:\\Users\\LEGION\\Documents\\Msc Data Science - Uni of Exeter\\ECMM451 - Data Science Research Project (2023)\\workspace\\src\\engine.py\", line 378, in train\n",
      "    for inputs, labels in train_loader:\n",
      "  File \"c:\\Users\\LEGION\\anaconda3\\envs\\torch-gpu\\lib\\site-packages\\torch\\utils\\data\\dataloader.py\", line 631, in __next__\n",
      "    data = self._next_data()\n",
      "  File \"c:\\Users\\LEGION\\anaconda3\\envs\\torch-gpu\\lib\\site-packages\\torch\\utils\\data\\dataloader.py\", line 1346, in _next_data\n",
      "    return self._process_data(data)\n",
      "  File \"c:\\Users\\LEGION\\anaconda3\\envs\\torch-gpu\\lib\\site-packages\\torch\\utils\\data\\dataloader.py\", line 1372, in _process_data\n",
      "    data.reraise()\n",
      "  File \"c:\\Users\\LEGION\\anaconda3\\envs\\torch-gpu\\lib\\site-packages\\torch\\_utils.py\", line 722, in reraise\n",
      "    raise exception\n",
      "FileNotFoundError: Caught FileNotFoundError in DataLoader worker process 0.\n",
      "Original Traceback (most recent call last):\n",
      "  File \"c:\\Users\\LEGION\\anaconda3\\envs\\torch-gpu\\lib\\site-packages\\torch\\utils\\data\\_utils\\worker.py\", line 308, in _worker_loop\n",
      "    data = fetcher.fetch(index)\n",
      "  File \"c:\\Users\\LEGION\\anaconda3\\envs\\torch-gpu\\lib\\site-packages\\torch\\utils\\data\\_utils\\fetch.py\", line 51, in fetch\n",
      "    data = [self.dataset[idx] for idx in possibly_batched_index]\n",
      "  File \"c:\\Users\\LEGION\\anaconda3\\envs\\torch-gpu\\lib\\site-packages\\torch\\utils\\data\\_utils\\fetch.py\", line 51, in <listcomp>\n",
      "    data = [self.dataset[idx] for idx in possibly_batched_index]\n",
      "  File \"c:\\Users\\LEGION\\Documents\\Msc Data Science - Uni of Exeter\\ECMM451 - Data Science Research Project (2023)\\workspace\\src\\dataset.py\", line 84, in __getitem__\n",
      "    feature_map = np.load(file_path)\n",
      "  File \"c:\\Users\\LEGION\\anaconda3\\envs\\torch-gpu\\lib\\site-packages\\numpy\\lib\\npyio.py\", line 427, in load\n",
      "    fid = stack.enter_context(open(os_fspath(file), \"rb\"))\n",
      "FileNotFoundError: [Errno 2] No such file or directory: './data/feature_maps_labels/train\\\\63047.npy'\n",
      "2024-07-24 21:17:20,075\tERROR tune_controller.py:1331 -- Trial task failed for trial train_model_93c48_00001\n",
      "Traceback (most recent call last):\n",
      "  File \"c:\\Users\\LEGION\\anaconda3\\envs\\torch-gpu\\lib\\site-packages\\ray\\air\\execution\\_internal\\event_manager.py\", line 110, in resolve_future\n",
      "    result = ray.get(future)\n",
      "  File \"c:\\Users\\LEGION\\anaconda3\\envs\\torch-gpu\\lib\\site-packages\\ray\\_private\\auto_init_hook.py\", line 21, in auto_init_wrapper\n",
      "    return fn(*args, **kwargs)\n",
      "  File \"c:\\Users\\LEGION\\anaconda3\\envs\\torch-gpu\\lib\\site-packages\\ray\\_private\\client_mode_hook.py\", line 103, in wrapper\n",
      "    return func(*args, **kwargs)\n",
      "  File \"c:\\Users\\LEGION\\anaconda3\\envs\\torch-gpu\\lib\\site-packages\\ray\\_private\\worker.py\", line 2656, in get\n",
      "    values, debugger_breakpoint = worker.get_objects(object_refs, timeout=timeout)\n",
      "  File \"c:\\Users\\LEGION\\anaconda3\\envs\\torch-gpu\\lib\\site-packages\\ray\\_private\\worker.py\", line 871, in get_objects\n",
      "    raise value.as_instanceof_cause()\n",
      "ray.exceptions.RayTaskError(FileNotFoundError): \u001b[36mray::ImplicitFunc.train()\u001b[39m (pid=26768, ip=127.0.0.1, actor_id=f1ae13e09bc3a23975c8a00c01000000, repr=train_model)\n",
      "  File \"python\\ray\\_raylet.pyx\", line 1901, in ray._raylet.execute_task\n",
      "  File \"python\\ray\\_raylet.pyx\", line 1842, in ray._raylet.execute_task.function_executor\n",
      "  File \"c:\\Users\\LEGION\\anaconda3\\envs\\torch-gpu\\lib\\site-packages\\ray\\_private\\function_manager.py\", line 691, in actor_method_executor\n",
      "    return method(__ray_actor, *args, **kwargs)\n",
      "  File \"c:\\Users\\LEGION\\anaconda3\\envs\\torch-gpu\\lib\\site-packages\\ray\\util\\tracing\\tracing_helper.py\", line 467, in _resume_span\n",
      "    return method(self, *_args, **_kwargs)\n",
      "  File \"c:\\Users\\LEGION\\anaconda3\\envs\\torch-gpu\\lib\\site-packages\\ray\\tune\\trainable\\trainable.py\", line 331, in train\n",
      "    raise skipped from exception_cause(skipped)\n",
      "  File \"c:\\Users\\LEGION\\anaconda3\\envs\\torch-gpu\\lib\\site-packages\\ray\\air\\_internal\\util.py\", line 98, in run\n",
      "    self._ret = self._target(*self._args, **self._kwargs)\n",
      "  File \"c:\\Users\\LEGION\\anaconda3\\envs\\torch-gpu\\lib\\site-packages\\ray\\tune\\trainable\\function_trainable.py\", line 45, in <lambda>\n",
      "    training_func=lambda: self._trainable_func(self.config),\n",
      "  File \"c:\\Users\\LEGION\\anaconda3\\envs\\torch-gpu\\lib\\site-packages\\ray\\util\\tracing\\tracing_helper.py\", line 467, in _resume_span\n",
      "    return method(self, *_args, **_kwargs)\n",
      "  File \"c:\\Users\\LEGION\\anaconda3\\envs\\torch-gpu\\lib\\site-packages\\ray\\tune\\trainable\\function_trainable.py\", line 248, in _trainable_func\n",
      "    output = fn()\n",
      "  File \"c:\\Users\\LEGION\\anaconda3\\envs\\torch-gpu\\lib\\site-packages\\ray\\tune\\trainable\\util.py\", line 130, in inner\n",
      "    return trainable(config, **fn_kwargs)\n",
      "  File \"c:\\Users\\LEGION\\Documents\\Msc Data Science - Uni of Exeter\\ECMM451 - Data Science Research Project (2023)\\workspace\\src\\hyperparam.py\", line 109, in train_model\n",
      "    train_loss, train_acc = engine.train(train_loader)\n",
      "  File \"c:\\Users\\LEGION\\Documents\\Msc Data Science - Uni of Exeter\\ECMM451 - Data Science Research Project (2023)\\workspace\\src\\engine.py\", line 378, in train\n",
      "    for inputs, labels in train_loader:\n",
      "  File \"c:\\Users\\LEGION\\anaconda3\\envs\\torch-gpu\\lib\\site-packages\\torch\\utils\\data\\dataloader.py\", line 631, in __next__\n",
      "    data = self._next_data()\n",
      "  File \"c:\\Users\\LEGION\\anaconda3\\envs\\torch-gpu\\lib\\site-packages\\torch\\utils\\data\\dataloader.py\", line 1346, in _next_data\n",
      "    return self._process_data(data)\n",
      "  File \"c:\\Users\\LEGION\\anaconda3\\envs\\torch-gpu\\lib\\site-packages\\torch\\utils\\data\\dataloader.py\", line 1372, in _process_data\n",
      "    data.reraise()\n",
      "  File \"c:\\Users\\LEGION\\anaconda3\\envs\\torch-gpu\\lib\\site-packages\\torch\\_utils.py\", line 722, in reraise\n",
      "    raise exception\n",
      "FileNotFoundError: Caught FileNotFoundError in DataLoader worker process 0.\n",
      "Original Traceback (most recent call last):\n",
      "  File \"c:\\Users\\LEGION\\anaconda3\\envs\\torch-gpu\\lib\\site-packages\\torch\\utils\\data\\_utils\\worker.py\", line 308, in _worker_loop\n",
      "    data = fetcher.fetch(index)\n",
      "  File \"c:\\Users\\LEGION\\anaconda3\\envs\\torch-gpu\\lib\\site-packages\\torch\\utils\\data\\_utils\\fetch.py\", line 51, in fetch\n",
      "    data = [self.dataset[idx] for idx in possibly_batched_index]\n",
      "  File \"c:\\Users\\LEGION\\anaconda3\\envs\\torch-gpu\\lib\\site-packages\\torch\\utils\\data\\_utils\\fetch.py\", line 51, in <listcomp>\n",
      "    data = [self.dataset[idx] for idx in possibly_batched_index]\n",
      "  File \"c:\\Users\\LEGION\\Documents\\Msc Data Science - Uni of Exeter\\ECMM451 - Data Science Research Project (2023)\\workspace\\src\\dataset.py\", line 84, in __getitem__\n",
      "    feature_map = np.load(file_path)\n",
      "  File \"c:\\Users\\LEGION\\anaconda3\\envs\\torch-gpu\\lib\\site-packages\\numpy\\lib\\npyio.py\", line 427, in load\n",
      "    fid = stack.enter_context(open(os_fspath(file), \"rb\"))\n",
      "FileNotFoundError: [Errno 2] No such file or directory: './data/feature_maps_labels/train\\\\39493.npy'\n",
      "2024-07-24 21:17:33,594\tWARNING tune.py:219 -- Stop signal received (e.g. via SIGINT/Ctrl+C), ending Ray Tune run. This will try to checkpoint the experiment state one last time. Press CTRL+C (or send SIGINT/SIGKILL/SIGTERM) to skip. \n",
      "2024-07-24 21:17:33,606\tINFO tune.py:1009 -- Wrote the latest version of all result files and experiment state to 'c:/Users/LEGION/Documents/Msc Data Science - Uni of Exeter/ECMM451 - Data Science Research Project (2023)/workspace/ray_results/ResNet50GRU' in 0.0114s.\n",
      "2024-07-24 21:17:43,704\tERROR tune.py:1037 -- Trials did not complete: [train_model_93c48_00000, train_model_93c48_00001]\n",
      "2024-07-24 21:17:43,706\tINFO tune.py:1041 -- Total run time: 89.05 seconds (78.87 seconds for the tuning loop).\n",
      "2024-07-24 21:17:43,708\tWARNING tune.py:1056 -- Experiment has been interrupted, but the most recent state was saved.\n",
      "Resume experiment with: Tuner.restore(path=\"c:/Users/LEGION/Documents/Msc Data Science - Uni of Exeter/ECMM451 - Data Science Research Project (2023)/workspace/ray_results/ResNet50GRU\", trainable=...)\n",
      "2024-07-24 21:17:43,717\tWARNING experiment_analysis.py:180 -- Failed to fetch metrics for 22 trial(s):\n",
      "- train_model_93c48_00003: FileNotFoundError('Could not fetch metrics for train_model_93c48_00003: both result.json and progress.csv were not found at c:/Users/LEGION/Documents/Msc Data Science - Uni of Exeter/ECMM451 - Data Science Research Project (2023)/workspace/ray_results/ResNet50GRU/trial_93c48_00003')\n",
      "- train_model_93c48_00004: FileNotFoundError('Could not fetch metrics for train_model_93c48_00004: both result.json and progress.csv were not found at c:/Users/LEGION/Documents/Msc Data Science - Uni of Exeter/ECMM451 - Data Science Research Project (2023)/workspace/ray_results/ResNet50GRU/trial_93c48_00004')\n",
      "- train_model_93c48_00005: FileNotFoundError('Could not fetch metrics for train_model_93c48_00005: both result.json and progress.csv were not found at c:/Users/LEGION/Documents/Msc Data Science - Uni of Exeter/ECMM451 - Data Science Research Project (2023)/workspace/ray_results/ResNet50GRU/trial_93c48_00005')\n",
      "- train_model_93c48_00006: FileNotFoundError('Could not fetch metrics for train_model_93c48_00006: both result.json and progress.csv were not found at c:/Users/LEGION/Documents/Msc Data Science - Uni of Exeter/ECMM451 - Data Science Research Project (2023)/workspace/ray_results/ResNet50GRU/trial_93c48_00006')\n",
      "- train_model_93c48_00007: FileNotFoundError('Could not fetch metrics for train_model_93c48_00007: both result.json and progress.csv were not found at c:/Users/LEGION/Documents/Msc Data Science - Uni of Exeter/ECMM451 - Data Science Research Project (2023)/workspace/ray_results/ResNet50GRU/trial_93c48_00007')\n",
      "- train_model_93c48_00008: FileNotFoundError('Could not fetch metrics for train_model_93c48_00008: both result.json and progress.csv were not found at c:/Users/LEGION/Documents/Msc Data Science - Uni of Exeter/ECMM451 - Data Science Research Project (2023)/workspace/ray_results/ResNet50GRU/trial_93c48_00008')\n",
      "- train_model_93c48_00009: FileNotFoundError('Could not fetch metrics for train_model_93c48_00009: both result.json and progress.csv were not found at c:/Users/LEGION/Documents/Msc Data Science - Uni of Exeter/ECMM451 - Data Science Research Project (2023)/workspace/ray_results/ResNet50GRU/trial_93c48_00009')\n",
      "- train_model_93c48_00010: FileNotFoundError('Could not fetch metrics for train_model_93c48_00010: both result.json and progress.csv were not found at c:/Users/LEGION/Documents/Msc Data Science - Uni of Exeter/ECMM451 - Data Science Research Project (2023)/workspace/ray_results/ResNet50GRU/trial_93c48_00010')\n",
      "- train_model_93c48_00011: FileNotFoundError('Could not fetch metrics for train_model_93c48_00011: both result.json and progress.csv were not found at c:/Users/LEGION/Documents/Msc Data Science - Uni of Exeter/ECMM451 - Data Science Research Project (2023)/workspace/ray_results/ResNet50GRU/trial_93c48_00011')\n",
      "- train_model_93c48_00012: FileNotFoundError('Could not fetch metrics for train_model_93c48_00012: both result.json and progress.csv were not found at c:/Users/LEGION/Documents/Msc Data Science - Uni of Exeter/ECMM451 - Data Science Research Project (2023)/workspace/ray_results/ResNet50GRU/trial_93c48_00012')\n",
      "- train_model_93c48_00013: FileNotFoundError('Could not fetch metrics for train_model_93c48_00013: both result.json and progress.csv were not found at c:/Users/LEGION/Documents/Msc Data Science - Uni of Exeter/ECMM451 - Data Science Research Project (2023)/workspace/ray_results/ResNet50GRU/trial_93c48_00013')\n",
      "- train_model_93c48_00014: FileNotFoundError('Could not fetch metrics for train_model_93c48_00014: both result.json and progress.csv were not found at c:/Users/LEGION/Documents/Msc Data Science - Uni of Exeter/ECMM451 - Data Science Research Project (2023)/workspace/ray_results/ResNet50GRU/trial_93c48_00014')\n",
      "- train_model_93c48_00015: FileNotFoundError('Could not fetch metrics for train_model_93c48_00015: both result.json and progress.csv were not found at c:/Users/LEGION/Documents/Msc Data Science - Uni of Exeter/ECMM451 - Data Science Research Project (2023)/workspace/ray_results/ResNet50GRU/trial_93c48_00015')\n",
      "- train_model_93c48_00016: FileNotFoundError('Could not fetch metrics for train_model_93c48_00016: both result.json and progress.csv were not found at c:/Users/LEGION/Documents/Msc Data Science - Uni of Exeter/ECMM451 - Data Science Research Project (2023)/workspace/ray_results/ResNet50GRU/trial_93c48_00016')\n",
      "- train_model_93c48_00017: FileNotFoundError('Could not fetch metrics for train_model_93c48_00017: both result.json and progress.csv were not found at c:/Users/LEGION/Documents/Msc Data Science - Uni of Exeter/ECMM451 - Data Science Research Project (2023)/workspace/ray_results/ResNet50GRU/trial_93c48_00017')\n",
      "- train_model_93c48_00018: FileNotFoundError('Could not fetch metrics for train_model_93c48_00018: both result.json and progress.csv were not found at c:/Users/LEGION/Documents/Msc Data Science - Uni of Exeter/ECMM451 - Data Science Research Project (2023)/workspace/ray_results/ResNet50GRU/trial_93c48_00018')\n",
      "- train_model_93c48_00019: FileNotFoundError('Could not fetch metrics for train_model_93c48_00019: both result.json and progress.csv were not found at c:/Users/LEGION/Documents/Msc Data Science - Uni of Exeter/ECMM451 - Data Science Research Project (2023)/workspace/ray_results/ResNet50GRU/trial_93c48_00019')\n",
      "- train_model_93c48_00020: FileNotFoundError('Could not fetch metrics for train_model_93c48_00020: both result.json and progress.csv were not found at c:/Users/LEGION/Documents/Msc Data Science - Uni of Exeter/ECMM451 - Data Science Research Project (2023)/workspace/ray_results/ResNet50GRU/trial_93c48_00020')\n",
      "- train_model_93c48_00021: FileNotFoundError('Could not fetch metrics for train_model_93c48_00021: both result.json and progress.csv were not found at c:/Users/LEGION/Documents/Msc Data Science - Uni of Exeter/ECMM451 - Data Science Research Project (2023)/workspace/ray_results/ResNet50GRU/trial_93c48_00021')\n",
      "- train_model_93c48_00022: FileNotFoundError('Could not fetch metrics for train_model_93c48_00022: both result.json and progress.csv were not found at c:/Users/LEGION/Documents/Msc Data Science - Uni of Exeter/ECMM451 - Data Science Research Project (2023)/workspace/ray_results/ResNet50GRU/trial_93c48_00022')\n",
      "- train_model_93c48_00023: FileNotFoundError('Could not fetch metrics for train_model_93c48_00023: both result.json and progress.csv were not found at c:/Users/LEGION/Documents/Msc Data Science - Uni of Exeter/ECMM451 - Data Science Research Project (2023)/workspace/ray_results/ResNet50GRU/trial_93c48_00023')\n",
      "- train_model_93c48_00024: FileNotFoundError('Could not fetch metrics for train_model_93c48_00024: both result.json and progress.csv were not found at c:/Users/LEGION/Documents/Msc Data Science - Uni of Exeter/ECMM451 - Data Science Research Project (2023)/workspace/ray_results/ResNet50GRU/trial_93c48_00024')\n",
      "2024-07-24 21:17:43,750\tWARNING experiment_analysis.py:558 -- Could not find best trial. Did you pass the correct `metric` parameter?\n"
     ]
    },
    {
     "ename": "RuntimeError",
     "evalue": "No best trial found for the given metric: loss. This means that no trial has reported this metric, or all values reported for this metric are NaN. To not ignore NaN values, you can set the `filter_nan_and_inf` arg to False.",
     "output_type": "error",
     "traceback": [
      "\u001b[1;31m---------------------------------------------------------------------------\u001b[0m",
      "\u001b[1;31mRuntimeError\u001b[0m                              Traceback (most recent call last)",
      "Cell \u001b[1;32mIn[22], line 1\u001b[0m\n\u001b[1;32m----> 1\u001b[0m \u001b[43mmytuner\u001b[49m\u001b[38;5;241;43m.\u001b[39;49m\u001b[43mmain\u001b[49m\u001b[43m(\u001b[49m\u001b[43mtrain_datasets\u001b[49m\u001b[43m,\u001b[49m\u001b[43m \u001b[49m\u001b[43mvalid_datasets\u001b[49m\u001b[43m,\u001b[49m\u001b[43m \u001b[49m\u001b[43mtest_datasets\u001b[49m\u001b[43m,\u001b[49m\u001b[43m \u001b[49m\u001b[43mnum_samples\u001b[49m\u001b[38;5;241;43m=\u001b[39;49m\u001b[38;5;241;43m25\u001b[39;49m\u001b[43m)\u001b[49m\n",
      "File \u001b[1;32mc:\\Users\\LEGION\\Documents\\Msc Data Science - Uni of Exeter\\ECMM451 - Data Science Research Project (2023)\\workspace\\src\\hyperparam.py:193\u001b[0m, in \u001b[0;36mRayTuning.main\u001b[1;34m(self, train_datasets, valid_datasets, test_dataset, num_samples, max_num_epochs)\u001b[0m\n\u001b[0;32m    174\u001b[0m tuner \u001b[38;5;241m=\u001b[39m tune\u001b[38;5;241m.\u001b[39mTuner(\n\u001b[0;32m    175\u001b[0m       tune\u001b[38;5;241m.\u001b[39mwith_resources(\n\u001b[0;32m    176\u001b[0m             tune\u001b[38;5;241m.\u001b[39mwith_parameters(\u001b[38;5;28mself\u001b[39m\u001b[38;5;241m.\u001b[39mtrain_model, \n\u001b[1;32m   (...)\u001b[0m\n\u001b[0;32m    189\u001b[0m       param_space\u001b[38;5;241m=\u001b[39m\u001b[38;5;28mself\u001b[39m\u001b[38;5;241m.\u001b[39mconfig\n\u001b[0;32m    190\u001b[0m )\n\u001b[0;32m    191\u001b[0m results \u001b[38;5;241m=\u001b[39m tuner\u001b[38;5;241m.\u001b[39mfit()\n\u001b[1;32m--> 193\u001b[0m best_result \u001b[38;5;241m=\u001b[39m \u001b[43mresults\u001b[49m\u001b[38;5;241;43m.\u001b[39;49m\u001b[43mget_best_result\u001b[49m\u001b[43m(\u001b[49m\u001b[38;5;124;43m\"\u001b[39;49m\u001b[38;5;124;43mloss\u001b[39;49m\u001b[38;5;124;43m\"\u001b[39;49m\u001b[43m,\u001b[49m\u001b[43m \u001b[49m\u001b[38;5;124;43m\"\u001b[39;49m\u001b[38;5;124;43mmin\u001b[39;49m\u001b[38;5;124;43m\"\u001b[39;49m\u001b[43m)\u001b[49m\n\u001b[0;32m    195\u001b[0m \u001b[38;5;28mprint\u001b[39m(\u001b[38;5;124m\"\u001b[39m\u001b[38;5;124mBest trial config: \u001b[39m\u001b[38;5;132;01m{}\u001b[39;00m\u001b[38;5;124m\"\u001b[39m\u001b[38;5;241m.\u001b[39mformat(best_result\u001b[38;5;241m.\u001b[39mconfig))\n\u001b[0;32m    196\u001b[0m \u001b[38;5;28mprint\u001b[39m(\u001b[38;5;124m\"\u001b[39m\u001b[38;5;124mBest trial final validation loss: \u001b[39m\u001b[38;5;132;01m{}\u001b[39;00m\u001b[38;5;124m\"\u001b[39m\u001b[38;5;241m.\u001b[39mformat(\n\u001b[0;32m    197\u001b[0m       best_result\u001b[38;5;241m.\u001b[39mmetrics[\u001b[38;5;124m\"\u001b[39m\u001b[38;5;124mloss\u001b[39m\u001b[38;5;124m\"\u001b[39m]))\n",
      "File \u001b[1;32mc:\\Users\\LEGION\\anaconda3\\envs\\torch-gpu\\lib\\site-packages\\ray\\tune\\result_grid.py:161\u001b[0m, in \u001b[0;36mResultGrid.get_best_result\u001b[1;34m(self, metric, mode, scope, filter_nan_and_inf)\u001b[0m\n\u001b[0;32m    150\u001b[0m     error_msg \u001b[38;5;241m=\u001b[39m (\n\u001b[0;32m    151\u001b[0m         \u001b[38;5;124m\"\u001b[39m\u001b[38;5;124mNo best trial found for the given metric: \u001b[39m\u001b[38;5;124m\"\u001b[39m\n\u001b[0;32m    152\u001b[0m         \u001b[38;5;124mf\u001b[39m\u001b[38;5;124m\"\u001b[39m\u001b[38;5;132;01m{\u001b[39;00mmetric\u001b[38;5;250m \u001b[39m\u001b[38;5;129;01mor\u001b[39;00m\u001b[38;5;250m \u001b[39m\u001b[38;5;28mself\u001b[39m\u001b[38;5;241m.\u001b[39m_experiment_analysis\u001b[38;5;241m.\u001b[39mdefault_metric\u001b[38;5;132;01m}\u001b[39;00m\u001b[38;5;124m. \u001b[39m\u001b[38;5;124m\"\u001b[39m\n\u001b[0;32m    153\u001b[0m         \u001b[38;5;124m\"\u001b[39m\u001b[38;5;124mThis means that no trial has reported this metric\u001b[39m\u001b[38;5;124m\"\u001b[39m\n\u001b[0;32m    154\u001b[0m     )\n\u001b[0;32m    155\u001b[0m     error_msg \u001b[38;5;241m+\u001b[39m\u001b[38;5;241m=\u001b[39m (\n\u001b[0;32m    156\u001b[0m         \u001b[38;5;124m\"\u001b[39m\u001b[38;5;124m, or all values reported for this metric are NaN. To not ignore NaN \u001b[39m\u001b[38;5;124m\"\u001b[39m\n\u001b[0;32m    157\u001b[0m         \u001b[38;5;124m\"\u001b[39m\u001b[38;5;124mvalues, you can set the `filter_nan_and_inf` arg to False.\u001b[39m\u001b[38;5;124m\"\u001b[39m\n\u001b[0;32m    158\u001b[0m         \u001b[38;5;28;01mif\u001b[39;00m filter_nan_and_inf\n\u001b[0;32m    159\u001b[0m         \u001b[38;5;28;01melse\u001b[39;00m \u001b[38;5;124m\"\u001b[39m\u001b[38;5;124m.\u001b[39m\u001b[38;5;124m\"\u001b[39m\n\u001b[0;32m    160\u001b[0m     )\n\u001b[1;32m--> 161\u001b[0m     \u001b[38;5;28;01mraise\u001b[39;00m \u001b[38;5;167;01mRuntimeError\u001b[39;00m(error_msg)\n\u001b[0;32m    163\u001b[0m \u001b[38;5;28;01mreturn\u001b[39;00m \u001b[38;5;28mself\u001b[39m\u001b[38;5;241m.\u001b[39m_trial_to_result(best_trial)\n",
      "\u001b[1;31mRuntimeError\u001b[0m: No best trial found for the given metric: loss. This means that no trial has reported this metric, or all values reported for this metric are NaN. To not ignore NaN values, you can set the `filter_nan_and_inf` arg to False."
     ]
    },
    {
     "name": "stderr",
     "output_type": "stream",
     "text": [
      "\u001b[36m(train_model pid=19560)\u001b[0m Traceback (most recent call last):\n",
      "\u001b[36m(train_model pid=19560)\u001b[0m   File \"<string>\", line 1, in <module>\n",
      "\u001b[36m(train_model pid=19560)\u001b[0m   File \"c:\\Users\\LEGION\\anaconda3\\envs\\torch-gpu\\lib\\multiprocessing\\spawn.py\", line 116, in spawn_main\n",
      "\u001b[36m(train_model pid=19560)\u001b[0m     exitcode = _main(fd, parent_sentinel)\n",
      "\u001b[36m(train_model pid=19560)\u001b[0m   File \"c:\\Users\\LEGION\\anaconda3\\envs\\torch-gpu\\lib\\multiprocessing\\spawn.py\", line 126, in _main\n",
      "\u001b[36m(train_model pid=19560)\u001b[0m     self = reduction.pickle.load(from_parent)\n",
      "\u001b[36m(train_model pid=19560)\u001b[0m EOFError: Ran out of input\n"
     ]
    }
   ],
   "source": [
    "mytuner.main(train_datasets, valid_datasets, test_datasets, num_samples=25)"
   ]
  }
 ],
 "metadata": {
  "kernelspec": {
   "display_name": "torch-gpu",
   "language": "python",
   "name": "python3"
  },
  "language_info": {
   "codemirror_mode": {
    "name": "ipython",
    "version": 3
   },
   "file_extension": ".py",
   "mimetype": "text/x-python",
   "name": "python",
   "nbconvert_exporter": "python",
   "pygments_lexer": "ipython3",
   "version": "3.10.13"
  }
 },
 "nbformat": 4,
 "nbformat_minor": 2
}
