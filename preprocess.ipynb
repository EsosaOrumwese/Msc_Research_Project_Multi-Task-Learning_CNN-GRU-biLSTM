{
 "cells": [
  {
   "cell_type": "markdown",
   "metadata": {},
   "source": [
    "## Extracting LSTM features and Feature Maps from the main data\n",
    "To better understand the code, check out `./prep_files/preprocessing_synced_for_MTL.ipynb`. That notebook explains the thought process behind this code on a sample dataset whilst this goes straight to the point."
   ]
  },
  {
   "cell_type": "code",
   "execution_count": 1,
   "metadata": {},
   "outputs": [],
   "source": [
    "import pandas as pd\n",
    "import numpy as np\n",
    "import src.preprocess\n",
    "from src.preprocess import LSTM_featureExtractor, Prep_data_for_CNN"
   ]
  },
  {
   "cell_type": "code",
   "execution_count": 2,
   "metadata": {},
   "outputs": [],
   "source": [
    "data = pd.read_csv('./data/concat_users.csv')"
   ]
  },
  {
   "cell_type": "code",
   "execution_count": 3,
   "metadata": {},
   "outputs": [
    {
     "data": {
      "text/plain": [
       "User   Position\n",
       "User1  Bag         304434\n",
       "       Hand        304438\n",
       "       Hips        304434\n",
       "       Torso       304430\n",
       "User2  Bag         372171\n",
       "       Hand        372170\n",
       "       Hips        372172\n",
       "       Torso       372177\n",
       "User3  Bag         347627\n",
       "       Hand        347627\n",
       "       Hips        347627\n",
       "       Torso       347626\n",
       "Name: Segment, dtype: int64"
      ]
     },
     "execution_count": 3,
     "metadata": {},
     "output_type": "execute_result"
    }
   ],
   "source": [
    "data.groupby(['User', 'Position'])['Segment'].count()"
   ]
  },
  {
   "cell_type": "code",
   "execution_count": 7,
   "metadata": {},
   "outputs": [],
   "source": [
    "sub_segmented_data = src.preprocess.create_sub_segments(data, window_size=112, overlap=0.5)\n",
    "sub_segmented_data.to_csv('./data/sub_segmented_data.csv', index=False, header=True)"
   ]
  },
  {
   "cell_type": "code",
   "execution_count": 10,
   "metadata": {},
   "outputs": [],
   "source": [
    "del data, sub_segmented_data"
   ]
  },
  {
   "cell_type": "markdown",
   "metadata": {},
   "source": [
    "-----"
   ]
  },
  {
   "cell_type": "code",
   "execution_count": 12,
   "metadata": {},
   "outputs": [],
   "source": [
    "subbed_data = pd.read_csv('./data/sub_segmented_data.csv')"
   ]
  },
  {
   "cell_type": "code",
   "execution_count": 13,
   "metadata": {},
   "outputs": [
    {
     "name": "stdout",
     "output_type": "stream",
     "text": [
      "<class 'pandas.core.frame.DataFrame'>\n",
      "RangeIndex: 8092672 entries, 0 to 8092671\n",
      "Data columns (total 18 columns):\n",
      " #   Column          Dtype  \n",
      "---  ------          -----  \n",
      " 0   time_ms         float64\n",
      " 1   acceleration_x  float64\n",
      " 2   acceleration_y  float64\n",
      " 3   acceleration_z  float64\n",
      " 4   gyroscope_x     float64\n",
      " 5   gyroscope_y     float64\n",
      " 6   gyroscope_z     float64\n",
      " 7   orientation_w   float64\n",
      " 8   orientation_x   float64\n",
      " 9   orientation_y   float64\n",
      " 10  orientation_z   float64\n",
      " 11  Date            int64  \n",
      " 12  Position        object \n",
      " 13  Coarse_label    float64\n",
      " 14  Fine_label      float64\n",
      " 15  Segment         int64  \n",
      " 16  User            object \n",
      " 17  Sub_Segment     int64  \n",
      "dtypes: float64(13), int64(3), object(2)\n",
      "memory usage: 1.1+ GB\n"
     ]
    }
   ],
   "source": [
    "subbed_data.info()"
   ]
  },
  {
   "cell_type": "markdown",
   "metadata": {},
   "source": [
    "### Feature Extraction for LSTM"
   ]
  },
  {
   "cell_type": "code",
   "execution_count": 14,
   "metadata": {},
   "outputs": [],
   "source": [
    "lstm_featExtract = LSTM_featureExtractor(subbed_data, num_features=6, window=112)"
   ]
  },
  {
   "cell_type": "code",
   "execution_count": 15,
   "metadata": {},
   "outputs": [],
   "source": [
    "lstm_features, lstm_labels = lstm_featExtract.feature_extractor(start=0)"
   ]
  },
  {
   "cell_type": "code",
   "execution_count": 18,
   "metadata": {},
   "outputs": [],
   "source": [
    "np.save('./data/lstm_features_labels/full_lstm_features.npy', lstm_features)\n",
    "np.save('./data/lstm_features_labels/full_lstm_labels.npy', lstm_labels)"
   ]
  },
  {
   "cell_type": "code",
   "execution_count": 19,
   "metadata": {},
   "outputs": [
    {
     "name": "stdout",
     "output_type": "stream",
     "text": [
      "(72256, 112, 6)\n",
      "(72256,)\n"
     ]
    }
   ],
   "source": [
    "print(lstm_features.shape)  # Should be (num_samples, window, num_features)\n",
    "print(lstm_labels.shape)    # Should be (num_samples,)"
   ]
  },
  {
   "cell_type": "code",
   "execution_count": 20,
   "metadata": {},
   "outputs": [],
   "source": [
    "del lstm_features, lstm_labels"
   ]
  },
  {
   "cell_type": "markdown",
   "metadata": {},
   "source": [
    "### Feature Extraction for CNN-RNN"
   ]
  },
  {
   "cell_type": "code",
   "execution_count": 21,
   "metadata": {},
   "outputs": [
    {
     "data": {
      "text/html": [
       "<div>\n",
       "<style scoped>\n",
       "    .dataframe tbody tr th:only-of-type {\n",
       "        vertical-align: middle;\n",
       "    }\n",
       "\n",
       "    .dataframe tbody tr th {\n",
       "        vertical-align: top;\n",
       "    }\n",
       "\n",
       "    .dataframe thead th {\n",
       "        text-align: right;\n",
       "    }\n",
       "</style>\n",
       "<table border=\"1\" class=\"dataframe\">\n",
       "  <thead>\n",
       "    <tr style=\"text-align: right;\">\n",
       "      <th></th>\n",
       "      <th></th>\n",
       "      <th>Sub_Segment</th>\n",
       "    </tr>\n",
       "    <tr>\n",
       "      <th>User</th>\n",
       "      <th>Segment</th>\n",
       "      <th></th>\n",
       "    </tr>\n",
       "  </thead>\n",
       "  <tbody>\n",
       "    <tr>\n",
       "      <th rowspan=\"4\" valign=\"top\">User1</th>\n",
       "      <th>5</th>\n",
       "      <td>35728</td>\n",
       "    </tr>\n",
       "    <tr>\n",
       "      <th>7</th>\n",
       "      <td>33040</td>\n",
       "    </tr>\n",
       "    <tr>\n",
       "      <th>9</th>\n",
       "      <td>18928</td>\n",
       "    </tr>\n",
       "    <tr>\n",
       "      <th>12</th>\n",
       "      <td>11088</td>\n",
       "    </tr>\n",
       "    <tr>\n",
       "      <th rowspan=\"5\" valign=\"top\">User2</th>\n",
       "      <th>64</th>\n",
       "      <td>67088</td>\n",
       "    </tr>\n",
       "    <tr>\n",
       "      <th>66</th>\n",
       "      <td>14672</td>\n",
       "    </tr>\n",
       "    <tr>\n",
       "      <th>70</th>\n",
       "      <td>26880</td>\n",
       "    </tr>\n",
       "    <tr>\n",
       "      <th>73</th>\n",
       "      <td>27440</td>\n",
       "    </tr>\n",
       "    <tr>\n",
       "      <th>75</th>\n",
       "      <td>17584</td>\n",
       "    </tr>\n",
       "    <tr>\n",
       "      <th>User3</th>\n",
       "      <th>22</th>\n",
       "      <td>50288</td>\n",
       "    </tr>\n",
       "  </tbody>\n",
       "</table>\n",
       "</div>"
      ],
      "text/plain": [
       "               Sub_Segment\n",
       "User  Segment             \n",
       "User1 5              35728\n",
       "      7              33040\n",
       "      9              18928\n",
       "      12             11088\n",
       "User2 64             67088\n",
       "      66             14672\n",
       "      70             26880\n",
       "      73             27440\n",
       "      75             17584\n",
       "User3 22             50288"
      ]
     },
     "execution_count": 21,
     "metadata": {},
     "output_type": "execute_result"
    }
   ],
   "source": [
    "subbed_data.query(\"Coarse_label == 5.0 & Position=='Hand'\").groupby(['User','Segment'])[['Sub_Segment']].count()"
   ]
  },
  {
   "cell_type": "markdown",
   "metadata": {},
   "source": [
    "This data has 3 drivers whilst my sample had 2."
   ]
  },
  {
   "cell_type": "code",
   "execution_count": 22,
   "metadata": {},
   "outputs": [
    {
     "data": {
      "text/html": [
       "<div>\n",
       "<style scoped>\n",
       "    .dataframe tbody tr th:only-of-type {\n",
       "        vertical-align: middle;\n",
       "    }\n",
       "\n",
       "    .dataframe tbody tr th {\n",
       "        vertical-align: top;\n",
       "    }\n",
       "\n",
       "    .dataframe thead th {\n",
       "        text-align: right;\n",
       "    }\n",
       "</style>\n",
       "<table border=\"1\" class=\"dataframe\">\n",
       "  <thead>\n",
       "    <tr style=\"text-align: right;\">\n",
       "      <th></th>\n",
       "      <th>Segment</th>\n",
       "      <th>Sub_Segment</th>\n",
       "    </tr>\n",
       "    <tr>\n",
       "      <th>User</th>\n",
       "      <th></th>\n",
       "      <th></th>\n",
       "    </tr>\n",
       "  </thead>\n",
       "  <tbody>\n",
       "    <tr>\n",
       "      <th>User1</th>\n",
       "      <td>4</td>\n",
       "      <td>882</td>\n",
       "    </tr>\n",
       "    <tr>\n",
       "      <th>User2</th>\n",
       "      <td>5</td>\n",
       "      <td>1372</td>\n",
       "    </tr>\n",
       "    <tr>\n",
       "      <th>User3</th>\n",
       "      <td>1</td>\n",
       "      <td>449</td>\n",
       "    </tr>\n",
       "  </tbody>\n",
       "</table>\n",
       "</div>"
      ],
      "text/plain": [
       "       Segment  Sub_Segment\n",
       "User                       \n",
       "User1        4          882\n",
       "User2        5         1372\n",
       "User3        1          449"
      ]
     },
     "execution_count": 22,
     "metadata": {},
     "output_type": "execute_result"
    }
   ],
   "source": [
    "subbed_data.query(\"Coarse_label == 5.0\").groupby('User')[['Segment','Sub_Segment']].nunique()"
   ]
  },
  {
   "cell_type": "code",
   "execution_count": 29,
   "metadata": {},
   "outputs": [],
   "source": [
    "windowed_df = Prep_data_for_CNN().get_window_df_from_dir('./data/sub_segmented_data.csv',\n",
    "                                                         prep_for_FMAPextract=False)"
   ]
  },
  {
   "cell_type": "markdown",
   "metadata": {},
   "source": [
    "time it took: `304m 0.5s`"
   ]
  },
  {
   "cell_type": "code",
   "execution_count": 30,
   "metadata": {},
   "outputs": [],
   "source": [
    "windowed_df.to_csv('./data/windowed_df.csv', index=False, header=True)"
   ]
  },
  {
   "cell_type": "markdown",
   "metadata": {},
   "source": [
    "I should have set `prep_for_FMAPextract=True` because I need the full windowed_df to be able to split it into train and test without leaking data into the SimpleCNN. I'll do it manually."
   ]
  },
  {
   "cell_type": "code",
   "execution_count": 31,
   "metadata": {},
   "outputs": [
    {
     "data": {
      "text/plain": [
       "36304"
      ]
     },
     "execution_count": 31,
     "metadata": {},
     "output_type": "execute_result"
    }
   ],
   "source": [
    "len(windowed_df)"
   ]
  },
  {
   "cell_type": "code",
   "execution_count": 33,
   "metadata": {},
   "outputs": [],
   "source": [
    "windowed_df['user'] = windowed_df['user_act'].values\n",
    "del windowed_df['user_act']"
   ]
  },
  {
   "cell_type": "code",
   "execution_count": 36,
   "metadata": {},
   "outputs": [],
   "source": [
    "windowed_df = Prep_data_for_CNN().prep_for_FMAPextract(subbed_data, windowed_df)\n",
    "\n",
    "# change other labels to `Not_driving`  (a dummy label)\n",
    "windowed_df['user_act'] = windowed_df['user'].values\n",
    "idx_users = windowed_df.query('coarse_label == 5.0').index\n",
    "df_with_drivers = windowed_df.index.isin(idx_users)\n",
    "windowed_df.loc[~df_with_drivers, 'user'] = 'Not_driving'"
   ]
  },
  {
   "cell_type": "code",
   "execution_count": 37,
   "metadata": {},
   "outputs": [],
   "source": [
    "windowed_df.to_csv('./data/full_windowed_df.csv', index=False, header=True)"
   ]
  },
  {
   "cell_type": "code",
   "execution_count": 38,
   "metadata": {},
   "outputs": [
    {
     "data": {
      "text/plain": [
       "72256"
      ]
     },
     "execution_count": 38,
     "metadata": {},
     "output_type": "execute_result"
    }
   ],
   "source": [
    "len(windowed_df)"
   ]
  },
  {
   "cell_type": "markdown",
   "metadata": {},
   "source": [
    "----\n",
    "\n",
    "This `full_windowed_df` is made up of duplicates and interpolated data. As a result, I'll need to take 80:20 of the duplicates (original and corr dupe) as well as 80:20 of interpolated data."
   ]
  },
  {
   "cell_type": "code",
   "execution_count": 2,
   "metadata": {},
   "outputs": [],
   "source": [
    "def converter(instr):\n",
    "    return np.fromstring(instr[1:-1],sep=' ')\n",
    "\n",
    "windowed_df = pd.read_csv(\n",
    "    './data/full_windowed_df.csv',\n",
    "    converters={\n",
    "        'long_acc_window': converter,\n",
    "        'tranv_acc_window': converter,\n",
    "        'ang_vel_window': converter\n",
    "    }\n",
    ")"
   ]
  },
  {
   "cell_type": "code",
   "execution_count": 3,
   "metadata": {},
   "outputs": [
    {
     "data": {
      "text/plain": [
       "Index(['user', 'coarse_label', 'segment', 'position', 'window_index',\n",
       "       'long_acc_window', 'tranv_acc_window', 'ang_vel_window', 'Interp_Flag',\n",
       "       'Dupl_Flag', 'Train_Flag', 'user_act'],\n",
       "      dtype='object')"
      ]
     },
     "execution_count": 3,
     "metadata": {},
     "output_type": "execute_result"
    }
   ],
   "source": [
    "windowed_df.columns"
   ]
  },
  {
   "cell_type": "code",
   "execution_count": 4,
   "metadata": {},
   "outputs": [],
   "source": [
    "idx_non_dupe = windowed_df.query(\"Dupl_Flag==0 & Interp_Flag==0\").index\n",
    "idx_interp = windowed_df.query(\"Dupl_Flag==0 & Interp_Flag==1\").index"
   ]
  },
  {
   "cell_type": "markdown",
   "metadata": {},
   "source": [
    "For each non_dupe, it's corresponding duplicate is the next idx"
   ]
  },
  {
   "cell_type": "markdown",
   "metadata": {},
   "source": [
    "Get training and test index"
   ]
  },
  {
   "cell_type": "code",
   "execution_count": 5,
   "metadata": {},
   "outputs": [],
   "source": [
    "from sklearn.model_selection import train_test_split"
   ]
  },
  {
   "cell_type": "code",
   "execution_count": 6,
   "metadata": {},
   "outputs": [],
   "source": [
    "tr_idx_nondupe, test_idx_nondupe = train_test_split(idx_non_dupe,\n",
    "                                                    test_size=0.2,\n",
    "                                                    stratify=windowed_df.loc[idx_non_dupe, 'user_act'].values,\n",
    "                                                    random_state=42)\n",
    "\n",
    "tr_idx_interp, test_idx_interp = train_test_split(idx_interp,\n",
    "                                                  test_size=0.2,\n",
    "                                                  stratify=windowed_df.loc[idx_interp, 'user_act'].values,\n",
    "                                                  random_state=42)"
   ]
  },
  {
   "cell_type": "code",
   "execution_count": 7,
   "metadata": {},
   "outputs": [],
   "source": [
    "# get the idx for the duplicates\n",
    "tr_idx_dupe = tr_idx_nondupe+1\n",
    "test_idx_dupe = test_idx_nondupe+1"
   ]
  },
  {
   "cell_type": "code",
   "execution_count": 8,
   "metadata": {},
   "outputs": [],
   "source": [
    "train_idx = np.concatenate([tr_idx_nondupe, tr_idx_dupe, tr_idx_interp], axis=None)\n",
    "test_idx = np.concatenate([test_idx_nondupe, test_idx_dupe, test_idx_interp], axis=None)"
   ]
  },
  {
   "cell_type": "code",
   "execution_count": 9,
   "metadata": {},
   "outputs": [],
   "source": [
    "## subsetting only the training data\n",
    "windowed_df = windowed_df.loc[train_idx, :]"
   ]
  },
  {
   "cell_type": "markdown",
   "metadata": {},
   "source": [
    "Begin hyperparam tuning for SimpleCNN"
   ]
  },
  {
   "cell_type": "code",
   "execution_count": 10,
   "metadata": {},
   "outputs": [],
   "source": [
    "X, y, uniq = Prep_data_for_CNN().prep_input_for_CNN(windowed_df)"
   ]
  },
  {
   "cell_type": "code",
   "execution_count": 11,
   "metadata": {},
   "outputs": [
    {
     "data": {
      "text/plain": [
       "(array(['Not_driving', 'User1', 'User2', 'User3'], dtype='<U11'),\n",
       " array([0, 1, 2, 3], dtype=int64))"
      ]
     },
     "execution_count": 11,
     "metadata": {},
     "output_type": "execute_result"
    }
   ],
   "source": [
    "uniq, np.unique(y)"
   ]
  },
  {
   "cell_type": "code",
   "execution_count": 12,
   "metadata": {},
   "outputs": [],
   "source": [
    "from sklearn.model_selection import train_test_split\n",
    "from sklearn.utils.class_weight import compute_class_weight\n",
    "\n",
    "import torch\n",
    "import torch.nn as nn\n",
    "import torch.optim as optim\n",
    "from torch.utils.data import DataLoader"
   ]
  },
  {
   "cell_type": "code",
   "execution_count": 13,
   "metadata": {},
   "outputs": [
    {
     "data": {
      "text/plain": [
       "(57803, 3, 224)"
      ]
     },
     "execution_count": 13,
     "metadata": {},
     "output_type": "execute_result"
    }
   ],
   "source": [
    "X.shape"
   ]
  },
  {
   "cell_type": "code",
   "execution_count": 14,
   "metadata": {},
   "outputs": [],
   "source": [
    "# Perform a train-test split\n",
    "np.random.seed(42)\n",
    "X_tr, X_test, y_tr, y_test = train_test_split(X, y, test_size=0.2, stratify=y)\n",
    "X_train, X_valid, y_train, y_valid = train_test_split(X_tr, y_tr, test_size=0.2, stratify=y_tr)\n",
    "\n",
    "class_weights = torch.tensor(compute_class_weight('balanced', classes=np.unique(y_train), y=y_train), dtype=torch.float32)\n",
    "class_weights = class_weights.to(torch.device(\"cuda\" if torch.cuda.is_available() else \"cpu\"))\n",
    "\n",
    "# normalizing X\n",
    "mean = X_train.mean(axis=(0, 2), keepdims=True)\n",
    "std = X_train.std(axis=(0, 2), keepdims=True)\n",
    "\n",
    "X_train = (X_train - mean) / std\n",
    "X_valid = (X_valid - mean) / std\n",
    "X_test = (X_test - mean) / std"
   ]
  },
  {
   "cell_type": "code",
   "execution_count": 15,
   "metadata": {},
   "outputs": [],
   "source": [
    "from src.dataset import SignalsDataset"
   ]
  },
  {
   "cell_type": "code",
   "execution_count": 16,
   "metadata": {},
   "outputs": [],
   "source": [
    "# Create datasets for each feature\n",
    "feature_indices = {'long_acc': 0, 'tranv_acc': 1, 'ang_vel': 2}\n",
    "\n",
    "train_datasets = {feature: SignalsDataset(X_train, y_train, idx) for feature, idx in feature_indices.items()}\n",
    "valid_datasets = {feature: SignalsDataset(X_valid, y_valid, idx) for feature, idx in feature_indices.items()}\n",
    "test_datasets = {feature: SignalsDataset(X_test, y_test, idx) for feature, idx in feature_indices.items()}"
   ]
  },
  {
   "cell_type": "code",
   "execution_count": 44,
   "metadata": {},
   "outputs": [
    {
     "data": {
      "text/html": [
       "<link rel=\"stylesheet\" type=\"text/css\" href=\"./custom.css\">"
      ],
      "text/plain": [
       "<IPython.core.display.HTML object>"
      ]
     },
     "metadata": {},
     "output_type": "display_data"
    }
   ],
   "source": [
    "from src.engine import simpleCNN_engine\n",
    "from src.model_simpleCNN import SimpleCNN\n",
    "from src.dataset import SignalsDataset\n",
    "from src.preprocess import Prep_data_for_CNN\n",
    "from src.hyperparam import RayTuning\n",
    "from ray import tune, train\n",
    "\n",
    "from IPython.display import display, HTML\n",
    "\n",
    "# Load custom CSS file\n",
    "css = HTML('<link rel=\"stylesheet\" type=\"text/css\" href=\"./custom.css\">')  # Ensure the path is correct\n",
    "display(css)"
   ]
  },
  {
   "cell_type": "code",
   "execution_count": 46,
   "metadata": {},
   "outputs": [
    {
     "data": {
      "text/plain": [
       "SimpleCNN(\n",
       "  (conv1): Conv1d(1, 224, kernel_size=(3,), stride=(1,), padding=(1,))\n",
       "  (conv2): Conv2d(224, 224, kernel_size=(3, 3), stride=(1, 1), padding=(1, 1))\n",
       "  (flatten): Flatten(start_dim=1, end_dim=-1)\n",
       "  (fc): Linear(in_features=50176, out_features=4, bias=True)\n",
       ")"
      ]
     },
     "execution_count": 46,
     "metadata": {},
     "output_type": "execute_result"
    }
   ],
   "source": [
    "SimpleCNN()"
   ]
  },
  {
   "cell_type": "markdown",
   "metadata": {},
   "source": [
    "Hyperparam Tuning - Long Model"
   ]
  },
  {
   "cell_type": "code",
   "execution_count": 47,
   "metadata": {},
   "outputs": [],
   "source": [
    "# Enhanced Hyperparameter search space\n",
    "config = {\n",
    "    \"optimizer\": tune.choice([\"adam\"]),\n",
    "    \"lr\": tune.loguniform(1e-4, 1e-1),\n",
    "    \"scheduler\": tune.choice([\"exp\"]),\n",
    "    \"gamma\": tune.uniform(0.1, 0.9),\n",
    "    \"epochs\": tune.choice([30]),\n",
    "    \"batch_size\": tune.choice([32])\n",
    "}\n",
    "\n",
    "criterion = nn.CrossEntropyLoss(weight=class_weights)\n",
    "save_dir = 'SimpleCNN_long'\n",
    "model = SimpleCNN\n",
    "modelType = 'SimpleCNN'\n",
    "engine = simpleCNN_engine"
   ]
  },
  {
   "cell_type": "code",
   "execution_count": 48,
   "metadata": {},
   "outputs": [],
   "source": [
    "mytuner = RayTuning(config, save_dir, criterion, model, modelType, engine)"
   ]
  },
  {
   "cell_type": "code",
   "execution_count": 49,
   "metadata": {},
   "outputs": [
    {
     "data": {
      "text/html": [
       "<div class=\"tuneStatus\">\n",
       "  <div style=\"display: flex;flex-direction: row\">\n",
       "    <div style=\"display: flex;flex-direction: column;\">\n",
       "      <h3>Tune Status</h3>\n",
       "      <table>\n",
       "<tbody>\n",
       "<tr><td>Current time:</td><td>2024-07-23 03:45:02</td></tr>\n",
       "<tr><td>Running for: </td><td>01:12:58.38        </td></tr>\n",
       "<tr><td>Memory:      </td><td>9.3/13.9 GiB       </td></tr>\n",
       "</tbody>\n",
       "</table>\n",
       "    </div>\n",
       "    <div class=\"vDivider\"></div>\n",
       "    <div class=\"systemInfo\">\n",
       "      <h3>System Info</h3>\n",
       "      Using AsyncHyperBand: num_stopped=25<br>Bracket: Iter 8.000: -1.2202841717621375 | Iter 4.000: -1.280266247370184 | Iter 2.000: -1.2926895762312 | Iter 1.000: -1.3686690803231865<br>Logical resource usage: 2.0/16 CPUs, 1.0/1 GPUs (0.0/1.0 accelerator_type:G)\n",
       "    </div>\n",
       "    \n",
       "  </div>\n",
       "  <div class=\"hDivider\"></div>\n",
       "  <div class=\"trialStatus\">\n",
       "    <h3>Trial Status</h3>\n",
       "    <table>\n",
       "<thead>\n",
       "<tr><th>Trial name             </th><th>status    </th><th>loc            </th><th style=\"text-align: right;\">  batch_size</th><th style=\"text-align: right;\">  epochs</th><th style=\"text-align: right;\">   gamma</th><th style=\"text-align: right;\">         lr</th><th>optimizer  </th><th>scheduler  </th><th style=\"text-align: right;\">  iter</th><th style=\"text-align: right;\">  total time (s)</th><th style=\"text-align: right;\">   loss</th><th style=\"text-align: right;\">  accuracy</th></tr>\n",
       "</thead>\n",
       "<tbody>\n",
       "<tr><td>train_model_5d70b_00000</td><td>TERMINATED</td><td>127.0.0.1:21856</td><td style=\"text-align: right;\">          32</td><td style=\"text-align: right;\">      30</td><td style=\"text-align: right;\">0.302558</td><td style=\"text-align: right;\">0.000102853</td><td>adam       </td><td>exp        </td><td style=\"text-align: right;\">    10</td><td style=\"text-align: right;\">        587.169 </td><td style=\"text-align: right;\">1.28162</td><td style=\"text-align: right;\">  44.4264 </td></tr>\n",
       "<tr><td>train_model_5d70b_00001</td><td>TERMINATED</td><td>127.0.0.1:17920</td><td style=\"text-align: right;\">          32</td><td style=\"text-align: right;\">      30</td><td style=\"text-align: right;\">0.390226</td><td style=\"text-align: right;\">0.00146898 </td><td>adam       </td><td>exp        </td><td style=\"text-align: right;\">     1</td><td style=\"text-align: right;\">         57.4626</td><td style=\"text-align: right;\">1.30992</td><td style=\"text-align: right;\">  35.4525 </td></tr>\n",
       "<tr><td>train_model_5d70b_00002</td><td>TERMINATED</td><td>127.0.0.1:13732</td><td style=\"text-align: right;\">          32</td><td style=\"text-align: right;\">      30</td><td style=\"text-align: right;\">0.555205</td><td style=\"text-align: right;\">0.031755   </td><td>adam       </td><td>exp        </td><td style=\"text-align: right;\">     1</td><td style=\"text-align: right;\">         56.9971</td><td style=\"text-align: right;\">1.3859 </td><td style=\"text-align: right;\">  84.9605 </td></tr>\n",
       "<tr><td>train_model_5d70b_00003</td><td>TERMINATED</td><td>127.0.0.1:31384</td><td style=\"text-align: right;\">          32</td><td style=\"text-align: right;\">      30</td><td style=\"text-align: right;\">0.265339</td><td style=\"text-align: right;\">0.0091475  </td><td>adam       </td><td>exp        </td><td style=\"text-align: right;\">     1</td><td style=\"text-align: right;\">         56.6945</td><td style=\"text-align: right;\">1.37079</td><td style=\"text-align: right;\">  84.9281 </td></tr>\n",
       "<tr><td>train_model_5d70b_00004</td><td>TERMINATED</td><td>127.0.0.1:24000</td><td style=\"text-align: right;\">          32</td><td style=\"text-align: right;\">      30</td><td style=\"text-align: right;\">0.691103</td><td style=\"text-align: right;\">0.000318322</td><td>adam       </td><td>exp        </td><td style=\"text-align: right;\">    10</td><td style=\"text-align: right;\">        580.986 </td><td style=\"text-align: right;\">1.16628</td><td style=\"text-align: right;\">  69.5318 </td></tr>\n",
       "<tr><td>train_model_5d70b_00005</td><td>TERMINATED</td><td>127.0.0.1:26416</td><td style=\"text-align: right;\">          32</td><td style=\"text-align: right;\">      30</td><td style=\"text-align: right;\">0.207729</td><td style=\"text-align: right;\">0.000192649</td><td>adam       </td><td>exp        </td><td style=\"text-align: right;\">     1</td><td style=\"text-align: right;\">         58.6114</td><td style=\"text-align: right;\">1.34617</td><td style=\"text-align: right;\">  25.0946 </td></tr>\n",
       "<tr><td>train_model_5d70b_00006</td><td>TERMINATED</td><td>127.0.0.1:26308</td><td style=\"text-align: right;\">          32</td><td style=\"text-align: right;\">      30</td><td style=\"text-align: right;\">0.486288</td><td style=\"text-align: right;\">0.0453823  </td><td>adam       </td><td>exp        </td><td style=\"text-align: right;\">     1</td><td style=\"text-align: right;\">         57.0938</td><td style=\"text-align: right;\">1.38103</td><td style=\"text-align: right;\">  84.9605 </td></tr>\n",
       "<tr><td>train_model_5d70b_00007</td><td>TERMINATED</td><td>127.0.0.1:6732 </td><td style=\"text-align: right;\">          32</td><td style=\"text-align: right;\">      30</td><td style=\"text-align: right;\">0.504451</td><td style=\"text-align: right;\">0.0358465  </td><td>adam       </td><td>exp        </td><td style=\"text-align: right;\">     1</td><td style=\"text-align: right;\">         57.1358</td><td style=\"text-align: right;\">1.38955</td><td style=\"text-align: right;\">   9.94702</td></tr>\n",
       "<tr><td>train_model_5d70b_00008</td><td>TERMINATED</td><td>127.0.0.1:26928</td><td style=\"text-align: right;\">          32</td><td style=\"text-align: right;\">      30</td><td style=\"text-align: right;\">0.750995</td><td style=\"text-align: right;\">0.0720137  </td><td>adam       </td><td>exp        </td><td style=\"text-align: right;\">     1</td><td style=\"text-align: right;\">         57.3036</td><td style=\"text-align: right;\">1.38888</td><td style=\"text-align: right;\">  84.9605 </td></tr>\n",
       "<tr><td>train_model_5d70b_00009</td><td>TERMINATED</td><td>127.0.0.1:9316 </td><td style=\"text-align: right;\">          32</td><td style=\"text-align: right;\">      30</td><td style=\"text-align: right;\">0.133793</td><td style=\"text-align: right;\">0.00938148 </td><td>adam       </td><td>exp        </td><td style=\"text-align: right;\">     2</td><td style=\"text-align: right;\">        115.988 </td><td style=\"text-align: right;\">1.37066</td><td style=\"text-align: right;\">  84.5713 </td></tr>\n",
       "<tr><td>train_model_5d70b_00010</td><td>TERMINATED</td><td>127.0.0.1:2620 </td><td style=\"text-align: right;\">          32</td><td style=\"text-align: right;\">      30</td><td style=\"text-align: right;\">0.835331</td><td style=\"text-align: right;\">0.027964   </td><td>adam       </td><td>exp        </td><td style=\"text-align: right;\">     1</td><td style=\"text-align: right;\">         59.5107</td><td style=\"text-align: right;\">1.38202</td><td style=\"text-align: right;\">  84.9605 </td></tr>\n",
       "<tr><td>train_model_5d70b_00011</td><td>TERMINATED</td><td>127.0.0.1:25492</td><td style=\"text-align: right;\">          32</td><td style=\"text-align: right;\">      30</td><td style=\"text-align: right;\">0.443357</td><td style=\"text-align: right;\">0.040749   </td><td>adam       </td><td>exp        </td><td style=\"text-align: right;\">     1</td><td style=\"text-align: right;\">         58.8114</td><td style=\"text-align: right;\">1.39811</td><td style=\"text-align: right;\">   7.64407</td></tr>\n",
       "<tr><td>train_model_5d70b_00012</td><td>TERMINATED</td><td>127.0.0.1:30648</td><td style=\"text-align: right;\">          32</td><td style=\"text-align: right;\">      30</td><td style=\"text-align: right;\">0.849236</td><td style=\"text-align: right;\">0.000111138</td><td>adam       </td><td>exp        </td><td style=\"text-align: right;\">    10</td><td style=\"text-align: right;\">        582.718 </td><td style=\"text-align: right;\">1.11417</td><td style=\"text-align: right;\">  61.4445 </td></tr>\n",
       "<tr><td>train_model_5d70b_00013</td><td>TERMINATED</td><td>127.0.0.1:1672 </td><td style=\"text-align: right;\">          32</td><td style=\"text-align: right;\">      30</td><td style=\"text-align: right;\">0.863629</td><td style=\"text-align: right;\">0.0523257  </td><td>adam       </td><td>exp        </td><td style=\"text-align: right;\">     1</td><td style=\"text-align: right;\">         58.891 </td><td style=\"text-align: right;\">1.38516</td><td style=\"text-align: right;\">  84.9605 </td></tr>\n",
       "<tr><td>train_model_5d70b_00014</td><td>TERMINATED</td><td>127.0.0.1:19332</td><td style=\"text-align: right;\">          32</td><td style=\"text-align: right;\">      30</td><td style=\"text-align: right;\">0.233061</td><td style=\"text-align: right;\">0.000313447</td><td>adam       </td><td>exp        </td><td style=\"text-align: right;\">     4</td><td style=\"text-align: right;\">        234.121 </td><td style=\"text-align: right;\">1.29675</td><td style=\"text-align: right;\">  33.755  </td></tr>\n",
       "<tr><td>train_model_5d70b_00015</td><td>TERMINATED</td><td>127.0.0.1:24108</td><td style=\"text-align: right;\">          32</td><td style=\"text-align: right;\">      30</td><td style=\"text-align: right;\">0.361806</td><td style=\"text-align: right;\">0.0080152  </td><td>adam       </td><td>exp        </td><td style=\"text-align: right;\">     1</td><td style=\"text-align: right;\">         58.8693</td><td style=\"text-align: right;\">1.38437</td><td style=\"text-align: right;\">  84.9605 </td></tr>\n",
       "<tr><td>train_model_5d70b_00016</td><td>TERMINATED</td><td>127.0.0.1:22488</td><td style=\"text-align: right;\">          32</td><td style=\"text-align: right;\">      30</td><td style=\"text-align: right;\">0.768943</td><td style=\"text-align: right;\">0.0010202  </td><td>adam       </td><td>exp        </td><td style=\"text-align: right;\">     4</td><td style=\"text-align: right;\">        232.331 </td><td style=\"text-align: right;\">1.29159</td><td style=\"text-align: right;\">  32.9441 </td></tr>\n",
       "<tr><td>train_model_5d70b_00017</td><td>TERMINATED</td><td>127.0.0.1:31420</td><td style=\"text-align: right;\">          32</td><td style=\"text-align: right;\">      30</td><td style=\"text-align: right;\">0.200618</td><td style=\"text-align: right;\">0.00361349 </td><td>adam       </td><td>exp        </td><td style=\"text-align: right;\">     2</td><td style=\"text-align: right;\">        115.554 </td><td style=\"text-align: right;\">1.33286</td><td style=\"text-align: right;\">  26.0244 </td></tr>\n",
       "<tr><td>train_model_5d70b_00018</td><td>TERMINATED</td><td>127.0.0.1:19572</td><td style=\"text-align: right;\">          32</td><td style=\"text-align: right;\">      30</td><td style=\"text-align: right;\">0.381807</td><td style=\"text-align: right;\">0.0265398  </td><td>adam       </td><td>exp        </td><td style=\"text-align: right;\">     1</td><td style=\"text-align: right;\">         57.4965</td><td style=\"text-align: right;\">1.38489</td><td style=\"text-align: right;\">  84.9605 </td></tr>\n",
       "<tr><td>train_model_5d70b_00019</td><td>TERMINATED</td><td>127.0.0.1:25876</td><td style=\"text-align: right;\">          32</td><td style=\"text-align: right;\">      30</td><td style=\"text-align: right;\">0.806294</td><td style=\"text-align: right;\">0.00208178 </td><td>adam       </td><td>exp        </td><td style=\"text-align: right;\">     2</td><td style=\"text-align: right;\">        115.085 </td><td style=\"text-align: right;\">1.31042</td><td style=\"text-align: right;\">  27.257  </td></tr>\n",
       "<tr><td>train_model_5d70b_00020</td><td>TERMINATED</td><td>127.0.0.1:27736</td><td style=\"text-align: right;\">          32</td><td style=\"text-align: right;\">      30</td><td style=\"text-align: right;\">0.828897</td><td style=\"text-align: right;\">0.0501231  </td><td>adam       </td><td>exp        </td><td style=\"text-align: right;\">     1</td><td style=\"text-align: right;\">         57.0152</td><td style=\"text-align: right;\">1.37864</td><td style=\"text-align: right;\">  84.9605 </td></tr>\n",
       "<tr><td>train_model_5d70b_00021</td><td>TERMINATED</td><td>127.0.0.1:8656 </td><td style=\"text-align: right;\">          32</td><td style=\"text-align: right;\">      30</td><td style=\"text-align: right;\">0.635822</td><td style=\"text-align: right;\">0.00344667 </td><td>adam       </td><td>exp        </td><td style=\"text-align: right;\">     2</td><td style=\"text-align: right;\">        116.879 </td><td style=\"text-align: right;\">1.32888</td><td style=\"text-align: right;\">  23.3755 </td></tr>\n",
       "<tr><td>train_model_5d70b_00022</td><td>TERMINATED</td><td>127.0.0.1:30168</td><td style=\"text-align: right;\">          32</td><td style=\"text-align: right;\">      30</td><td style=\"text-align: right;\">0.465858</td><td style=\"text-align: right;\">0.00104866 </td><td>adam       </td><td>exp        </td><td style=\"text-align: right;\">     4</td><td style=\"text-align: right;\">        234.589 </td><td style=\"text-align: right;\">1.28794</td><td style=\"text-align: right;\">  32.3062 </td></tr>\n",
       "<tr><td>train_model_5d70b_00023</td><td>TERMINATED</td><td>127.0.0.1:20984</td><td style=\"text-align: right;\">          32</td><td style=\"text-align: right;\">      30</td><td style=\"text-align: right;\">0.353699</td><td style=\"text-align: right;\">0.0744024  </td><td>adam       </td><td>exp        </td><td style=\"text-align: right;\">     1</td><td style=\"text-align: right;\">         58.8505</td><td style=\"text-align: right;\">1.40007</td><td style=\"text-align: right;\">   7.64407</td></tr>\n",
       "<tr><td>train_model_5d70b_00024</td><td>TERMINATED</td><td>127.0.0.1:11224</td><td style=\"text-align: right;\">          32</td><td style=\"text-align: right;\">      30</td><td style=\"text-align: right;\">0.312584</td><td style=\"text-align: right;\">0.000226186</td><td>adam       </td><td>exp        </td><td style=\"text-align: right;\">     8</td><td style=\"text-align: right;\">        467.712 </td><td style=\"text-align: right;\">1.27101</td><td style=\"text-align: right;\">  43.2587 </td></tr>\n",
       "</tbody>\n",
       "</table>\n",
       "  </div>\n",
       "</div>\n",
       "<style>\n",
       ".tuneStatus {\n",
       "  color: var(--jp-ui-font-color1);\n",
       "}\n",
       ".tuneStatus .systemInfo {\n",
       "  display: flex;\n",
       "  flex-direction: column;\n",
       "}\n",
       ".tuneStatus td {\n",
       "  white-space: nowrap;\n",
       "}\n",
       ".tuneStatus .trialStatus {\n",
       "  display: flex;\n",
       "  flex-direction: column;\n",
       "}\n",
       ".tuneStatus h3 {\n",
       "  font-weight: bold;\n",
       "}\n",
       ".tuneStatus .hDivider {\n",
       "  border-bottom-width: var(--jp-border-width);\n",
       "  border-bottom-color: var(--jp-border-color0);\n",
       "  border-bottom-style: solid;\n",
       "}\n",
       ".tuneStatus .vDivider {\n",
       "  border-left-width: var(--jp-border-width);\n",
       "  border-left-color: var(--jp-border-color0);\n",
       "  border-left-style: solid;\n",
       "  margin: 0.5em 1em 0.5em 1em;\n",
       "}\n",
       "</style>\n"
      ],
      "text/plain": [
       "<IPython.core.display.HTML object>"
      ]
     },
     "metadata": {},
     "output_type": "display_data"
    },
    {
     "name": "stderr",
     "output_type": "stream",
     "text": [
      "\u001b[36m(train_model pid=21856)\u001b[0m Checkpoint successfully created at: Checkpoint(filesystem=local, path=c:/Users/LEGION/Documents/Msc Data Science - Uni of Exeter/ECMM451 - Data Science Research Project (2023)/workspace/ray_results/SimpleCNN_long/trial_5d70b_00000/checkpoint_000000)\n",
      "\u001b[36m(train_model pid=21856)\u001b[0m Checkpoint successfully created at: Checkpoint(filesystem=local, path=c:/Users/LEGION/Documents/Msc Data Science - Uni of Exeter/ECMM451 - Data Science Research Project (2023)/workspace/ray_results/SimpleCNN_long/trial_5d70b_00000/checkpoint_000001)\n",
      "\u001b[36m(train_model pid=21856)\u001b[0m Checkpoint successfully created at: Checkpoint(filesystem=local, path=c:/Users/LEGION/Documents/Msc Data Science - Uni of Exeter/ECMM451 - Data Science Research Project (2023)/workspace/ray_results/SimpleCNN_long/trial_5d70b_00000/checkpoint_000002)\n",
      "\u001b[36m(train_model pid=21856)\u001b[0m Checkpoint successfully created at: Checkpoint(filesystem=local, path=c:/Users/LEGION/Documents/Msc Data Science - Uni of Exeter/ECMM451 - Data Science Research Project (2023)/workspace/ray_results/SimpleCNN_long/trial_5d70b_00000/checkpoint_000003)\n",
      "\u001b[36m(train_model pid=21856)\u001b[0m Checkpoint successfully created at: Checkpoint(filesystem=local, path=c:/Users/LEGION/Documents/Msc Data Science - Uni of Exeter/ECMM451 - Data Science Research Project (2023)/workspace/ray_results/SimpleCNN_long/trial_5d70b_00000/checkpoint_000004)\n",
      "\u001b[36m(train_model pid=21856)\u001b[0m Checkpoint successfully created at: Checkpoint(filesystem=local, path=c:/Users/LEGION/Documents/Msc Data Science - Uni of Exeter/ECMM451 - Data Science Research Project (2023)/workspace/ray_results/SimpleCNN_long/trial_5d70b_00000/checkpoint_000005)\n",
      "\u001b[36m(train_model pid=21856)\u001b[0m Checkpoint successfully created at: Checkpoint(filesystem=local, path=c:/Users/LEGION/Documents/Msc Data Science - Uni of Exeter/ECMM451 - Data Science Research Project (2023)/workspace/ray_results/SimpleCNN_long/trial_5d70b_00000/checkpoint_000006)\n",
      "\u001b[36m(train_model pid=21856)\u001b[0m Checkpoint successfully created at: Checkpoint(filesystem=local, path=c:/Users/LEGION/Documents/Msc Data Science - Uni of Exeter/ECMM451 - Data Science Research Project (2023)/workspace/ray_results/SimpleCNN_long/trial_5d70b_00000/checkpoint_000007)\n",
      "\u001b[36m(train_model pid=21856)\u001b[0m Checkpoint successfully created at: Checkpoint(filesystem=local, path=c:/Users/LEGION/Documents/Msc Data Science - Uni of Exeter/ECMM451 - Data Science Research Project (2023)/workspace/ray_results/SimpleCNN_long/trial_5d70b_00000/checkpoint_000008)\n",
      "\u001b[36m(train_model pid=21856)\u001b[0m Checkpoint successfully created at: Checkpoint(filesystem=local, path=c:/Users/LEGION/Documents/Msc Data Science - Uni of Exeter/ECMM451 - Data Science Research Project (2023)/workspace/ray_results/SimpleCNN_long/trial_5d70b_00000/checkpoint_000009)\n",
      "\u001b[36m(train_model pid=17920)\u001b[0m Checkpoint successfully created at: Checkpoint(filesystem=local, path=c:/Users/LEGION/Documents/Msc Data Science - Uni of Exeter/ECMM451 - Data Science Research Project (2023)/workspace/ray_results/SimpleCNN_long/trial_5d70b_00001/checkpoint_000000)\n",
      "\u001b[36m(train_model pid=13732)\u001b[0m Checkpoint successfully created at: Checkpoint(filesystem=local, path=c:/Users/LEGION/Documents/Msc Data Science - Uni of Exeter/ECMM451 - Data Science Research Project (2023)/workspace/ray_results/SimpleCNN_long/trial_5d70b_00002/checkpoint_000000)\n",
      "\u001b[36m(train_model pid=31384)\u001b[0m Checkpoint successfully created at: Checkpoint(filesystem=local, path=c:/Users/LEGION/Documents/Msc Data Science - Uni of Exeter/ECMM451 - Data Science Research Project (2023)/workspace/ray_results/SimpleCNN_long/trial_5d70b_00003/checkpoint_000000)\n",
      "\u001b[36m(train_model pid=24000)\u001b[0m Checkpoint successfully created at: Checkpoint(filesystem=local, path=c:/Users/LEGION/Documents/Msc Data Science - Uni of Exeter/ECMM451 - Data Science Research Project (2023)/workspace/ray_results/SimpleCNN_long/trial_5d70b_00004/checkpoint_000000)\n",
      "\u001b[36m(train_model pid=24000)\u001b[0m Checkpoint successfully created at: Checkpoint(filesystem=local, path=c:/Users/LEGION/Documents/Msc Data Science - Uni of Exeter/ECMM451 - Data Science Research Project (2023)/workspace/ray_results/SimpleCNN_long/trial_5d70b_00004/checkpoint_000001)\n",
      "\u001b[36m(train_model pid=24000)\u001b[0m Checkpoint successfully created at: Checkpoint(filesystem=local, path=c:/Users/LEGION/Documents/Msc Data Science - Uni of Exeter/ECMM451 - Data Science Research Project (2023)/workspace/ray_results/SimpleCNN_long/trial_5d70b_00004/checkpoint_000002)\n",
      "\u001b[36m(train_model pid=24000)\u001b[0m Checkpoint successfully created at: Checkpoint(filesystem=local, path=c:/Users/LEGION/Documents/Msc Data Science - Uni of Exeter/ECMM451 - Data Science Research Project (2023)/workspace/ray_results/SimpleCNN_long/trial_5d70b_00004/checkpoint_000003)\n",
      "\u001b[36m(train_model pid=24000)\u001b[0m Checkpoint successfully created at: Checkpoint(filesystem=local, path=c:/Users/LEGION/Documents/Msc Data Science - Uni of Exeter/ECMM451 - Data Science Research Project (2023)/workspace/ray_results/SimpleCNN_long/trial_5d70b_00004/checkpoint_000004)\n",
      "\u001b[36m(train_model pid=24000)\u001b[0m Checkpoint successfully created at: Checkpoint(filesystem=local, path=c:/Users/LEGION/Documents/Msc Data Science - Uni of Exeter/ECMM451 - Data Science Research Project (2023)/workspace/ray_results/SimpleCNN_long/trial_5d70b_00004/checkpoint_000005)\n",
      "\u001b[36m(train_model pid=24000)\u001b[0m Checkpoint successfully created at: Checkpoint(filesystem=local, path=c:/Users/LEGION/Documents/Msc Data Science - Uni of Exeter/ECMM451 - Data Science Research Project (2023)/workspace/ray_results/SimpleCNN_long/trial_5d70b_00004/checkpoint_000006)\n",
      "\u001b[36m(train_model pid=24000)\u001b[0m Checkpoint successfully created at: Checkpoint(filesystem=local, path=c:/Users/LEGION/Documents/Msc Data Science - Uni of Exeter/ECMM451 - Data Science Research Project (2023)/workspace/ray_results/SimpleCNN_long/trial_5d70b_00004/checkpoint_000007)\n",
      "\u001b[36m(train_model pid=24000)\u001b[0m Checkpoint successfully created at: Checkpoint(filesystem=local, path=c:/Users/LEGION/Documents/Msc Data Science - Uni of Exeter/ECMM451 - Data Science Research Project (2023)/workspace/ray_results/SimpleCNN_long/trial_5d70b_00004/checkpoint_000008)\n",
      "\u001b[36m(train_model pid=24000)\u001b[0m Checkpoint successfully created at: Checkpoint(filesystem=local, path=c:/Users/LEGION/Documents/Msc Data Science - Uni of Exeter/ECMM451 - Data Science Research Project (2023)/workspace/ray_results/SimpleCNN_long/trial_5d70b_00004/checkpoint_000009)\n",
      "\u001b[36m(train_model pid=26416)\u001b[0m Checkpoint successfully created at: Checkpoint(filesystem=local, path=c:/Users/LEGION/Documents/Msc Data Science - Uni of Exeter/ECMM451 - Data Science Research Project (2023)/workspace/ray_results/SimpleCNN_long/trial_5d70b_00005/checkpoint_000000)\n",
      "\u001b[36m(train_model pid=26308)\u001b[0m Checkpoint successfully created at: Checkpoint(filesystem=local, path=c:/Users/LEGION/Documents/Msc Data Science - Uni of Exeter/ECMM451 - Data Science Research Project (2023)/workspace/ray_results/SimpleCNN_long/trial_5d70b_00006/checkpoint_000000)\n",
      "\u001b[36m(train_model pid=6732)\u001b[0m Checkpoint successfully created at: Checkpoint(filesystem=local, path=c:/Users/LEGION/Documents/Msc Data Science - Uni of Exeter/ECMM451 - Data Science Research Project (2023)/workspace/ray_results/SimpleCNN_long/trial_5d70b_00007/checkpoint_000000)\n",
      "\u001b[36m(train_model pid=26928)\u001b[0m Checkpoint successfully created at: Checkpoint(filesystem=local, path=c:/Users/LEGION/Documents/Msc Data Science - Uni of Exeter/ECMM451 - Data Science Research Project (2023)/workspace/ray_results/SimpleCNN_long/trial_5d70b_00008/checkpoint_000000)\n",
      "\u001b[36m(train_model pid=9316)\u001b[0m Checkpoint successfully created at: Checkpoint(filesystem=local, path=c:/Users/LEGION/Documents/Msc Data Science - Uni of Exeter/ECMM451 - Data Science Research Project (2023)/workspace/ray_results/SimpleCNN_long/trial_5d70b_00009/checkpoint_000000)\n",
      "\u001b[36m(train_model pid=9316)\u001b[0m Checkpoint successfully created at: Checkpoint(filesystem=local, path=c:/Users/LEGION/Documents/Msc Data Science - Uni of Exeter/ECMM451 - Data Science Research Project (2023)/workspace/ray_results/SimpleCNN_long/trial_5d70b_00009/checkpoint_000001)\n",
      "\u001b[36m(train_model pid=2620)\u001b[0m Checkpoint successfully created at: Checkpoint(filesystem=local, path=c:/Users/LEGION/Documents/Msc Data Science - Uni of Exeter/ECMM451 - Data Science Research Project (2023)/workspace/ray_results/SimpleCNN_long/trial_5d70b_00010/checkpoint_000000)\n",
      "\u001b[36m(train_model pid=25492)\u001b[0m Checkpoint successfully created at: Checkpoint(filesystem=local, path=c:/Users/LEGION/Documents/Msc Data Science - Uni of Exeter/ECMM451 - Data Science Research Project (2023)/workspace/ray_results/SimpleCNN_long/trial_5d70b_00011/checkpoint_000000)\n",
      "\u001b[36m(train_model pid=30648)\u001b[0m Checkpoint successfully created at: Checkpoint(filesystem=local, path=c:/Users/LEGION/Documents/Msc Data Science - Uni of Exeter/ECMM451 - Data Science Research Project (2023)/workspace/ray_results/SimpleCNN_long/trial_5d70b_00012/checkpoint_000000)\n",
      "\u001b[36m(train_model pid=30648)\u001b[0m Checkpoint successfully created at: Checkpoint(filesystem=local, path=c:/Users/LEGION/Documents/Msc Data Science - Uni of Exeter/ECMM451 - Data Science Research Project (2023)/workspace/ray_results/SimpleCNN_long/trial_5d70b_00012/checkpoint_000001)\n",
      "\u001b[36m(train_model pid=30648)\u001b[0m Checkpoint successfully created at: Checkpoint(filesystem=local, path=c:/Users/LEGION/Documents/Msc Data Science - Uni of Exeter/ECMM451 - Data Science Research Project (2023)/workspace/ray_results/SimpleCNN_long/trial_5d70b_00012/checkpoint_000002)\n",
      "\u001b[36m(train_model pid=30648)\u001b[0m Checkpoint successfully created at: Checkpoint(filesystem=local, path=c:/Users/LEGION/Documents/Msc Data Science - Uni of Exeter/ECMM451 - Data Science Research Project (2023)/workspace/ray_results/SimpleCNN_long/trial_5d70b_00012/checkpoint_000003)\n",
      "\u001b[36m(train_model pid=30648)\u001b[0m Checkpoint successfully created at: Checkpoint(filesystem=local, path=c:/Users/LEGION/Documents/Msc Data Science - Uni of Exeter/ECMM451 - Data Science Research Project (2023)/workspace/ray_results/SimpleCNN_long/trial_5d70b_00012/checkpoint_000004)\n",
      "\u001b[36m(train_model pid=30648)\u001b[0m Checkpoint successfully created at: Checkpoint(filesystem=local, path=c:/Users/LEGION/Documents/Msc Data Science - Uni of Exeter/ECMM451 - Data Science Research Project (2023)/workspace/ray_results/SimpleCNN_long/trial_5d70b_00012/checkpoint_000005)\n",
      "\u001b[36m(train_model pid=30648)\u001b[0m Checkpoint successfully created at: Checkpoint(filesystem=local, path=c:/Users/LEGION/Documents/Msc Data Science - Uni of Exeter/ECMM451 - Data Science Research Project (2023)/workspace/ray_results/SimpleCNN_long/trial_5d70b_00012/checkpoint_000006)\n",
      "\u001b[36m(train_model pid=30648)\u001b[0m Checkpoint successfully created at: Checkpoint(filesystem=local, path=c:/Users/LEGION/Documents/Msc Data Science - Uni of Exeter/ECMM451 - Data Science Research Project (2023)/workspace/ray_results/SimpleCNN_long/trial_5d70b_00012/checkpoint_000007)\n",
      "\u001b[36m(train_model pid=30648)\u001b[0m Checkpoint successfully created at: Checkpoint(filesystem=local, path=c:/Users/LEGION/Documents/Msc Data Science - Uni of Exeter/ECMM451 - Data Science Research Project (2023)/workspace/ray_results/SimpleCNN_long/trial_5d70b_00012/checkpoint_000008)\n",
      "\u001b[36m(train_model pid=30648)\u001b[0m Checkpoint successfully created at: Checkpoint(filesystem=local, path=c:/Users/LEGION/Documents/Msc Data Science - Uni of Exeter/ECMM451 - Data Science Research Project (2023)/workspace/ray_results/SimpleCNN_long/trial_5d70b_00012/checkpoint_000009)\n",
      "\u001b[36m(train_model pid=1672)\u001b[0m Checkpoint successfully created at: Checkpoint(filesystem=local, path=c:/Users/LEGION/Documents/Msc Data Science - Uni of Exeter/ECMM451 - Data Science Research Project (2023)/workspace/ray_results/SimpleCNN_long/trial_5d70b_00013/checkpoint_000000)\n",
      "\u001b[36m(train_model pid=19332)\u001b[0m Checkpoint successfully created at: Checkpoint(filesystem=local, path=c:/Users/LEGION/Documents/Msc Data Science - Uni of Exeter/ECMM451 - Data Science Research Project (2023)/workspace/ray_results/SimpleCNN_long/trial_5d70b_00014/checkpoint_000000)\n",
      "\u001b[36m(train_model pid=19332)\u001b[0m Checkpoint successfully created at: Checkpoint(filesystem=local, path=c:/Users/LEGION/Documents/Msc Data Science - Uni of Exeter/ECMM451 - Data Science Research Project (2023)/workspace/ray_results/SimpleCNN_long/trial_5d70b_00014/checkpoint_000001)\n",
      "\u001b[36m(train_model pid=19332)\u001b[0m Checkpoint successfully created at: Checkpoint(filesystem=local, path=c:/Users/LEGION/Documents/Msc Data Science - Uni of Exeter/ECMM451 - Data Science Research Project (2023)/workspace/ray_results/SimpleCNN_long/trial_5d70b_00014/checkpoint_000002)\n",
      "\u001b[36m(train_model pid=19332)\u001b[0m Checkpoint successfully created at: Checkpoint(filesystem=local, path=c:/Users/LEGION/Documents/Msc Data Science - Uni of Exeter/ECMM451 - Data Science Research Project (2023)/workspace/ray_results/SimpleCNN_long/trial_5d70b_00014/checkpoint_000003)\n",
      "\u001b[36m(train_model pid=24108)\u001b[0m Checkpoint successfully created at: Checkpoint(filesystem=local, path=c:/Users/LEGION/Documents/Msc Data Science - Uni of Exeter/ECMM451 - Data Science Research Project (2023)/workspace/ray_results/SimpleCNN_long/trial_5d70b_00015/checkpoint_000000)\n",
      "\u001b[36m(train_model pid=22488)\u001b[0m Checkpoint successfully created at: Checkpoint(filesystem=local, path=c:/Users/LEGION/Documents/Msc Data Science - Uni of Exeter/ECMM451 - Data Science Research Project (2023)/workspace/ray_results/SimpleCNN_long/trial_5d70b_00016/checkpoint_000000)\n",
      "\u001b[36m(train_model pid=22488)\u001b[0m Checkpoint successfully created at: Checkpoint(filesystem=local, path=c:/Users/LEGION/Documents/Msc Data Science - Uni of Exeter/ECMM451 - Data Science Research Project (2023)/workspace/ray_results/SimpleCNN_long/trial_5d70b_00016/checkpoint_000001)\n",
      "\u001b[36m(train_model pid=22488)\u001b[0m Checkpoint successfully created at: Checkpoint(filesystem=local, path=c:/Users/LEGION/Documents/Msc Data Science - Uni of Exeter/ECMM451 - Data Science Research Project (2023)/workspace/ray_results/SimpleCNN_long/trial_5d70b_00016/checkpoint_000002)\n",
      "\u001b[36m(train_model pid=22488)\u001b[0m Checkpoint successfully created at: Checkpoint(filesystem=local, path=c:/Users/LEGION/Documents/Msc Data Science - Uni of Exeter/ECMM451 - Data Science Research Project (2023)/workspace/ray_results/SimpleCNN_long/trial_5d70b_00016/checkpoint_000003)\n",
      "\u001b[36m(train_model pid=31420)\u001b[0m Checkpoint successfully created at: Checkpoint(filesystem=local, path=c:/Users/LEGION/Documents/Msc Data Science - Uni of Exeter/ECMM451 - Data Science Research Project (2023)/workspace/ray_results/SimpleCNN_long/trial_5d70b_00017/checkpoint_000000)\n",
      "\u001b[36m(train_model pid=31420)\u001b[0m Checkpoint successfully created at: Checkpoint(filesystem=local, path=c:/Users/LEGION/Documents/Msc Data Science - Uni of Exeter/ECMM451 - Data Science Research Project (2023)/workspace/ray_results/SimpleCNN_long/trial_5d70b_00017/checkpoint_000001)\n",
      "\u001b[36m(train_model pid=19572)\u001b[0m Checkpoint successfully created at: Checkpoint(filesystem=local, path=c:/Users/LEGION/Documents/Msc Data Science - Uni of Exeter/ECMM451 - Data Science Research Project (2023)/workspace/ray_results/SimpleCNN_long/trial_5d70b_00018/checkpoint_000000)\n",
      "\u001b[36m(train_model pid=25876)\u001b[0m Checkpoint successfully created at: Checkpoint(filesystem=local, path=c:/Users/LEGION/Documents/Msc Data Science - Uni of Exeter/ECMM451 - Data Science Research Project (2023)/workspace/ray_results/SimpleCNN_long/trial_5d70b_00019/checkpoint_000000)\n",
      "\u001b[36m(train_model pid=25876)\u001b[0m Checkpoint successfully created at: Checkpoint(filesystem=local, path=c:/Users/LEGION/Documents/Msc Data Science - Uni of Exeter/ECMM451 - Data Science Research Project (2023)/workspace/ray_results/SimpleCNN_long/trial_5d70b_00019/checkpoint_000001)\n",
      "\u001b[36m(train_model pid=27736)\u001b[0m Checkpoint successfully created at: Checkpoint(filesystem=local, path=c:/Users/LEGION/Documents/Msc Data Science - Uni of Exeter/ECMM451 - Data Science Research Project (2023)/workspace/ray_results/SimpleCNN_long/trial_5d70b_00020/checkpoint_000000)\n",
      "\u001b[36m(train_model pid=8656)\u001b[0m Checkpoint successfully created at: Checkpoint(filesystem=local, path=c:/Users/LEGION/Documents/Msc Data Science - Uni of Exeter/ECMM451 - Data Science Research Project (2023)/workspace/ray_results/SimpleCNN_long/trial_5d70b_00021/checkpoint_000000)\n",
      "\u001b[36m(train_model pid=8656)\u001b[0m Checkpoint successfully created at: Checkpoint(filesystem=local, path=c:/Users/LEGION/Documents/Msc Data Science - Uni of Exeter/ECMM451 - Data Science Research Project (2023)/workspace/ray_results/SimpleCNN_long/trial_5d70b_00021/checkpoint_000001)\n",
      "\u001b[36m(train_model pid=30168)\u001b[0m Checkpoint successfully created at: Checkpoint(filesystem=local, path=c:/Users/LEGION/Documents/Msc Data Science - Uni of Exeter/ECMM451 - Data Science Research Project (2023)/workspace/ray_results/SimpleCNN_long/trial_5d70b_00022/checkpoint_000000)\n",
      "\u001b[36m(train_model pid=30168)\u001b[0m Checkpoint successfully created at: Checkpoint(filesystem=local, path=c:/Users/LEGION/Documents/Msc Data Science - Uni of Exeter/ECMM451 - Data Science Research Project (2023)/workspace/ray_results/SimpleCNN_long/trial_5d70b_00022/checkpoint_000001)\n",
      "\u001b[36m(train_model pid=30168)\u001b[0m Checkpoint successfully created at: Checkpoint(filesystem=local, path=c:/Users/LEGION/Documents/Msc Data Science - Uni of Exeter/ECMM451 - Data Science Research Project (2023)/workspace/ray_results/SimpleCNN_long/trial_5d70b_00022/checkpoint_000002)\n",
      "\u001b[36m(train_model pid=30168)\u001b[0m Checkpoint successfully created at: Checkpoint(filesystem=local, path=c:/Users/LEGION/Documents/Msc Data Science - Uni of Exeter/ECMM451 - Data Science Research Project (2023)/workspace/ray_results/SimpleCNN_long/trial_5d70b_00022/checkpoint_000003)\n",
      "\u001b[36m(train_model pid=20984)\u001b[0m Checkpoint successfully created at: Checkpoint(filesystem=local, path=c:/Users/LEGION/Documents/Msc Data Science - Uni of Exeter/ECMM451 - Data Science Research Project (2023)/workspace/ray_results/SimpleCNN_long/trial_5d70b_00023/checkpoint_000000)\n",
      "\u001b[36m(train_model pid=11224)\u001b[0m Checkpoint successfully created at: Checkpoint(filesystem=local, path=c:/Users/LEGION/Documents/Msc Data Science - Uni of Exeter/ECMM451 - Data Science Research Project (2023)/workspace/ray_results/SimpleCNN_long/trial_5d70b_00024/checkpoint_000000)\n",
      "\u001b[36m(train_model pid=11224)\u001b[0m Checkpoint successfully created at: Checkpoint(filesystem=local, path=c:/Users/LEGION/Documents/Msc Data Science - Uni of Exeter/ECMM451 - Data Science Research Project (2023)/workspace/ray_results/SimpleCNN_long/trial_5d70b_00024/checkpoint_000001)\n",
      "\u001b[36m(train_model pid=11224)\u001b[0m Checkpoint successfully created at: Checkpoint(filesystem=local, path=c:/Users/LEGION/Documents/Msc Data Science - Uni of Exeter/ECMM451 - Data Science Research Project (2023)/workspace/ray_results/SimpleCNN_long/trial_5d70b_00024/checkpoint_000002)\n",
      "\u001b[36m(train_model pid=11224)\u001b[0m Checkpoint successfully created at: Checkpoint(filesystem=local, path=c:/Users/LEGION/Documents/Msc Data Science - Uni of Exeter/ECMM451 - Data Science Research Project (2023)/workspace/ray_results/SimpleCNN_long/trial_5d70b_00024/checkpoint_000003)\n",
      "\u001b[36m(train_model pid=11224)\u001b[0m Checkpoint successfully created at: Checkpoint(filesystem=local, path=c:/Users/LEGION/Documents/Msc Data Science - Uni of Exeter/ECMM451 - Data Science Research Project (2023)/workspace/ray_results/SimpleCNN_long/trial_5d70b_00024/checkpoint_000004)\n",
      "\u001b[36m(train_model pid=11224)\u001b[0m Checkpoint successfully created at: Checkpoint(filesystem=local, path=c:/Users/LEGION/Documents/Msc Data Science - Uni of Exeter/ECMM451 - Data Science Research Project (2023)/workspace/ray_results/SimpleCNN_long/trial_5d70b_00024/checkpoint_000005)\n",
      "\u001b[36m(train_model pid=11224)\u001b[0m Checkpoint successfully created at: Checkpoint(filesystem=local, path=c:/Users/LEGION/Documents/Msc Data Science - Uni of Exeter/ECMM451 - Data Science Research Project (2023)/workspace/ray_results/SimpleCNN_long/trial_5d70b_00024/checkpoint_000006)\n",
      "\u001b[36m(train_model pid=11224)\u001b[0m Checkpoint successfully created at: Checkpoint(filesystem=local, path=c:/Users/LEGION/Documents/Msc Data Science - Uni of Exeter/ECMM451 - Data Science Research Project (2023)/workspace/ray_results/SimpleCNN_long/trial_5d70b_00024/checkpoint_000007)\n",
      "2024-07-23 03:45:02,115\tINFO tune.py:1009 -- Wrote the latest version of all result files and experiment state to 'c:/Users/LEGION/Documents/Msc Data Science - Uni of Exeter/ECMM451 - Data Science Research Project (2023)/workspace/ray_results/SimpleCNN_long' in 0.0400s.\n",
      "2024-07-23 03:45:02,135\tINFO tune.py:1041 -- Total run time: 4378.47 seconds (4378.34 seconds for the tuning loop).\n"
     ]
    },
    {
     "name": "stdout",
     "output_type": "stream",
     "text": [
      "Best trial config: {'optimizer': 'adam', 'lr': 0.00011113828101205411, 'scheduler': 'exp', 'gamma': 0.8492356384312725, 'epochs': 30, 'batch_size': 32}\n",
      "Best trial final validation loss: 1.1141672693449876\n",
      "Best trial final validation accuracy: 61.4445%\n",
      "Test Accuracy: 0.6260704091341579\n",
      "Best trial test set accuracy: 0.6261%\n"
     ]
    }
   ],
   "source": [
    "mytuner.main(train_datasets['long_acc'], valid_datasets['long_acc'], \n",
    "             test_datasets['long_acc'], num_samples=25)"
   ]
  },
  {
   "cell_type": "markdown",
   "metadata": {},
   "source": [
    "Hyperparam Tuning - Tranv Model"
   ]
  },
  {
   "cell_type": "code",
   "execution_count": 50,
   "metadata": {},
   "outputs": [],
   "source": [
    "# Enhanced Hyperparameter search space\n",
    "config = {\n",
    "    \"optimizer\": tune.choice([\"adam\"]),\n",
    "    \"lr\": tune.loguniform(1e-4, 1e-1),\n",
    "    \"scheduler\": tune.choice([\"exp\"]),\n",
    "    \"gamma\": tune.uniform(0.1, 0.9),\n",
    "    \"epochs\": tune.choice([30]),\n",
    "    \"batch_size\": tune.choice([32])\n",
    "}\n",
    "\n",
    "criterion = nn.CrossEntropyLoss(weight=class_weights)\n",
    "save_dir = 'SimpleCNN_tranv'\n",
    "model = SimpleCNN\n",
    "modelType = 'SimpleCNN'\n",
    "engine = simpleCNN_engine"
   ]
  },
  {
   "cell_type": "code",
   "execution_count": 51,
   "metadata": {},
   "outputs": [],
   "source": [
    "mytuner = RayTuning(config, save_dir, criterion, model, modelType, engine)"
   ]
  },
  {
   "cell_type": "code",
   "execution_count": 52,
   "metadata": {},
   "outputs": [
    {
     "data": {
      "text/html": [
       "<div class=\"tuneStatus\">\n",
       "  <div style=\"display: flex;flex-direction: row\">\n",
       "    <div style=\"display: flex;flex-direction: column;\">\n",
       "      <h3>Tune Status</h3>\n",
       "      <table>\n",
       "<tbody>\n",
       "<tr><td>Current time:</td><td>2024-07-23 05:18:16</td></tr>\n",
       "<tr><td>Running for: </td><td>01:32:56.60        </td></tr>\n",
       "<tr><td>Memory:      </td><td>9.9/13.9 GiB       </td></tr>\n",
       "</tbody>\n",
       "</table>\n",
       "    </div>\n",
       "    <div class=\"vDivider\"></div>\n",
       "    <div class=\"systemInfo\">\n",
       "      <h3>System Info</h3>\n",
       "      Using AsyncHyperBand: num_stopped=25<br>Bracket: Iter 8.000: -1.2856138204706127 | Iter 4.000: -1.2996581603740824 | Iter 2.000: -1.3059479781265915 | Iter 1.000: -1.3682874860434697<br>Logical resource usage: 2.0/16 CPUs, 1.0/1 GPUs (0.0/1.0 accelerator_type:G)\n",
       "    </div>\n",
       "    \n",
       "  </div>\n",
       "  <div class=\"hDivider\"></div>\n",
       "  <div class=\"trialStatus\">\n",
       "    <h3>Trial Status</h3>\n",
       "    <table>\n",
       "<thead>\n",
       "<tr><th>Trial name             </th><th>status    </th><th>loc            </th><th style=\"text-align: right;\">  batch_size</th><th style=\"text-align: right;\">  epochs</th><th style=\"text-align: right;\">   gamma</th><th style=\"text-align: right;\">         lr</th><th>optimizer  </th><th>scheduler  </th><th style=\"text-align: right;\">  iter</th><th style=\"text-align: right;\">  total time (s)</th><th style=\"text-align: right;\">   loss</th><th style=\"text-align: right;\">  accuracy</th></tr>\n",
       "</thead>\n",
       "<tbody>\n",
       "<tr><td>train_model_99950_00000</td><td>TERMINATED</td><td>127.0.0.1:8396 </td><td style=\"text-align: right;\">          32</td><td style=\"text-align: right;\">      30</td><td style=\"text-align: right;\">0.558895</td><td style=\"text-align: right;\">0.00580564 </td><td>adam       </td><td>exp        </td><td style=\"text-align: right;\">    10</td><td style=\"text-align: right;\">        577.773 </td><td style=\"text-align: right;\">1.37332</td><td style=\"text-align: right;\">  25.7866 </td></tr>\n",
       "<tr><td>train_model_99950_00001</td><td>TERMINATED</td><td>127.0.0.1:8960 </td><td style=\"text-align: right;\">          32</td><td style=\"text-align: right;\">      30</td><td style=\"text-align: right;\">0.731352</td><td style=\"text-align: right;\">0.0394091  </td><td>adam       </td><td>exp        </td><td style=\"text-align: right;\">     1</td><td style=\"text-align: right;\">         58.2658</td><td style=\"text-align: right;\">1.38287</td><td style=\"text-align: right;\">  84.9605 </td></tr>\n",
       "<tr><td>train_model_99950_00002</td><td>TERMINATED</td><td>127.0.0.1:20656</td><td style=\"text-align: right;\">          32</td><td style=\"text-align: right;\">      30</td><td style=\"text-align: right;\">0.579788</td><td style=\"text-align: right;\">0.00150912 </td><td>adam       </td><td>exp        </td><td style=\"text-align: right;\">    10</td><td style=\"text-align: right;\">        582.663 </td><td style=\"text-align: right;\">1.30639</td><td style=\"text-align: right;\">  31.917  </td></tr>\n",
       "<tr><td>train_model_99950_00003</td><td>TERMINATED</td><td>127.0.0.1:13384</td><td style=\"text-align: right;\">          32</td><td style=\"text-align: right;\">      30</td><td style=\"text-align: right;\">0.656028</td><td style=\"text-align: right;\">0.000155584</td><td>adam       </td><td>exp        </td><td style=\"text-align: right;\">    10</td><td style=\"text-align: right;\">        579.26  </td><td style=\"text-align: right;\">1.15543</td><td style=\"text-align: right;\">  68.9804 </td></tr>\n",
       "<tr><td>train_model_99950_00004</td><td>TERMINATED</td><td>127.0.0.1:9996 </td><td style=\"text-align: right;\">          32</td><td style=\"text-align: right;\">      30</td><td style=\"text-align: right;\">0.68956 </td><td style=\"text-align: right;\">0.00492049 </td><td>adam       </td><td>exp        </td><td style=\"text-align: right;\">     1</td><td style=\"text-align: right;\">         56.107 </td><td style=\"text-align: right;\">1.37876</td><td style=\"text-align: right;\">  84.9605 </td></tr>\n",
       "<tr><td>train_model_99950_00005</td><td>TERMINATED</td><td>127.0.0.1:10852</td><td style=\"text-align: right;\">          32</td><td style=\"text-align: right;\">      30</td><td style=\"text-align: right;\">0.478548</td><td style=\"text-align: right;\">0.0311766  </td><td>adam       </td><td>exp        </td><td style=\"text-align: right;\">     1</td><td style=\"text-align: right;\">         55.9579</td><td style=\"text-align: right;\">1.38647</td><td style=\"text-align: right;\">  84.9605 </td></tr>\n",
       "<tr><td>train_model_99950_00006</td><td>TERMINATED</td><td>127.0.0.1:19460</td><td style=\"text-align: right;\">          32</td><td style=\"text-align: right;\">      30</td><td style=\"text-align: right;\">0.188554</td><td style=\"text-align: right;\">0.00482477 </td><td>adam       </td><td>exp        </td><td style=\"text-align: right;\">     2</td><td style=\"text-align: right;\">        109.553 </td><td style=\"text-align: right;\">1.34751</td><td style=\"text-align: right;\">  25.1379 </td></tr>\n",
       "<tr><td>train_model_99950_00007</td><td>TERMINATED</td><td>127.0.0.1:10720</td><td style=\"text-align: right;\">          32</td><td style=\"text-align: right;\">      30</td><td style=\"text-align: right;\">0.287565</td><td style=\"text-align: right;\">0.0575712  </td><td>adam       </td><td>exp        </td><td style=\"text-align: right;\">     1</td><td style=\"text-align: right;\">         54.6692</td><td style=\"text-align: right;\">1.39049</td><td style=\"text-align: right;\">  84.9605 </td></tr>\n",
       "<tr><td>train_model_99950_00008</td><td>TERMINATED</td><td>127.0.0.1:7436 </td><td style=\"text-align: right;\">          32</td><td style=\"text-align: right;\">      30</td><td style=\"text-align: right;\">0.876895</td><td style=\"text-align: right;\">0.0131037  </td><td>adam       </td><td>exp        </td><td style=\"text-align: right;\">     1</td><td style=\"text-align: right;\">         54.9436</td><td style=\"text-align: right;\">1.38461</td><td style=\"text-align: right;\">   7.64407</td></tr>\n",
       "<tr><td>train_model_99950_00009</td><td>TERMINATED</td><td>127.0.0.1:1460 </td><td style=\"text-align: right;\">          32</td><td style=\"text-align: right;\">      30</td><td style=\"text-align: right;\">0.262315</td><td style=\"text-align: right;\">0.000168308</td><td>adam       </td><td>exp        </td><td style=\"text-align: right;\">    10</td><td style=\"text-align: right;\">        544.191 </td><td style=\"text-align: right;\">1.28705</td><td style=\"text-align: right;\">  39.2583 </td></tr>\n",
       "<tr><td>train_model_99950_00010</td><td>TERMINATED</td><td>127.0.0.1:30472</td><td style=\"text-align: right;\">          32</td><td style=\"text-align: right;\">      30</td><td style=\"text-align: right;\">0.596284</td><td style=\"text-align: right;\">0.000525339</td><td>adam       </td><td>exp        </td><td style=\"text-align: right;\">     4</td><td style=\"text-align: right;\">        216.914 </td><td style=\"text-align: right;\">1.29966</td><td style=\"text-align: right;\">  33.3225 </td></tr>\n",
       "<tr><td>train_model_99950_00011</td><td>TERMINATED</td><td>127.0.0.1:15180</td><td style=\"text-align: right;\">          32</td><td style=\"text-align: right;\">      30</td><td style=\"text-align: right;\">0.369219</td><td style=\"text-align: right;\">0.0178773  </td><td>adam       </td><td>exp        </td><td style=\"text-align: right;\">     1</td><td style=\"text-align: right;\">         54.7325</td><td style=\"text-align: right;\">1.38095</td><td style=\"text-align: right;\">  84.9605 </td></tr>\n",
       "<tr><td>train_model_99950_00012</td><td>TERMINATED</td><td>127.0.0.1:2016 </td><td style=\"text-align: right;\">          32</td><td style=\"text-align: right;\">      30</td><td style=\"text-align: right;\">0.574952</td><td style=\"text-align: right;\">0.000159192</td><td>adam       </td><td>exp        </td><td style=\"text-align: right;\">     2</td><td style=\"text-align: right;\">        109.237 </td><td style=\"text-align: right;\">1.30763</td><td style=\"text-align: right;\">  37.5933 </td></tr>\n",
       "<tr><td>train_model_99950_00013</td><td>TERMINATED</td><td>127.0.0.1:12132</td><td style=\"text-align: right;\">          32</td><td style=\"text-align: right;\">      30</td><td style=\"text-align: right;\">0.585691</td><td style=\"text-align: right;\">0.00152901 </td><td>adam       </td><td>exp        </td><td style=\"text-align: right;\">     4</td><td style=\"text-align: right;\">        218.873 </td><td style=\"text-align: right;\">1.30445</td><td style=\"text-align: right;\">  31.0953 </td></tr>\n",
       "<tr><td>train_model_99950_00014</td><td>TERMINATED</td><td>127.0.0.1:17680</td><td style=\"text-align: right;\">          32</td><td style=\"text-align: right;\">      30</td><td style=\"text-align: right;\">0.795127</td><td style=\"text-align: right;\">0.00173624 </td><td>adam       </td><td>exp        </td><td style=\"text-align: right;\">     2</td><td style=\"text-align: right;\">        107.468 </td><td style=\"text-align: right;\">1.31933</td><td style=\"text-align: right;\">  32.5224 </td></tr>\n",
       "<tr><td>train_model_99950_00015</td><td>TERMINATED</td><td>127.0.0.1:23756</td><td style=\"text-align: right;\">          32</td><td style=\"text-align: right;\">      30</td><td style=\"text-align: right;\">0.842921</td><td style=\"text-align: right;\">0.065243   </td><td>adam       </td><td>exp        </td><td style=\"text-align: right;\">     1</td><td style=\"text-align: right;\">         54.9229</td><td style=\"text-align: right;\">1.38387</td><td style=\"text-align: right;\">  84.9605 </td></tr>\n",
       "<tr><td>train_model_99950_00016</td><td>TERMINATED</td><td>127.0.0.1:20812</td><td style=\"text-align: right;\">          32</td><td style=\"text-align: right;\">      30</td><td style=\"text-align: right;\">0.423946</td><td style=\"text-align: right;\">0.00183161 </td><td>adam       </td><td>exp        </td><td style=\"text-align: right;\">     8</td><td style=\"text-align: right;\">        437.626 </td><td style=\"text-align: right;\">1.29704</td><td style=\"text-align: right;\">  32.1332 </td></tr>\n",
       "<tr><td>train_model_99950_00017</td><td>TERMINATED</td><td>127.0.0.1:26924</td><td style=\"text-align: right;\">          32</td><td style=\"text-align: right;\">      30</td><td style=\"text-align: right;\">0.39701 </td><td style=\"text-align: right;\">0.00415809 </td><td>adam       </td><td>exp        </td><td style=\"text-align: right;\">     1</td><td style=\"text-align: right;\">         54.8073</td><td style=\"text-align: right;\">1.38132</td><td style=\"text-align: right;\">   8.4874 </td></tr>\n",
       "<tr><td>train_model_99950_00018</td><td>TERMINATED</td><td>127.0.0.1:31352</td><td style=\"text-align: right;\">          32</td><td style=\"text-align: right;\">      30</td><td style=\"text-align: right;\">0.412519</td><td style=\"text-align: right;\">0.000117936</td><td>adam       </td><td>exp        </td><td style=\"text-align: right;\">    10</td><td style=\"text-align: right;\">        546.099 </td><td style=\"text-align: right;\">1.27623</td><td style=\"text-align: right;\">  39.0312 </td></tr>\n",
       "<tr><td>train_model_99950_00019</td><td>TERMINATED</td><td>127.0.0.1:11684</td><td style=\"text-align: right;\">          32</td><td style=\"text-align: right;\">      30</td><td style=\"text-align: right;\">0.363224</td><td style=\"text-align: right;\">0.00397431 </td><td>adam       </td><td>exp        </td><td style=\"text-align: right;\">     2</td><td style=\"text-align: right;\">        108.56  </td><td style=\"text-align: right;\">1.34073</td><td style=\"text-align: right;\">  29.2032 </td></tr>\n",
       "<tr><td>train_model_99950_00020</td><td>TERMINATED</td><td>127.0.0.1:14708</td><td style=\"text-align: right;\">          32</td><td style=\"text-align: right;\">      30</td><td style=\"text-align: right;\">0.671644</td><td style=\"text-align: right;\">0.000290183</td><td>adam       </td><td>exp        </td><td style=\"text-align: right;\">    10</td><td style=\"text-align: right;\">        545.454 </td><td style=\"text-align: right;\">1.1603 </td><td style=\"text-align: right;\">  65.5098 </td></tr>\n",
       "<tr><td>train_model_99950_00021</td><td>TERMINATED</td><td>127.0.0.1:23748</td><td style=\"text-align: right;\">          32</td><td style=\"text-align: right;\">      30</td><td style=\"text-align: right;\">0.581621</td><td style=\"text-align: right;\">0.0893567  </td><td>adam       </td><td>exp        </td><td style=\"text-align: right;\">     1</td><td style=\"text-align: right;\">         54.9938</td><td style=\"text-align: right;\">1.3793 </td><td style=\"text-align: right;\">  84.9605 </td></tr>\n",
       "<tr><td>train_model_99950_00022</td><td>TERMINATED</td><td>127.0.0.1:27580</td><td style=\"text-align: right;\">          32</td><td style=\"text-align: right;\">      30</td><td style=\"text-align: right;\">0.189552</td><td style=\"text-align: right;\">0.0112654  </td><td>adam       </td><td>exp        </td><td style=\"text-align: right;\">     2</td><td style=\"text-align: right;\">        109.779 </td><td style=\"text-align: right;\">1.35433</td><td style=\"text-align: right;\">  20.7698 </td></tr>\n",
       "<tr><td>train_model_99950_00023</td><td>TERMINATED</td><td>127.0.0.1:26936</td><td style=\"text-align: right;\">          32</td><td style=\"text-align: right;\">      30</td><td style=\"text-align: right;\">0.611577</td><td style=\"text-align: right;\">0.0183541  </td><td>adam       </td><td>exp        </td><td style=\"text-align: right;\">     1</td><td style=\"text-align: right;\">         54.2601</td><td style=\"text-align: right;\">1.38126</td><td style=\"text-align: right;\">  84.9605 </td></tr>\n",
       "<tr><td>train_model_99950_00024</td><td>TERMINATED</td><td>127.0.0.1:16476</td><td style=\"text-align: right;\">          32</td><td style=\"text-align: right;\">      30</td><td style=\"text-align: right;\">0.313936</td><td style=\"text-align: right;\">0.0172964  </td><td>adam       </td><td>exp        </td><td style=\"text-align: right;\">     1</td><td style=\"text-align: right;\">         55.09  </td><td style=\"text-align: right;\">1.37534</td><td style=\"text-align: right;\">  84.8416 </td></tr>\n",
       "</tbody>\n",
       "</table>\n",
       "  </div>\n",
       "</div>\n",
       "<style>\n",
       ".tuneStatus {\n",
       "  color: var(--jp-ui-font-color1);\n",
       "}\n",
       ".tuneStatus .systemInfo {\n",
       "  display: flex;\n",
       "  flex-direction: column;\n",
       "}\n",
       ".tuneStatus td {\n",
       "  white-space: nowrap;\n",
       "}\n",
       ".tuneStatus .trialStatus {\n",
       "  display: flex;\n",
       "  flex-direction: column;\n",
       "}\n",
       ".tuneStatus h3 {\n",
       "  font-weight: bold;\n",
       "}\n",
       ".tuneStatus .hDivider {\n",
       "  border-bottom-width: var(--jp-border-width);\n",
       "  border-bottom-color: var(--jp-border-color0);\n",
       "  border-bottom-style: solid;\n",
       "}\n",
       ".tuneStatus .vDivider {\n",
       "  border-left-width: var(--jp-border-width);\n",
       "  border-left-color: var(--jp-border-color0);\n",
       "  border-left-style: solid;\n",
       "  margin: 0.5em 1em 0.5em 1em;\n",
       "}\n",
       "</style>\n"
      ],
      "text/plain": [
       "<IPython.core.display.HTML object>"
      ]
     },
     "metadata": {},
     "output_type": "display_data"
    },
    {
     "name": "stderr",
     "output_type": "stream",
     "text": [
      "\u001b[36m(train_model pid=8396)\u001b[0m Checkpoint successfully created at: Checkpoint(filesystem=local, path=c:/Users/LEGION/Documents/Msc Data Science - Uni of Exeter/ECMM451 - Data Science Research Project (2023)/workspace/ray_results/SimpleCNN_tranv/trial_99950_00000/checkpoint_000000)\n",
      "\u001b[36m(train_model pid=8396)\u001b[0m Checkpoint successfully created at: Checkpoint(filesystem=local, path=c:/Users/LEGION/Documents/Msc Data Science - Uni of Exeter/ECMM451 - Data Science Research Project (2023)/workspace/ray_results/SimpleCNN_tranv/trial_99950_00000/checkpoint_000001)\n",
      "\u001b[36m(train_model pid=8396)\u001b[0m Checkpoint successfully created at: Checkpoint(filesystem=local, path=c:/Users/LEGION/Documents/Msc Data Science - Uni of Exeter/ECMM451 - Data Science Research Project (2023)/workspace/ray_results/SimpleCNN_tranv/trial_99950_00000/checkpoint_000002)\n",
      "\u001b[36m(train_model pid=8396)\u001b[0m Checkpoint successfully created at: Checkpoint(filesystem=local, path=c:/Users/LEGION/Documents/Msc Data Science - Uni of Exeter/ECMM451 - Data Science Research Project (2023)/workspace/ray_results/SimpleCNN_tranv/trial_99950_00000/checkpoint_000003)\n",
      "\u001b[36m(train_model pid=8396)\u001b[0m Checkpoint successfully created at: Checkpoint(filesystem=local, path=c:/Users/LEGION/Documents/Msc Data Science - Uni of Exeter/ECMM451 - Data Science Research Project (2023)/workspace/ray_results/SimpleCNN_tranv/trial_99950_00000/checkpoint_000004)\n",
      "\u001b[36m(train_model pid=8396)\u001b[0m Checkpoint successfully created at: Checkpoint(filesystem=local, path=c:/Users/LEGION/Documents/Msc Data Science - Uni of Exeter/ECMM451 - Data Science Research Project (2023)/workspace/ray_results/SimpleCNN_tranv/trial_99950_00000/checkpoint_000005)\n",
      "\u001b[36m(train_model pid=8396)\u001b[0m Checkpoint successfully created at: Checkpoint(filesystem=local, path=c:/Users/LEGION/Documents/Msc Data Science - Uni of Exeter/ECMM451 - Data Science Research Project (2023)/workspace/ray_results/SimpleCNN_tranv/trial_99950_00000/checkpoint_000006)\n",
      "\u001b[36m(train_model pid=8396)\u001b[0m Checkpoint successfully created at: Checkpoint(filesystem=local, path=c:/Users/LEGION/Documents/Msc Data Science - Uni of Exeter/ECMM451 - Data Science Research Project (2023)/workspace/ray_results/SimpleCNN_tranv/trial_99950_00000/checkpoint_000007)\n",
      "\u001b[36m(train_model pid=8396)\u001b[0m Checkpoint successfully created at: Checkpoint(filesystem=local, path=c:/Users/LEGION/Documents/Msc Data Science - Uni of Exeter/ECMM451 - Data Science Research Project (2023)/workspace/ray_results/SimpleCNN_tranv/trial_99950_00000/checkpoint_000008)\n",
      "\u001b[36m(train_model pid=8396)\u001b[0m Checkpoint successfully created at: Checkpoint(filesystem=local, path=c:/Users/LEGION/Documents/Msc Data Science - Uni of Exeter/ECMM451 - Data Science Research Project (2023)/workspace/ray_results/SimpleCNN_tranv/trial_99950_00000/checkpoint_000009)\n",
      "\u001b[36m(train_model pid=8960)\u001b[0m Checkpoint successfully created at: Checkpoint(filesystem=local, path=c:/Users/LEGION/Documents/Msc Data Science - Uni of Exeter/ECMM451 - Data Science Research Project (2023)/workspace/ray_results/SimpleCNN_tranv/trial_99950_00001/checkpoint_000000)\n",
      "\u001b[36m(train_model pid=20656)\u001b[0m Checkpoint successfully created at: Checkpoint(filesystem=local, path=c:/Users/LEGION/Documents/Msc Data Science - Uni of Exeter/ECMM451 - Data Science Research Project (2023)/workspace/ray_results/SimpleCNN_tranv/trial_99950_00002/checkpoint_000000)\n",
      "\u001b[36m(train_model pid=20656)\u001b[0m Checkpoint successfully created at: Checkpoint(filesystem=local, path=c:/Users/LEGION/Documents/Msc Data Science - Uni of Exeter/ECMM451 - Data Science Research Project (2023)/workspace/ray_results/SimpleCNN_tranv/trial_99950_00002/checkpoint_000001)\n",
      "\u001b[36m(train_model pid=20656)\u001b[0m Checkpoint successfully created at: Checkpoint(filesystem=local, path=c:/Users/LEGION/Documents/Msc Data Science - Uni of Exeter/ECMM451 - Data Science Research Project (2023)/workspace/ray_results/SimpleCNN_tranv/trial_99950_00002/checkpoint_000002)\n",
      "\u001b[36m(train_model pid=20656)\u001b[0m Checkpoint successfully created at: Checkpoint(filesystem=local, path=c:/Users/LEGION/Documents/Msc Data Science - Uni of Exeter/ECMM451 - Data Science Research Project (2023)/workspace/ray_results/SimpleCNN_tranv/trial_99950_00002/checkpoint_000003)\n",
      "\u001b[36m(train_model pid=20656)\u001b[0m Checkpoint successfully created at: Checkpoint(filesystem=local, path=c:/Users/LEGION/Documents/Msc Data Science - Uni of Exeter/ECMM451 - Data Science Research Project (2023)/workspace/ray_results/SimpleCNN_tranv/trial_99950_00002/checkpoint_000004)\n",
      "\u001b[36m(train_model pid=20656)\u001b[0m Checkpoint successfully created at: Checkpoint(filesystem=local, path=c:/Users/LEGION/Documents/Msc Data Science - Uni of Exeter/ECMM451 - Data Science Research Project (2023)/workspace/ray_results/SimpleCNN_tranv/trial_99950_00002/checkpoint_000005)\n",
      "\u001b[36m(train_model pid=20656)\u001b[0m Checkpoint successfully created at: Checkpoint(filesystem=local, path=c:/Users/LEGION/Documents/Msc Data Science - Uni of Exeter/ECMM451 - Data Science Research Project (2023)/workspace/ray_results/SimpleCNN_tranv/trial_99950_00002/checkpoint_000006)\n",
      "\u001b[36m(train_model pid=20656)\u001b[0m Checkpoint successfully created at: Checkpoint(filesystem=local, path=c:/Users/LEGION/Documents/Msc Data Science - Uni of Exeter/ECMM451 - Data Science Research Project (2023)/workspace/ray_results/SimpleCNN_tranv/trial_99950_00002/checkpoint_000007)\n",
      "\u001b[36m(train_model pid=20656)\u001b[0m Checkpoint successfully created at: Checkpoint(filesystem=local, path=c:/Users/LEGION/Documents/Msc Data Science - Uni of Exeter/ECMM451 - Data Science Research Project (2023)/workspace/ray_results/SimpleCNN_tranv/trial_99950_00002/checkpoint_000008)\n",
      "\u001b[36m(train_model pid=20656)\u001b[0m Checkpoint successfully created at: Checkpoint(filesystem=local, path=c:/Users/LEGION/Documents/Msc Data Science - Uni of Exeter/ECMM451 - Data Science Research Project (2023)/workspace/ray_results/SimpleCNN_tranv/trial_99950_00002/checkpoint_000009)\n",
      "\u001b[36m(train_model pid=13384)\u001b[0m Checkpoint successfully created at: Checkpoint(filesystem=local, path=c:/Users/LEGION/Documents/Msc Data Science - Uni of Exeter/ECMM451 - Data Science Research Project (2023)/workspace/ray_results/SimpleCNN_tranv/trial_99950_00003/checkpoint_000000)\n",
      "\u001b[36m(train_model pid=13384)\u001b[0m Checkpoint successfully created at: Checkpoint(filesystem=local, path=c:/Users/LEGION/Documents/Msc Data Science - Uni of Exeter/ECMM451 - Data Science Research Project (2023)/workspace/ray_results/SimpleCNN_tranv/trial_99950_00003/checkpoint_000001)\n",
      "\u001b[36m(train_model pid=13384)\u001b[0m Checkpoint successfully created at: Checkpoint(filesystem=local, path=c:/Users/LEGION/Documents/Msc Data Science - Uni of Exeter/ECMM451 - Data Science Research Project (2023)/workspace/ray_results/SimpleCNN_tranv/trial_99950_00003/checkpoint_000002)\n",
      "\u001b[36m(train_model pid=13384)\u001b[0m Checkpoint successfully created at: Checkpoint(filesystem=local, path=c:/Users/LEGION/Documents/Msc Data Science - Uni of Exeter/ECMM451 - Data Science Research Project (2023)/workspace/ray_results/SimpleCNN_tranv/trial_99950_00003/checkpoint_000003)\n",
      "\u001b[36m(train_model pid=13384)\u001b[0m Checkpoint successfully created at: Checkpoint(filesystem=local, path=c:/Users/LEGION/Documents/Msc Data Science - Uni of Exeter/ECMM451 - Data Science Research Project (2023)/workspace/ray_results/SimpleCNN_tranv/trial_99950_00003/checkpoint_000004)\n",
      "\u001b[36m(train_model pid=13384)\u001b[0m Checkpoint successfully created at: Checkpoint(filesystem=local, path=c:/Users/LEGION/Documents/Msc Data Science - Uni of Exeter/ECMM451 - Data Science Research Project (2023)/workspace/ray_results/SimpleCNN_tranv/trial_99950_00003/checkpoint_000005)\n",
      "\u001b[36m(train_model pid=13384)\u001b[0m Checkpoint successfully created at: Checkpoint(filesystem=local, path=c:/Users/LEGION/Documents/Msc Data Science - Uni of Exeter/ECMM451 - Data Science Research Project (2023)/workspace/ray_results/SimpleCNN_tranv/trial_99950_00003/checkpoint_000006)\n",
      "\u001b[36m(train_model pid=13384)\u001b[0m Checkpoint successfully created at: Checkpoint(filesystem=local, path=c:/Users/LEGION/Documents/Msc Data Science - Uni of Exeter/ECMM451 - Data Science Research Project (2023)/workspace/ray_results/SimpleCNN_tranv/trial_99950_00003/checkpoint_000007)\n",
      "\u001b[36m(train_model pid=13384)\u001b[0m Checkpoint successfully created at: Checkpoint(filesystem=local, path=c:/Users/LEGION/Documents/Msc Data Science - Uni of Exeter/ECMM451 - Data Science Research Project (2023)/workspace/ray_results/SimpleCNN_tranv/trial_99950_00003/checkpoint_000008)\n",
      "\u001b[36m(train_model pid=13384)\u001b[0m Checkpoint successfully created at: Checkpoint(filesystem=local, path=c:/Users/LEGION/Documents/Msc Data Science - Uni of Exeter/ECMM451 - Data Science Research Project (2023)/workspace/ray_results/SimpleCNN_tranv/trial_99950_00003/checkpoint_000009)\n",
      "\u001b[36m(train_model pid=9996)\u001b[0m Checkpoint successfully created at: Checkpoint(filesystem=local, path=c:/Users/LEGION/Documents/Msc Data Science - Uni of Exeter/ECMM451 - Data Science Research Project (2023)/workspace/ray_results/SimpleCNN_tranv/trial_99950_00004/checkpoint_000000)\n",
      "\u001b[36m(train_model pid=10852)\u001b[0m Checkpoint successfully created at: Checkpoint(filesystem=local, path=c:/Users/LEGION/Documents/Msc Data Science - Uni of Exeter/ECMM451 - Data Science Research Project (2023)/workspace/ray_results/SimpleCNN_tranv/trial_99950_00005/checkpoint_000000)\n",
      "\u001b[36m(train_model pid=19460)\u001b[0m Checkpoint successfully created at: Checkpoint(filesystem=local, path=c:/Users/LEGION/Documents/Msc Data Science - Uni of Exeter/ECMM451 - Data Science Research Project (2023)/workspace/ray_results/SimpleCNN_tranv/trial_99950_00006/checkpoint_000000)\n",
      "\u001b[36m(train_model pid=19460)\u001b[0m Checkpoint successfully created at: Checkpoint(filesystem=local, path=c:/Users/LEGION/Documents/Msc Data Science - Uni of Exeter/ECMM451 - Data Science Research Project (2023)/workspace/ray_results/SimpleCNN_tranv/trial_99950_00006/checkpoint_000001)\n",
      "\u001b[36m(train_model pid=10720)\u001b[0m Checkpoint successfully created at: Checkpoint(filesystem=local, path=c:/Users/LEGION/Documents/Msc Data Science - Uni of Exeter/ECMM451 - Data Science Research Project (2023)/workspace/ray_results/SimpleCNN_tranv/trial_99950_00007/checkpoint_000000)\n",
      "\u001b[36m(train_model pid=7436)\u001b[0m Checkpoint successfully created at: Checkpoint(filesystem=local, path=c:/Users/LEGION/Documents/Msc Data Science - Uni of Exeter/ECMM451 - Data Science Research Project (2023)/workspace/ray_results/SimpleCNN_tranv/trial_99950_00008/checkpoint_000000)\n",
      "\u001b[36m(train_model pid=1460)\u001b[0m Checkpoint successfully created at: Checkpoint(filesystem=local, path=c:/Users/LEGION/Documents/Msc Data Science - Uni of Exeter/ECMM451 - Data Science Research Project (2023)/workspace/ray_results/SimpleCNN_tranv/trial_99950_00009/checkpoint_000000)\n",
      "\u001b[36m(train_model pid=1460)\u001b[0m Checkpoint successfully created at: Checkpoint(filesystem=local, path=c:/Users/LEGION/Documents/Msc Data Science - Uni of Exeter/ECMM451 - Data Science Research Project (2023)/workspace/ray_results/SimpleCNN_tranv/trial_99950_00009/checkpoint_000001)\n",
      "\u001b[36m(train_model pid=1460)\u001b[0m Checkpoint successfully created at: Checkpoint(filesystem=local, path=c:/Users/LEGION/Documents/Msc Data Science - Uni of Exeter/ECMM451 - Data Science Research Project (2023)/workspace/ray_results/SimpleCNN_tranv/trial_99950_00009/checkpoint_000002)\n",
      "\u001b[36m(train_model pid=1460)\u001b[0m Checkpoint successfully created at: Checkpoint(filesystem=local, path=c:/Users/LEGION/Documents/Msc Data Science - Uni of Exeter/ECMM451 - Data Science Research Project (2023)/workspace/ray_results/SimpleCNN_tranv/trial_99950_00009/checkpoint_000003)\n",
      "\u001b[36m(train_model pid=1460)\u001b[0m Checkpoint successfully created at: Checkpoint(filesystem=local, path=c:/Users/LEGION/Documents/Msc Data Science - Uni of Exeter/ECMM451 - Data Science Research Project (2023)/workspace/ray_results/SimpleCNN_tranv/trial_99950_00009/checkpoint_000004)\n",
      "\u001b[36m(train_model pid=1460)\u001b[0m Checkpoint successfully created at: Checkpoint(filesystem=local, path=c:/Users/LEGION/Documents/Msc Data Science - Uni of Exeter/ECMM451 - Data Science Research Project (2023)/workspace/ray_results/SimpleCNN_tranv/trial_99950_00009/checkpoint_000005)\n",
      "\u001b[36m(train_model pid=1460)\u001b[0m Checkpoint successfully created at: Checkpoint(filesystem=local, path=c:/Users/LEGION/Documents/Msc Data Science - Uni of Exeter/ECMM451 - Data Science Research Project (2023)/workspace/ray_results/SimpleCNN_tranv/trial_99950_00009/checkpoint_000006)\n",
      "\u001b[36m(train_model pid=1460)\u001b[0m Checkpoint successfully created at: Checkpoint(filesystem=local, path=c:/Users/LEGION/Documents/Msc Data Science - Uni of Exeter/ECMM451 - Data Science Research Project (2023)/workspace/ray_results/SimpleCNN_tranv/trial_99950_00009/checkpoint_000007)\n",
      "\u001b[36m(train_model pid=1460)\u001b[0m Checkpoint successfully created at: Checkpoint(filesystem=local, path=c:/Users/LEGION/Documents/Msc Data Science - Uni of Exeter/ECMM451 - Data Science Research Project (2023)/workspace/ray_results/SimpleCNN_tranv/trial_99950_00009/checkpoint_000008)\n",
      "\u001b[36m(train_model pid=1460)\u001b[0m Checkpoint successfully created at: Checkpoint(filesystem=local, path=c:/Users/LEGION/Documents/Msc Data Science - Uni of Exeter/ECMM451 - Data Science Research Project (2023)/workspace/ray_results/SimpleCNN_tranv/trial_99950_00009/checkpoint_000009)\n",
      "\u001b[36m(train_model pid=30472)\u001b[0m Checkpoint successfully created at: Checkpoint(filesystem=local, path=c:/Users/LEGION/Documents/Msc Data Science - Uni of Exeter/ECMM451 - Data Science Research Project (2023)/workspace/ray_results/SimpleCNN_tranv/trial_99950_00010/checkpoint_000000)\n",
      "\u001b[36m(train_model pid=30472)\u001b[0m Checkpoint successfully created at: Checkpoint(filesystem=local, path=c:/Users/LEGION/Documents/Msc Data Science - Uni of Exeter/ECMM451 - Data Science Research Project (2023)/workspace/ray_results/SimpleCNN_tranv/trial_99950_00010/checkpoint_000001)\n",
      "\u001b[36m(train_model pid=30472)\u001b[0m Checkpoint successfully created at: Checkpoint(filesystem=local, path=c:/Users/LEGION/Documents/Msc Data Science - Uni of Exeter/ECMM451 - Data Science Research Project (2023)/workspace/ray_results/SimpleCNN_tranv/trial_99950_00010/checkpoint_000002)\n",
      "\u001b[36m(train_model pid=30472)\u001b[0m Checkpoint successfully created at: Checkpoint(filesystem=local, path=c:/Users/LEGION/Documents/Msc Data Science - Uni of Exeter/ECMM451 - Data Science Research Project (2023)/workspace/ray_results/SimpleCNN_tranv/trial_99950_00010/checkpoint_000003)\n",
      "\u001b[36m(train_model pid=15180)\u001b[0m Checkpoint successfully created at: Checkpoint(filesystem=local, path=c:/Users/LEGION/Documents/Msc Data Science - Uni of Exeter/ECMM451 - Data Science Research Project (2023)/workspace/ray_results/SimpleCNN_tranv/trial_99950_00011/checkpoint_000000)\n",
      "\u001b[36m(train_model pid=2016)\u001b[0m Checkpoint successfully created at: Checkpoint(filesystem=local, path=c:/Users/LEGION/Documents/Msc Data Science - Uni of Exeter/ECMM451 - Data Science Research Project (2023)/workspace/ray_results/SimpleCNN_tranv/trial_99950_00012/checkpoint_000000)\n",
      "\u001b[36m(train_model pid=2016)\u001b[0m Checkpoint successfully created at: Checkpoint(filesystem=local, path=c:/Users/LEGION/Documents/Msc Data Science - Uni of Exeter/ECMM451 - Data Science Research Project (2023)/workspace/ray_results/SimpleCNN_tranv/trial_99950_00012/checkpoint_000001)\n",
      "\u001b[36m(train_model pid=12132)\u001b[0m Checkpoint successfully created at: Checkpoint(filesystem=local, path=c:/Users/LEGION/Documents/Msc Data Science - Uni of Exeter/ECMM451 - Data Science Research Project (2023)/workspace/ray_results/SimpleCNN_tranv/trial_99950_00013/checkpoint_000000)\n",
      "\u001b[36m(train_model pid=12132)\u001b[0m Checkpoint successfully created at: Checkpoint(filesystem=local, path=c:/Users/LEGION/Documents/Msc Data Science - Uni of Exeter/ECMM451 - Data Science Research Project (2023)/workspace/ray_results/SimpleCNN_tranv/trial_99950_00013/checkpoint_000001)\n",
      "\u001b[36m(train_model pid=12132)\u001b[0m Checkpoint successfully created at: Checkpoint(filesystem=local, path=c:/Users/LEGION/Documents/Msc Data Science - Uni of Exeter/ECMM451 - Data Science Research Project (2023)/workspace/ray_results/SimpleCNN_tranv/trial_99950_00013/checkpoint_000002)\n",
      "\u001b[36m(train_model pid=12132)\u001b[0m Checkpoint successfully created at: Checkpoint(filesystem=local, path=c:/Users/LEGION/Documents/Msc Data Science - Uni of Exeter/ECMM451 - Data Science Research Project (2023)/workspace/ray_results/SimpleCNN_tranv/trial_99950_00013/checkpoint_000003)\n",
      "\u001b[36m(train_model pid=17680)\u001b[0m Checkpoint successfully created at: Checkpoint(filesystem=local, path=c:/Users/LEGION/Documents/Msc Data Science - Uni of Exeter/ECMM451 - Data Science Research Project (2023)/workspace/ray_results/SimpleCNN_tranv/trial_99950_00014/checkpoint_000000)\n",
      "\u001b[36m(train_model pid=17680)\u001b[0m Checkpoint successfully created at: Checkpoint(filesystem=local, path=c:/Users/LEGION/Documents/Msc Data Science - Uni of Exeter/ECMM451 - Data Science Research Project (2023)/workspace/ray_results/SimpleCNN_tranv/trial_99950_00014/checkpoint_000001)\n",
      "\u001b[36m(train_model pid=23756)\u001b[0m Checkpoint successfully created at: Checkpoint(filesystem=local, path=c:/Users/LEGION/Documents/Msc Data Science - Uni of Exeter/ECMM451 - Data Science Research Project (2023)/workspace/ray_results/SimpleCNN_tranv/trial_99950_00015/checkpoint_000000)\n",
      "\u001b[36m(train_model pid=20812)\u001b[0m Checkpoint successfully created at: Checkpoint(filesystem=local, path=c:/Users/LEGION/Documents/Msc Data Science - Uni of Exeter/ECMM451 - Data Science Research Project (2023)/workspace/ray_results/SimpleCNN_tranv/trial_99950_00016/checkpoint_000000)\n",
      "\u001b[36m(train_model pid=20812)\u001b[0m Checkpoint successfully created at: Checkpoint(filesystem=local, path=c:/Users/LEGION/Documents/Msc Data Science - Uni of Exeter/ECMM451 - Data Science Research Project (2023)/workspace/ray_results/SimpleCNN_tranv/trial_99950_00016/checkpoint_000001)\n",
      "\u001b[36m(train_model pid=20812)\u001b[0m Checkpoint successfully created at: Checkpoint(filesystem=local, path=c:/Users/LEGION/Documents/Msc Data Science - Uni of Exeter/ECMM451 - Data Science Research Project (2023)/workspace/ray_results/SimpleCNN_tranv/trial_99950_00016/checkpoint_000002)\n",
      "\u001b[36m(train_model pid=20812)\u001b[0m Checkpoint successfully created at: Checkpoint(filesystem=local, path=c:/Users/LEGION/Documents/Msc Data Science - Uni of Exeter/ECMM451 - Data Science Research Project (2023)/workspace/ray_results/SimpleCNN_tranv/trial_99950_00016/checkpoint_000003)\n",
      "\u001b[36m(train_model pid=20812)\u001b[0m Checkpoint successfully created at: Checkpoint(filesystem=local, path=c:/Users/LEGION/Documents/Msc Data Science - Uni of Exeter/ECMM451 - Data Science Research Project (2023)/workspace/ray_results/SimpleCNN_tranv/trial_99950_00016/checkpoint_000004)\n",
      "\u001b[36m(train_model pid=20812)\u001b[0m Checkpoint successfully created at: Checkpoint(filesystem=local, path=c:/Users/LEGION/Documents/Msc Data Science - Uni of Exeter/ECMM451 - Data Science Research Project (2023)/workspace/ray_results/SimpleCNN_tranv/trial_99950_00016/checkpoint_000005)\n",
      "\u001b[36m(train_model pid=20812)\u001b[0m Checkpoint successfully created at: Checkpoint(filesystem=local, path=c:/Users/LEGION/Documents/Msc Data Science - Uni of Exeter/ECMM451 - Data Science Research Project (2023)/workspace/ray_results/SimpleCNN_tranv/trial_99950_00016/checkpoint_000006)\n",
      "\u001b[36m(train_model pid=20812)\u001b[0m Checkpoint successfully created at: Checkpoint(filesystem=local, path=c:/Users/LEGION/Documents/Msc Data Science - Uni of Exeter/ECMM451 - Data Science Research Project (2023)/workspace/ray_results/SimpleCNN_tranv/trial_99950_00016/checkpoint_000007)\n",
      "\u001b[36m(train_model pid=26924)\u001b[0m Checkpoint successfully created at: Checkpoint(filesystem=local, path=c:/Users/LEGION/Documents/Msc Data Science - Uni of Exeter/ECMM451 - Data Science Research Project (2023)/workspace/ray_results/SimpleCNN_tranv/trial_99950_00017/checkpoint_000000)\n",
      "\u001b[36m(train_model pid=31352)\u001b[0m Checkpoint successfully created at: Checkpoint(filesystem=local, path=c:/Users/LEGION/Documents/Msc Data Science - Uni of Exeter/ECMM451 - Data Science Research Project (2023)/workspace/ray_results/SimpleCNN_tranv/trial_99950_00018/checkpoint_000000)\n",
      "\u001b[36m(train_model pid=31352)\u001b[0m Checkpoint successfully created at: Checkpoint(filesystem=local, path=c:/Users/LEGION/Documents/Msc Data Science - Uni of Exeter/ECMM451 - Data Science Research Project (2023)/workspace/ray_results/SimpleCNN_tranv/trial_99950_00018/checkpoint_000001)\n",
      "\u001b[36m(train_model pid=31352)\u001b[0m Checkpoint successfully created at: Checkpoint(filesystem=local, path=c:/Users/LEGION/Documents/Msc Data Science - Uni of Exeter/ECMM451 - Data Science Research Project (2023)/workspace/ray_results/SimpleCNN_tranv/trial_99950_00018/checkpoint_000002)\n",
      "\u001b[36m(train_model pid=31352)\u001b[0m Checkpoint successfully created at: Checkpoint(filesystem=local, path=c:/Users/LEGION/Documents/Msc Data Science - Uni of Exeter/ECMM451 - Data Science Research Project (2023)/workspace/ray_results/SimpleCNN_tranv/trial_99950_00018/checkpoint_000003)\n",
      "\u001b[36m(train_model pid=31352)\u001b[0m Checkpoint successfully created at: Checkpoint(filesystem=local, path=c:/Users/LEGION/Documents/Msc Data Science - Uni of Exeter/ECMM451 - Data Science Research Project (2023)/workspace/ray_results/SimpleCNN_tranv/trial_99950_00018/checkpoint_000004)\n",
      "\u001b[36m(train_model pid=31352)\u001b[0m Checkpoint successfully created at: Checkpoint(filesystem=local, path=c:/Users/LEGION/Documents/Msc Data Science - Uni of Exeter/ECMM451 - Data Science Research Project (2023)/workspace/ray_results/SimpleCNN_tranv/trial_99950_00018/checkpoint_000005)\n",
      "\u001b[36m(train_model pid=31352)\u001b[0m Checkpoint successfully created at: Checkpoint(filesystem=local, path=c:/Users/LEGION/Documents/Msc Data Science - Uni of Exeter/ECMM451 - Data Science Research Project (2023)/workspace/ray_results/SimpleCNN_tranv/trial_99950_00018/checkpoint_000006)\n",
      "\u001b[36m(train_model pid=31352)\u001b[0m Checkpoint successfully created at: Checkpoint(filesystem=local, path=c:/Users/LEGION/Documents/Msc Data Science - Uni of Exeter/ECMM451 - Data Science Research Project (2023)/workspace/ray_results/SimpleCNN_tranv/trial_99950_00018/checkpoint_000007)\n",
      "\u001b[36m(train_model pid=31352)\u001b[0m Checkpoint successfully created at: Checkpoint(filesystem=local, path=c:/Users/LEGION/Documents/Msc Data Science - Uni of Exeter/ECMM451 - Data Science Research Project (2023)/workspace/ray_results/SimpleCNN_tranv/trial_99950_00018/checkpoint_000008)\n",
      "\u001b[36m(train_model pid=31352)\u001b[0m Checkpoint successfully created at: Checkpoint(filesystem=local, path=c:/Users/LEGION/Documents/Msc Data Science - Uni of Exeter/ECMM451 - Data Science Research Project (2023)/workspace/ray_results/SimpleCNN_tranv/trial_99950_00018/checkpoint_000009)\n",
      "\u001b[36m(train_model pid=11684)\u001b[0m Checkpoint successfully created at: Checkpoint(filesystem=local, path=c:/Users/LEGION/Documents/Msc Data Science - Uni of Exeter/ECMM451 - Data Science Research Project (2023)/workspace/ray_results/SimpleCNN_tranv/trial_99950_00019/checkpoint_000000)\n",
      "\u001b[36m(train_model pid=11684)\u001b[0m Checkpoint successfully created at: Checkpoint(filesystem=local, path=c:/Users/LEGION/Documents/Msc Data Science - Uni of Exeter/ECMM451 - Data Science Research Project (2023)/workspace/ray_results/SimpleCNN_tranv/trial_99950_00019/checkpoint_000001)\n",
      "\u001b[36m(train_model pid=14708)\u001b[0m Checkpoint successfully created at: Checkpoint(filesystem=local, path=c:/Users/LEGION/Documents/Msc Data Science - Uni of Exeter/ECMM451 - Data Science Research Project (2023)/workspace/ray_results/SimpleCNN_tranv/trial_99950_00020/checkpoint_000000)\n",
      "\u001b[36m(train_model pid=14708)\u001b[0m Checkpoint successfully created at: Checkpoint(filesystem=local, path=c:/Users/LEGION/Documents/Msc Data Science - Uni of Exeter/ECMM451 - Data Science Research Project (2023)/workspace/ray_results/SimpleCNN_tranv/trial_99950_00020/checkpoint_000001)\n",
      "\u001b[36m(train_model pid=14708)\u001b[0m Checkpoint successfully created at: Checkpoint(filesystem=local, path=c:/Users/LEGION/Documents/Msc Data Science - Uni of Exeter/ECMM451 - Data Science Research Project (2023)/workspace/ray_results/SimpleCNN_tranv/trial_99950_00020/checkpoint_000002)\n",
      "\u001b[36m(train_model pid=14708)\u001b[0m Checkpoint successfully created at: Checkpoint(filesystem=local, path=c:/Users/LEGION/Documents/Msc Data Science - Uni of Exeter/ECMM451 - Data Science Research Project (2023)/workspace/ray_results/SimpleCNN_tranv/trial_99950_00020/checkpoint_000003)\n",
      "\u001b[36m(train_model pid=14708)\u001b[0m Checkpoint successfully created at: Checkpoint(filesystem=local, path=c:/Users/LEGION/Documents/Msc Data Science - Uni of Exeter/ECMM451 - Data Science Research Project (2023)/workspace/ray_results/SimpleCNN_tranv/trial_99950_00020/checkpoint_000004)\n",
      "\u001b[36m(train_model pid=14708)\u001b[0m Checkpoint successfully created at: Checkpoint(filesystem=local, path=c:/Users/LEGION/Documents/Msc Data Science - Uni of Exeter/ECMM451 - Data Science Research Project (2023)/workspace/ray_results/SimpleCNN_tranv/trial_99950_00020/checkpoint_000005)\n",
      "\u001b[36m(train_model pid=14708)\u001b[0m Checkpoint successfully created at: Checkpoint(filesystem=local, path=c:/Users/LEGION/Documents/Msc Data Science - Uni of Exeter/ECMM451 - Data Science Research Project (2023)/workspace/ray_results/SimpleCNN_tranv/trial_99950_00020/checkpoint_000006)\n",
      "\u001b[36m(train_model pid=14708)\u001b[0m Checkpoint successfully created at: Checkpoint(filesystem=local, path=c:/Users/LEGION/Documents/Msc Data Science - Uni of Exeter/ECMM451 - Data Science Research Project (2023)/workspace/ray_results/SimpleCNN_tranv/trial_99950_00020/checkpoint_000007)\n",
      "\u001b[36m(train_model pid=14708)\u001b[0m Checkpoint successfully created at: Checkpoint(filesystem=local, path=c:/Users/LEGION/Documents/Msc Data Science - Uni of Exeter/ECMM451 - Data Science Research Project (2023)/workspace/ray_results/SimpleCNN_tranv/trial_99950_00020/checkpoint_000008)\n",
      "\u001b[36m(train_model pid=14708)\u001b[0m Checkpoint successfully created at: Checkpoint(filesystem=local, path=c:/Users/LEGION/Documents/Msc Data Science - Uni of Exeter/ECMM451 - Data Science Research Project (2023)/workspace/ray_results/SimpleCNN_tranv/trial_99950_00020/checkpoint_000009)\n",
      "\u001b[36m(train_model pid=23748)\u001b[0m Checkpoint successfully created at: Checkpoint(filesystem=local, path=c:/Users/LEGION/Documents/Msc Data Science - Uni of Exeter/ECMM451 - Data Science Research Project (2023)/workspace/ray_results/SimpleCNN_tranv/trial_99950_00021/checkpoint_000000)\n",
      "\u001b[36m(train_model pid=27580)\u001b[0m Checkpoint successfully created at: Checkpoint(filesystem=local, path=c:/Users/LEGION/Documents/Msc Data Science - Uni of Exeter/ECMM451 - Data Science Research Project (2023)/workspace/ray_results/SimpleCNN_tranv/trial_99950_00022/checkpoint_000000)\n",
      "\u001b[36m(train_model pid=27580)\u001b[0m Checkpoint successfully created at: Checkpoint(filesystem=local, path=c:/Users/LEGION/Documents/Msc Data Science - Uni of Exeter/ECMM451 - Data Science Research Project (2023)/workspace/ray_results/SimpleCNN_tranv/trial_99950_00022/checkpoint_000001)\n",
      "\u001b[36m(train_model pid=26936)\u001b[0m Checkpoint successfully created at: Checkpoint(filesystem=local, path=c:/Users/LEGION/Documents/Msc Data Science - Uni of Exeter/ECMM451 - Data Science Research Project (2023)/workspace/ray_results/SimpleCNN_tranv/trial_99950_00023/checkpoint_000000)\n",
      "\u001b[36m(train_model pid=16476)\u001b[0m Checkpoint successfully created at: Checkpoint(filesystem=local, path=c:/Users/LEGION/Documents/Msc Data Science - Uni of Exeter/ECMM451 - Data Science Research Project (2023)/workspace/ray_results/SimpleCNN_tranv/trial_99950_00024/checkpoint_000000)\n",
      "\u001b[36m(train_model pid=4452)\u001b[0m Checkpoint successfully created at: Checkpoint(filesystem=local, path=c:/Users/LEGION/Documents/Msc Data Science - Uni of Exeter/ECMM451 - Data Science Research Project (2023)/workspace/ray_results/SimpleCNN_ang_vel/trial_9ef77_00000/checkpoint_000000)\n",
      "\u001b[36m(train_model pid=4452)\u001b[0m Checkpoint successfully created at: Checkpoint(filesystem=local, path=c:/Users/LEGION/Documents/Msc Data Science - Uni of Exeter/ECMM451 - Data Science Research Project (2023)/workspace/ray_results/SimpleCNN_ang_vel/trial_9ef77_00000/checkpoint_000001)\n",
      "\u001b[36m(train_model pid=4452)\u001b[0m Checkpoint successfully created at: Checkpoint(filesystem=local, path=c:/Users/LEGION/Documents/Msc Data Science - Uni of Exeter/ECMM451 - Data Science Research Project (2023)/workspace/ray_results/SimpleCNN_ang_vel/trial_9ef77_00000/checkpoint_000002)\n",
      "\u001b[36m(train_model pid=4452)\u001b[0m Checkpoint successfully created at: Checkpoint(filesystem=local, path=c:/Users/LEGION/Documents/Msc Data Science - Uni of Exeter/ECMM451 - Data Science Research Project (2023)/workspace/ray_results/SimpleCNN_ang_vel/trial_9ef77_00000/checkpoint_000003)\n",
      "\u001b[36m(train_model pid=4452)\u001b[0m Checkpoint successfully created at: Checkpoint(filesystem=local, path=c:/Users/LEGION/Documents/Msc Data Science - Uni of Exeter/ECMM451 - Data Science Research Project (2023)/workspace/ray_results/SimpleCNN_ang_vel/trial_9ef77_00000/checkpoint_000004)\n",
      "\u001b[36m(train_model pid=4452)\u001b[0m Checkpoint successfully created at: Checkpoint(filesystem=local, path=c:/Users/LEGION/Documents/Msc Data Science - Uni of Exeter/ECMM451 - Data Science Research Project (2023)/workspace/ray_results/SimpleCNN_ang_vel/trial_9ef77_00000/checkpoint_000005)\n",
      "\u001b[36m(train_model pid=4452)\u001b[0m Checkpoint successfully created at: Checkpoint(filesystem=local, path=c:/Users/LEGION/Documents/Msc Data Science - Uni of Exeter/ECMM451 - Data Science Research Project (2023)/workspace/ray_results/SimpleCNN_ang_vel/trial_9ef77_00000/checkpoint_000006)\n",
      "\u001b[36m(train_model pid=4452)\u001b[0m Checkpoint successfully created at: Checkpoint(filesystem=local, path=c:/Users/LEGION/Documents/Msc Data Science - Uni of Exeter/ECMM451 - Data Science Research Project (2023)/workspace/ray_results/SimpleCNN_ang_vel/trial_9ef77_00000/checkpoint_000007)\n",
      "\u001b[36m(train_model pid=4452)\u001b[0m Checkpoint successfully created at: Checkpoint(filesystem=local, path=c:/Users/LEGION/Documents/Msc Data Science - Uni of Exeter/ECMM451 - Data Science Research Project (2023)/workspace/ray_results/SimpleCNN_ang_vel/trial_9ef77_00000/checkpoint_000008)\n",
      "\u001b[36m(train_model pid=4452)\u001b[0m Checkpoint successfully created at: Checkpoint(filesystem=local, path=c:/Users/LEGION/Documents/Msc Data Science - Uni of Exeter/ECMM451 - Data Science Research Project (2023)/workspace/ray_results/SimpleCNN_ang_vel/trial_9ef77_00000/checkpoint_000009)\n",
      "\u001b[36m(train_model pid=3772)\u001b[0m Checkpoint successfully created at: Checkpoint(filesystem=local, path=c:/Users/LEGION/Documents/Msc Data Science - Uni of Exeter/ECMM451 - Data Science Research Project (2023)/workspace/ray_results/SimpleCNN_ang_vel/trial_9ef77_00001/checkpoint_000000)\n",
      "\u001b[36m(train_model pid=26444)\u001b[0m Checkpoint successfully created at: Checkpoint(filesystem=local, path=c:/Users/LEGION/Documents/Msc Data Science - Uni of Exeter/ECMM451 - Data Science Research Project (2023)/workspace/ray_results/SimpleCNN_ang_vel/trial_9ef77_00002/checkpoint_000000)\n",
      "\u001b[36m(train_model pid=3536)\u001b[0m Checkpoint successfully created at: Checkpoint(filesystem=local, path=c:/Users/LEGION/Documents/Msc Data Science - Uni of Exeter/ECMM451 - Data Science Research Project (2023)/workspace/ray_results/SimpleCNN_ang_vel/trial_9ef77_00003/checkpoint_000000)\n",
      "\u001b[36m(train_model pid=21172)\u001b[0m Checkpoint successfully created at: Checkpoint(filesystem=local, path=c:/Users/LEGION/Documents/Msc Data Science - Uni of Exeter/ECMM451 - Data Science Research Project (2023)/workspace/ray_results/SimpleCNN_ang_vel/trial_9ef77_00004/checkpoint_000000)\n",
      "\u001b[36m(train_model pid=20292)\u001b[0m Checkpoint successfully created at: Checkpoint(filesystem=local, path=c:/Users/LEGION/Documents/Msc Data Science - Uni of Exeter/ECMM451 - Data Science Research Project (2023)/workspace/ray_results/SimpleCNN_ang_vel/trial_9ef77_00005/checkpoint_000000)\n",
      "\u001b[36m(train_model pid=12816)\u001b[0m Checkpoint successfully created at: Checkpoint(filesystem=local, path=c:/Users/LEGION/Documents/Msc Data Science - Uni of Exeter/ECMM451 - Data Science Research Project (2023)/workspace/ray_results/SimpleCNN_ang_vel/trial_9ef77_00006/checkpoint_000000)\n",
      "\u001b[36m(train_model pid=12816)\u001b[0m Checkpoint successfully created at: Checkpoint(filesystem=local, path=c:/Users/LEGION/Documents/Msc Data Science - Uni of Exeter/ECMM451 - Data Science Research Project (2023)/workspace/ray_results/SimpleCNN_ang_vel/trial_9ef77_00006/checkpoint_000001)\n",
      "\u001b[36m(train_model pid=12816)\u001b[0m Checkpoint successfully created at: Checkpoint(filesystem=local, path=c:/Users/LEGION/Documents/Msc Data Science - Uni of Exeter/ECMM451 - Data Science Research Project (2023)/workspace/ray_results/SimpleCNN_ang_vel/trial_9ef77_00006/checkpoint_000002)\n",
      "\u001b[36m(train_model pid=12816)\u001b[0m Checkpoint successfully created at: Checkpoint(filesystem=local, path=c:/Users/LEGION/Documents/Msc Data Science - Uni of Exeter/ECMM451 - Data Science Research Project (2023)/workspace/ray_results/SimpleCNN_ang_vel/trial_9ef77_00006/checkpoint_000003)\n",
      "\u001b[36m(train_model pid=3788)\u001b[0m Checkpoint successfully created at: Checkpoint(filesystem=local, path=c:/Users/LEGION/Documents/Msc Data Science - Uni of Exeter/ECMM451 - Data Science Research Project (2023)/workspace/ray_results/SimpleCNN_ang_vel/trial_9ef77_00007/checkpoint_000000)\n",
      "\u001b[36m(train_model pid=3788)\u001b[0m Checkpoint successfully created at: Checkpoint(filesystem=local, path=c:/Users/LEGION/Documents/Msc Data Science - Uni of Exeter/ECMM451 - Data Science Research Project (2023)/workspace/ray_results/SimpleCNN_ang_vel/trial_9ef77_00007/checkpoint_000001)\n",
      "\u001b[36m(train_model pid=3788)\u001b[0m Checkpoint successfully created at: Checkpoint(filesystem=local, path=c:/Users/LEGION/Documents/Msc Data Science - Uni of Exeter/ECMM451 - Data Science Research Project (2023)/workspace/ray_results/SimpleCNN_ang_vel/trial_9ef77_00007/checkpoint_000002)\n",
      "\u001b[36m(train_model pid=3788)\u001b[0m Checkpoint successfully created at: Checkpoint(filesystem=local, path=c:/Users/LEGION/Documents/Msc Data Science - Uni of Exeter/ECMM451 - Data Science Research Project (2023)/workspace/ray_results/SimpleCNN_ang_vel/trial_9ef77_00007/checkpoint_000003)\n",
      "\u001b[36m(train_model pid=3788)\u001b[0m Checkpoint successfully created at: Checkpoint(filesystem=local, path=c:/Users/LEGION/Documents/Msc Data Science - Uni of Exeter/ECMM451 - Data Science Research Project (2023)/workspace/ray_results/SimpleCNN_ang_vel/trial_9ef77_00007/checkpoint_000004)\n",
      "\u001b[36m(train_model pid=3788)\u001b[0m Checkpoint successfully created at: Checkpoint(filesystem=local, path=c:/Users/LEGION/Documents/Msc Data Science - Uni of Exeter/ECMM451 - Data Science Research Project (2023)/workspace/ray_results/SimpleCNN_ang_vel/trial_9ef77_00007/checkpoint_000005)\n",
      "\u001b[36m(train_model pid=3788)\u001b[0m Checkpoint successfully created at: Checkpoint(filesystem=local, path=c:/Users/LEGION/Documents/Msc Data Science - Uni of Exeter/ECMM451 - Data Science Research Project (2023)/workspace/ray_results/SimpleCNN_ang_vel/trial_9ef77_00007/checkpoint_000006)\n",
      "\u001b[36m(train_model pid=3788)\u001b[0m Checkpoint successfully created at: Checkpoint(filesystem=local, path=c:/Users/LEGION/Documents/Msc Data Science - Uni of Exeter/ECMM451 - Data Science Research Project (2023)/workspace/ray_results/SimpleCNN_ang_vel/trial_9ef77_00007/checkpoint_000007)\n",
      "\u001b[36m(train_model pid=21212)\u001b[0m Checkpoint successfully created at: Checkpoint(filesystem=local, path=c:/Users/LEGION/Documents/Msc Data Science - Uni of Exeter/ECMM451 - Data Science Research Project (2023)/workspace/ray_results/SimpleCNN_ang_vel/trial_9ef77_00008/checkpoint_000000)\n",
      "\u001b[36m(train_model pid=21212)\u001b[0m Checkpoint successfully created at: Checkpoint(filesystem=local, path=c:/Users/LEGION/Documents/Msc Data Science - Uni of Exeter/ECMM451 - Data Science Research Project (2023)/workspace/ray_results/SimpleCNN_ang_vel/trial_9ef77_00008/checkpoint_000001)\n",
      "\u001b[36m(train_model pid=21212)\u001b[0m Checkpoint successfully created at: Checkpoint(filesystem=local, path=c:/Users/LEGION/Documents/Msc Data Science - Uni of Exeter/ECMM451 - Data Science Research Project (2023)/workspace/ray_results/SimpleCNN_ang_vel/trial_9ef77_00008/checkpoint_000002)\n",
      "\u001b[36m(train_model pid=21212)\u001b[0m Checkpoint successfully created at: Checkpoint(filesystem=local, path=c:/Users/LEGION/Documents/Msc Data Science - Uni of Exeter/ECMM451 - Data Science Research Project (2023)/workspace/ray_results/SimpleCNN_ang_vel/trial_9ef77_00008/checkpoint_000003)\n",
      "\u001b[36m(train_model pid=21212)\u001b[0m Checkpoint successfully created at: Checkpoint(filesystem=local, path=c:/Users/LEGION/Documents/Msc Data Science - Uni of Exeter/ECMM451 - Data Science Research Project (2023)/workspace/ray_results/SimpleCNN_ang_vel/trial_9ef77_00008/checkpoint_000004)\n",
      "\u001b[36m(train_model pid=21212)\u001b[0m Checkpoint successfully created at: Checkpoint(filesystem=local, path=c:/Users/LEGION/Documents/Msc Data Science - Uni of Exeter/ECMM451 - Data Science Research Project (2023)/workspace/ray_results/SimpleCNN_ang_vel/trial_9ef77_00008/checkpoint_000005)\n",
      "\u001b[36m(train_model pid=21212)\u001b[0m Checkpoint successfully created at: Checkpoint(filesystem=local, path=c:/Users/LEGION/Documents/Msc Data Science - Uni of Exeter/ECMM451 - Data Science Research Project (2023)/workspace/ray_results/SimpleCNN_ang_vel/trial_9ef77_00008/checkpoint_000006)\n",
      "\u001b[36m(train_model pid=21212)\u001b[0m Checkpoint successfully created at: Checkpoint(filesystem=local, path=c:/Users/LEGION/Documents/Msc Data Science - Uni of Exeter/ECMM451 - Data Science Research Project (2023)/workspace/ray_results/SimpleCNN_ang_vel/trial_9ef77_00008/checkpoint_000007)\n",
      "\u001b[36m(train_model pid=21212)\u001b[0m Checkpoint successfully created at: Checkpoint(filesystem=local, path=c:/Users/LEGION/Documents/Msc Data Science - Uni of Exeter/ECMM451 - Data Science Research Project (2023)/workspace/ray_results/SimpleCNN_ang_vel/trial_9ef77_00008/checkpoint_000008)\n",
      "\u001b[36m(train_model pid=21212)\u001b[0m Checkpoint successfully created at: Checkpoint(filesystem=local, path=c:/Users/LEGION/Documents/Msc Data Science - Uni of Exeter/ECMM451 - Data Science Research Project (2023)/workspace/ray_results/SimpleCNN_ang_vel/trial_9ef77_00008/checkpoint_000009)\n",
      "\u001b[36m(train_model pid=26888)\u001b[0m Checkpoint successfully created at: Checkpoint(filesystem=local, path=c:/Users/LEGION/Documents/Msc Data Science - Uni of Exeter/ECMM451 - Data Science Research Project (2023)/workspace/ray_results/SimpleCNN_ang_vel/trial_9ef77_00009/checkpoint_000000)\n",
      "\u001b[36m(train_model pid=26888)\u001b[0m Checkpoint successfully created at: Checkpoint(filesystem=local, path=c:/Users/LEGION/Documents/Msc Data Science - Uni of Exeter/ECMM451 - Data Science Research Project (2023)/workspace/ray_results/SimpleCNN_ang_vel/trial_9ef77_00009/checkpoint_000001)\n",
      "\u001b[36m(train_model pid=23396)\u001b[0m Checkpoint successfully created at: Checkpoint(filesystem=local, path=c:/Users/LEGION/Documents/Msc Data Science - Uni of Exeter/ECMM451 - Data Science Research Project (2023)/workspace/ray_results/SimpleCNN_ang_vel/trial_9ef77_00010/checkpoint_000000)\n",
      "\u001b[36m(train_model pid=8868)\u001b[0m Checkpoint successfully created at: Checkpoint(filesystem=local, path=c:/Users/LEGION/Documents/Msc Data Science - Uni of Exeter/ECMM451 - Data Science Research Project (2023)/workspace/ray_results/SimpleCNN_ang_vel/trial_9ef77_00011/checkpoint_000000)\n",
      "\u001b[36m(train_model pid=22164)\u001b[0m Checkpoint successfully created at: Checkpoint(filesystem=local, path=c:/Users/LEGION/Documents/Msc Data Science - Uni of Exeter/ECMM451 - Data Science Research Project (2023)/workspace/ray_results/SimpleCNN_ang_vel/trial_9ef77_00012/checkpoint_000000)\n",
      "\u001b[36m(train_model pid=22164)\u001b[0m Checkpoint successfully created at: Checkpoint(filesystem=local, path=c:/Users/LEGION/Documents/Msc Data Science - Uni of Exeter/ECMM451 - Data Science Research Project (2023)/workspace/ray_results/SimpleCNN_ang_vel/trial_9ef77_00012/checkpoint_000001)\n",
      "\u001b[36m(train_model pid=2500)\u001b[0m Checkpoint successfully created at: Checkpoint(filesystem=local, path=c:/Users/LEGION/Documents/Msc Data Science - Uni of Exeter/ECMM451 - Data Science Research Project (2023)/workspace/ray_results/SimpleCNN_ang_vel/trial_9ef77_00013/checkpoint_000000)\n",
      "\u001b[36m(train_model pid=31048)\u001b[0m Checkpoint successfully created at: Checkpoint(filesystem=local, path=c:/Users/LEGION/Documents/Msc Data Science - Uni of Exeter/ECMM451 - Data Science Research Project (2023)/workspace/ray_results/SimpleCNN_ang_vel/trial_9ef77_00014/checkpoint_000000)\n",
      "\u001b[36m(train_model pid=31048)\u001b[0m Checkpoint successfully created at: Checkpoint(filesystem=local, path=c:/Users/LEGION/Documents/Msc Data Science - Uni of Exeter/ECMM451 - Data Science Research Project (2023)/workspace/ray_results/SimpleCNN_ang_vel/trial_9ef77_00014/checkpoint_000001)\n",
      "\u001b[36m(train_model pid=22496)\u001b[0m Checkpoint successfully created at: Checkpoint(filesystem=local, path=c:/Users/LEGION/Documents/Msc Data Science - Uni of Exeter/ECMM451 - Data Science Research Project (2023)/workspace/ray_results/SimpleCNN_ang_vel/trial_9ef77_00015/checkpoint_000000)\n",
      "\u001b[36m(train_model pid=22496)\u001b[0m Checkpoint successfully created at: Checkpoint(filesystem=local, path=c:/Users/LEGION/Documents/Msc Data Science - Uni of Exeter/ECMM451 - Data Science Research Project (2023)/workspace/ray_results/SimpleCNN_ang_vel/trial_9ef77_00015/checkpoint_000001)\n",
      "\u001b[36m(train_model pid=6768)\u001b[0m Checkpoint successfully created at: Checkpoint(filesystem=local, path=c:/Users/LEGION/Documents/Msc Data Science - Uni of Exeter/ECMM451 - Data Science Research Project (2023)/workspace/ray_results/SimpleCNN_ang_vel/trial_9ef77_00016/checkpoint_000000)\n",
      "\u001b[36m(train_model pid=6768)\u001b[0m Checkpoint successfully created at: Checkpoint(filesystem=local, path=c:/Users/LEGION/Documents/Msc Data Science - Uni of Exeter/ECMM451 - Data Science Research Project (2023)/workspace/ray_results/SimpleCNN_ang_vel/trial_9ef77_00016/checkpoint_000001)\n",
      "\u001b[36m(train_model pid=6768)\u001b[0m Checkpoint successfully created at: Checkpoint(filesystem=local, path=c:/Users/LEGION/Documents/Msc Data Science - Uni of Exeter/ECMM451 - Data Science Research Project (2023)/workspace/ray_results/SimpleCNN_ang_vel/trial_9ef77_00016/checkpoint_000002)\n",
      "\u001b[36m(train_model pid=6768)\u001b[0m Checkpoint successfully created at: Checkpoint(filesystem=local, path=c:/Users/LEGION/Documents/Msc Data Science - Uni of Exeter/ECMM451 - Data Science Research Project (2023)/workspace/ray_results/SimpleCNN_ang_vel/trial_9ef77_00016/checkpoint_000003)\n",
      "\u001b[36m(train_model pid=21672)\u001b[0m Checkpoint successfully created at: Checkpoint(filesystem=local, path=c:/Users/LEGION/Documents/Msc Data Science - Uni of Exeter/ECMM451 - Data Science Research Project (2023)/workspace/ray_results/SimpleCNN_ang_vel/trial_9ef77_00017/checkpoint_000000)\n",
      "\u001b[36m(train_model pid=21672)\u001b[0m Checkpoint successfully created at: Checkpoint(filesystem=local, path=c:/Users/LEGION/Documents/Msc Data Science - Uni of Exeter/ECMM451 - Data Science Research Project (2023)/workspace/ray_results/SimpleCNN_ang_vel/trial_9ef77_00017/checkpoint_000001)\n",
      "\u001b[36m(train_model pid=21672)\u001b[0m Checkpoint successfully created at: Checkpoint(filesystem=local, path=c:/Users/LEGION/Documents/Msc Data Science - Uni of Exeter/ECMM451 - Data Science Research Project (2023)/workspace/ray_results/SimpleCNN_ang_vel/trial_9ef77_00017/checkpoint_000002)\n",
      "\u001b[36m(train_model pid=21672)\u001b[0m Checkpoint successfully created at: Checkpoint(filesystem=local, path=c:/Users/LEGION/Documents/Msc Data Science - Uni of Exeter/ECMM451 - Data Science Research Project (2023)/workspace/ray_results/SimpleCNN_ang_vel/trial_9ef77_00017/checkpoint_000003)\n",
      "\u001b[36m(train_model pid=6728)\u001b[0m Checkpoint successfully created at: Checkpoint(filesystem=local, path=c:/Users/LEGION/Documents/Msc Data Science - Uni of Exeter/ECMM451 - Data Science Research Project (2023)/workspace/ray_results/SimpleCNN_ang_vel/trial_9ef77_00018/checkpoint_000000)\n",
      "\u001b[36m(train_model pid=11616)\u001b[0m Checkpoint successfully created at: Checkpoint(filesystem=local, path=c:/Users/LEGION/Documents/Msc Data Science - Uni of Exeter/ECMM451 - Data Science Research Project (2023)/workspace/ray_results/SimpleCNN_ang_vel/trial_9ef77_00019/checkpoint_000000)\n",
      "\u001b[36m(train_model pid=11616)\u001b[0m Checkpoint successfully created at: Checkpoint(filesystem=local, path=c:/Users/LEGION/Documents/Msc Data Science - Uni of Exeter/ECMM451 - Data Science Research Project (2023)/workspace/ray_results/SimpleCNN_ang_vel/trial_9ef77_00019/checkpoint_000001)\n",
      "\u001b[36m(train_model pid=2556)\u001b[0m Checkpoint successfully created at: Checkpoint(filesystem=local, path=c:/Users/LEGION/Documents/Msc Data Science - Uni of Exeter/ECMM451 - Data Science Research Project (2023)/workspace/ray_results/SimpleCNN_ang_vel/trial_9ef77_00020/checkpoint_000000)\n",
      "\u001b[36m(train_model pid=2556)\u001b[0m Checkpoint successfully created at: Checkpoint(filesystem=local, path=c:/Users/LEGION/Documents/Msc Data Science - Uni of Exeter/ECMM451 - Data Science Research Project (2023)/workspace/ray_results/SimpleCNN_ang_vel/trial_9ef77_00020/checkpoint_000001)\n",
      "\u001b[36m(train_model pid=28112)\u001b[0m Checkpoint successfully created at: Checkpoint(filesystem=local, path=c:/Users/LEGION/Documents/Msc Data Science - Uni of Exeter/ECMM451 - Data Science Research Project (2023)/workspace/ray_results/SimpleCNN_ang_vel/trial_9ef77_00021/checkpoint_000000)\n",
      "\u001b[36m(train_model pid=28640)\u001b[0m Checkpoint successfully created at: Checkpoint(filesystem=local, path=c:/Users/LEGION/Documents/Msc Data Science - Uni of Exeter/ECMM451 - Data Science Research Project (2023)/workspace/ray_results/SimpleCNN_ang_vel/trial_9ef77_00022/checkpoint_000000)\n",
      "\u001b[36m(train_model pid=27676)\u001b[0m Checkpoint successfully created at: Checkpoint(filesystem=local, path=c:/Users/LEGION/Documents/Msc Data Science - Uni of Exeter/ECMM451 - Data Science Research Project (2023)/workspace/ray_results/SimpleCNN_ang_vel/trial_9ef77_00023/checkpoint_000000)\n",
      "\u001b[36m(train_model pid=27676)\u001b[0m Checkpoint successfully created at: Checkpoint(filesystem=local, path=c:/Users/LEGION/Documents/Msc Data Science - Uni of Exeter/ECMM451 - Data Science Research Project (2023)/workspace/ray_results/SimpleCNN_ang_vel/trial_9ef77_00023/checkpoint_000001)\n",
      "\u001b[36m(train_model pid=27676)\u001b[0m Checkpoint successfully created at: Checkpoint(filesystem=local, path=c:/Users/LEGION/Documents/Msc Data Science - Uni of Exeter/ECMM451 - Data Science Research Project (2023)/workspace/ray_results/SimpleCNN_ang_vel/trial_9ef77_00023/checkpoint_000002)\n",
      "\u001b[36m(train_model pid=27676)\u001b[0m Checkpoint successfully created at: Checkpoint(filesystem=local, path=c:/Users/LEGION/Documents/Msc Data Science - Uni of Exeter/ECMM451 - Data Science Research Project (2023)/workspace/ray_results/SimpleCNN_ang_vel/trial_9ef77_00023/checkpoint_000003)\n",
      "\u001b[36m(train_model pid=24788)\u001b[0m Checkpoint successfully created at: Checkpoint(filesystem=local, path=c:/Users/LEGION/Documents/Msc Data Science - Uni of Exeter/ECMM451 - Data Science Research Project (2023)/workspace/ray_results/SimpleCNN_ang_vel/trial_9ef77_00024/checkpoint_000000)\n",
      "\u001b[36m(train_model pid=24788)\u001b[0m Checkpoint successfully created at: Checkpoint(filesystem=local, path=c:/Users/LEGION/Documents/Msc Data Science - Uni of Exeter/ECMM451 - Data Science Research Project (2023)/workspace/ray_results/SimpleCNN_ang_vel/trial_9ef77_00024/checkpoint_000001)\n"
     ]
    },
    {
     "name": "stderr",
     "output_type": "stream",
     "text": [
      "2024-07-23 05:18:16,160\tINFO tune.py:1009 -- Wrote the latest version of all result files and experiment state to 'c:/Users/LEGION/Documents/Msc Data Science - Uni of Exeter/ECMM451 - Data Science Research Project (2023)/workspace/ray_results/SimpleCNN_tranv' in 0.0400s.\n",
      "2024-07-23 05:18:16,180\tINFO tune.py:1041 -- Total run time: 5576.65 seconds (5576.56 seconds for the tuning loop).\n"
     ]
    },
    {
     "name": "stdout",
     "output_type": "stream",
     "text": [
      "Best trial config: {'optimizer': 'adam', 'lr': 0.00015558427999575448, 'scheduler': 'exp', 'gamma': 0.6560277884599833, 'epochs': 30, 'batch_size': 32}\n",
      "Best trial final validation loss: 1.1554321087639905\n",
      "Best trial final validation accuracy: 68.9804%\n",
      "Test Accuracy: 0.6977770089092639\n",
      "Best trial test set accuracy: 0.6978%\n"
     ]
    }
   ],
   "source": [
    "mytuner.main(train_datasets['tranv_acc'], valid_datasets['tranv_acc'], \n",
    "             test_datasets['tranv_acc'], num_samples=25)"
   ]
  },
  {
   "cell_type": "markdown",
   "metadata": {},
   "source": [
    "Hyperparam Tuning - Ang. Vel Model"
   ]
  },
  {
   "cell_type": "code",
   "execution_count": 53,
   "metadata": {},
   "outputs": [],
   "source": [
    "# Enhanced Hyperparameter search space\n",
    "config = {\n",
    "    \"optimizer\": tune.choice([\"adam\"]),\n",
    "    \"lr\": tune.loguniform(1e-4, 1e-1),\n",
    "    \"scheduler\": tune.choice([\"exp\"]),\n",
    "    \"gamma\": tune.uniform(0.1, 0.9),\n",
    "    \"epochs\": tune.choice([30]),\n",
    "    \"batch_size\": tune.choice([32])\n",
    "}\n",
    "\n",
    "criterion = nn.CrossEntropyLoss(weight=class_weights)\n",
    "save_dir = 'SimpleCNN_ang_vel'\n",
    "model = SimpleCNN\n",
    "modelType = 'SimpleCNN'\n",
    "engine = simpleCNN_engine"
   ]
  },
  {
   "cell_type": "code",
   "execution_count": 54,
   "metadata": {},
   "outputs": [],
   "source": [
    "mytuner = RayTuning(config, save_dir, criterion, model, modelType, engine)"
   ]
  },
  {
   "cell_type": "code",
   "execution_count": 55,
   "metadata": {},
   "outputs": [
    {
     "data": {
      "text/html": [
       "<div class=\"tuneStatus\">\n",
       "  <div style=\"display: flex;flex-direction: row\">\n",
       "    <div style=\"display: flex;flex-direction: column;\">\n",
       "      <h3>Tune Status</h3>\n",
       "      <table>\n",
       "<tbody>\n",
       "<tr><td>Current time:</td><td>2024-07-23 06:23:21</td></tr>\n",
       "<tr><td>Running for: </td><td>01:04:49.53        </td></tr>\n",
       "<tr><td>Memory:      </td><td>9.6/13.9 GiB       </td></tr>\n",
       "</tbody>\n",
       "</table>\n",
       "    </div>\n",
       "    <div class=\"vDivider\"></div>\n",
       "    <div class=\"systemInfo\">\n",
       "      <h3>System Info</h3>\n",
       "      Using AsyncHyperBand: num_stopped=25<br>Bracket: Iter 8.000: -1.1339769666564876 | Iter 4.000: -1.14228667983432 | Iter 2.000: -1.2079457284832487 | Iter 1.000: -1.378353605599239<br>Logical resource usage: 2.0/16 CPUs, 1.0/1 GPUs (0.0/1.0 accelerator_type:G)\n",
       "    </div>\n",
       "    \n",
       "  </div>\n",
       "  <div class=\"hDivider\"></div>\n",
       "  <div class=\"trialStatus\">\n",
       "    <h3>Trial Status</h3>\n",
       "    <table>\n",
       "<thead>\n",
       "<tr><th>Trial name             </th><th>status    </th><th>loc            </th><th style=\"text-align: right;\">  batch_size</th><th style=\"text-align: right;\">  epochs</th><th style=\"text-align: right;\">   gamma</th><th style=\"text-align: right;\">         lr</th><th>optimizer  </th><th>scheduler  </th><th style=\"text-align: right;\">  iter</th><th style=\"text-align: right;\">  total time (s)</th><th style=\"text-align: right;\">   loss</th><th style=\"text-align: right;\">  accuracy</th></tr>\n",
       "</thead>\n",
       "<tbody>\n",
       "<tr><td>train_model_9ef77_00000</td><td>TERMINATED</td><td>127.0.0.1:4452 </td><td style=\"text-align: right;\">          32</td><td style=\"text-align: right;\">      30</td><td style=\"text-align: right;\">0.474057</td><td style=\"text-align: right;\">0.000136621</td><td>adam       </td><td>exp        </td><td style=\"text-align: right;\">    10</td><td style=\"text-align: right;\">        539.02  </td><td style=\"text-align: right;\">1.13842</td><td style=\"text-align: right;\">  66.7207 </td></tr>\n",
       "<tr><td>train_model_9ef77_00001</td><td>TERMINATED</td><td>127.0.0.1:3772 </td><td style=\"text-align: right;\">          32</td><td style=\"text-align: right;\">      30</td><td style=\"text-align: right;\">0.898858</td><td style=\"text-align: right;\">0.00315015 </td><td>adam       </td><td>exp        </td><td style=\"text-align: right;\">     1</td><td style=\"text-align: right;\">         53.2317</td><td style=\"text-align: right;\">1.37947</td><td style=\"text-align: right;\">  84.9605 </td></tr>\n",
       "<tr><td>train_model_9ef77_00002</td><td>TERMINATED</td><td>127.0.0.1:26444</td><td style=\"text-align: right;\">          32</td><td style=\"text-align: right;\">      30</td><td style=\"text-align: right;\">0.109741</td><td style=\"text-align: right;\">0.00244631 </td><td>adam       </td><td>exp        </td><td style=\"text-align: right;\">     1</td><td style=\"text-align: right;\">         53.1354</td><td style=\"text-align: right;\">1.37943</td><td style=\"text-align: right;\">  84.9605 </td></tr>\n",
       "<tr><td>train_model_9ef77_00003</td><td>TERMINATED</td><td>127.0.0.1:3536 </td><td style=\"text-align: right;\">          32</td><td style=\"text-align: right;\">      30</td><td style=\"text-align: right;\">0.770702</td><td style=\"text-align: right;\">0.0657038  </td><td>adam       </td><td>exp        </td><td style=\"text-align: right;\">     1</td><td style=\"text-align: right;\">         53.2717</td><td style=\"text-align: right;\">1.3821 </td><td style=\"text-align: right;\">  84.9605 </td></tr>\n",
       "<tr><td>train_model_9ef77_00004</td><td>TERMINATED</td><td>127.0.0.1:21172</td><td style=\"text-align: right;\">          32</td><td style=\"text-align: right;\">      30</td><td style=\"text-align: right;\">0.393712</td><td style=\"text-align: right;\">0.0106806  </td><td>adam       </td><td>exp        </td><td style=\"text-align: right;\">     1</td><td style=\"text-align: right;\">         53.171 </td><td style=\"text-align: right;\">1.38347</td><td style=\"text-align: right;\">   7.64407</td></tr>\n",
       "<tr><td>train_model_9ef77_00005</td><td>TERMINATED</td><td>127.0.0.1:20292</td><td style=\"text-align: right;\">          32</td><td style=\"text-align: right;\">      30</td><td style=\"text-align: right;\">0.236029</td><td style=\"text-align: right;\">0.0177161  </td><td>adam       </td><td>exp        </td><td style=\"text-align: right;\">     1</td><td style=\"text-align: right;\">         53.3745</td><td style=\"text-align: right;\">1.3841 </td><td style=\"text-align: right;\">  84.9605 </td></tr>\n",
       "<tr><td>train_model_9ef77_00006</td><td>TERMINATED</td><td>127.0.0.1:12816</td><td style=\"text-align: right;\">          32</td><td style=\"text-align: right;\">      30</td><td style=\"text-align: right;\">0.136814</td><td style=\"text-align: right;\">0.000519261</td><td>adam       </td><td>exp        </td><td style=\"text-align: right;\">     4</td><td style=\"text-align: right;\">        215.238 </td><td style=\"text-align: right;\">1.15837</td><td style=\"text-align: right;\">  67.1424 </td></tr>\n",
       "<tr><td>train_model_9ef77_00007</td><td>TERMINATED</td><td>127.0.0.1:3788 </td><td style=\"text-align: right;\">          32</td><td style=\"text-align: right;\">      30</td><td style=\"text-align: right;\">0.17845 </td><td style=\"text-align: right;\">0.000141587</td><td>adam       </td><td>exp        </td><td style=\"text-align: right;\">     8</td><td style=\"text-align: right;\">        431.516 </td><td style=\"text-align: right;\">1.14582</td><td style=\"text-align: right;\">  67.4884 </td></tr>\n",
       "<tr><td>train_model_9ef77_00008</td><td>TERMINATED</td><td>127.0.0.1:21212</td><td style=\"text-align: right;\">          32</td><td style=\"text-align: right;\">      30</td><td style=\"text-align: right;\">0.473721</td><td style=\"text-align: right;\">0.00019825 </td><td>adam       </td><td>exp        </td><td style=\"text-align: right;\">    10</td><td style=\"text-align: right;\">        537.736 </td><td style=\"text-align: right;\">1.14285</td><td style=\"text-align: right;\">  67.8992 </td></tr>\n",
       "<tr><td>train_model_9ef77_00009</td><td>TERMINATED</td><td>127.0.0.1:26888</td><td style=\"text-align: right;\">          32</td><td style=\"text-align: right;\">      30</td><td style=\"text-align: right;\">0.360715</td><td style=\"text-align: right;\">0.00102641 </td><td>adam       </td><td>exp        </td><td style=\"text-align: right;\">     2</td><td style=\"text-align: right;\">        107.083 </td><td style=\"text-align: right;\">1.25254</td><td style=\"text-align: right;\">  35.0957 </td></tr>\n",
       "<tr><td>train_model_9ef77_00010</td><td>TERMINATED</td><td>127.0.0.1:23396</td><td style=\"text-align: right;\">          32</td><td style=\"text-align: right;\">      30</td><td style=\"text-align: right;\">0.135639</td><td style=\"text-align: right;\">0.0127479  </td><td>adam       </td><td>exp        </td><td style=\"text-align: right;\">     1</td><td style=\"text-align: right;\">         53.0861</td><td style=\"text-align: right;\">1.37843</td><td style=\"text-align: right;\">  84.9605 </td></tr>\n",
       "<tr><td>train_model_9ef77_00011</td><td>TERMINATED</td><td>127.0.0.1:8868 </td><td style=\"text-align: right;\">          32</td><td style=\"text-align: right;\">      30</td><td style=\"text-align: right;\">0.491794</td><td style=\"text-align: right;\">0.0801237  </td><td>adam       </td><td>exp        </td><td style=\"text-align: right;\">     1</td><td style=\"text-align: right;\">         54.0222</td><td style=\"text-align: right;\">1.38515</td><td style=\"text-align: right;\">  84.9605 </td></tr>\n",
       "<tr><td>train_model_9ef77_00012</td><td>TERMINATED</td><td>127.0.0.1:22164</td><td style=\"text-align: right;\">          32</td><td style=\"text-align: right;\">      30</td><td style=\"text-align: right;\">0.727599</td><td style=\"text-align: right;\">0.00456985 </td><td>adam       </td><td>exp        </td><td style=\"text-align: right;\">     2</td><td style=\"text-align: right;\">        107.957 </td><td style=\"text-align: right;\">1.3795 </td><td style=\"text-align: right;\">  84.9605 </td></tr>\n",
       "<tr><td>train_model_9ef77_00013</td><td>TERMINATED</td><td>127.0.0.1:2500 </td><td style=\"text-align: right;\">          32</td><td style=\"text-align: right;\">      30</td><td style=\"text-align: right;\">0.318406</td><td style=\"text-align: right;\">0.0241579  </td><td>adam       </td><td>exp        </td><td style=\"text-align: right;\">     1</td><td style=\"text-align: right;\">         54.0577</td><td style=\"text-align: right;\">1.37966</td><td style=\"text-align: right;\">  84.9605 </td></tr>\n",
       "<tr><td>train_model_9ef77_00014</td><td>TERMINATED</td><td>127.0.0.1:31048</td><td style=\"text-align: right;\">          32</td><td style=\"text-align: right;\">      30</td><td style=\"text-align: right;\">0.201025</td><td style=\"text-align: right;\">0.00246356 </td><td>adam       </td><td>exp        </td><td style=\"text-align: right;\">     2</td><td style=\"text-align: right;\">        107.905 </td><td style=\"text-align: right;\">1.37999</td><td style=\"text-align: right;\">  84.9605 </td></tr>\n",
       "<tr><td>train_model_9ef77_00015</td><td>TERMINATED</td><td>127.0.0.1:22496</td><td style=\"text-align: right;\">          32</td><td style=\"text-align: right;\">      30</td><td style=\"text-align: right;\">0.677664</td><td style=\"text-align: right;\">0.00100822 </td><td>adam       </td><td>exp        </td><td style=\"text-align: right;\">     2</td><td style=\"text-align: right;\">        108.132 </td><td style=\"text-align: right;\">1.29876</td><td style=\"text-align: right;\">  38.7826 </td></tr>\n",
       "<tr><td>train_model_9ef77_00016</td><td>TERMINATED</td><td>127.0.0.1:6768 </td><td style=\"text-align: right;\">          32</td><td style=\"text-align: right;\">      30</td><td style=\"text-align: right;\">0.296424</td><td style=\"text-align: right;\">0.000384644</td><td>adam       </td><td>exp        </td><td style=\"text-align: right;\">     4</td><td style=\"text-align: right;\">        215.606 </td><td style=\"text-align: right;\">1.14227</td><td style=\"text-align: right;\">  66.7532 </td></tr>\n",
       "<tr><td>train_model_9ef77_00017</td><td>TERMINATED</td><td>127.0.0.1:21672</td><td style=\"text-align: right;\">          32</td><td style=\"text-align: right;\">      30</td><td style=\"text-align: right;\">0.144188</td><td style=\"text-align: right;\">0.000109739</td><td>adam       </td><td>exp        </td><td style=\"text-align: right;\">     4</td><td style=\"text-align: right;\">        215.727 </td><td style=\"text-align: right;\">1.14313</td><td style=\"text-align: right;\">  66.4396 </td></tr>\n",
       "<tr><td>train_model_9ef77_00018</td><td>TERMINATED</td><td>127.0.0.1:6728 </td><td style=\"text-align: right;\">          32</td><td style=\"text-align: right;\">      30</td><td style=\"text-align: right;\">0.552075</td><td style=\"text-align: right;\">0.0671653  </td><td>adam       </td><td>exp        </td><td style=\"text-align: right;\">     1</td><td style=\"text-align: right;\">         53.3121</td><td style=\"text-align: right;\">1.39318</td><td style=\"text-align: right;\">  84.9605 </td></tr>\n",
       "<tr><td>train_model_9ef77_00019</td><td>TERMINATED</td><td>127.0.0.1:11616</td><td style=\"text-align: right;\">          32</td><td style=\"text-align: right;\">      30</td><td style=\"text-align: right;\">0.138887</td><td style=\"text-align: right;\">0.0577732  </td><td>adam       </td><td>exp        </td><td style=\"text-align: right;\">     2</td><td style=\"text-align: right;\">        107.461 </td><td style=\"text-align: right;\">1.38135</td><td style=\"text-align: right;\">  84.9605 </td></tr>\n",
       "<tr><td>train_model_9ef77_00020</td><td>TERMINATED</td><td>127.0.0.1:2556 </td><td style=\"text-align: right;\">          32</td><td style=\"text-align: right;\">      30</td><td style=\"text-align: right;\">0.457426</td><td style=\"text-align: right;\">0.00115189 </td><td>adam       </td><td>exp        </td><td style=\"text-align: right;\">     2</td><td style=\"text-align: right;\">        107.517 </td><td style=\"text-align: right;\">1.30413</td><td style=\"text-align: right;\">  38.6204 </td></tr>\n",
       "<tr><td>train_model_9ef77_00021</td><td>TERMINATED</td><td>127.0.0.1:28112</td><td style=\"text-align: right;\">          32</td><td style=\"text-align: right;\">      30</td><td style=\"text-align: right;\">0.579612</td><td style=\"text-align: right;\">0.0891025  </td><td>adam       </td><td>exp        </td><td style=\"text-align: right;\">     1</td><td style=\"text-align: right;\">         54.2797</td><td style=\"text-align: right;\">1.38918</td><td style=\"text-align: right;\">   2.4327 </td></tr>\n",
       "<tr><td>train_model_9ef77_00022</td><td>TERMINATED</td><td>127.0.0.1:28640</td><td style=\"text-align: right;\">          32</td><td style=\"text-align: right;\">      30</td><td style=\"text-align: right;\">0.338388</td><td style=\"text-align: right;\">0.00271766 </td><td>adam       </td><td>exp        </td><td style=\"text-align: right;\">     1</td><td style=\"text-align: right;\">         54.0621</td><td style=\"text-align: right;\">1.3794 </td><td style=\"text-align: right;\">  84.9605 </td></tr>\n",
       "<tr><td>train_model_9ef77_00023</td><td>TERMINATED</td><td>127.0.0.1:27676</td><td style=\"text-align: right;\">          32</td><td style=\"text-align: right;\">      30</td><td style=\"text-align: right;\">0.757556</td><td style=\"text-align: right;\">0.000423185</td><td>adam       </td><td>exp        </td><td style=\"text-align: right;\">     4</td><td style=\"text-align: right;\">        216.463 </td><td style=\"text-align: right;\">1.17434</td><td style=\"text-align: right;\">  71.8456 </td></tr>\n",
       "<tr><td>train_model_9ef77_00024</td><td>TERMINATED</td><td>127.0.0.1:24788</td><td style=\"text-align: right;\">          32</td><td style=\"text-align: right;\">      30</td><td style=\"text-align: right;\">0.455062</td><td style=\"text-align: right;\">0.00136997 </td><td>adam       </td><td>exp        </td><td style=\"text-align: right;\">     2</td><td style=\"text-align: right;\">        108.206 </td><td style=\"text-align: right;\">1.30073</td><td style=\"text-align: right;\">  38.6961 </td></tr>\n",
       "</tbody>\n",
       "</table>\n",
       "  </div>\n",
       "</div>\n",
       "<style>\n",
       ".tuneStatus {\n",
       "  color: var(--jp-ui-font-color1);\n",
       "}\n",
       ".tuneStatus .systemInfo {\n",
       "  display: flex;\n",
       "  flex-direction: column;\n",
       "}\n",
       ".tuneStatus td {\n",
       "  white-space: nowrap;\n",
       "}\n",
       ".tuneStatus .trialStatus {\n",
       "  display: flex;\n",
       "  flex-direction: column;\n",
       "}\n",
       ".tuneStatus h3 {\n",
       "  font-weight: bold;\n",
       "}\n",
       ".tuneStatus .hDivider {\n",
       "  border-bottom-width: var(--jp-border-width);\n",
       "  border-bottom-color: var(--jp-border-color0);\n",
       "  border-bottom-style: solid;\n",
       "}\n",
       ".tuneStatus .vDivider {\n",
       "  border-left-width: var(--jp-border-width);\n",
       "  border-left-color: var(--jp-border-color0);\n",
       "  border-left-style: solid;\n",
       "  margin: 0.5em 1em 0.5em 1em;\n",
       "}\n",
       "</style>\n"
      ],
      "text/plain": [
       "<IPython.core.display.HTML object>"
      ]
     },
     "metadata": {},
     "output_type": "display_data"
    },
    {
     "name": "stderr",
     "output_type": "stream",
     "text": [
      "2024-07-23 06:23:21,580\tINFO tune.py:1009 -- Wrote the latest version of all result files and experiment state to 'c:/Users/LEGION/Documents/Msc Data Science - Uni of Exeter/ECMM451 - Data Science Research Project (2023)/workspace/ray_results/SimpleCNN_ang_vel' in 0.0300s.\n",
      "2024-07-23 06:23:21,607\tINFO tune.py:1041 -- Total run time: 3889.56 seconds (3889.50 seconds for the tuning loop).\n"
     ]
    },
    {
     "name": "stdout",
     "output_type": "stream",
     "text": [
      "Best trial config: {'optimizer': 'adam', 'lr': 0.00013662142756319453, 'scheduler': 'exp', 'gamma': 0.4740572036017916, 'epochs': 30, 'batch_size': 32}\n",
      "Best trial final validation loss: 1.138420147525853\n",
      "Best trial final validation accuracy: 66.7207%\n",
      "Test Accuracy: 0.6771905544503071\n",
      "Best trial test set accuracy: 0.6772%\n"
     ]
    }
   ],
   "source": [
    "mytuner.main(train_datasets['ang_vel'], valid_datasets['ang_vel'], \n",
    "             test_datasets['ang_vel'], num_samples=25)"
   ]
  },
  {
   "cell_type": "markdown",
   "metadata": {},
   "source": [
    "To view tensorboard, run below in terminal;\n",
    "\n",
    "`tensorboard --logdir=\"c:/Users/LEGION/Documents/Msc Data Science - Uni of Exeter/ECMM451 - Data Science Research Project (2023)/workspace/ray_results/SimpleCNN_long\"`\n",
    "\n",
    "-----\n",
    "\n",
    "Time to train the model with the given optimal hyperparameters"
   ]
  },
  {
   "cell_type": "code",
   "execution_count": 27,
   "metadata": {},
   "outputs": [],
   "source": [
    "import torch\n",
    "import torch.nn as nn\n",
    "import torch.optim as optim\n",
    "from src.model_simpleCNN import SimpleCNN\n",
    "from src.engine import simpleCNN_engine"
   ]
  },
  {
   "cell_type": "code",
   "execution_count": 28,
   "metadata": {},
   "outputs": [],
   "source": [
    "np.random.seed(42)\n",
    "\n",
    "batch_size = 32\n",
    "train_dl_long = DataLoader(train_datasets['long_acc'], batch_size, shuffle=True, num_workers=4)\n",
    "train_dl_tranv = DataLoader(train_datasets['tranv_acc'], batch_size, shuffle=True, num_workers=4)\n",
    "train_dl_angvel = DataLoader(train_datasets['ang_vel'], batch_size, shuffle=True, num_workers=4)\n",
    "\n",
    "valid_dl_long = DataLoader(valid_datasets['long_acc'], batch_size, shuffle=True, num_workers=4)\n",
    "valid_dl_tranv = DataLoader(valid_datasets['tranv_acc'], batch_size, shuffle=True, num_workers=4)\n",
    "valid_dl_angvel = DataLoader(valid_datasets['ang_vel'], batch_size, shuffle=True, num_workers=4)\n",
    "\n",
    "test_dl_long = DataLoader(test_datasets['long_acc'], batch_size, shuffle=False, num_workers=2)\n",
    "test_dl_tranv = DataLoader(test_datasets['tranv_acc'], batch_size, shuffle=False, num_workers=2)\n",
    "test_dl_angvel = DataLoader(test_datasets['ang_vel'], batch_size, shuffle=False, num_workers=2)"
   ]
  },
  {
   "cell_type": "markdown",
   "metadata": {},
   "source": [
    "Longitudinal acceleration"
   ]
  },
  {
   "cell_type": "code",
   "execution_count": 29,
   "metadata": {},
   "outputs": [],
   "source": [
    "criterion = nn.CrossEntropyLoss(weight=class_weights)\n",
    "model_long = SimpleCNN()\n",
    "optimizer_long = optim.Adam(model_long.parameters(), lr=0.00011113828101205411)\n",
    "scheduler_long = optim.lr_scheduler.ExponentialLR(optimizer_long, gamma=0.8492356384312725)\n",
    "device = torch.device(\"cuda\" if torch.cuda.is_available() else \"cpu\")\n",
    "\n",
    "model_long = model_long.to(device)"
   ]
  },
  {
   "cell_type": "code",
   "execution_count": 30,
   "metadata": {},
   "outputs": [],
   "source": [
    "engine_long = simpleCNN_engine(model_long, optimizer_long, scheduler_long, criterion, device)"
   ]
  },
  {
   "cell_type": "code",
   "execution_count": 31,
   "metadata": {},
   "outputs": [
    {
     "name": "stdout",
     "output_type": "stream",
     "text": [
      "   Epoch [1/40], Train Loss: 1.3286, Train Accuracy: 39.23%, Val Loss: 1.3104, Val Accuracy: 31.56%\n",
      "   Epoch [2/40], Train Loss: 1.2925, Train Accuracy: 35.90%, Val Loss: 1.2938, Val Accuracy: 46.71%\n",
      "   Epoch [3/40], Train Loss: 1.2662, Train Accuracy: 38.84%, Val Loss: 1.2623, Val Accuracy: 44.75%\n",
      "   Epoch [4/40], Train Loss: 1.2091, Train Accuracy: 46.81%, Val Loss: 1.2171, Val Accuracy: 56.19%\n",
      "   Epoch [5/40], Train Loss: 1.1340, Train Accuracy: 61.55%, Val Loss: 1.1841, Val Accuracy: 67.09%\n",
      "   Epoch [6/40], Train Loss: 1.0782, Train Accuracy: 66.04%, Val Loss: 1.1762, Val Accuracy: 75.54%\n",
      "   Epoch [7/40], Train Loss: 1.0390, Train Accuracy: 67.64%, Val Loss: 1.1391, Val Accuracy: 68.08%\n",
      "   Epoch [8/40], Train Loss: 1.0090, Train Accuracy: 69.23%, Val Loss: 1.1286, Val Accuracy: 63.36%\n",
      "   Epoch [9/40], Train Loss: 0.9887, Train Accuracy: 69.74%, Val Loss: 1.1206, Val Accuracy: 71.31%\n",
      "   Epoch [10/40], Train Loss: 0.9648, Train Accuracy: 69.96%, Val Loss: 1.1034, Val Accuracy: 68.32%\n",
      "   Epoch [11/40], Train Loss: 0.9480, Train Accuracy: 70.48%, Val Loss: 1.1218, Val Accuracy: 69.93%\n",
      "   Epoch [12/40], Train Loss: 0.9343, Train Accuracy: 70.84%, Val Loss: 1.1071, Val Accuracy: 71.85%\n",
      "   Epoch [13/40], Train Loss: 0.9243, Train Accuracy: 70.94%, Val Loss: 1.0953, Val Accuracy: 69.55%\n",
      "   Epoch [14/40], Train Loss: 0.9166, Train Accuracy: 71.55%, Val Loss: 1.0954, Val Accuracy: 69.30%\n",
      "   Epoch [15/40], Train Loss: 0.9078, Train Accuracy: 71.71%, Val Loss: 1.0936, Val Accuracy: 70.30%\n",
      "   Epoch [16/40], Train Loss: 0.8964, Train Accuracy: 71.90%, Val Loss: 1.1019, Val Accuracy: 69.01%\n",
      "   Epoch [17/40], Train Loss: 0.8926, Train Accuracy: 71.82%, Val Loss: 1.0821, Val Accuracy: 70.83%\n",
      "   Epoch [18/40], Train Loss: 0.8864, Train Accuracy: 72.22%, Val Loss: 1.0898, Val Accuracy: 69.59%\n",
      "   Epoch [19/40], Train Loss: 0.8814, Train Accuracy: 72.28%, Val Loss: 1.0767, Val Accuracy: 68.27%\n",
      "   Epoch [20/40], Train Loss: 0.8788, Train Accuracy: 72.15%, Val Loss: 1.0790, Val Accuracy: 69.66%\n",
      "   Epoch [21/40], Train Loss: 0.8782, Train Accuracy: 72.11%, Val Loss: 1.0817, Val Accuracy: 69.73%\n",
      "   Epoch [22/40], Train Loss: 0.8729, Train Accuracy: 72.42%, Val Loss: 1.0709, Val Accuracy: 68.16%\n",
      "   Epoch [23/40], Train Loss: 0.8721, Train Accuracy: 72.38%, Val Loss: 1.0847, Val Accuracy: 69.95%\n",
      "   Epoch [24/40], Train Loss: 0.8695, Train Accuracy: 72.47%, Val Loss: 1.0854, Val Accuracy: 68.16%\n",
      "   Epoch [25/40], Train Loss: 0.8684, Train Accuracy: 72.35%, Val Loss: 1.0754, Val Accuracy: 69.89%\n",
      "   Epoch [26/40], Train Loss: 0.8673, Train Accuracy: 72.61%, Val Loss: 1.0973, Val Accuracy: 69.38%\n",
      "   Epoch [27/40], Train Loss: 0.8624, Train Accuracy: 72.57%, Val Loss: 1.0758, Val Accuracy: 68.72%\n",
      "   Epoch [28/40], Train Loss: 0.8660, Train Accuracy: 72.47%, Val Loss: 1.0865, Val Accuracy: 70.10%\n",
      "   Epoch [29/40], Train Loss: 0.8639, Train Accuracy: 72.70%, Val Loss: 1.1025, Val Accuracy: 68.87%\n",
      "   Epoch [30/40], Train Loss: 0.8628, Train Accuracy: 72.77%, Val Loss: 1.0802, Val Accuracy: 69.70%\n",
      "   Epoch [31/40], Train Loss: 0.8614, Train Accuracy: 72.61%, Val Loss: 1.0816, Val Accuracy: 70.42%\n",
      "   Epoch [32/40], Train Loss: 0.8599, Train Accuracy: 72.79%, Val Loss: 1.0735, Val Accuracy: 70.17%\n",
      "   Epoch [33/40], Train Loss: 0.8610, Train Accuracy: 72.61%, Val Loss: 1.0799, Val Accuracy: 69.73%\n",
      "   Epoch [34/40], Train Loss: 0.8608, Train Accuracy: 72.75%, Val Loss: 1.0842, Val Accuracy: 69.19%\n",
      "   Epoch [35/40], Train Loss: 0.8637, Train Accuracy: 72.69%, Val Loss: 1.0786, Val Accuracy: 69.02%\n",
      "   Epoch [36/40], Train Loss: 0.8603, Train Accuracy: 72.58%, Val Loss: 1.0711, Val Accuracy: 69.11%\n",
      "   Epoch [37/40], Train Loss: 0.8597, Train Accuracy: 72.52%, Val Loss: 1.0874, Val Accuracy: 69.89%\n",
      "   Epoch [38/40], Train Loss: 0.8597, Train Accuracy: 72.79%, Val Loss: 1.0783, Val Accuracy: 69.67%\n",
      "   Epoch [39/40], Train Loss: 0.8633, Train Accuracy: 72.68%, Val Loss: 1.0948, Val Accuracy: 69.26%\n",
      "   Epoch [40/40], Train Loss: 0.8611, Train Accuracy: 72.63%, Val Loss: 1.0741, Val Accuracy: 69.43%\n"
     ]
    }
   ],
   "source": [
    "long_hist = engine_long.train_validation(train_dl_long, valid_dl_long, epochs=40, save_path='./model_checkpoint/run1_simpleCNN_long_chkpt.pth')\n",
    "\n",
    "np.save('./model_checkpoint/run1_long_history.npy', np.array(long_hist))"
   ]
  },
  {
   "cell_type": "markdown",
   "metadata": {},
   "source": [
    "Tranversal Acceleration"
   ]
  },
  {
   "cell_type": "code",
   "execution_count": 32,
   "metadata": {},
   "outputs": [],
   "source": [
    "criterion = nn.CrossEntropyLoss(weight=class_weights)\n",
    "model_tranv = SimpleCNN()\n",
    "optimizer_tranv = optim.Adam(model_tranv.parameters(), lr=0.00015558427999575448)\n",
    "scheduler_tranv = optim.lr_scheduler.ExponentialLR(optimizer_tranv, gamma=0.6560277884599833)\n",
    "device = torch.device(\"cuda\" if torch.cuda.is_available() else \"cpu\")\n",
    "\n",
    "model_tranv = model_tranv.to(device)"
   ]
  },
  {
   "cell_type": "code",
   "execution_count": 33,
   "metadata": {},
   "outputs": [],
   "source": [
    "engine_tranv = simpleCNN_engine(model_tranv, optimizer_tranv, scheduler_tranv, criterion, device)"
   ]
  },
  {
   "cell_type": "code",
   "execution_count": 34,
   "metadata": {},
   "outputs": [
    {
     "name": "stdout",
     "output_type": "stream",
     "text": [
      "   Epoch [1/40], Train Loss: 1.3274, Train Accuracy: 40.59%, Val Loss: 1.3034, Val Accuracy: 32.94%\n",
      "   Epoch [2/40], Train Loss: 1.2930, Train Accuracy: 37.02%, Val Loss: 1.2983, Val Accuracy: 31.38%\n",
      "   Epoch [3/40], Train Loss: 1.2636, Train Accuracy: 38.70%, Val Loss: 1.2847, Val Accuracy: 40.63%\n",
      "   Epoch [4/40], Train Loss: 1.2065, Train Accuracy: 48.59%, Val Loss: 1.2414, Val Accuracy: 61.71%\n",
      "   Epoch [5/40], Train Loss: 1.1552, Train Accuracy: 58.14%, Val Loss: 1.2038, Val Accuracy: 64.50%\n",
      "   Epoch [6/40], Train Loss: 1.1254, Train Accuracy: 63.33%, Val Loss: 1.2062, Val Accuracy: 54.76%\n",
      "   Epoch [7/40], Train Loss: 1.1019, Train Accuracy: 65.56%, Val Loss: 1.1791, Val Accuracy: 65.26%\n",
      "   Epoch [8/40], Train Loss: 1.0918, Train Accuracy: 66.68%, Val Loss: 1.1738, Val Accuracy: 62.98%\n",
      "   Epoch [9/40], Train Loss: 1.0863, Train Accuracy: 66.32%, Val Loss: 1.1740, Val Accuracy: 67.28%\n",
      "   Epoch [10/40], Train Loss: 1.0778, Train Accuracy: 67.20%, Val Loss: 1.1746, Val Accuracy: 66.12%\n",
      "   Epoch [11/40], Train Loss: 1.0766, Train Accuracy: 67.52%, Val Loss: 1.1778, Val Accuracy: 63.89%\n",
      "   Epoch [12/40], Train Loss: 1.0733, Train Accuracy: 67.34%, Val Loss: 1.1777, Val Accuracy: 64.00%\n",
      "   Epoch [13/40], Train Loss: 1.0726, Train Accuracy: 67.30%, Val Loss: 1.1648, Val Accuracy: 65.19%\n",
      "   Epoch [14/40], Train Loss: 1.0739, Train Accuracy: 67.49%, Val Loss: 1.1752, Val Accuracy: 65.36%\n",
      "   Epoch [15/40], Train Loss: 1.0740, Train Accuracy: 67.60%, Val Loss: 1.1786, Val Accuracy: 64.64%\n",
      "   Epoch [16/40], Train Loss: 1.0719, Train Accuracy: 67.60%, Val Loss: 1.1625, Val Accuracy: 65.48%\n",
      "   Epoch [17/40], Train Loss: 1.0717, Train Accuracy: 67.77%, Val Loss: 1.1691, Val Accuracy: 65.13%\n",
      "   Epoch [18/40], Train Loss: 1.0715, Train Accuracy: 67.47%, Val Loss: 1.1706, Val Accuracy: 65.29%\n",
      "   Epoch [19/40], Train Loss: 1.0707, Train Accuracy: 67.55%, Val Loss: 1.1785, Val Accuracy: 65.41%\n",
      "   Epoch [20/40], Train Loss: 1.0696, Train Accuracy: 67.76%, Val Loss: 1.1679, Val Accuracy: 65.41%\n",
      "   Epoch [21/40], Train Loss: 1.0703, Train Accuracy: 67.68%, Val Loss: 1.1765, Val Accuracy: 65.41%\n",
      "   Epoch [22/40], Train Loss: 1.0686, Train Accuracy: 67.70%, Val Loss: 1.1773, Val Accuracy: 65.41%\n",
      "   Epoch [23/40], Train Loss: 1.0691, Train Accuracy: 67.65%, Val Loss: 1.1750, Val Accuracy: 65.39%\n",
      "   Epoch [24/40], Train Loss: 1.0707, Train Accuracy: 67.65%, Val Loss: 1.1783, Val Accuracy: 65.39%\n",
      "   Epoch [25/40], Train Loss: 1.0729, Train Accuracy: 67.63%, Val Loss: 1.1634, Val Accuracy: 65.39%\n",
      "   Epoch [26/40], Train Loss: 1.0718, Train Accuracy: 67.61%, Val Loss: 1.1804, Val Accuracy: 65.39%\n",
      "   Epoch [27/40], Train Loss: 1.0718, Train Accuracy: 67.62%, Val Loss: 1.1692, Val Accuracy: 65.39%\n",
      "   Epoch [28/40], Train Loss: 1.0674, Train Accuracy: 67.62%, Val Loss: 1.1744, Val Accuracy: 65.39%\n",
      "   Epoch [29/40], Train Loss: 1.0672, Train Accuracy: 67.63%, Val Loss: 1.1652, Val Accuracy: 65.39%\n",
      "   Epoch [30/40], Train Loss: 1.0717, Train Accuracy: 67.63%, Val Loss: 1.1757, Val Accuracy: 65.39%\n",
      "   Epoch [31/40], Train Loss: 1.0696, Train Accuracy: 67.63%, Val Loss: 1.1662, Val Accuracy: 65.39%\n",
      "   Epoch [32/40], Train Loss: 1.0731, Train Accuracy: 67.63%, Val Loss: 1.1643, Val Accuracy: 65.39%\n",
      "   Epoch [33/40], Train Loss: 1.0690, Train Accuracy: 67.63%, Val Loss: 1.1784, Val Accuracy: 65.39%\n",
      "   Epoch [34/40], Train Loss: 1.0723, Train Accuracy: 67.63%, Val Loss: 1.1734, Val Accuracy: 65.39%\n",
      "   Epoch [35/40], Train Loss: 1.0711, Train Accuracy: 67.63%, Val Loss: 1.1681, Val Accuracy: 65.39%\n",
      "   Epoch [36/40], Train Loss: 1.0745, Train Accuracy: 67.63%, Val Loss: 1.1726, Val Accuracy: 65.39%\n",
      "   Epoch [37/40], Train Loss: 1.0710, Train Accuracy: 67.63%, Val Loss: 1.1654, Val Accuracy: 65.39%\n",
      "   Epoch [38/40], Train Loss: 1.0681, Train Accuracy: 67.63%, Val Loss: 1.1646, Val Accuracy: 65.39%\n",
      "   Epoch [39/40], Train Loss: 1.0720, Train Accuracy: 67.63%, Val Loss: 1.1691, Val Accuracy: 65.39%\n",
      "   Epoch [40/40], Train Loss: 1.0711, Train Accuracy: 67.63%, Val Loss: 1.1728, Val Accuracy: 65.39%\n"
     ]
    }
   ],
   "source": [
    "tranv_hist = engine_tranv.train_validation(train_dl_tranv, valid_dl_tranv, epochs=40, save_path='./model_checkpoint/run1_simpleCNN_tranv_chkpt.pth')\n",
    "\n",
    "np.save('./model_checkpoint/run1_tranv_history.npy', np.array(tranv_hist))"
   ]
  },
  {
   "cell_type": "markdown",
   "metadata": {},
   "source": [
    "Angular Velocity"
   ]
  },
  {
   "cell_type": "code",
   "execution_count": 35,
   "metadata": {},
   "outputs": [],
   "source": [
    "criterion = nn.CrossEntropyLoss(weight=class_weights)\n",
    "model_ang = SimpleCNN()\n",
    "optimizer_ang = optim.Adam(model_ang.parameters(), lr=0.00013662142756319453)\n",
    "scheduler_ang = optim.lr_scheduler.ExponentialLR(optimizer_ang, gamma=0.4740572036017916)\n",
    "device = torch.device(\"cuda\" if torch.cuda.is_available() else \"cpu\")\n",
    "\n",
    "model_ang = model_ang.to(device)"
   ]
  },
  {
   "cell_type": "code",
   "execution_count": 36,
   "metadata": {},
   "outputs": [],
   "source": [
    "engine_ang = simpleCNN_engine(model_ang, optimizer_ang, scheduler_ang, criterion, device)"
   ]
  },
  {
   "cell_type": "code",
   "execution_count": 37,
   "metadata": {},
   "outputs": [
    {
     "name": "stdout",
     "output_type": "stream",
     "text": [
      "   Epoch [1/40], Train Loss: 1.2237, Train Accuracy: 64.55%, Val Loss: 1.1658, Val Accuracy: 68.68%\n",
      "   Epoch [2/40], Train Loss: 1.1400, Train Accuracy: 66.53%, Val Loss: 1.1491, Val Accuracy: 63.81%\n",
      "   Epoch [3/40], Train Loss: 1.0930, Train Accuracy: 67.72%, Val Loss: 1.1389, Val Accuracy: 66.05%\n",
      "   Epoch [4/40], Train Loss: 1.0721, Train Accuracy: 68.02%, Val Loss: 1.1337, Val Accuracy: 68.36%\n",
      "   Epoch [5/40], Train Loss: 1.0613, Train Accuracy: 68.63%, Val Loss: 1.1328, Val Accuracy: 68.70%\n",
      "   Epoch [6/40], Train Loss: 1.0600, Train Accuracy: 68.60%, Val Loss: 1.1305, Val Accuracy: 66.74%\n",
      "   Epoch [7/40], Train Loss: 1.0546, Train Accuracy: 68.44%, Val Loss: 1.1358, Val Accuracy: 67.76%\n",
      "   Epoch [8/40], Train Loss: 1.0558, Train Accuracy: 68.75%, Val Loss: 1.1314, Val Accuracy: 67.10%\n",
      "   Epoch [9/40], Train Loss: 1.0535, Train Accuracy: 68.51%, Val Loss: 1.1312, Val Accuracy: 67.11%\n",
      "   Epoch [10/40], Train Loss: 1.0537, Train Accuracy: 68.65%, Val Loss: 1.1368, Val Accuracy: 66.98%\n",
      "   Epoch [11/40], Train Loss: 1.0569, Train Accuracy: 68.56%, Val Loss: 1.1326, Val Accuracy: 66.88%\n",
      "   Epoch [12/40], Train Loss: 1.0518, Train Accuracy: 68.57%, Val Loss: 1.1386, Val Accuracy: 66.90%\n",
      "   Epoch [13/40], Train Loss: 1.0536, Train Accuracy: 68.55%, Val Loss: 1.1365, Val Accuracy: 66.93%\n",
      "   Epoch [14/40], Train Loss: 1.0524, Train Accuracy: 68.58%, Val Loss: 1.1417, Val Accuracy: 66.94%\n",
      "   Epoch [15/40], Train Loss: 1.0550, Train Accuracy: 68.57%, Val Loss: 1.1292, Val Accuracy: 66.95%\n",
      "   Epoch [16/40], Train Loss: 1.0516, Train Accuracy: 68.57%, Val Loss: 1.1246, Val Accuracy: 66.95%\n",
      "   Epoch [17/40], Train Loss: 1.0537, Train Accuracy: 68.57%, Val Loss: 1.1283, Val Accuracy: 66.95%\n",
      "   Epoch [18/40], Train Loss: 1.0490, Train Accuracy: 68.57%, Val Loss: 1.1371, Val Accuracy: 66.95%\n",
      "   Epoch [19/40], Train Loss: 1.0515, Train Accuracy: 68.57%, Val Loss: 1.1310, Val Accuracy: 66.95%\n",
      "   Epoch [20/40], Train Loss: 1.0506, Train Accuracy: 68.57%, Val Loss: 1.1303, Val Accuracy: 66.95%\n",
      "   Epoch [21/40], Train Loss: 1.0527, Train Accuracy: 68.57%, Val Loss: 1.1287, Val Accuracy: 66.95%\n",
      "   Epoch [22/40], Train Loss: 1.0527, Train Accuracy: 68.57%, Val Loss: 1.1355, Val Accuracy: 66.95%\n",
      "   Epoch [23/40], Train Loss: 1.0530, Train Accuracy: 68.57%, Val Loss: 1.1301, Val Accuracy: 66.95%\n",
      "   Epoch [24/40], Train Loss: 1.0500, Train Accuracy: 68.57%, Val Loss: 1.1351, Val Accuracy: 66.95%\n",
      "   Epoch [25/40], Train Loss: 1.0500, Train Accuracy: 68.57%, Val Loss: 1.1303, Val Accuracy: 66.95%\n",
      "   Epoch [26/40], Train Loss: 1.0508, Train Accuracy: 68.57%, Val Loss: 1.1286, Val Accuracy: 66.95%\n",
      "   Epoch [27/40], Train Loss: 1.0540, Train Accuracy: 68.57%, Val Loss: 1.1361, Val Accuracy: 66.95%\n",
      "   Epoch [28/40], Train Loss: 1.0477, Train Accuracy: 68.57%, Val Loss: 1.1391, Val Accuracy: 66.95%\n",
      "   Epoch [29/40], Train Loss: 1.0524, Train Accuracy: 68.57%, Val Loss: 1.1300, Val Accuracy: 66.95%\n",
      "   Epoch [30/40], Train Loss: 1.0550, Train Accuracy: 68.57%, Val Loss: 1.1329, Val Accuracy: 66.95%\n",
      "   Epoch [31/40], Train Loss: 1.0523, Train Accuracy: 68.57%, Val Loss: 1.1366, Val Accuracy: 66.95%\n",
      "   Epoch [32/40], Train Loss: 1.0525, Train Accuracy: 68.57%, Val Loss: 1.1313, Val Accuracy: 66.95%\n",
      "   Epoch [33/40], Train Loss: 1.0507, Train Accuracy: 68.57%, Val Loss: 1.1390, Val Accuracy: 66.95%\n",
      "   Epoch [34/40], Train Loss: 1.0533, Train Accuracy: 68.57%, Val Loss: 1.1380, Val Accuracy: 66.95%\n",
      "   Epoch [35/40], Train Loss: 1.0564, Train Accuracy: 68.57%, Val Loss: 1.1334, Val Accuracy: 66.95%\n",
      "   Epoch [36/40], Train Loss: 1.0515, Train Accuracy: 68.57%, Val Loss: 1.1352, Val Accuracy: 66.95%\n",
      "   Epoch [37/40], Train Loss: 1.0551, Train Accuracy: 68.57%, Val Loss: 1.1289, Val Accuracy: 66.95%\n",
      "   Epoch [38/40], Train Loss: 1.0490, Train Accuracy: 68.57%, Val Loss: 1.1313, Val Accuracy: 66.95%\n",
      "   Epoch [39/40], Train Loss: 1.0536, Train Accuracy: 68.57%, Val Loss: 1.1312, Val Accuracy: 66.95%\n",
      "   Epoch [40/40], Train Loss: 1.0532, Train Accuracy: 68.57%, Val Loss: 1.1291, Val Accuracy: 66.95%\n"
     ]
    }
   ],
   "source": [
    "ang_hist = engine_ang.train_validation(train_dl_angvel, valid_dl_angvel, epochs=40, save_path='./model_checkpoint/run1_simpleCNN_angvel_chkpt.pth')\n",
    "\n",
    "np.save('./model_checkpoint/run1_angvel_history.npy', np.array(long_hist))"
   ]
  },
  {
   "cell_type": "markdown",
   "metadata": {},
   "source": [
    "Plotting history"
   ]
  },
  {
   "cell_type": "code",
   "execution_count": 38,
   "metadata": {},
   "outputs": [],
   "source": [
    "from src.plot import plot_history"
   ]
  },
  {
   "cell_type": "code",
   "execution_count": 39,
   "metadata": {},
   "outputs": [
    {
     "data": {
      "image/png": "[encoded data removed]",
      "text/plain": [
       "<Figure size 1200x400 with 2 Axes>"
      ]
     },
     "metadata": {},
     "output_type": "display_data"
    }
   ],
   "source": [
    "plot_history(long_hist)"
   ]
  },
  {
   "cell_type": "code",
   "execution_count": 40,
   "metadata": {},
   "outputs": [
    {
     "data": {
      "image/png": "[encoded data removed]",
      "text/plain": [
       "<Figure size 1200x400 with 2 Axes>"
      ]
     },
     "metadata": {},
     "output_type": "display_data"
    }
   ],
   "source": [
    "plot_history(tranv_hist)"
   ]
  },
  {
   "cell_type": "code",
   "execution_count": 41,
   "metadata": {},
   "outputs": [
    {
     "data": {
      "image/png": "[encoded data removed]",
      "text/plain": [
       "<Figure size 1200x400 with 2 Axes>"
      ]
     },
     "metadata": {},
     "output_type": "display_data"
    }
   ],
   "source": [
    "plot_history(ang_hist)"
   ]
  }
 ],
 "metadata": {
  "kernelspec": {
   "display_name": "torch-gpu",
   "language": "python",
   "name": "python3"
  },
  "language_info": {
   "codemirror_mode": {
    "name": "ipython",
    "version": 3
   },
   "file_extension": ".py",
   "mimetype": "text/x-python",
   "name": "python",
   "nbconvert_exporter": "python",
   "pygments_lexer": "ipython3",
   "version": "3.10.13"
  }
 },
 "nbformat": 4,
 "nbformat_minor": 2
}
