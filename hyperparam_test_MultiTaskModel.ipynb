{
 "cells": [
  {
   "cell_type": "markdown",
   "metadata": {},
   "source": [
    "# Driver Identification and Transport Mode Classification using ResNet50-GRU and BiLSTM MTL model\n",
    "## (Hyperparam Tuning)\n",
    "To better understand the code, check out `./prep_files/MultiTaskModel.ipynb`. That notebook explains the thought process behind this code on a sample dataset whilst this goes straight to the point. "
   ]
  },
  {
   "cell_type": "code",
   "execution_count": 1,
   "metadata": {},
   "outputs": [],
   "source": [
    "import numpy as np\n",
    "import pandas as pd\n",
    "import torch\n",
    "from torchsummary import summary\n",
    "from torch.utils.data import DataLoader, random_split, Subset\n",
    "\n",
    "from src.engine import MTL_engine\n",
    "from src.model_multitask import MultitaskModel\n",
    "from src.plot import plot_history\n",
    "from src.dataset import CombinedDataset\n",
    "from src.hyperparam import RayTuning\n",
    "from ray import tune, train\n",
    "\n",
    "from IPython.display import display, HTML"
   ]
  },
  {
   "cell_type": "code",
   "execution_count": 3,
   "metadata": {},
   "outputs": [
    {
     "data": {
      "text/html": [
       "<link rel=\"stylesheet\" type=\"text/css\" href=\"./custom.css\">"
      ],
      "text/plain": [
       "<IPython.core.display.HTML object>"
      ]
     },
     "metadata": {},
     "output_type": "display_data"
    }
   ],
   "source": [
    "# Load custom CSS file\n",
    "css = HTML('<link rel=\"stylesheet\" type=\"text/css\" href=\"./custom.css\">')  # Ensure the path is correct\n",
    "display(css)"
   ]
  },
  {
   "cell_type": "code",
   "execution_count": 4,
   "metadata": {},
   "outputs": [
    {
     "data": {
      "text/plain": [
       "=================================================================\n",
       "Layer (type:depth-idx)                   Param #\n",
       "=================================================================\n",
       "├─BiLSTMNetwork: 1-1                     --\n",
       "|    └─LSTM: 2-1                         8,429,568\n",
       "├─ResNet50_GRU: 1-2                      --\n",
       "|    └─Sequential: 2-2                   --\n",
       "|    |    └─Conv2d: 3-1                  (9,408)\n",
       "|    |    └─BatchNorm2d: 3-2             (128)\n",
       "|    |    └─ReLU: 3-3                    --\n",
       "|    |    └─MaxPool2d: 3-4               --\n",
       "|    |    └─Sequential: 3-5              (215,808)\n",
       "|    |    └─Sequential: 3-6              (1,219,584)\n",
       "|    |    └─Sequential: 3-7              7,098,368\n",
       "|    |    └─Sequential: 3-8              14,964,736\n",
       "|    └─BatchNorm2d: 2-3                  4,096\n",
       "|    └─Dropout: 2-4                      --\n",
       "|    └─GRU: 2-5                          5,511,168\n",
       "├─Linear: 1-3                            786,944\n",
       "├─Linear: 1-4                            262,656\n",
       "├─ReLU: 1-5                              --\n",
       "├─GRU: 1-6                               3,151,872\n",
       "├─GRU: 1-7                               3,151,872\n",
       "├─Linear: 1-8                            2,052\n",
       "├─Linear: 1-9                            4,104\n",
       "=================================================================\n",
       "Total params: 44,812,364\n",
       "Trainable params: 43,367,436\n",
       "Non-trainable params: 1,444,928\n",
       "================================================================="
      ]
     },
     "execution_count": 4,
     "metadata": {},
     "output_type": "execute_result"
    }
   ],
   "source": [
    "model = MultitaskModel(input_size=6, hidden_size=512, num_layers=2)\n",
    "summary(model, verbose=0)"
   ]
  },
  {
   "cell_type": "code",
   "execution_count": 5,
   "metadata": {},
   "outputs": [
    {
     "data": {
      "text/plain": [
       "MultitaskModel(\n",
       "  (lstm_network): BiLSTMNetwork(\n",
       "    (lstm): LSTM(6, 512, num_layers=2, batch_first=True, dropout=0.5, bidirectional=True)\n",
       "  )\n",
       "  (resnet_gru_network): ResNet50_GRU(\n",
       "    (resnet50): Sequential(\n",
       "      (0): Conv2d(3, 64, kernel_size=(7, 7), stride=(2, 2), padding=(3, 3), bias=False)\n",
       "      (1): BatchNorm2d(64, eps=1e-05, momentum=0.1, affine=True, track_running_stats=True)\n",
       "      (2): ReLU(inplace=True)\n",
       "      (3): MaxPool2d(kernel_size=3, stride=2, padding=1, dilation=1, ceil_mode=False)\n",
       "      (4): Sequential(\n",
       "        (0): Bottleneck(\n",
       "          (conv1): Conv2d(64, 64, kernel_size=(1, 1), stride=(1, 1), bias=False)\n",
       "          (bn1): BatchNorm2d(64, eps=1e-05, momentum=0.1, affine=True, track_running_stats=True)\n",
       "          (conv2): Conv2d(64, 64, kernel_size=(3, 3), stride=(1, 1), padding=(1, 1), bias=False)\n",
       "          (bn2): BatchNorm2d(64, eps=1e-05, momentum=0.1, affine=True, track_running_stats=True)\n",
       "          (conv3): Conv2d(64, 256, kernel_size=(1, 1), stride=(1, 1), bias=False)\n",
       "          (bn3): BatchNorm2d(256, eps=1e-05, momentum=0.1, affine=True, track_running_stats=True)\n",
       "          (relu): ReLU(inplace=True)\n",
       "          (downsample): Sequential(\n",
       "            (0): Conv2d(64, 256, kernel_size=(1, 1), stride=(1, 1), bias=False)\n",
       "            (1): BatchNorm2d(256, eps=1e-05, momentum=0.1, affine=True, track_running_stats=True)\n",
       "          )\n",
       "        )\n",
       "        (1): Bottleneck(\n",
       "          (conv1): Conv2d(256, 64, kernel_size=(1, 1), stride=(1, 1), bias=False)\n",
       "          (bn1): BatchNorm2d(64, eps=1e-05, momentum=0.1, affine=True, track_running_stats=True)\n",
       "          (conv2): Conv2d(64, 64, kernel_size=(3, 3), stride=(1, 1), padding=(1, 1), bias=False)\n",
       "          (bn2): BatchNorm2d(64, eps=1e-05, momentum=0.1, affine=True, track_running_stats=True)\n",
       "          (conv3): Conv2d(64, 256, kernel_size=(1, 1), stride=(1, 1), bias=False)\n",
       "          (bn3): BatchNorm2d(256, eps=1e-05, momentum=0.1, affine=True, track_running_stats=True)\n",
       "          (relu): ReLU(inplace=True)\n",
       "        )\n",
       "        (2): Bottleneck(\n",
       "          (conv1): Conv2d(256, 64, kernel_size=(1, 1), stride=(1, 1), bias=False)\n",
       "          (bn1): BatchNorm2d(64, eps=1e-05, momentum=0.1, affine=True, track_running_stats=True)\n",
       "          (conv2): Conv2d(64, 64, kernel_size=(3, 3), stride=(1, 1), padding=(1, 1), bias=False)\n",
       "          (bn2): BatchNorm2d(64, eps=1e-05, momentum=0.1, affine=True, track_running_stats=True)\n",
       "          (conv3): Conv2d(64, 256, kernel_size=(1, 1), stride=(1, 1), bias=False)\n",
       "          (bn3): BatchNorm2d(256, eps=1e-05, momentum=0.1, affine=True, track_running_stats=True)\n",
       "          (relu): ReLU(inplace=True)\n",
       "        )\n",
       "      )\n",
       "      (5): Sequential(\n",
       "        (0): Bottleneck(\n",
       "          (conv1): Conv2d(256, 128, kernel_size=(1, 1), stride=(1, 1), bias=False)\n",
       "          (bn1): BatchNorm2d(128, eps=1e-05, momentum=0.1, affine=True, track_running_stats=True)\n",
       "          (conv2): Conv2d(128, 128, kernel_size=(3, 3), stride=(2, 2), padding=(1, 1), bias=False)\n",
       "          (bn2): BatchNorm2d(128, eps=1e-05, momentum=0.1, affine=True, track_running_stats=True)\n",
       "          (conv3): Conv2d(128, 512, kernel_size=(1, 1), stride=(1, 1), bias=False)\n",
       "          (bn3): BatchNorm2d(512, eps=1e-05, momentum=0.1, affine=True, track_running_stats=True)\n",
       "          (relu): ReLU(inplace=True)\n",
       "          (downsample): Sequential(\n",
       "            (0): Conv2d(256, 512, kernel_size=(1, 1), stride=(2, 2), bias=False)\n",
       "            (1): BatchNorm2d(512, eps=1e-05, momentum=0.1, affine=True, track_running_stats=True)\n",
       "          )\n",
       "        )\n",
       "        (1): Bottleneck(\n",
       "          (conv1): Conv2d(512, 128, kernel_size=(1, 1), stride=(1, 1), bias=False)\n",
       "          (bn1): BatchNorm2d(128, eps=1e-05, momentum=0.1, affine=True, track_running_stats=True)\n",
       "          (conv2): Conv2d(128, 128, kernel_size=(3, 3), stride=(1, 1), padding=(1, 1), bias=False)\n",
       "          (bn2): BatchNorm2d(128, eps=1e-05, momentum=0.1, affine=True, track_running_stats=True)\n",
       "          (conv3): Conv2d(128, 512, kernel_size=(1, 1), stride=(1, 1), bias=False)\n",
       "          (bn3): BatchNorm2d(512, eps=1e-05, momentum=0.1, affine=True, track_running_stats=True)\n",
       "          (relu): ReLU(inplace=True)\n",
       "        )\n",
       "        (2): Bottleneck(\n",
       "          (conv1): Conv2d(512, 128, kernel_size=(1, 1), stride=(1, 1), bias=False)\n",
       "          (bn1): BatchNorm2d(128, eps=1e-05, momentum=0.1, affine=True, track_running_stats=True)\n",
       "          (conv2): Conv2d(128, 128, kernel_size=(3, 3), stride=(1, 1), padding=(1, 1), bias=False)\n",
       "          (bn2): BatchNorm2d(128, eps=1e-05, momentum=0.1, affine=True, track_running_stats=True)\n",
       "          (conv3): Conv2d(128, 512, kernel_size=(1, 1), stride=(1, 1), bias=False)\n",
       "          (bn3): BatchNorm2d(512, eps=1e-05, momentum=0.1, affine=True, track_running_stats=True)\n",
       "          (relu): ReLU(inplace=True)\n",
       "        )\n",
       "        (3): Bottleneck(\n",
       "          (conv1): Conv2d(512, 128, kernel_size=(1, 1), stride=(1, 1), bias=False)\n",
       "          (bn1): BatchNorm2d(128, eps=1e-05, momentum=0.1, affine=True, track_running_stats=True)\n",
       "          (conv2): Conv2d(128, 128, kernel_size=(3, 3), stride=(1, 1), padding=(1, 1), bias=False)\n",
       "          (bn2): BatchNorm2d(128, eps=1e-05, momentum=0.1, affine=True, track_running_stats=True)\n",
       "          (conv3): Conv2d(128, 512, kernel_size=(1, 1), stride=(1, 1), bias=False)\n",
       "          (bn3): BatchNorm2d(512, eps=1e-05, momentum=0.1, affine=True, track_running_stats=True)\n",
       "          (relu): ReLU(inplace=True)\n",
       "        )\n",
       "      )\n",
       "      (6): Sequential(\n",
       "        (0): Bottleneck(\n",
       "          (conv1): Conv2d(512, 256, kernel_size=(1, 1), stride=(1, 1), bias=False)\n",
       "          (bn1): BatchNorm2d(256, eps=1e-05, momentum=0.1, affine=True, track_running_stats=True)\n",
       "          (conv2): Conv2d(256, 256, kernel_size=(3, 3), stride=(2, 2), padding=(1, 1), bias=False)\n",
       "          (bn2): BatchNorm2d(256, eps=1e-05, momentum=0.1, affine=True, track_running_stats=True)\n",
       "          (conv3): Conv2d(256, 1024, kernel_size=(1, 1), stride=(1, 1), bias=False)\n",
       "          (bn3): BatchNorm2d(1024, eps=1e-05, momentum=0.1, affine=True, track_running_stats=True)\n",
       "          (relu): ReLU(inplace=True)\n",
       "          (downsample): Sequential(\n",
       "            (0): Conv2d(512, 1024, kernel_size=(1, 1), stride=(2, 2), bias=False)\n",
       "            (1): BatchNorm2d(1024, eps=1e-05, momentum=0.1, affine=True, track_running_stats=True)\n",
       "          )\n",
       "        )\n",
       "        (1): Bottleneck(\n",
       "          (conv1): Conv2d(1024, 256, kernel_size=(1, 1), stride=(1, 1), bias=False)\n",
       "          (bn1): BatchNorm2d(256, eps=1e-05, momentum=0.1, affine=True, track_running_stats=True)\n",
       "          (conv2): Conv2d(256, 256, kernel_size=(3, 3), stride=(1, 1), padding=(1, 1), bias=False)\n",
       "          (bn2): BatchNorm2d(256, eps=1e-05, momentum=0.1, affine=True, track_running_stats=True)\n",
       "          (conv3): Conv2d(256, 1024, kernel_size=(1, 1), stride=(1, 1), bias=False)\n",
       "          (bn3): BatchNorm2d(1024, eps=1e-05, momentum=0.1, affine=True, track_running_stats=True)\n",
       "          (relu): ReLU(inplace=True)\n",
       "        )\n",
       "        (2): Bottleneck(\n",
       "          (conv1): Conv2d(1024, 256, kernel_size=(1, 1), stride=(1, 1), bias=False)\n",
       "          (bn1): BatchNorm2d(256, eps=1e-05, momentum=0.1, affine=True, track_running_stats=True)\n",
       "          (conv2): Conv2d(256, 256, kernel_size=(3, 3), stride=(1, 1), padding=(1, 1), bias=False)\n",
       "          (bn2): BatchNorm2d(256, eps=1e-05, momentum=0.1, affine=True, track_running_stats=True)\n",
       "          (conv3): Conv2d(256, 1024, kernel_size=(1, 1), stride=(1, 1), bias=False)\n",
       "          (bn3): BatchNorm2d(1024, eps=1e-05, momentum=0.1, affine=True, track_running_stats=True)\n",
       "          (relu): ReLU(inplace=True)\n",
       "        )\n",
       "        (3): Bottleneck(\n",
       "          (conv1): Conv2d(1024, 256, kernel_size=(1, 1), stride=(1, 1), bias=False)\n",
       "          (bn1): BatchNorm2d(256, eps=1e-05, momentum=0.1, affine=True, track_running_stats=True)\n",
       "          (conv2): Conv2d(256, 256, kernel_size=(3, 3), stride=(1, 1), padding=(1, 1), bias=False)\n",
       "          (bn2): BatchNorm2d(256, eps=1e-05, momentum=0.1, affine=True, track_running_stats=True)\n",
       "          (conv3): Conv2d(256, 1024, kernel_size=(1, 1), stride=(1, 1), bias=False)\n",
       "          (bn3): BatchNorm2d(1024, eps=1e-05, momentum=0.1, affine=True, track_running_stats=True)\n",
       "          (relu): ReLU(inplace=True)\n",
       "        )\n",
       "        (4): Bottleneck(\n",
       "          (conv1): Conv2d(1024, 256, kernel_size=(1, 1), stride=(1, 1), bias=False)\n",
       "          (bn1): BatchNorm2d(256, eps=1e-05, momentum=0.1, affine=True, track_running_stats=True)\n",
       "          (conv2): Conv2d(256, 256, kernel_size=(3, 3), stride=(1, 1), padding=(1, 1), bias=False)\n",
       "          (bn2): BatchNorm2d(256, eps=1e-05, momentum=0.1, affine=True, track_running_stats=True)\n",
       "          (conv3): Conv2d(256, 1024, kernel_size=(1, 1), stride=(1, 1), bias=False)\n",
       "          (bn3): BatchNorm2d(1024, eps=1e-05, momentum=0.1, affine=True, track_running_stats=True)\n",
       "          (relu): ReLU(inplace=True)\n",
       "        )\n",
       "        (5): Bottleneck(\n",
       "          (conv1): Conv2d(1024, 256, kernel_size=(1, 1), stride=(1, 1), bias=False)\n",
       "          (bn1): BatchNorm2d(256, eps=1e-05, momentum=0.1, affine=True, track_running_stats=True)\n",
       "          (conv2): Conv2d(256, 256, kernel_size=(3, 3), stride=(1, 1), padding=(1, 1), bias=False)\n",
       "          (bn2): BatchNorm2d(256, eps=1e-05, momentum=0.1, affine=True, track_running_stats=True)\n",
       "          (conv3): Conv2d(256, 1024, kernel_size=(1, 1), stride=(1, 1), bias=False)\n",
       "          (bn3): BatchNorm2d(1024, eps=1e-05, momentum=0.1, affine=True, track_running_stats=True)\n",
       "          (relu): ReLU(inplace=True)\n",
       "        )\n",
       "      )\n",
       "      (7): Sequential(\n",
       "        (0): Bottleneck(\n",
       "          (conv1): Conv2d(1024, 512, kernel_size=(1, 1), stride=(1, 1), bias=False)\n",
       "          (bn1): BatchNorm2d(512, eps=1e-05, momentum=0.1, affine=True, track_running_stats=True)\n",
       "          (conv2): Conv2d(512, 512, kernel_size=(3, 3), stride=(2, 2), padding=(1, 1), bias=False)\n",
       "          (bn2): BatchNorm2d(512, eps=1e-05, momentum=0.1, affine=True, track_running_stats=True)\n",
       "          (conv3): Conv2d(512, 2048, kernel_size=(1, 1), stride=(1, 1), bias=False)\n",
       "          (bn3): BatchNorm2d(2048, eps=1e-05, momentum=0.1, affine=True, track_running_stats=True)\n",
       "          (relu): ReLU(inplace=True)\n",
       "          (downsample): Sequential(\n",
       "            (0): Conv2d(1024, 2048, kernel_size=(1, 1), stride=(2, 2), bias=False)\n",
       "            (1): BatchNorm2d(2048, eps=1e-05, momentum=0.1, affine=True, track_running_stats=True)\n",
       "          )\n",
       "        )\n",
       "        (1): Bottleneck(\n",
       "          (conv1): Conv2d(2048, 512, kernel_size=(1, 1), stride=(1, 1), bias=False)\n",
       "          (bn1): BatchNorm2d(512, eps=1e-05, momentum=0.1, affine=True, track_running_stats=True)\n",
       "          (conv2): Conv2d(512, 512, kernel_size=(3, 3), stride=(1, 1), padding=(1, 1), bias=False)\n",
       "          (bn2): BatchNorm2d(512, eps=1e-05, momentum=0.1, affine=True, track_running_stats=True)\n",
       "          (conv3): Conv2d(512, 2048, kernel_size=(1, 1), stride=(1, 1), bias=False)\n",
       "          (bn3): BatchNorm2d(2048, eps=1e-05, momentum=0.1, affine=True, track_running_stats=True)\n",
       "          (relu): ReLU(inplace=True)\n",
       "        )\n",
       "        (2): Bottleneck(\n",
       "          (conv1): Conv2d(2048, 512, kernel_size=(1, 1), stride=(1, 1), bias=False)\n",
       "          (bn1): BatchNorm2d(512, eps=1e-05, momentum=0.1, affine=True, track_running_stats=True)\n",
       "          (conv2): Conv2d(512, 512, kernel_size=(3, 3), stride=(1, 1), padding=(1, 1), bias=False)\n",
       "          (bn2): BatchNorm2d(512, eps=1e-05, momentum=0.1, affine=True, track_running_stats=True)\n",
       "          (conv3): Conv2d(512, 2048, kernel_size=(1, 1), stride=(1, 1), bias=False)\n",
       "          (bn3): BatchNorm2d(2048, eps=1e-05, momentum=0.1, affine=True, track_running_stats=True)\n",
       "          (relu): ReLU(inplace=True)\n",
       "        )\n",
       "      )\n",
       "    )\n",
       "    (batch_norm): BatchNorm2d(2048, eps=1e-05, momentum=0.1, affine=True, track_running_stats=True)\n",
       "    (dropout): Dropout(p=0.5, inplace=False)\n",
       "    (gru): GRU(2048, 512, num_layers=2, batch_first=True, dropout=0.5)\n",
       "  )\n",
       "  (fc1): Linear(in_features=1536, out_features=512, bias=True)\n",
       "  (fc2): Linear(in_features=512, out_features=512, bias=True)\n",
       "  (relu): ReLU()\n",
       "  (gru_driver): GRU(512, 512, num_layers=2, batch_first=True, dropout=0.5)\n",
       "  (gru_transport): GRU(512, 512, num_layers=2, batch_first=True, dropout=0.5)\n",
       "  (fc_driver): Linear(in_features=512, out_features=4, bias=True)\n",
       "  (fc_transport): Linear(in_features=512, out_features=8, bias=True)\n",
       ")"
      ]
     },
     "execution_count": 5,
     "metadata": {},
     "output_type": "execute_result"
    }
   ],
   "source": [
    "model"
   ]
  },
  {
   "cell_type": "code",
   "execution_count": 6,
   "metadata": {},
   "outputs": [],
   "source": [
    "from sklearn.utils.class_weight import compute_class_weight\n",
    "\n",
    "import torch.nn as nn\n",
    "import torch.optim as optim"
   ]
  },
  {
   "cell_type": "markdown",
   "metadata": {},
   "source": [
    "#### Computing class weights for both tasks"
   ]
  },
  {
   "cell_type": "markdown",
   "metadata": {},
   "source": [
    "driver identification"
   ]
  },
  {
   "cell_type": "code",
   "execution_count": 7,
   "metadata": {},
   "outputs": [
    {
     "name": "stdout",
     "output_type": "stream",
     "text": [
      "Classes: [0 1 2 3]\n",
      "Class weights: tensor([0.0153, 0.2646, 0.1717, 0.5485], device='cuda:0')\n"
     ]
    }
   ],
   "source": [
    "y_train = pd.read_csv('./data/feature_maps_labels/train/metadata.csv')\n",
    "y_train = y_train.iloc[:,1].values\n",
    "print('Classes:', np.unique(y_train))\n",
    "\n",
    "class_weights_dr = torch.tensor(compute_class_weight('balanced', classes=np.unique(y_train), y=y_train), dtype=torch.float32)\n",
    "class_weights_dr = class_weights_dr / class_weights_dr.sum()\n",
    "class_weights_dr = class_weights_dr.to(torch.device(\"cuda\" if torch.cuda.is_available() else \"cpu\"))\n",
    "\n",
    "print('Class weights:', class_weights_dr)\n",
    "del y_train"
   ]
  },
  {
   "cell_type": "markdown",
   "metadata": {},
   "source": [
    "transport mode classification"
   ]
  },
  {
   "cell_type": "code",
   "execution_count": 8,
   "metadata": {},
   "outputs": [
    {
     "name": "stdout",
     "output_type": "stream",
     "text": [
      "Classes: [0. 1. 2. 3. 4. 5. 6. 7.]\n",
      "Class weights: tensor([0.0521, 0.0592, 0.4732, 0.1143, 0.0655, 0.1070, 0.0639, 0.0648],\n",
      "       device='cuda:0')\n"
     ]
    }
   ],
   "source": [
    "y_train = pd.read_csv('./data/lstm_features_labels/train/metadata.csv')\n",
    "y_train = y_train.iloc[:,1].values\n",
    "print('Classes:', np.unique(y_train))\n",
    "\n",
    "class_weights_tr = torch.tensor(compute_class_weight('balanced', classes=np.unique(y_train), y=y_train), dtype=torch.float32)\n",
    "class_weights_tr = class_weights_tr / class_weights_tr.sum()\n",
    "class_weights_tr = class_weights_tr.to(torch.device(\"cuda\" if torch.cuda.is_available() else \"cpu\"))\n",
    "\n",
    "print('Class weights:', class_weights_tr)\n",
    "del y_train"
   ]
  },
  {
   "cell_type": "code",
   "execution_count": 9,
   "metadata": {},
   "outputs": [],
   "source": [
    "lstm_base_dir = './data/lstm_features_labels/'\n",
    "fmap_base_dir = './data/feature_maps_labels/'\n",
    "\n",
    "train_datasets = CombinedDataset(fmap_base_dir, lstm_base_dir, mode='train', \n",
    "                                 rescale=False, augment=True)   #noRot augmentation\n",
    "val_test_datasets = CombinedDataset(fmap_base_dir, lstm_base_dir, mode='valid',\n",
    "                                 rescale=False, augment=True)   #noRot augmentation\n",
    "\n",
    "np.random.seed(42)\n",
    "valid_datasets, test_datasets = random_split(val_test_datasets, [0.5, 0.5])  "
   ]
  },
  {
   "cell_type": "code",
   "execution_count": 10,
   "metadata": {},
   "outputs": [],
   "source": [
    "import random\n",
    "np.random.seed(2)\n",
    "\n",
    "train_datasets = Subset(train_datasets, random.sample(range(46240), 4624))\n",
    "valid_datasets = Subset(valid_datasets, random.sample(range(5782), 578))\n",
    "test_datasets = Subset(test_datasets, random.sample(range(5781), 578))"
   ]
  },
  {
   "cell_type": "code",
   "execution_count": 11,
   "metadata": {},
   "outputs": [
    {
     "data": {
      "text/plain": [
       "(4624, 578, 578)"
      ]
     },
     "execution_count": 11,
     "metadata": {},
     "output_type": "execute_result"
    }
   ],
   "source": [
    "len(train_datasets), len(valid_datasets), len(test_datasets)"
   ]
  },
  {
   "cell_type": "markdown",
   "metadata": {},
   "source": [
    "### Hyperparameter Tuning"
   ]
  },
  {
   "cell_type": "code",
   "execution_count": 12,
   "metadata": {},
   "outputs": [],
   "source": [
    "# Enhanced Hyperparameter search space for Multitask Model\n",
    "config = {\n",
    "    \"optimizer\": tune.choice([\"adam\", \"adamw\"]),\n",
    "    \"lr\": tune.loguniform(1e-4, 1e-2),\n",
    "    \"scheduler\": tune.choice([\"exp\", \"ReduceLROnPlateau\"]),\n",
    "    \"gamma\": tune.uniform(0.3, 0.95),  # for exponential scheduler, wider range\n",
    "    \"patience\": tune.choice([5, 10, 15]),  # for ReduceLROnPlateau\n",
    "    \"epochs\": tune.choice([30]),  # Starting with a wider range\n",
    "    \"batch_size\": tune.choice([32, 64, 128]),\n",
    "    \"weight_decay\": tune.loguniform(1e-4, 0.1),  # Slightly wider range\n",
    "    \"hidden_size\": tune.choice([256, 300, 512, 1024]),  # Including 300 and ranges around it\n",
    "    \"num_layers\": tune.choice([1, 2, 3]),  # Number of GRU layers\n",
    "    \"dropout\": tune.uniform(0.3, 0.7),  # Dropout rate, ensuring valid values for num_layers\n",
    "    \"alpha\": tune.choice([1]),\n",
    "    \"beta\": tune.choice([1])\n",
    "}\n",
    "\n",
    "criterion_driver = nn.CrossEntropyLoss(weight=class_weights_dr)\n",
    "criterion_transport = nn.CrossEntropyLoss(weight=class_weights_tr)\n",
    "criterion = [criterion_driver, criterion_transport]\n",
    "\n",
    "save_dir = 'MultiTaskModel'\n",
    "model = MultitaskModel\n",
    "modelType = 'MultiTaskModel'\n",
    "engine = MTL_engine"
   ]
  },
  {
   "cell_type": "code",
   "execution_count": 13,
   "metadata": {},
   "outputs": [],
   "source": [
    "mytuner = RayTuning(config, save_dir, criterion, model, modelType, engine)"
   ]
  },
  {
   "cell_type": "code",
   "execution_count": 14,
   "metadata": {},
   "outputs": [
    {
     "data": {
      "text/html": [
       "<div class=\"tuneStatus\">\n",
       "  <div style=\"display: flex;flex-direction: row\">\n",
       "    <div style=\"display: flex;flex-direction: column;\">\n",
       "      <h3>Tune Status</h3>\n",
       "      <table>\n",
       "<tbody>\n",
       "<tr><td>Current time:</td><td>2024-07-30 23:53:40</td></tr>\n",
       "<tr><td>Running for: </td><td>02:51:58.71        </td></tr>\n",
       "<tr><td>Memory:      </td><td>9.8/13.9 GiB       </td></tr>\n",
       "</tbody>\n",
       "</table>\n",
       "    </div>\n",
       "    <div class=\"vDivider\"></div>\n",
       "    <div class=\"systemInfo\">\n",
       "      <h3>System Info</h3>\n",
       "      Using AsyncHyperBand: num_stopped=40<br>Bracket: Iter 8.000: -2.6258276832731147 | Iter 4.000: -2.7902855277061462 | Iter 2.000: -3.0984312534332275 | Iter 1.000: -3.451029928107011<br>Logical resource usage: 2.0/16 CPUs, 1.0/1 GPUs (0.0/1.0 accelerator_type:G)\n",
       "    </div>\n",
       "    \n",
       "  </div>\n",
       "  <div class=\"hDivider\"></div>\n",
       "  <div class=\"trialStatus\">\n",
       "    <h3>Trial Status</h3>\n",
       "    <table>\n",
       "<thead>\n",
       "<tr><th>Trial name             </th><th>status    </th><th>loc            </th><th style=\"text-align: right;\">  alpha</th><th style=\"text-align: right;\">  batch_size</th><th style=\"text-align: right;\">  beta</th><th style=\"text-align: right;\">  dropout</th><th style=\"text-align: right;\">  epochs</th><th style=\"text-align: right;\">   gamma</th><th style=\"text-align: right;\">  hidden_size</th><th style=\"text-align: right;\">         lr</th><th style=\"text-align: right;\">  num_layers</th><th>optimizer  </th><th style=\"text-align: right;\">  patience</th><th>scheduler        </th><th style=\"text-align: right;\">  weight_decay</th><th style=\"text-align: right;\">  iter</th><th style=\"text-align: right;\">  total time (s)</th><th style=\"text-align: right;\">   loss</th><th style=\"text-align: right;\">  accuracy_dr</th><th style=\"text-align: right;\">  accuracy_tr</th></tr>\n",
       "</thead>\n",
       "<tbody>\n",
       "<tr><td>train_model_89fac_00000</td><td>TERMINATED</td><td>127.0.0.1:28696</td><td style=\"text-align: right;\">      1</td><td style=\"text-align: right;\">          32</td><td style=\"text-align: right;\">     1</td><td style=\"text-align: right;\"> 0.34798 </td><td style=\"text-align: right;\">      30</td><td style=\"text-align: right;\">0.657281</td><td style=\"text-align: right;\">          300</td><td style=\"text-align: right;\">0.000234512</td><td style=\"text-align: right;\">           2</td><td>adam       </td><td style=\"text-align: right;\">        15</td><td>exp              </td><td style=\"text-align: right;\">   0.000915397</td><td style=\"text-align: right;\">    10</td><td style=\"text-align: right;\">        939.916 </td><td style=\"text-align: right;\">2.96147</td><td style=\"text-align: right;\">     80.9689 </td><td style=\"text-align: right;\">     16.955  </td></tr>\n",
       "<tr><td>train_model_89fac_00001</td><td>TERMINATED</td><td>127.0.0.1:3208 </td><td style=\"text-align: right;\">      1</td><td style=\"text-align: right;\">          32</td><td style=\"text-align: right;\">     1</td><td style=\"text-align: right;\"> 0.64159 </td><td style=\"text-align: right;\">      30</td><td style=\"text-align: right;\">0.743967</td><td style=\"text-align: right;\">         1024</td><td style=\"text-align: right;\">0.0017469  </td><td style=\"text-align: right;\">           3</td><td>adam       </td><td style=\"text-align: right;\">        15</td><td>ReduceLROnPlateau</td><td style=\"text-align: right;\">   0.00575958 </td><td style=\"text-align: right;\">     1</td><td style=\"text-align: right;\">        123.24  </td><td style=\"text-align: right;\">3.46215</td><td style=\"text-align: right;\">     86.3322 </td><td style=\"text-align: right;\">     13.6678 </td></tr>\n",
       "<tr><td>train_model_89fac_00002</td><td>TERMINATED</td><td>127.0.0.1:22960</td><td style=\"text-align: right;\">      1</td><td style=\"text-align: right;\">          64</td><td style=\"text-align: right;\">     1</td><td style=\"text-align: right;\"> 0.538698</td><td style=\"text-align: right;\">      30</td><td style=\"text-align: right;\">0.62841 </td><td style=\"text-align: right;\">          256</td><td style=\"text-align: right;\">0.000225928</td><td style=\"text-align: right;\">           1</td><td>adamw      </td><td style=\"text-align: right;\">        15</td><td>exp              </td><td style=\"text-align: right;\">   0.000194802</td><td style=\"text-align: right;\">    10</td><td style=\"text-align: right;\">        795.811 </td><td style=\"text-align: right;\">2.80456</td><td style=\"text-align: right;\">     52.0761 </td><td style=\"text-align: right;\">     20.0692 </td></tr>\n",
       "<tr><td>train_model_89fac_00003</td><td>TERMINATED</td><td>127.0.0.1:9788 </td><td style=\"text-align: right;\">      1</td><td style=\"text-align: right;\">          32</td><td style=\"text-align: right;\">     1</td><td style=\"text-align: right;\"> 0.617236</td><td style=\"text-align: right;\">      30</td><td style=\"text-align: right;\">0.527387</td><td style=\"text-align: right;\">          512</td><td style=\"text-align: right;\">0.00342754 </td><td style=\"text-align: right;\">           2</td><td>adam       </td><td style=\"text-align: right;\">        15</td><td>ReduceLROnPlateau</td><td style=\"text-align: right;\">   0.00040293 </td><td style=\"text-align: right;\">     1</td><td style=\"text-align: right;\">         86.1521</td><td style=\"text-align: right;\">3.44545</td><td style=\"text-align: right;\">     86.3322 </td><td style=\"text-align: right;\">     11.4187 </td></tr>\n",
       "<tr><td>train_model_89fac_00004</td><td>TERMINATED</td><td>127.0.0.1:23516</td><td style=\"text-align: right;\">      1</td><td style=\"text-align: right;\">         128</td><td style=\"text-align: right;\">     1</td><td style=\"text-align: right;\"> 0.655808</td><td style=\"text-align: right;\">      30</td><td style=\"text-align: right;\">0.377665</td><td style=\"text-align: right;\">          512</td><td style=\"text-align: right;\">0.00386612 </td><td style=\"text-align: right;\">           1</td><td>adam       </td><td style=\"text-align: right;\">        10</td><td>ReduceLROnPlateau</td><td style=\"text-align: right;\">   0.0360448  </td><td style=\"text-align: right;\">     1</td><td style=\"text-align: right;\">         79.5189</td><td style=\"text-align: right;\">3.46288</td><td style=\"text-align: right;\">      7.43945</td><td style=\"text-align: right;\">     19.7232 </td></tr>\n",
       "<tr><td>train_model_89fac_00005</td><td>TERMINATED</td><td>127.0.0.1:28496</td><td style=\"text-align: right;\">      1</td><td style=\"text-align: right;\">          64</td><td style=\"text-align: right;\">     1</td><td style=\"text-align: right;\"> 0.517683</td><td style=\"text-align: right;\">      30</td><td style=\"text-align: right;\">0.583886</td><td style=\"text-align: right;\">          512</td><td style=\"text-align: right;\">0.000329205</td><td style=\"text-align: right;\">           3</td><td>adam       </td><td style=\"text-align: right;\">         5</td><td>exp              </td><td style=\"text-align: right;\">   0.00404401 </td><td style=\"text-align: right;\">     1</td><td style=\"text-align: right;\">         85.8479</td><td style=\"text-align: right;\">3.45769</td><td style=\"text-align: right;\">      7.43945</td><td style=\"text-align: right;\">     19.7232 </td></tr>\n",
       "<tr><td>train_model_89fac_00006</td><td>TERMINATED</td><td>127.0.0.1:22088</td><td style=\"text-align: right;\">      1</td><td style=\"text-align: right;\">          64</td><td style=\"text-align: right;\">     1</td><td style=\"text-align: right;\"> 0.697541</td><td style=\"text-align: right;\">      30</td><td style=\"text-align: right;\">0.564079</td><td style=\"text-align: right;\">          512</td><td style=\"text-align: right;\">0.00442353 </td><td style=\"text-align: right;\">           1</td><td>adamw      </td><td style=\"text-align: right;\">        10</td><td>ReduceLROnPlateau</td><td style=\"text-align: right;\">   0.000551482</td><td style=\"text-align: right;\">     2</td><td style=\"text-align: right;\">        159.789 </td><td style=\"text-align: right;\">3.40935</td><td style=\"text-align: right;\">     64.0138 </td><td style=\"text-align: right;\">     21.7993 </td></tr>\n",
       "<tr><td>train_model_89fac_00007</td><td>TERMINATED</td><td>127.0.0.1:24040</td><td style=\"text-align: right;\">      1</td><td style=\"text-align: right;\">          32</td><td style=\"text-align: right;\">     1</td><td style=\"text-align: right;\"> 0.604772</td><td style=\"text-align: right;\">      30</td><td style=\"text-align: right;\">0.797224</td><td style=\"text-align: right;\">         1024</td><td style=\"text-align: right;\">0.00253562 </td><td style=\"text-align: right;\">           2</td><td>adam       </td><td style=\"text-align: right;\">         5</td><td>exp              </td><td style=\"text-align: right;\">   0.001897   </td><td style=\"text-align: right;\">     1</td><td style=\"text-align: right;\">        100.936 </td><td style=\"text-align: right;\">3.55437</td><td style=\"text-align: right;\">      6.92042</td><td style=\"text-align: right;\">     13.8408 </td></tr>\n",
       "<tr><td>train_model_89fac_00008</td><td>TERMINATED</td><td>127.0.0.1:21028</td><td style=\"text-align: right;\">      1</td><td style=\"text-align: right;\">          64</td><td style=\"text-align: right;\">     1</td><td style=\"text-align: right;\"> 0.302218</td><td style=\"text-align: right;\">      30</td><td style=\"text-align: right;\">0.874907</td><td style=\"text-align: right;\">         1024</td><td style=\"text-align: right;\">0.000763326</td><td style=\"text-align: right;\">           1</td><td>adam       </td><td style=\"text-align: right;\">        15</td><td>ReduceLROnPlateau</td><td style=\"text-align: right;\">   0.00525929 </td><td style=\"text-align: right;\">     1</td><td style=\"text-align: right;\">         83.7549</td><td style=\"text-align: right;\">3.46027</td><td style=\"text-align: right;\">      7.43945</td><td style=\"text-align: right;\">     15.0519 </td></tr>\n",
       "<tr><td>train_model_89fac_00009</td><td>TERMINATED</td><td>127.0.0.1:24308</td><td style=\"text-align: right;\">      1</td><td style=\"text-align: right;\">         128</td><td style=\"text-align: right;\">     1</td><td style=\"text-align: right;\"> 0.66579 </td><td style=\"text-align: right;\">      30</td><td style=\"text-align: right;\">0.535318</td><td style=\"text-align: right;\">          256</td><td style=\"text-align: right;\">0.00393378 </td><td style=\"text-align: right;\">           3</td><td>adam       </td><td style=\"text-align: right;\">         5</td><td>ReduceLROnPlateau</td><td style=\"text-align: right;\">   0.00123021 </td><td style=\"text-align: right;\">     2</td><td style=\"text-align: right;\">        157.139 </td><td style=\"text-align: right;\">3.29509</td><td style=\"text-align: right;\">     38.4083 </td><td style=\"text-align: right;\">      8.47751</td></tr>\n",
       "<tr><td>train_model_89fac_00010</td><td>TERMINATED</td><td>127.0.0.1:30512</td><td style=\"text-align: right;\">      1</td><td style=\"text-align: right;\">          64</td><td style=\"text-align: right;\">     1</td><td style=\"text-align: right;\"> 0.621381</td><td style=\"text-align: right;\">      30</td><td style=\"text-align: right;\">0.522243</td><td style=\"text-align: right;\">          512</td><td style=\"text-align: right;\">0.00126461 </td><td style=\"text-align: right;\">           2</td><td>adamw      </td><td style=\"text-align: right;\">         5</td><td>ReduceLROnPlateau</td><td style=\"text-align: right;\">   0.000133473</td><td style=\"text-align: right;\">     4</td><td style=\"text-align: right;\">        324.875 </td><td style=\"text-align: right;\">3.09411</td><td style=\"text-align: right;\">     74.9135 </td><td style=\"text-align: right;\">     23.3564 </td></tr>\n",
       "<tr><td>train_model_89fac_00011</td><td>TERMINATED</td><td>127.0.0.1:31900</td><td style=\"text-align: right;\">      1</td><td style=\"text-align: right;\">         128</td><td style=\"text-align: right;\">     1</td><td style=\"text-align: right;\"> 0.468455</td><td style=\"text-align: right;\">      30</td><td style=\"text-align: right;\">0.811012</td><td style=\"text-align: right;\">          300</td><td style=\"text-align: right;\">0.00193947 </td><td style=\"text-align: right;\">           2</td><td>adamw      </td><td style=\"text-align: right;\">        15</td><td>exp              </td><td style=\"text-align: right;\">   0.0803289  </td><td style=\"text-align: right;\">     2</td><td style=\"text-align: right;\">        157.981 </td><td style=\"text-align: right;\">3.16994</td><td style=\"text-align: right;\">      7.78547</td><td style=\"text-align: right;\">     19.2042 </td></tr>\n",
       "<tr><td>train_model_89fac_00012</td><td>TERMINATED</td><td>127.0.0.1:11164</td><td style=\"text-align: right;\">      1</td><td style=\"text-align: right;\">          32</td><td style=\"text-align: right;\">     1</td><td style=\"text-align: right;\"> 0.691053</td><td style=\"text-align: right;\">      30</td><td style=\"text-align: right;\">0.440274</td><td style=\"text-align: right;\">         1024</td><td style=\"text-align: right;\">0.00122093 </td><td style=\"text-align: right;\">           3</td><td>adamw      </td><td style=\"text-align: right;\">        10</td><td>ReduceLROnPlateau</td><td style=\"text-align: right;\">   0.048466   </td><td style=\"text-align: right;\">     1</td><td style=\"text-align: right;\">        113.085 </td><td style=\"text-align: right;\">4.00392</td><td style=\"text-align: right;\">     43.0796 </td><td style=\"text-align: right;\">     11.7647 </td></tr>\n",
       "<tr><td>train_model_89fac_00013</td><td>TERMINATED</td><td>127.0.0.1:12344</td><td style=\"text-align: right;\">      1</td><td style=\"text-align: right;\">          64</td><td style=\"text-align: right;\">     1</td><td style=\"text-align: right;\"> 0.410976</td><td style=\"text-align: right;\">      30</td><td style=\"text-align: right;\">0.882643</td><td style=\"text-align: right;\">          300</td><td style=\"text-align: right;\">0.00449262 </td><td style=\"text-align: right;\">           2</td><td>adam       </td><td style=\"text-align: right;\">        10</td><td>exp              </td><td style=\"text-align: right;\">   0.000920356</td><td style=\"text-align: right;\">     1</td><td style=\"text-align: right;\">         79.1119</td><td style=\"text-align: right;\">3.45971</td><td style=\"text-align: right;\">     61.7647 </td><td style=\"text-align: right;\">      3.97924</td></tr>\n",
       "<tr><td>train_model_89fac_00014</td><td>TERMINATED</td><td>127.0.0.1:31904</td><td style=\"text-align: right;\">      1</td><td style=\"text-align: right;\">          32</td><td style=\"text-align: right;\">     1</td><td style=\"text-align: right;\"> 0.338115</td><td style=\"text-align: right;\">      30</td><td style=\"text-align: right;\">0.438299</td><td style=\"text-align: right;\">          512</td><td style=\"text-align: right;\">0.000166405</td><td style=\"text-align: right;\">           2</td><td>adamw      </td><td style=\"text-align: right;\">        15</td><td>exp              </td><td style=\"text-align: right;\">   0.000768275</td><td style=\"text-align: right;\">    10</td><td style=\"text-align: right;\">        850.329 </td><td style=\"text-align: right;\">2.54237</td><td style=\"text-align: right;\">     75.9516 </td><td style=\"text-align: right;\">     23.8754 </td></tr>\n",
       "<tr><td>train_model_89fac_00015</td><td>TERMINATED</td><td>127.0.0.1:21964</td><td style=\"text-align: right;\">      1</td><td style=\"text-align: right;\">          64</td><td style=\"text-align: right;\">     1</td><td style=\"text-align: right;\"> 0.319547</td><td style=\"text-align: right;\">      30</td><td style=\"text-align: right;\">0.606416</td><td style=\"text-align: right;\">          256</td><td style=\"text-align: right;\">0.00114721 </td><td style=\"text-align: right;\">           3</td><td>adamw      </td><td style=\"text-align: right;\">        15</td><td>exp              </td><td style=\"text-align: right;\">   0.0343036  </td><td style=\"text-align: right;\">     2</td><td style=\"text-align: right;\">        161.374 </td><td style=\"text-align: right;\">3.07959</td><td style=\"text-align: right;\">     66.09   </td><td style=\"text-align: right;\">     24.9135 </td></tr>\n",
       "<tr><td>train_model_89fac_00016</td><td>TERMINATED</td><td>127.0.0.1:24292</td><td style=\"text-align: right;\">      1</td><td style=\"text-align: right;\">          64</td><td style=\"text-align: right;\">     1</td><td style=\"text-align: right;\"> 0.414508</td><td style=\"text-align: right;\">      30</td><td style=\"text-align: right;\">0.865595</td><td style=\"text-align: right;\">         1024</td><td style=\"text-align: right;\">0.000210567</td><td style=\"text-align: right;\">           2</td><td>adamw      </td><td style=\"text-align: right;\">        10</td><td>exp              </td><td style=\"text-align: right;\">   0.000142713</td><td style=\"text-align: right;\">     8</td><td style=\"text-align: right;\">        743.564 </td><td style=\"text-align: right;\">3.09092</td><td style=\"text-align: right;\">     76.4706 </td><td style=\"text-align: right;\">     26.4706 </td></tr>\n",
       "<tr><td>train_model_89fac_00017</td><td>TERMINATED</td><td>127.0.0.1:29540</td><td style=\"text-align: right;\">      1</td><td style=\"text-align: right;\">          64</td><td style=\"text-align: right;\">     1</td><td style=\"text-align: right;\"> 0.627786</td><td style=\"text-align: right;\">      30</td><td style=\"text-align: right;\">0.310472</td><td style=\"text-align: right;\">         1024</td><td style=\"text-align: right;\">0.00256599 </td><td style=\"text-align: right;\">           2</td><td>adam       </td><td style=\"text-align: right;\">         5</td><td>ReduceLROnPlateau</td><td style=\"text-align: right;\">   0.0014851  </td><td style=\"text-align: right;\">     1</td><td style=\"text-align: right;\">         93.539 </td><td style=\"text-align: right;\">3.6381 </td><td style=\"text-align: right;\">     41.6955 </td><td style=\"text-align: right;\">     17.6471 </td></tr>\n",
       "<tr><td>train_model_89fac_00018</td><td>TERMINATED</td><td>127.0.0.1:11196</td><td style=\"text-align: right;\">      1</td><td style=\"text-align: right;\">          64</td><td style=\"text-align: right;\">     1</td><td style=\"text-align: right;\"> 0.473498</td><td style=\"text-align: right;\">      30</td><td style=\"text-align: right;\">0.592517</td><td style=\"text-align: right;\">          300</td><td style=\"text-align: right;\">0.000617023</td><td style=\"text-align: right;\">           1</td><td>adam       </td><td style=\"text-align: right;\">        10</td><td>ReduceLROnPlateau</td><td style=\"text-align: right;\">   0.000647235</td><td style=\"text-align: right;\">    10</td><td style=\"text-align: right;\">        772.801 </td><td style=\"text-align: right;\">2.15692</td><td style=\"text-align: right;\">     71.7993 </td><td style=\"text-align: right;\">     34.4291 </td></tr>\n",
       "<tr><td>train_model_89fac_00019</td><td>TERMINATED</td><td>127.0.0.1:19592</td><td style=\"text-align: right;\">      1</td><td style=\"text-align: right;\">         128</td><td style=\"text-align: right;\">     1</td><td style=\"text-align: right;\"> 0.365768</td><td style=\"text-align: right;\">      30</td><td style=\"text-align: right;\">0.535578</td><td style=\"text-align: right;\">         1024</td><td style=\"text-align: right;\">0.0080783  </td><td style=\"text-align: right;\">           2</td><td>adam       </td><td style=\"text-align: right;\">         5</td><td>exp              </td><td style=\"text-align: right;\">   0.00377746 </td><td style=\"text-align: right;\">     1</td><td style=\"text-align: right;\">        313.137 </td><td style=\"text-align: right;\">3.75678</td><td style=\"text-align: right;\">      7.43945</td><td style=\"text-align: right;\">     19.7232 </td></tr>\n",
       "<tr><td>train_model_89fac_00020</td><td>TERMINATED</td><td>127.0.0.1:15688</td><td style=\"text-align: right;\">      1</td><td style=\"text-align: right;\">         128</td><td style=\"text-align: right;\">     1</td><td style=\"text-align: right;\"> 0.492583</td><td style=\"text-align: right;\">      30</td><td style=\"text-align: right;\">0.805117</td><td style=\"text-align: right;\">          300</td><td style=\"text-align: right;\">0.000104699</td><td style=\"text-align: right;\">           2</td><td>adamw      </td><td style=\"text-align: right;\">        15</td><td>ReduceLROnPlateau</td><td style=\"text-align: right;\">   0.0741725  </td><td style=\"text-align: right;\">     1</td><td style=\"text-align: right;\">         86.15  </td><td style=\"text-align: right;\">3.46389</td><td style=\"text-align: right;\">      4.67128</td><td style=\"text-align: right;\">     18.1661 </td></tr>\n",
       "<tr><td>train_model_89fac_00021</td><td>TERMINATED</td><td>127.0.0.1:11960</td><td style=\"text-align: right;\">      1</td><td style=\"text-align: right;\">         128</td><td style=\"text-align: right;\">     1</td><td style=\"text-align: right;\"> 0.310081</td><td style=\"text-align: right;\">      30</td><td style=\"text-align: right;\">0.851645</td><td style=\"text-align: right;\">         1024</td><td style=\"text-align: right;\">0.00020283 </td><td style=\"text-align: right;\">           2</td><td>adam       </td><td style=\"text-align: right;\">        10</td><td>exp              </td><td style=\"text-align: right;\">   0.0140359  </td><td style=\"text-align: right;\">     1</td><td style=\"text-align: right;\">        311.66  </td><td style=\"text-align: right;\">3.46441</td><td style=\"text-align: right;\">      7.43945</td><td style=\"text-align: right;\">      2.24913</td></tr>\n",
       "<tr><td>train_model_89fac_00022</td><td>TERMINATED</td><td>127.0.0.1:22236</td><td style=\"text-align: right;\">      1</td><td style=\"text-align: right;\">          64</td><td style=\"text-align: right;\">     1</td><td style=\"text-align: right;\"> 0.52811 </td><td style=\"text-align: right;\">      30</td><td style=\"text-align: right;\">0.484118</td><td style=\"text-align: right;\">         1024</td><td style=\"text-align: right;\">0.000510911</td><td style=\"text-align: right;\">           2</td><td>adamw      </td><td style=\"text-align: right;\">        15</td><td>exp              </td><td style=\"text-align: right;\">   0.00146219 </td><td style=\"text-align: right;\">     2</td><td style=\"text-align: right;\">        196.419 </td><td style=\"text-align: right;\">3.09843</td><td style=\"text-align: right;\">     73.3564 </td><td style=\"text-align: right;\">      9.34256</td></tr>\n",
       "<tr><td>train_model_89fac_00023</td><td>TERMINATED</td><td>127.0.0.1:31876</td><td style=\"text-align: right;\">      1</td><td style=\"text-align: right;\">          32</td><td style=\"text-align: right;\">     1</td><td style=\"text-align: right;\"> 0.52535 </td><td style=\"text-align: right;\">      30</td><td style=\"text-align: right;\">0.628956</td><td style=\"text-align: right;\">          300</td><td style=\"text-align: right;\">0.00521119 </td><td style=\"text-align: right;\">           1</td><td>adamw      </td><td style=\"text-align: right;\">        15</td><td>exp              </td><td style=\"text-align: right;\">   0.000103274</td><td style=\"text-align: right;\">     1</td><td style=\"text-align: right;\">         82.2022</td><td style=\"text-align: right;\">3.46414</td><td style=\"text-align: right;\">      7.43945</td><td style=\"text-align: right;\">      2.24913</td></tr>\n",
       "<tr><td>train_model_89fac_00024</td><td>TERMINATED</td><td>127.0.0.1:7972 </td><td style=\"text-align: right;\">      1</td><td style=\"text-align: right;\">          64</td><td style=\"text-align: right;\">     1</td><td style=\"text-align: right;\"> 0.383401</td><td style=\"text-align: right;\">      30</td><td style=\"text-align: right;\">0.902005</td><td style=\"text-align: right;\">          512</td><td style=\"text-align: right;\">0.00367507 </td><td style=\"text-align: right;\">           2</td><td>adam       </td><td style=\"text-align: right;\">        10</td><td>exp              </td><td style=\"text-align: right;\">   0.00533749 </td><td style=\"text-align: right;\">     1</td><td style=\"text-align: right;\">         84.1733</td><td style=\"text-align: right;\">3.45849</td><td style=\"text-align: right;\">      7.43945</td><td style=\"text-align: right;\">     14.7059 </td></tr>\n",
       "<tr><td>train_model_89fac_00025</td><td>TERMINATED</td><td>127.0.0.1:11048</td><td style=\"text-align: right;\">      1</td><td style=\"text-align: right;\">         128</td><td style=\"text-align: right;\">     1</td><td style=\"text-align: right;\"> 0.6026  </td><td style=\"text-align: right;\">      30</td><td style=\"text-align: right;\">0.669941</td><td style=\"text-align: right;\">          512</td><td style=\"text-align: right;\">0.00527297 </td><td style=\"text-align: right;\">           3</td><td>adamw      </td><td style=\"text-align: right;\">        15</td><td>exp              </td><td style=\"text-align: right;\">   0.000414363</td><td style=\"text-align: right;\">     2</td><td style=\"text-align: right;\">        170.11  </td><td style=\"text-align: right;\">3.31644</td><td style=\"text-align: right;\">      5.0173 </td><td style=\"text-align: right;\">     14.1869 </td></tr>\n",
       "<tr><td>train_model_89fac_00026</td><td>TERMINATED</td><td>127.0.0.1:32384</td><td style=\"text-align: right;\">      1</td><td style=\"text-align: right;\">         128</td><td style=\"text-align: right;\">     1</td><td style=\"text-align: right;\"> 0.458086</td><td style=\"text-align: right;\">      30</td><td style=\"text-align: right;\">0.791408</td><td style=\"text-align: right;\">          300</td><td style=\"text-align: right;\">0.000741596</td><td style=\"text-align: right;\">           3</td><td>adamw      </td><td style=\"text-align: right;\">        15</td><td>exp              </td><td style=\"text-align: right;\">   0.0137728  </td><td style=\"text-align: right;\">     2</td><td style=\"text-align: right;\">        160.895 </td><td style=\"text-align: right;\">3.1512 </td><td style=\"text-align: right;\">     81.4879 </td><td style=\"text-align: right;\">     17.9931 </td></tr>\n",
       "<tr><td>train_model_89fac_00027</td><td>TERMINATED</td><td>127.0.0.1:23464</td><td style=\"text-align: right;\">      1</td><td style=\"text-align: right;\">          32</td><td style=\"text-align: right;\">     1</td><td style=\"text-align: right;\"> 0.612664</td><td style=\"text-align: right;\">      30</td><td style=\"text-align: right;\">0.39664 </td><td style=\"text-align: right;\">          512</td><td style=\"text-align: right;\">0.000674464</td><td style=\"text-align: right;\">           2</td><td>adam       </td><td style=\"text-align: right;\">        10</td><td>ReduceLROnPlateau</td><td style=\"text-align: right;\">   0.0367586  </td><td style=\"text-align: right;\">     1</td><td style=\"text-align: right;\">         90.4583</td><td style=\"text-align: right;\">3.46584</td><td style=\"text-align: right;\">     86.3322 </td><td style=\"text-align: right;\">     15.0519 </td></tr>\n",
       "<tr><td>train_model_89fac_00028</td><td>TERMINATED</td><td>127.0.0.1:4440 </td><td style=\"text-align: right;\">      1</td><td style=\"text-align: right;\">          32</td><td style=\"text-align: right;\">     1</td><td style=\"text-align: right;\"> 0.348016</td><td style=\"text-align: right;\">      30</td><td style=\"text-align: right;\">0.937315</td><td style=\"text-align: right;\">          512</td><td style=\"text-align: right;\">0.000477888</td><td style=\"text-align: right;\">           3</td><td>adamw      </td><td style=\"text-align: right;\">        10</td><td>ReduceLROnPlateau</td><td style=\"text-align: right;\">   0.0234818  </td><td style=\"text-align: right;\">     2</td><td style=\"text-align: right;\">        191.119 </td><td style=\"text-align: right;\">3.13381</td><td style=\"text-align: right;\">     69.8962 </td><td style=\"text-align: right;\">     13.8408 </td></tr>\n",
       "<tr><td>train_model_89fac_00029</td><td>TERMINATED</td><td>127.0.0.1:10116</td><td style=\"text-align: right;\">      1</td><td style=\"text-align: right;\">          64</td><td style=\"text-align: right;\">     1</td><td style=\"text-align: right;\"> 0.37956 </td><td style=\"text-align: right;\">      30</td><td style=\"text-align: right;\">0.648623</td><td style=\"text-align: right;\">          256</td><td style=\"text-align: right;\">0.00282657 </td><td style=\"text-align: right;\">           3</td><td>adam       </td><td style=\"text-align: right;\">        15</td><td>ReduceLROnPlateau</td><td style=\"text-align: right;\">   0.000336645</td><td style=\"text-align: right;\">     1</td><td style=\"text-align: right;\">         87.39  </td><td style=\"text-align: right;\">3.55415</td><td style=\"text-align: right;\">     12.6298 </td><td style=\"text-align: right;\">     14.8789 </td></tr>\n",
       "<tr><td>train_model_89fac_00030</td><td>TERMINATED</td><td>127.0.0.1:13636</td><td style=\"text-align: right;\">      1</td><td style=\"text-align: right;\">          32</td><td style=\"text-align: right;\">     1</td><td style=\"text-align: right;\"> 0.693255</td><td style=\"text-align: right;\">      30</td><td style=\"text-align: right;\">0.765225</td><td style=\"text-align: right;\">          512</td><td style=\"text-align: right;\">0.00272816 </td><td style=\"text-align: right;\">           3</td><td>adam       </td><td style=\"text-align: right;\">         5</td><td>ReduceLROnPlateau</td><td style=\"text-align: right;\">   0.0138027  </td><td style=\"text-align: right;\">     1</td><td style=\"text-align: right;\">         96.157 </td><td style=\"text-align: right;\">3.45661</td><td style=\"text-align: right;\">      7.43945</td><td style=\"text-align: right;\">     14.7059 </td></tr>\n",
       "<tr><td>train_model_89fac_00031</td><td>TERMINATED</td><td>127.0.0.1:8124 </td><td style=\"text-align: right;\">      1</td><td style=\"text-align: right;\">          32</td><td style=\"text-align: right;\">     1</td><td style=\"text-align: right;\"> 0.4295  </td><td style=\"text-align: right;\">      30</td><td style=\"text-align: right;\">0.663318</td><td style=\"text-align: right;\">         1024</td><td style=\"text-align: right;\">0.00584848 </td><td style=\"text-align: right;\">           1</td><td>adamw      </td><td style=\"text-align: right;\">         5</td><td>exp              </td><td style=\"text-align: right;\">   0.00671105 </td><td style=\"text-align: right;\">     1</td><td style=\"text-align: right;\">         92.9548</td><td style=\"text-align: right;\">3.54343</td><td style=\"text-align: right;\">     86.3322 </td><td style=\"text-align: right;\">      2.24913</td></tr>\n",
       "<tr><td>train_model_89fac_00032</td><td>TERMINATED</td><td>127.0.0.1:29908</td><td style=\"text-align: right;\">      1</td><td style=\"text-align: right;\">         128</td><td style=\"text-align: right;\">     1</td><td style=\"text-align: right;\"> 0.640905</td><td style=\"text-align: right;\">      30</td><td style=\"text-align: right;\">0.751199</td><td style=\"text-align: right;\">         1024</td><td style=\"text-align: right;\">0.000539229</td><td style=\"text-align: right;\">           1</td><td>adamw      </td><td style=\"text-align: right;\">        15</td><td>ReduceLROnPlateau</td><td style=\"text-align: right;\">   0.042248   </td><td style=\"text-align: right;\">    10</td><td style=\"text-align: right;\">        868.746 </td><td style=\"text-align: right;\">2.08412</td><td style=\"text-align: right;\">     77.3356 </td><td style=\"text-align: right;\">     44.8097 </td></tr>\n",
       "<tr><td>train_model_89fac_00033</td><td>TERMINATED</td><td>127.0.0.1:14776</td><td style=\"text-align: right;\">      1</td><td style=\"text-align: right;\">          32</td><td style=\"text-align: right;\">     1</td><td style=\"text-align: right;\"> 0.590811</td><td style=\"text-align: right;\">      30</td><td style=\"text-align: right;\">0.529589</td><td style=\"text-align: right;\">          512</td><td style=\"text-align: right;\">0.000260665</td><td style=\"text-align: right;\">           3</td><td>adamw      </td><td style=\"text-align: right;\">         5</td><td>exp              </td><td style=\"text-align: right;\">   0.00072838 </td><td style=\"text-align: right;\">     4</td><td style=\"text-align: right;\">        386.722 </td><td style=\"text-align: right;\">2.95836</td><td style=\"text-align: right;\">     74.7405 </td><td style=\"text-align: right;\">     17.301  </td></tr>\n",
       "<tr><td>train_model_89fac_00034</td><td>TERMINATED</td><td>127.0.0.1:14068</td><td style=\"text-align: right;\">      1</td><td style=\"text-align: right;\">          32</td><td style=\"text-align: right;\">     1</td><td style=\"text-align: right;\"> 0.449157</td><td style=\"text-align: right;\">      30</td><td style=\"text-align: right;\">0.46222 </td><td style=\"text-align: right;\">          512</td><td style=\"text-align: right;\">0.000332231</td><td style=\"text-align: right;\">           3</td><td>adam       </td><td style=\"text-align: right;\">        10</td><td>ReduceLROnPlateau</td><td style=\"text-align: right;\">   0.0477219  </td><td style=\"text-align: right;\">     1</td><td style=\"text-align: right;\">         97.7089</td><td style=\"text-align: right;\">3.46593</td><td style=\"text-align: right;\">     86.3322 </td><td style=\"text-align: right;\">      5.36332</td></tr>\n",
       "<tr><td>train_model_89fac_00035</td><td>TERMINATED</td><td>127.0.0.1:2680 </td><td style=\"text-align: right;\">      1</td><td style=\"text-align: right;\">          32</td><td style=\"text-align: right;\">     1</td><td style=\"text-align: right;\"> 0.652494</td><td style=\"text-align: right;\">      30</td><td style=\"text-align: right;\">0.541326</td><td style=\"text-align: right;\">          512</td><td style=\"text-align: right;\">0.00140894 </td><td style=\"text-align: right;\">           3</td><td>adamw      </td><td style=\"text-align: right;\">         5</td><td>ReduceLROnPlateau</td><td style=\"text-align: right;\">   0.000239045</td><td style=\"text-align: right;\">     2</td><td style=\"text-align: right;\">        194.376 </td><td style=\"text-align: right;\">3.31076</td><td style=\"text-align: right;\">     72.4913 </td><td style=\"text-align: right;\">      8.47751</td></tr>\n",
       "<tr><td>train_model_89fac_00036</td><td>TERMINATED</td><td>127.0.0.1:4408 </td><td style=\"text-align: right;\">      1</td><td style=\"text-align: right;\">          32</td><td style=\"text-align: right;\">     1</td><td style=\"text-align: right;\"> 0.577334</td><td style=\"text-align: right;\">      30</td><td style=\"text-align: right;\">0.734265</td><td style=\"text-align: right;\">          256</td><td style=\"text-align: right;\">0.0050218  </td><td style=\"text-align: right;\">           1</td><td>adam       </td><td style=\"text-align: right;\">        10</td><td>ReduceLROnPlateau</td><td style=\"text-align: right;\">   0.00102826 </td><td style=\"text-align: right;\">     1</td><td style=\"text-align: right;\">         87.02  </td><td style=\"text-align: right;\">3.50527</td><td style=\"text-align: right;\">      3.46021</td><td style=\"text-align: right;\">     14.1869 </td></tr>\n",
       "<tr><td>train_model_89fac_00037</td><td>TERMINATED</td><td>127.0.0.1:31708</td><td style=\"text-align: right;\">      1</td><td style=\"text-align: right;\">          64</td><td style=\"text-align: right;\">     1</td><td style=\"text-align: right;\"> 0.401691</td><td style=\"text-align: right;\">      30</td><td style=\"text-align: right;\">0.913061</td><td style=\"text-align: right;\">         1024</td><td style=\"text-align: right;\">0.000788546</td><td style=\"text-align: right;\">           3</td><td>adamw      </td><td style=\"text-align: right;\">        15</td><td>ReduceLROnPlateau</td><td style=\"text-align: right;\">   0.00118183 </td><td style=\"text-align: right;\">     2</td><td style=\"text-align: right;\">        220.324 </td><td style=\"text-align: right;\">3.31112</td><td style=\"text-align: right;\">     26.2976 </td><td style=\"text-align: right;\">     19.5502 </td></tr>\n",
       "<tr><td>train_model_89fac_00038</td><td>TERMINATED</td><td>127.0.0.1:10116</td><td style=\"text-align: right;\">      1</td><td style=\"text-align: right;\">          64</td><td style=\"text-align: right;\">     1</td><td style=\"text-align: right;\"> 0.674061</td><td style=\"text-align: right;\">      30</td><td style=\"text-align: right;\">0.340886</td><td style=\"text-align: right;\">         1024</td><td style=\"text-align: right;\">0.00061208 </td><td style=\"text-align: right;\">           3</td><td>adam       </td><td style=\"text-align: right;\">        10</td><td>exp              </td><td style=\"text-align: right;\">   0.00309159 </td><td style=\"text-align: right;\">     1</td><td style=\"text-align: right;\">        110.12  </td><td style=\"text-align: right;\">3.4683 </td><td style=\"text-align: right;\">      7.43945</td><td style=\"text-align: right;\">      2.24913</td></tr>\n",
       "<tr><td>train_model_89fac_00039</td><td>TERMINATED</td><td>127.0.0.1:23460</td><td style=\"text-align: right;\">      1</td><td style=\"text-align: right;\">          32</td><td style=\"text-align: right;\">     1</td><td style=\"text-align: right;\"> 0.575701</td><td style=\"text-align: right;\">      30</td><td style=\"text-align: right;\">0.48937 </td><td style=\"text-align: right;\">          256</td><td style=\"text-align: right;\">0.00695166 </td><td style=\"text-align: right;\">           1</td><td>adamw      </td><td style=\"text-align: right;\">        15</td><td>ReduceLROnPlateau</td><td style=\"text-align: right;\">   0.0488894  </td><td style=\"text-align: right;\">     2</td><td style=\"text-align: right;\">        172.2   </td><td style=\"text-align: right;\">3.34654</td><td style=\"text-align: right;\">      8.47751</td><td style=\"text-align: right;\">     10.7266 </td></tr>\n",
       "</tbody>\n",
       "</table>\n",
       "  </div>\n",
       "</div>\n",
       "<style>\n",
       ".tuneStatus {\n",
       "  color: var(--jp-ui-font-color1);\n",
       "}\n",
       ".tuneStatus .systemInfo {\n",
       "  display: flex;\n",
       "  flex-direction: column;\n",
       "}\n",
       ".tuneStatus td {\n",
       "  white-space: nowrap;\n",
       "}\n",
       ".tuneStatus .trialStatus {\n",
       "  display: flex;\n",
       "  flex-direction: column;\n",
       "}\n",
       ".tuneStatus h3 {\n",
       "  font-weight: bold;\n",
       "}\n",
       ".tuneStatus .hDivider {\n",
       "  border-bottom-width: var(--jp-border-width);\n",
       "  border-bottom-color: var(--jp-border-color0);\n",
       "  border-bottom-style: solid;\n",
       "}\n",
       ".tuneStatus .vDivider {\n",
       "  border-left-width: var(--jp-border-width);\n",
       "  border-left-color: var(--jp-border-color0);\n",
       "  border-left-style: solid;\n",
       "  margin: 0.5em 1em 0.5em 1em;\n",
       "}\n",
       "</style>\n"
      ],
      "text/plain": [
       "<IPython.core.display.HTML object>"
      ]
     },
     "metadata": {},
     "output_type": "display_data"
    },
    {
     "name": "stderr",
     "output_type": "stream",
     "text": [
      "\u001b[36m(train_model pid=28696)\u001b[0m Checkpoint successfully created at: Checkpoint(filesystem=local, path=c:/Users/LEGION/Documents/Msc Data Science - Uni of Exeter/ECMM451 - Data Science Research Project (2023)/workspace/ray_results/MultiTaskModel/trial_89fac_00000/checkpoint_000000)\n",
      "\u001b[36m(train_model pid=28696)\u001b[0m Checkpoint successfully created at: Checkpoint(filesystem=local, path=c:/Users/LEGION/Documents/Msc Data Science - Uni of Exeter/ECMM451 - Data Science Research Project (2023)/workspace/ray_results/MultiTaskModel/trial_89fac_00000/checkpoint_000001)\n",
      "\u001b[36m(train_model pid=28696)\u001b[0m Checkpoint successfully created at: Checkpoint(filesystem=local, path=c:/Users/LEGION/Documents/Msc Data Science - Uni of Exeter/ECMM451 - Data Science Research Project (2023)/workspace/ray_results/MultiTaskModel/trial_89fac_00000/checkpoint_000002)\n",
      "\u001b[36m(train_model pid=28696)\u001b[0m Checkpoint successfully created at: Checkpoint(filesystem=local, path=c:/Users/LEGION/Documents/Msc Data Science - Uni of Exeter/ECMM451 - Data Science Research Project (2023)/workspace/ray_results/MultiTaskModel/trial_89fac_00000/checkpoint_000003)\n",
      "\u001b[36m(train_model pid=28696)\u001b[0m Checkpoint successfully created at: Checkpoint(filesystem=local, path=c:/Users/LEGION/Documents/Msc Data Science - Uni of Exeter/ECMM451 - Data Science Research Project (2023)/workspace/ray_results/MultiTaskModel/trial_89fac_00000/checkpoint_000004)\n",
      "\u001b[36m(train_model pid=28696)\u001b[0m Checkpoint successfully created at: Checkpoint(filesystem=local, path=c:/Users/LEGION/Documents/Msc Data Science - Uni of Exeter/ECMM451 - Data Science Research Project (2023)/workspace/ray_results/MultiTaskModel/trial_89fac_00000/checkpoint_000005)\n",
      "\u001b[36m(train_model pid=28696)\u001b[0m Checkpoint successfully created at: Checkpoint(filesystem=local, path=c:/Users/LEGION/Documents/Msc Data Science - Uni of Exeter/ECMM451 - Data Science Research Project (2023)/workspace/ray_results/MultiTaskModel/trial_89fac_00000/checkpoint_000006)\n",
      "\u001b[36m(train_model pid=28696)\u001b[0m Checkpoint successfully created at: Checkpoint(filesystem=local, path=c:/Users/LEGION/Documents/Msc Data Science - Uni of Exeter/ECMM451 - Data Science Research Project (2023)/workspace/ray_results/MultiTaskModel/trial_89fac_00000/checkpoint_000007)\n",
      "\u001b[36m(train_model pid=28696)\u001b[0m Checkpoint successfully created at: Checkpoint(filesystem=local, path=c:/Users/LEGION/Documents/Msc Data Science - Uni of Exeter/ECMM451 - Data Science Research Project (2023)/workspace/ray_results/MultiTaskModel/trial_89fac_00000/checkpoint_000008)\n",
      "\u001b[36m(train_model pid=28696)\u001b[0m Checkpoint successfully created at: Checkpoint(filesystem=local, path=c:/Users/LEGION/Documents/Msc Data Science - Uni of Exeter/ECMM451 - Data Science Research Project (2023)/workspace/ray_results/MultiTaskModel/trial_89fac_00000/checkpoint_000009)\n",
      "\u001b[36m(train_model pid=3208)\u001b[0m Checkpoint successfully created at: Checkpoint(filesystem=local, path=c:/Users/LEGION/Documents/Msc Data Science - Uni of Exeter/ECMM451 - Data Science Research Project (2023)/workspace/ray_results/MultiTaskModel/trial_89fac_00001/checkpoint_000000)\n",
      "\u001b[36m(train_model pid=22960)\u001b[0m Checkpoint successfully created at: Checkpoint(filesystem=local, path=c:/Users/LEGION/Documents/Msc Data Science - Uni of Exeter/ECMM451 - Data Science Research Project (2023)/workspace/ray_results/MultiTaskModel/trial_89fac_00002/checkpoint_000000)\n",
      "\u001b[36m(train_model pid=22960)\u001b[0m Checkpoint successfully created at: Checkpoint(filesystem=local, path=c:/Users/LEGION/Documents/Msc Data Science - Uni of Exeter/ECMM451 - Data Science Research Project (2023)/workspace/ray_results/MultiTaskModel/trial_89fac_00002/checkpoint_000001)\n",
      "\u001b[36m(train_model pid=22960)\u001b[0m Checkpoint successfully created at: Checkpoint(filesystem=local, path=c:/Users/LEGION/Documents/Msc Data Science - Uni of Exeter/ECMM451 - Data Science Research Project (2023)/workspace/ray_results/MultiTaskModel/trial_89fac_00002/checkpoint_000002)\n",
      "\u001b[36m(train_model pid=22960)\u001b[0m Checkpoint successfully created at: Checkpoint(filesystem=local, path=c:/Users/LEGION/Documents/Msc Data Science - Uni of Exeter/ECMM451 - Data Science Research Project (2023)/workspace/ray_results/MultiTaskModel/trial_89fac_00002/checkpoint_000003)\n",
      "\u001b[36m(train_model pid=22960)\u001b[0m Checkpoint successfully created at: Checkpoint(filesystem=local, path=c:/Users/LEGION/Documents/Msc Data Science - Uni of Exeter/ECMM451 - Data Science Research Project (2023)/workspace/ray_results/MultiTaskModel/trial_89fac_00002/checkpoint_000004)\n",
      "\u001b[36m(train_model pid=22960)\u001b[0m Checkpoint successfully created at: Checkpoint(filesystem=local, path=c:/Users/LEGION/Documents/Msc Data Science - Uni of Exeter/ECMM451 - Data Science Research Project (2023)/workspace/ray_results/MultiTaskModel/trial_89fac_00002/checkpoint_000005)\n",
      "\u001b[36m(train_model pid=22960)\u001b[0m Checkpoint successfully created at: Checkpoint(filesystem=local, path=c:/Users/LEGION/Documents/Msc Data Science - Uni of Exeter/ECMM451 - Data Science Research Project (2023)/workspace/ray_results/MultiTaskModel/trial_89fac_00002/checkpoint_000006)\n",
      "\u001b[36m(train_model pid=22960)\u001b[0m Checkpoint successfully created at: Checkpoint(filesystem=local, path=c:/Users/LEGION/Documents/Msc Data Science - Uni of Exeter/ECMM451 - Data Science Research Project (2023)/workspace/ray_results/MultiTaskModel/trial_89fac_00002/checkpoint_000007)\n",
      "\u001b[36m(train_model pid=22960)\u001b[0m Checkpoint successfully created at: Checkpoint(filesystem=local, path=c:/Users/LEGION/Documents/Msc Data Science - Uni of Exeter/ECMM451 - Data Science Research Project (2023)/workspace/ray_results/MultiTaskModel/trial_89fac_00002/checkpoint_000008)\n",
      "\u001b[36m(train_model pid=22960)\u001b[0m Checkpoint successfully created at: Checkpoint(filesystem=local, path=c:/Users/LEGION/Documents/Msc Data Science - Uni of Exeter/ECMM451 - Data Science Research Project (2023)/workspace/ray_results/MultiTaskModel/trial_89fac_00002/checkpoint_000009)\n",
      "\u001b[36m(train_model pid=9788)\u001b[0m Checkpoint successfully created at: Checkpoint(filesystem=local, path=c:/Users/LEGION/Documents/Msc Data Science - Uni of Exeter/ECMM451 - Data Science Research Project (2023)/workspace/ray_results/MultiTaskModel/trial_89fac_00003/checkpoint_000000)\n",
      "\u001b[36m(train_model pid=23516)\u001b[0m Checkpoint successfully created at: Checkpoint(filesystem=local, path=c:/Users/LEGION/Documents/Msc Data Science - Uni of Exeter/ECMM451 - Data Science Research Project (2023)/workspace/ray_results/MultiTaskModel/trial_89fac_00004/checkpoint_000000)\n",
      "\u001b[36m(train_model pid=28496)\u001b[0m Checkpoint successfully created at: Checkpoint(filesystem=local, path=c:/Users/LEGION/Documents/Msc Data Science - Uni of Exeter/ECMM451 - Data Science Research Project (2023)/workspace/ray_results/MultiTaskModel/trial_89fac_00005/checkpoint_000000)\n",
      "\u001b[36m(train_model pid=22088)\u001b[0m Checkpoint successfully created at: Checkpoint(filesystem=local, path=c:/Users/LEGION/Documents/Msc Data Science - Uni of Exeter/ECMM451 - Data Science Research Project (2023)/workspace/ray_results/MultiTaskModel/trial_89fac_00006/checkpoint_000000)\n",
      "\u001b[36m(train_model pid=22088)\u001b[0m Checkpoint successfully created at: Checkpoint(filesystem=local, path=c:/Users/LEGION/Documents/Msc Data Science - Uni of Exeter/ECMM451 - Data Science Research Project (2023)/workspace/ray_results/MultiTaskModel/trial_89fac_00006/checkpoint_000001)\n",
      "\u001b[36m(train_model pid=24040)\u001b[0m Checkpoint successfully created at: Checkpoint(filesystem=local, path=c:/Users/LEGION/Documents/Msc Data Science - Uni of Exeter/ECMM451 - Data Science Research Project (2023)/workspace/ray_results/MultiTaskModel/trial_89fac_00007/checkpoint_000000)\n",
      "\u001b[36m(train_model pid=21028)\u001b[0m Checkpoint successfully created at: Checkpoint(filesystem=local, path=c:/Users/LEGION/Documents/Msc Data Science - Uni of Exeter/ECMM451 - Data Science Research Project (2023)/workspace/ray_results/MultiTaskModel/trial_89fac_00008/checkpoint_000000)\n",
      "\u001b[36m(train_model pid=24308)\u001b[0m Checkpoint successfully created at: Checkpoint(filesystem=local, path=c:/Users/LEGION/Documents/Msc Data Science - Uni of Exeter/ECMM451 - Data Science Research Project (2023)/workspace/ray_results/MultiTaskModel/trial_89fac_00009/checkpoint_000000)\n",
      "\u001b[36m(train_model pid=24308)\u001b[0m Checkpoint successfully created at: Checkpoint(filesystem=local, path=c:/Users/LEGION/Documents/Msc Data Science - Uni of Exeter/ECMM451 - Data Science Research Project (2023)/workspace/ray_results/MultiTaskModel/trial_89fac_00009/checkpoint_000001)\n",
      "\u001b[36m(train_model pid=30512)\u001b[0m Checkpoint successfully created at: Checkpoint(filesystem=local, path=c:/Users/LEGION/Documents/Msc Data Science - Uni of Exeter/ECMM451 - Data Science Research Project (2023)/workspace/ray_results/MultiTaskModel/trial_89fac_00010/checkpoint_000000)\n",
      "\u001b[36m(train_model pid=30512)\u001b[0m Checkpoint successfully created at: Checkpoint(filesystem=local, path=c:/Users/LEGION/Documents/Msc Data Science - Uni of Exeter/ECMM451 - Data Science Research Project (2023)/workspace/ray_results/MultiTaskModel/trial_89fac_00010/checkpoint_000001)\n",
      "\u001b[36m(train_model pid=30512)\u001b[0m Checkpoint successfully created at: Checkpoint(filesystem=local, path=c:/Users/LEGION/Documents/Msc Data Science - Uni of Exeter/ECMM451 - Data Science Research Project (2023)/workspace/ray_results/MultiTaskModel/trial_89fac_00010/checkpoint_000002)\n",
      "\u001b[36m(train_model pid=30512)\u001b[0m Checkpoint successfully created at: Checkpoint(filesystem=local, path=c:/Users/LEGION/Documents/Msc Data Science - Uni of Exeter/ECMM451 - Data Science Research Project (2023)/workspace/ray_results/MultiTaskModel/trial_89fac_00010/checkpoint_000003)\n",
      "\u001b[36m(train_model pid=31900)\u001b[0m Checkpoint successfully created at: Checkpoint(filesystem=local, path=c:/Users/LEGION/Documents/Msc Data Science - Uni of Exeter/ECMM451 - Data Science Research Project (2023)/workspace/ray_results/MultiTaskModel/trial_89fac_00011/checkpoint_000000)\n",
      "\u001b[36m(train_model pid=31900)\u001b[0m Checkpoint successfully created at: Checkpoint(filesystem=local, path=c:/Users/LEGION/Documents/Msc Data Science - Uni of Exeter/ECMM451 - Data Science Research Project (2023)/workspace/ray_results/MultiTaskModel/trial_89fac_00011/checkpoint_000001)\n",
      "\u001b[36m(train_model pid=11164)\u001b[0m Checkpoint successfully created at: Checkpoint(filesystem=local, path=c:/Users/LEGION/Documents/Msc Data Science - Uni of Exeter/ECMM451 - Data Science Research Project (2023)/workspace/ray_results/MultiTaskModel/trial_89fac_00012/checkpoint_000000)\n",
      "\u001b[36m(train_model pid=12344)\u001b[0m Checkpoint successfully created at: Checkpoint(filesystem=local, path=c:/Users/LEGION/Documents/Msc Data Science - Uni of Exeter/ECMM451 - Data Science Research Project (2023)/workspace/ray_results/MultiTaskModel/trial_89fac_00013/checkpoint_000000)\n",
      "\u001b[36m(train_model pid=31904)\u001b[0m Checkpoint successfully created at: Checkpoint(filesystem=local, path=c:/Users/LEGION/Documents/Msc Data Science - Uni of Exeter/ECMM451 - Data Science Research Project (2023)/workspace/ray_results/MultiTaskModel/trial_89fac_00014/checkpoint_000000)\n",
      "\u001b[36m(train_model pid=31904)\u001b[0m Checkpoint successfully created at: Checkpoint(filesystem=local, path=c:/Users/LEGION/Documents/Msc Data Science - Uni of Exeter/ECMM451 - Data Science Research Project (2023)/workspace/ray_results/MultiTaskModel/trial_89fac_00014/checkpoint_000001)\n",
      "\u001b[36m(train_model pid=31904)\u001b[0m Checkpoint successfully created at: Checkpoint(filesystem=local, path=c:/Users/LEGION/Documents/Msc Data Science - Uni of Exeter/ECMM451 - Data Science Research Project (2023)/workspace/ray_results/MultiTaskModel/trial_89fac_00014/checkpoint_000002)\n",
      "\u001b[36m(train_model pid=31904)\u001b[0m Checkpoint successfully created at: Checkpoint(filesystem=local, path=c:/Users/LEGION/Documents/Msc Data Science - Uni of Exeter/ECMM451 - Data Science Research Project (2023)/workspace/ray_results/MultiTaskModel/trial_89fac_00014/checkpoint_000003)\n",
      "\u001b[36m(train_model pid=31904)\u001b[0m Checkpoint successfully created at: Checkpoint(filesystem=local, path=c:/Users/LEGION/Documents/Msc Data Science - Uni of Exeter/ECMM451 - Data Science Research Project (2023)/workspace/ray_results/MultiTaskModel/trial_89fac_00014/checkpoint_000004)\n",
      "\u001b[36m(train_model pid=31904)\u001b[0m Checkpoint successfully created at: Checkpoint(filesystem=local, path=c:/Users/LEGION/Documents/Msc Data Science - Uni of Exeter/ECMM451 - Data Science Research Project (2023)/workspace/ray_results/MultiTaskModel/trial_89fac_00014/checkpoint_000005)\n",
      "\u001b[36m(train_model pid=31904)\u001b[0m Checkpoint successfully created at: Checkpoint(filesystem=local, path=c:/Users/LEGION/Documents/Msc Data Science - Uni of Exeter/ECMM451 - Data Science Research Project (2023)/workspace/ray_results/MultiTaskModel/trial_89fac_00014/checkpoint_000006)\n",
      "\u001b[36m(train_model pid=31904)\u001b[0m Checkpoint successfully created at: Checkpoint(filesystem=local, path=c:/Users/LEGION/Documents/Msc Data Science - Uni of Exeter/ECMM451 - Data Science Research Project (2023)/workspace/ray_results/MultiTaskModel/trial_89fac_00014/checkpoint_000007)\n",
      "\u001b[36m(train_model pid=31904)\u001b[0m Checkpoint successfully created at: Checkpoint(filesystem=local, path=c:/Users/LEGION/Documents/Msc Data Science - Uni of Exeter/ECMM451 - Data Science Research Project (2023)/workspace/ray_results/MultiTaskModel/trial_89fac_00014/checkpoint_000008)\n",
      "\u001b[36m(train_model pid=31904)\u001b[0m Checkpoint successfully created at: Checkpoint(filesystem=local, path=c:/Users/LEGION/Documents/Msc Data Science - Uni of Exeter/ECMM451 - Data Science Research Project (2023)/workspace/ray_results/MultiTaskModel/trial_89fac_00014/checkpoint_000009)\n",
      "\u001b[36m(train_model pid=21964)\u001b[0m Checkpoint successfully created at: Checkpoint(filesystem=local, path=c:/Users/LEGION/Documents/Msc Data Science - Uni of Exeter/ECMM451 - Data Science Research Project (2023)/workspace/ray_results/MultiTaskModel/trial_89fac_00015/checkpoint_000000)\n",
      "\u001b[36m(train_model pid=21964)\u001b[0m Checkpoint successfully created at: Checkpoint(filesystem=local, path=c:/Users/LEGION/Documents/Msc Data Science - Uni of Exeter/ECMM451 - Data Science Research Project (2023)/workspace/ray_results/MultiTaskModel/trial_89fac_00015/checkpoint_000001)\n",
      "\u001b[36m(train_model pid=24292)\u001b[0m Checkpoint successfully created at: Checkpoint(filesystem=local, path=c:/Users/LEGION/Documents/Msc Data Science - Uni of Exeter/ECMM451 - Data Science Research Project (2023)/workspace/ray_results/MultiTaskModel/trial_89fac_00016/checkpoint_000000)\n",
      "\u001b[36m(train_model pid=24292)\u001b[0m Checkpoint successfully created at: Checkpoint(filesystem=local, path=c:/Users/LEGION/Documents/Msc Data Science - Uni of Exeter/ECMM451 - Data Science Research Project (2023)/workspace/ray_results/MultiTaskModel/trial_89fac_00016/checkpoint_000001)\n",
      "\u001b[36m(train_model pid=24292)\u001b[0m Checkpoint successfully created at: Checkpoint(filesystem=local, path=c:/Users/LEGION/Documents/Msc Data Science - Uni of Exeter/ECMM451 - Data Science Research Project (2023)/workspace/ray_results/MultiTaskModel/trial_89fac_00016/checkpoint_000002)\n",
      "\u001b[36m(train_model pid=24292)\u001b[0m Checkpoint successfully created at: Checkpoint(filesystem=local, path=c:/Users/LEGION/Documents/Msc Data Science - Uni of Exeter/ECMM451 - Data Science Research Project (2023)/workspace/ray_results/MultiTaskModel/trial_89fac_00016/checkpoint_000003)\n",
      "\u001b[36m(train_model pid=24292)\u001b[0m Checkpoint successfully created at: Checkpoint(filesystem=local, path=c:/Users/LEGION/Documents/Msc Data Science - Uni of Exeter/ECMM451 - Data Science Research Project (2023)/workspace/ray_results/MultiTaskModel/trial_89fac_00016/checkpoint_000004)\n",
      "\u001b[36m(train_model pid=24292)\u001b[0m Checkpoint successfully created at: Checkpoint(filesystem=local, path=c:/Users/LEGION/Documents/Msc Data Science - Uni of Exeter/ECMM451 - Data Science Research Project (2023)/workspace/ray_results/MultiTaskModel/trial_89fac_00016/checkpoint_000005)\n",
      "\u001b[36m(train_model pid=24292)\u001b[0m Checkpoint successfully created at: Checkpoint(filesystem=local, path=c:/Users/LEGION/Documents/Msc Data Science - Uni of Exeter/ECMM451 - Data Science Research Project (2023)/workspace/ray_results/MultiTaskModel/trial_89fac_00016/checkpoint_000006)\n",
      "\u001b[36m(train_model pid=24292)\u001b[0m Checkpoint successfully created at: Checkpoint(filesystem=local, path=c:/Users/LEGION/Documents/Msc Data Science - Uni of Exeter/ECMM451 - Data Science Research Project (2023)/workspace/ray_results/MultiTaskModel/trial_89fac_00016/checkpoint_000007)\n",
      "\u001b[36m(train_model pid=29540)\u001b[0m Checkpoint successfully created at: Checkpoint(filesystem=local, path=c:/Users/LEGION/Documents/Msc Data Science - Uni of Exeter/ECMM451 - Data Science Research Project (2023)/workspace/ray_results/MultiTaskModel/trial_89fac_00017/checkpoint_000000)\n",
      "\u001b[36m(train_model pid=11196)\u001b[0m Checkpoint successfully created at: Checkpoint(filesystem=local, path=c:/Users/LEGION/Documents/Msc Data Science - Uni of Exeter/ECMM451 - Data Science Research Project (2023)/workspace/ray_results/MultiTaskModel/trial_89fac_00018/checkpoint_000000)\n",
      "\u001b[36m(train_model pid=11196)\u001b[0m Checkpoint successfully created at: Checkpoint(filesystem=local, path=c:/Users/LEGION/Documents/Msc Data Science - Uni of Exeter/ECMM451 - Data Science Research Project (2023)/workspace/ray_results/MultiTaskModel/trial_89fac_00018/checkpoint_000001)\n",
      "\u001b[36m(train_model pid=11196)\u001b[0m Checkpoint successfully created at: Checkpoint(filesystem=local, path=c:/Users/LEGION/Documents/Msc Data Science - Uni of Exeter/ECMM451 - Data Science Research Project (2023)/workspace/ray_results/MultiTaskModel/trial_89fac_00018/checkpoint_000002)\n",
      "\u001b[36m(train_model pid=11196)\u001b[0m Checkpoint successfully created at: Checkpoint(filesystem=local, path=c:/Users/LEGION/Documents/Msc Data Science - Uni of Exeter/ECMM451 - Data Science Research Project (2023)/workspace/ray_results/MultiTaskModel/trial_89fac_00018/checkpoint_000003)\n",
      "\u001b[36m(train_model pid=11196)\u001b[0m Checkpoint successfully created at: Checkpoint(filesystem=local, path=c:/Users/LEGION/Documents/Msc Data Science - Uni of Exeter/ECMM451 - Data Science Research Project (2023)/workspace/ray_results/MultiTaskModel/trial_89fac_00018/checkpoint_000004)\n",
      "\u001b[36m(train_model pid=11196)\u001b[0m Checkpoint successfully created at: Checkpoint(filesystem=local, path=c:/Users/LEGION/Documents/Msc Data Science - Uni of Exeter/ECMM451 - Data Science Research Project (2023)/workspace/ray_results/MultiTaskModel/trial_89fac_00018/checkpoint_000005)\n",
      "\u001b[36m(train_model pid=11196)\u001b[0m Checkpoint successfully created at: Checkpoint(filesystem=local, path=c:/Users/LEGION/Documents/Msc Data Science - Uni of Exeter/ECMM451 - Data Science Research Project (2023)/workspace/ray_results/MultiTaskModel/trial_89fac_00018/checkpoint_000006)\n",
      "\u001b[36m(train_model pid=11196)\u001b[0m Checkpoint successfully created at: Checkpoint(filesystem=local, path=c:/Users/LEGION/Documents/Msc Data Science - Uni of Exeter/ECMM451 - Data Science Research Project (2023)/workspace/ray_results/MultiTaskModel/trial_89fac_00018/checkpoint_000007)\n",
      "\u001b[36m(train_model pid=11196)\u001b[0m Checkpoint successfully created at: Checkpoint(filesystem=local, path=c:/Users/LEGION/Documents/Msc Data Science - Uni of Exeter/ECMM451 - Data Science Research Project (2023)/workspace/ray_results/MultiTaskModel/trial_89fac_00018/checkpoint_000008)\n",
      "\u001b[36m(train_model pid=11196)\u001b[0m Checkpoint successfully created at: Checkpoint(filesystem=local, path=c:/Users/LEGION/Documents/Msc Data Science - Uni of Exeter/ECMM451 - Data Science Research Project (2023)/workspace/ray_results/MultiTaskModel/trial_89fac_00018/checkpoint_000009)\n",
      "\u001b[36m(train_model pid=19592)\u001b[0m Checkpoint successfully created at: Checkpoint(filesystem=local, path=c:/Users/LEGION/Documents/Msc Data Science - Uni of Exeter/ECMM451 - Data Science Research Project (2023)/workspace/ray_results/MultiTaskModel/trial_89fac_00019/checkpoint_000000)\n",
      "\u001b[36m(train_model pid=15688)\u001b[0m Checkpoint successfully created at: Checkpoint(filesystem=local, path=c:/Users/LEGION/Documents/Msc Data Science - Uni of Exeter/ECMM451 - Data Science Research Project (2023)/workspace/ray_results/MultiTaskModel/trial_89fac_00020/checkpoint_000000)\n",
      "\u001b[36m(train_model pid=11960)\u001b[0m Checkpoint successfully created at: Checkpoint(filesystem=local, path=c:/Users/LEGION/Documents/Msc Data Science - Uni of Exeter/ECMM451 - Data Science Research Project (2023)/workspace/ray_results/MultiTaskModel/trial_89fac_00021/checkpoint_000000)\n",
      "\u001b[36m(train_model pid=22236)\u001b[0m Checkpoint successfully created at: Checkpoint(filesystem=local, path=c:/Users/LEGION/Documents/Msc Data Science - Uni of Exeter/ECMM451 - Data Science Research Project (2023)/workspace/ray_results/MultiTaskModel/trial_89fac_00022/checkpoint_000000)\n",
      "\u001b[36m(train_model pid=22236)\u001b[0m Checkpoint successfully created at: Checkpoint(filesystem=local, path=c:/Users/LEGION/Documents/Msc Data Science - Uni of Exeter/ECMM451 - Data Science Research Project (2023)/workspace/ray_results/MultiTaskModel/trial_89fac_00022/checkpoint_000001)\n",
      "\u001b[36m(train_model pid=31876)\u001b[0m Checkpoint successfully created at: Checkpoint(filesystem=local, path=c:/Users/LEGION/Documents/Msc Data Science - Uni of Exeter/ECMM451 - Data Science Research Project (2023)/workspace/ray_results/MultiTaskModel/trial_89fac_00023/checkpoint_000000)\n",
      "\u001b[36m(train_model pid=7972)\u001b[0m Checkpoint successfully created at: Checkpoint(filesystem=local, path=c:/Users/LEGION/Documents/Msc Data Science - Uni of Exeter/ECMM451 - Data Science Research Project (2023)/workspace/ray_results/MultiTaskModel/trial_89fac_00024/checkpoint_000000)\n",
      "\u001b[36m(train_model pid=11048)\u001b[0m Checkpoint successfully created at: Checkpoint(filesystem=local, path=c:/Users/LEGION/Documents/Msc Data Science - Uni of Exeter/ECMM451 - Data Science Research Project (2023)/workspace/ray_results/MultiTaskModel/trial_89fac_00025/checkpoint_000000)\n",
      "\u001b[36m(train_model pid=11048)\u001b[0m Checkpoint successfully created at: Checkpoint(filesystem=local, path=c:/Users/LEGION/Documents/Msc Data Science - Uni of Exeter/ECMM451 - Data Science Research Project (2023)/workspace/ray_results/MultiTaskModel/trial_89fac_00025/checkpoint_000001)\n",
      "\u001b[36m(train_model pid=32384)\u001b[0m Checkpoint successfully created at: Checkpoint(filesystem=local, path=c:/Users/LEGION/Documents/Msc Data Science - Uni of Exeter/ECMM451 - Data Science Research Project (2023)/workspace/ray_results/MultiTaskModel/trial_89fac_00026/checkpoint_000000)\n",
      "\u001b[36m(train_model pid=32384)\u001b[0m Checkpoint successfully created at: Checkpoint(filesystem=local, path=c:/Users/LEGION/Documents/Msc Data Science - Uni of Exeter/ECMM451 - Data Science Research Project (2023)/workspace/ray_results/MultiTaskModel/trial_89fac_00026/checkpoint_000001)\n",
      "\u001b[36m(train_model pid=23464)\u001b[0m Checkpoint successfully created at: Checkpoint(filesystem=local, path=c:/Users/LEGION/Documents/Msc Data Science - Uni of Exeter/ECMM451 - Data Science Research Project (2023)/workspace/ray_results/MultiTaskModel/trial_89fac_00027/checkpoint_000000)\n",
      "\u001b[36m(train_model pid=4440)\u001b[0m Checkpoint successfully created at: Checkpoint(filesystem=local, path=c:/Users/LEGION/Documents/Msc Data Science - Uni of Exeter/ECMM451 - Data Science Research Project (2023)/workspace/ray_results/MultiTaskModel/trial_89fac_00028/checkpoint_000000)\n",
      "\u001b[36m(train_model pid=4440)\u001b[0m Checkpoint successfully created at: Checkpoint(filesystem=local, path=c:/Users/LEGION/Documents/Msc Data Science - Uni of Exeter/ECMM451 - Data Science Research Project (2023)/workspace/ray_results/MultiTaskModel/trial_89fac_00028/checkpoint_000001)\n",
      "\u001b[36m(train_model pid=10116)\u001b[0m Checkpoint successfully created at: Checkpoint(filesystem=local, path=c:/Users/LEGION/Documents/Msc Data Science - Uni of Exeter/ECMM451 - Data Science Research Project (2023)/workspace/ray_results/MultiTaskModel/trial_89fac_00029/checkpoint_000000)\n",
      "\u001b[36m(train_model pid=13636)\u001b[0m Checkpoint successfully created at: Checkpoint(filesystem=local, path=c:/Users/LEGION/Documents/Msc Data Science - Uni of Exeter/ECMM451 - Data Science Research Project (2023)/workspace/ray_results/MultiTaskModel/trial_89fac_00030/checkpoint_000000)\n",
      "\u001b[36m(train_model pid=8124)\u001b[0m Checkpoint successfully created at: Checkpoint(filesystem=local, path=c:/Users/LEGION/Documents/Msc Data Science - Uni of Exeter/ECMM451 - Data Science Research Project (2023)/workspace/ray_results/MultiTaskModel/trial_89fac_00031/checkpoint_000000)\n",
      "\u001b[36m(train_model pid=29908)\u001b[0m Checkpoint successfully created at: Checkpoint(filesystem=local, path=c:/Users/LEGION/Documents/Msc Data Science - Uni of Exeter/ECMM451 - Data Science Research Project (2023)/workspace/ray_results/MultiTaskModel/trial_89fac_00032/checkpoint_000000)\n",
      "\u001b[36m(train_model pid=29908)\u001b[0m Checkpoint successfully created at: Checkpoint(filesystem=local, path=c:/Users/LEGION/Documents/Msc Data Science - Uni of Exeter/ECMM451 - Data Science Research Project (2023)/workspace/ray_results/MultiTaskModel/trial_89fac_00032/checkpoint_000001)\n",
      "\u001b[36m(train_model pid=29908)\u001b[0m Checkpoint successfully created at: Checkpoint(filesystem=local, path=c:/Users/LEGION/Documents/Msc Data Science - Uni of Exeter/ECMM451 - Data Science Research Project (2023)/workspace/ray_results/MultiTaskModel/trial_89fac_00032/checkpoint_000002)\n",
      "\u001b[36m(train_model pid=29908)\u001b[0m Checkpoint successfully created at: Checkpoint(filesystem=local, path=c:/Users/LEGION/Documents/Msc Data Science - Uni of Exeter/ECMM451 - Data Science Research Project (2023)/workspace/ray_results/MultiTaskModel/trial_89fac_00032/checkpoint_000003)\n",
      "\u001b[36m(train_model pid=29908)\u001b[0m Checkpoint successfully created at: Checkpoint(filesystem=local, path=c:/Users/LEGION/Documents/Msc Data Science - Uni of Exeter/ECMM451 - Data Science Research Project (2023)/workspace/ray_results/MultiTaskModel/trial_89fac_00032/checkpoint_000004)\n",
      "\u001b[36m(train_model pid=29908)\u001b[0m Checkpoint successfully created at: Checkpoint(filesystem=local, path=c:/Users/LEGION/Documents/Msc Data Science - Uni of Exeter/ECMM451 - Data Science Research Project (2023)/workspace/ray_results/MultiTaskModel/trial_89fac_00032/checkpoint_000005)\n",
      "\u001b[36m(train_model pid=29908)\u001b[0m Checkpoint successfully created at: Checkpoint(filesystem=local, path=c:/Users/LEGION/Documents/Msc Data Science - Uni of Exeter/ECMM451 - Data Science Research Project (2023)/workspace/ray_results/MultiTaskModel/trial_89fac_00032/checkpoint_000006)\n",
      "\u001b[36m(train_model pid=29908)\u001b[0m Checkpoint successfully created at: Checkpoint(filesystem=local, path=c:/Users/LEGION/Documents/Msc Data Science - Uni of Exeter/ECMM451 - Data Science Research Project (2023)/workspace/ray_results/MultiTaskModel/trial_89fac_00032/checkpoint_000007)\n",
      "\u001b[36m(train_model pid=29908)\u001b[0m Checkpoint successfully created at: Checkpoint(filesystem=local, path=c:/Users/LEGION/Documents/Msc Data Science - Uni of Exeter/ECMM451 - Data Science Research Project (2023)/workspace/ray_results/MultiTaskModel/trial_89fac_00032/checkpoint_000008)\n",
      "\u001b[36m(train_model pid=29908)\u001b[0m Checkpoint successfully created at: Checkpoint(filesystem=local, path=c:/Users/LEGION/Documents/Msc Data Science - Uni of Exeter/ECMM451 - Data Science Research Project (2023)/workspace/ray_results/MultiTaskModel/trial_89fac_00032/checkpoint_000009)\n",
      "\u001b[36m(train_model pid=14776)\u001b[0m Checkpoint successfully created at: Checkpoint(filesystem=local, path=c:/Users/LEGION/Documents/Msc Data Science - Uni of Exeter/ECMM451 - Data Science Research Project (2023)/workspace/ray_results/MultiTaskModel/trial_89fac_00033/checkpoint_000000)\n",
      "\u001b[36m(train_model pid=14776)\u001b[0m Checkpoint successfully created at: Checkpoint(filesystem=local, path=c:/Users/LEGION/Documents/Msc Data Science - Uni of Exeter/ECMM451 - Data Science Research Project (2023)/workspace/ray_results/MultiTaskModel/trial_89fac_00033/checkpoint_000001)\n",
      "\u001b[36m(train_model pid=14776)\u001b[0m Checkpoint successfully created at: Checkpoint(filesystem=local, path=c:/Users/LEGION/Documents/Msc Data Science - Uni of Exeter/ECMM451 - Data Science Research Project (2023)/workspace/ray_results/MultiTaskModel/trial_89fac_00033/checkpoint_000002)\n",
      "\u001b[36m(train_model pid=14776)\u001b[0m Checkpoint successfully created at: Checkpoint(filesystem=local, path=c:/Users/LEGION/Documents/Msc Data Science - Uni of Exeter/ECMM451 - Data Science Research Project (2023)/workspace/ray_results/MultiTaskModel/trial_89fac_00033/checkpoint_000003)\n",
      "\u001b[36m(train_model pid=14068)\u001b[0m Checkpoint successfully created at: Checkpoint(filesystem=local, path=c:/Users/LEGION/Documents/Msc Data Science - Uni of Exeter/ECMM451 - Data Science Research Project (2023)/workspace/ray_results/MultiTaskModel/trial_89fac_00034/checkpoint_000000)\n",
      "\u001b[36m(train_model pid=2680)\u001b[0m Checkpoint successfully created at: Checkpoint(filesystem=local, path=c:/Users/LEGION/Documents/Msc Data Science - Uni of Exeter/ECMM451 - Data Science Research Project (2023)/workspace/ray_results/MultiTaskModel/trial_89fac_00035/checkpoint_000000)\n",
      "\u001b[36m(train_model pid=2680)\u001b[0m Checkpoint successfully created at: Checkpoint(filesystem=local, path=c:/Users/LEGION/Documents/Msc Data Science - Uni of Exeter/ECMM451 - Data Science Research Project (2023)/workspace/ray_results/MultiTaskModel/trial_89fac_00035/checkpoint_000001)\n",
      "\u001b[36m(train_model pid=4408)\u001b[0m Checkpoint successfully created at: Checkpoint(filesystem=local, path=c:/Users/LEGION/Documents/Msc Data Science - Uni of Exeter/ECMM451 - Data Science Research Project (2023)/workspace/ray_results/MultiTaskModel/trial_89fac_00036/checkpoint_000000)\n",
      "\u001b[36m(train_model pid=31708)\u001b[0m Checkpoint successfully created at: Checkpoint(filesystem=local, path=c:/Users/LEGION/Documents/Msc Data Science - Uni of Exeter/ECMM451 - Data Science Research Project (2023)/workspace/ray_results/MultiTaskModel/trial_89fac_00037/checkpoint_000000)\n",
      "\u001b[36m(train_model pid=31708)\u001b[0m Checkpoint successfully created at: Checkpoint(filesystem=local, path=c:/Users/LEGION/Documents/Msc Data Science - Uni of Exeter/ECMM451 - Data Science Research Project (2023)/workspace/ray_results/MultiTaskModel/trial_89fac_00037/checkpoint_000001)\n",
      "\u001b[36m(train_model pid=10116)\u001b[0m Checkpoint successfully created at: Checkpoint(filesystem=local, path=c:/Users/LEGION/Documents/Msc Data Science - Uni of Exeter/ECMM451 - Data Science Research Project (2023)/workspace/ray_results/MultiTaskModel/trial_89fac_00038/checkpoint_000000)\n",
      "\u001b[36m(train_model pid=23460)\u001b[0m Checkpoint successfully created at: Checkpoint(filesystem=local, path=c:/Users/LEGION/Documents/Msc Data Science - Uni of Exeter/ECMM451 - Data Science Research Project (2023)/workspace/ray_results/MultiTaskModel/trial_89fac_00039/checkpoint_000000)\n",
      "2024-07-30 23:53:40,821\tINFO tune.py:1009 -- Wrote the latest version of all result files and experiment state to 'c:/Users/LEGION/Documents/Msc Data Science - Uni of Exeter/ECMM451 - Data Science Research Project (2023)/workspace/ray_results/MultiTaskModel' in 0.0508s.\n",
      "\u001b[36m(train_model pid=23460)\u001b[0m Checkpoint successfully created at: Checkpoint(filesystem=local, path=c:/Users/LEGION/Documents/Msc Data Science - Uni of Exeter/ECMM451 - Data Science Research Project (2023)/workspace/ray_results/MultiTaskModel/trial_89fac_00039/checkpoint_000001)\n",
      "2024-07-30 23:53:40,873\tINFO tune.py:1041 -- Total run time: 10319.09 seconds (10318.64 seconds for the tuning loop).\n"
     ]
    },
    {
     "name": "stdout",
     "output_type": "stream",
     "text": [
      "Best trial config: {'optimizer': 'adamw', 'lr': 0.0005392288692948486, 'scheduler': 'ReduceLROnPlateau', 'gamma': 0.7511991545263691, 'patience': 15, 'epochs': 30, 'batch_size': 128, 'weight_decay': 0.0422480267454383, 'hidden_size': 1024, 'num_layers': 1, 'dropout': 0.6409051706390204, 'alpha': 1, 'beta': 1}\n",
      "Best trial final validation loss: 2.084122633934021\n",
      "Best trial final validation accuracy: Driver77.3356%, Transport44.8097%\n"
     ]
    },
    {
     "ename": "AttributeError",
     "evalue": "'bool' object has no attribute 'sum'",
     "output_type": "error",
     "traceback": [
      "\u001b[1;31m---------------------------------------------------------------------------\u001b[0m",
      "\u001b[1;31mAttributeError\u001b[0m                            Traceback (most recent call last)",
      "Cell \u001b[1;32mIn[14], line 1\u001b[0m\n\u001b[1;32m----> 1\u001b[0m \u001b[43mmytuner\u001b[49m\u001b[38;5;241;43m.\u001b[39;49m\u001b[43mmain\u001b[49m\u001b[43m(\u001b[49m\u001b[43mtrain_datasets\u001b[49m\u001b[43m,\u001b[49m\u001b[43m \u001b[49m\u001b[43mvalid_datasets\u001b[49m\u001b[43m,\u001b[49m\u001b[43m \u001b[49m\u001b[43mtest_datasets\u001b[49m\u001b[43m,\u001b[49m\u001b[43m \u001b[49m\u001b[43mnum_samples\u001b[49m\u001b[38;5;241;43m=\u001b[39;49m\u001b[38;5;241;43m40\u001b[39;49m\u001b[43m)\u001b[49m\n",
      "File \u001b[1;32mc:\\Users\\LEGION\\Documents\\Msc Data Science - Uni of Exeter\\ECMM451 - Data Science Research Project (2023)\\workspace\\src\\hyperparam.py:240\u001b[0m, in \u001b[0;36mRayTuning.main\u001b[1;34m(self, train_datasets, valid_datasets, test_dataset, num_samples, max_num_epochs)\u001b[0m\n\u001b[0;32m    237\u001b[0m \u001b[38;5;28;01melse\u001b[39;00m:\n\u001b[0;32m    238\u001b[0m       \u001b[38;5;28mprint\u001b[39m(\u001b[38;5;124m\"\u001b[39m\u001b[38;5;124mBest trial final validation accuracy: \u001b[39m\u001b[38;5;132;01m{:.4f}\u001b[39;00m\u001b[38;5;124m%\u001b[39m\u001b[38;5;124m\"\u001b[39m\u001b[38;5;241m.\u001b[39mformat(best_result\u001b[38;5;241m.\u001b[39mmetrics[\u001b[38;5;124m\"\u001b[39m\u001b[38;5;124maccuracy\u001b[39m\u001b[38;5;124m\"\u001b[39m]))\n\u001b[1;32m--> 240\u001b[0m \u001b[38;5;28;43mself\u001b[39;49m\u001b[38;5;241;43m.\u001b[39;49m\u001b[43mtest_model\u001b[49m\u001b[43m(\u001b[49m\u001b[43mbest_result\u001b[49m\u001b[43m,\u001b[49m\u001b[43m \u001b[49m\u001b[43mtest_dataset\u001b[49m\u001b[43m)\u001b[49m\n",
      "File \u001b[1;32mc:\\Users\\LEGION\\Documents\\Msc Data Science - Uni of Exeter\\ECMM451 - Data Science Research Project (2023)\\workspace\\src\\hyperparam.py:190\u001b[0m, in \u001b[0;36mRayTuning.test_model\u001b[1;34m(self, best_result, test_dataset)\u001b[0m\n\u001b[0;32m    187\u001b[0m \u001b[38;5;28;01mif\u001b[39;00m \u001b[38;5;28mself\u001b[39m\u001b[38;5;241m.\u001b[39mmodelType \u001b[38;5;241m==\u001b[39m \u001b[38;5;124m'\u001b[39m\u001b[38;5;124mMultiTaskModel\u001b[39m\u001b[38;5;124m'\u001b[39m:\n\u001b[0;32m    188\u001b[0m       engine \u001b[38;5;241m=\u001b[39m \u001b[38;5;28mself\u001b[39m\u001b[38;5;241m.\u001b[39mengine(best_trained_model, optimizer, scheduler, \n\u001b[0;32m    189\u001b[0m                            \u001b[38;5;28mself\u001b[39m\u001b[38;5;241m.\u001b[39mcriterion_driver, \u001b[38;5;28mself\u001b[39m\u001b[38;5;241m.\u001b[39mcriterion_transport, device)\n\u001b[1;32m--> 190\u001b[0m       _, test_acc_tr, test_acc_dr \u001b[38;5;241m=\u001b[39m \u001b[43mengine\u001b[49m\u001b[38;5;241;43m.\u001b[39;49m\u001b[43mtest\u001b[49m\u001b[43m(\u001b[49m\u001b[43mtest_loader\u001b[49m\u001b[43m,\u001b[49m\u001b[43m \u001b[49m\u001b[38;5;28;43mself\u001b[39;49m\u001b[38;5;241;43m.\u001b[39;49m\u001b[43mcriterion_transport\u001b[49m\u001b[43m,\u001b[49m\u001b[43m \u001b[49m\u001b[38;5;28;43mself\u001b[39;49m\u001b[38;5;241;43m.\u001b[39;49m\u001b[43mcriterion_driver\u001b[49m\u001b[43m,\u001b[49m\n\u001b[0;32m    191\u001b[0m \u001b[43m                                                \u001b[49m\u001b[43mbest_result\u001b[49m\u001b[38;5;241;43m.\u001b[39;49m\u001b[43mconfig\u001b[49m\u001b[43m[\u001b[49m\u001b[38;5;124;43m'\u001b[39;49m\u001b[38;5;124;43malpha\u001b[39;49m\u001b[38;5;124;43m'\u001b[39;49m\u001b[43m]\u001b[49m\u001b[43m,\u001b[49m\u001b[43m \u001b[49m\u001b[43mbest_result\u001b[49m\u001b[38;5;241;43m.\u001b[39;49m\u001b[43mconfig\u001b[49m\u001b[43m[\u001b[49m\u001b[38;5;124;43m'\u001b[39;49m\u001b[38;5;124;43mbeta\u001b[39;49m\u001b[38;5;124;43m'\u001b[39;49m\u001b[43m]\u001b[49m\u001b[43m)\u001b[49m\n\u001b[0;32m    192\u001b[0m       \u001b[38;5;28mprint\u001b[39m(\u001b[38;5;124m\"\u001b[39m\u001b[38;5;124mBest trial test set accuracy: Driver\u001b[39m\u001b[38;5;132;01m{:.4f}\u001b[39;00m\u001b[38;5;124m%\u001b[39m\u001b[38;5;124m, Transport\u001b[39m\u001b[38;5;132;01m{:.4f}\u001b[39;00m\u001b[38;5;124m%\u001b[39m\u001b[38;5;124m\"\u001b[39m\u001b[38;5;241m.\u001b[39mformat(test_acc_dr, test_acc_tr))\n\u001b[0;32m    193\u001b[0m \u001b[38;5;28;01melse\u001b[39;00m:\n",
      "File \u001b[1;32mc:\\Users\\LEGION\\Documents\\Msc Data Science - Uni of Exeter\\ECMM451 - Data Science Research Project (2023)\\workspace\\src\\engine.py:744\u001b[0m, in \u001b[0;36mMTL_engine.test\u001b[1;34m(self, test_loader, criterion_transport, criterion_driver, alpha, beta)\u001b[0m\n\u001b[0;32m    742\u001b[0m \u001b[38;5;66;03m# Calculate accuracies\u001b[39;00m\n\u001b[0;32m    743\u001b[0m predicted_transport \u001b[38;5;241m=\u001b[39m torch\u001b[38;5;241m.\u001b[39mmax(transport_out, \u001b[38;5;241m1\u001b[39m)\n\u001b[1;32m--> 744\u001b[0m correct_test_transport \u001b[38;5;241m+\u001b[39m\u001b[38;5;241m=\u001b[39m \u001b[43m(\u001b[49m\u001b[43mpredicted_transport\u001b[49m\u001b[43m \u001b[49m\u001b[38;5;241;43m==\u001b[39;49m\u001b[43m \u001b[49m\u001b[43mseq_labels\u001b[49m\u001b[43m)\u001b[49m\u001b[38;5;241;43m.\u001b[39;49m\u001b[43msum\u001b[49m()\u001b[38;5;241m.\u001b[39mitem()\n\u001b[0;32m    745\u001b[0m total_test_transport \u001b[38;5;241m+\u001b[39m\u001b[38;5;241m=\u001b[39m seq_labels\u001b[38;5;241m.\u001b[39msize(\u001b[38;5;241m0\u001b[39m)\n\u001b[0;32m    747\u001b[0m _, predicted_driver \u001b[38;5;241m=\u001b[39m torch\u001b[38;5;241m.\u001b[39mmax(driver_out, \u001b[38;5;241m1\u001b[39m)\n",
      "\u001b[1;31mAttributeError\u001b[0m: 'bool' object has no attribute 'sum'"
     ]
    }
   ],
   "source": [
    "mytuner.main(train_datasets, valid_datasets, test_datasets, num_samples=40)"
   ]
  },
  {
   "cell_type": "code",
   "execution_count": null,
   "metadata": {},
   "outputs": [],
   "source": [
    "model"
   ]
  },
  {
   "cell_type": "code",
   "execution_count": null,
   "metadata": {},
   "outputs": [],
   "source": []
  },
  {
   "cell_type": "code",
   "execution_count": null,
   "metadata": {},
   "outputs": [],
   "source": []
  },
  {
   "cell_type": "code",
   "execution_count": null,
   "metadata": {},
   "outputs": [],
   "source": [
    "np.random.seed(42)\n",
    "\n",
    "batch_size = 64\n",
    "train_dl = DataLoader(train_datasets, batch_size, shuffle=True, num_workers=4)\n",
    "valid_dl = DataLoader(valid_datasets, batch_size, shuffle=True, num_workers=4)\n",
    "test_dl = DataLoader(test_datasets, batch_size, shuffle=False, num_workers=2)"
   ]
  },
  {
   "cell_type": "code",
   "execution_count": 12,
   "metadata": {},
   "outputs": [],
   "source": [
    "criterion_driver = nn.CrossEntropyLoss(weight=class_weights_dr)\n",
    "criterion_transport = nn.CrossEntropyLoss(weight=class_weights_tr)\n",
    "model = MultitaskModel(6, 512, 2)\n",
    "optimizer = optim.Adam(model.parameters(), lr=0.0003872118032174588)\n",
    "scheduler = optim.lr_scheduler.ExponentialLR(optimizer, gamma=0.13618183112843046)\n",
    "device = torch.device(\"cuda\" if torch.cuda.is_available() else \"cpu\")\n",
    "\n",
    "model = model.to(device)"
   ]
  },
  {
   "cell_type": "code",
   "execution_count": 13,
   "metadata": {},
   "outputs": [],
   "source": [
    "engine = MTL_engine(model, optimizer, scheduler, criterion_driver, criterion_transport, device)"
   ]
  },
  {
   "cell_type": "code",
   "execution_count": null,
   "metadata": {},
   "outputs": [],
   "source": [
    "hist = engine.train_validation(train_dl, valid_dl, epochs=2, save_path=None)"
   ]
  },
  {
   "cell_type": "code",
   "execution_count": null,
   "metadata": {},
   "outputs": [],
   "source": []
  }
 ],
 "metadata": {
  "kernelspec": {
   "display_name": "torch-gpu",
   "language": "python",
   "name": "python3"
  },
  "language_info": {
   "codemirror_mode": {
    "name": "ipython",
    "version": 3
   },
   "file_extension": ".py",
   "mimetype": "text/x-python",
   "name": "python",
   "nbconvert_exporter": "python",
   "pygments_lexer": "ipython3",
   "version": "3.10.13"
  }
 },
 "nbformat": 4,
 "nbformat_minor": 2
}
