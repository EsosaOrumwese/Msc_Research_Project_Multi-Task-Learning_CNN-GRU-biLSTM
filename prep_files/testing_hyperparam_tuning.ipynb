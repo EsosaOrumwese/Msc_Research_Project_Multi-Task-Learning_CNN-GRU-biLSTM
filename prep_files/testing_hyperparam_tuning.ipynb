{
 "cells": [
  {
   "cell_type": "markdown",
   "metadata": {},
   "source": [
    "### Testing Hyper-param tuning with Ray and Tune on a Simple CNN.\n",
    "https://docs.ray.io/en/latest/tune/examples/tune-pytorch-cifar.html"
   ]
  },
  {
   "cell_type": "code",
   "execution_count": 1,
   "metadata": {},
   "outputs": [],
   "source": [
    "# Ensure the necessary imports\n",
    "import os\n",
    "import time\n",
    "import torch\n",
    "import torch.nn as nn\n",
    "import torch.optim as optim\n",
    "from torch.utils.data import DataLoader, Dataset\n",
    "from torchvision import models\n",
    "from ray import tune, train\n",
    "from ray.tune.schedulers import ASHAScheduler\n",
    "\n",
    "from src.engine import simpleCNN_engine\n",
    "from src.model_simpleCNN import SimpleCNN\n",
    "from src.dataset import SignalsDataset\n",
    "from src.preprocess import Prep_data_for_CNN\n",
    "from src.hyperparam import RayTuning"
   ]
  },
  {
   "cell_type": "code",
   "execution_count": 2,
   "metadata": {},
   "outputs": [],
   "source": [
    "import pandas as pd\n",
    "import numpy as np"
   ]
  },
  {
   "cell_type": "code",
   "execution_count": 3,
   "metadata": {},
   "outputs": [],
   "source": [
    "windowed_df = Prep_data_for_CNN().get_window_df_from_dir('./data/sample_sub_segmented_data_112.csv',\n",
    "                                                         prep_for_FMAPextract=False)"
   ]
  },
  {
   "cell_type": "code",
   "execution_count": 4,
   "metadata": {},
   "outputs": [],
   "source": [
    "X, y, uniq = Prep_data_for_CNN().prep_input_for_CNN(windowed_df)"
   ]
  },
  {
   "cell_type": "code",
   "execution_count": 5,
   "metadata": {},
   "outputs": [
    {
     "data": {
      "text/plain": [
       "(array(['Not_driving', 'User1', 'User2'], dtype='<U11'),\n",
       " array([0, 1, 2], dtype=int64))"
      ]
     },
     "execution_count": 5,
     "metadata": {},
     "output_type": "execute_result"
    }
   ],
   "source": [
    "uniq, np.unique(y)"
   ]
  },
  {
   "cell_type": "code",
   "execution_count": 6,
   "metadata": {},
   "outputs": [],
   "source": [
    "from sklearn.model_selection import train_test_split\n",
    "from sklearn.utils.class_weight import compute_class_weight"
   ]
  },
  {
   "cell_type": "code",
   "execution_count": 7,
   "metadata": {},
   "outputs": [],
   "source": [
    "# Perform a train-test split\n",
    "np.random.seed(1)\n",
    "X_tr, X_test, y_tr, y_test = train_test_split(X, y, test_size=0.2, stratify=y)\n",
    "X_train, X_valid, y_train, y_valid = train_test_split(X_tr, y_tr, test_size=0.2, stratify=y_tr)\n",
    "\n",
    "class_weights = torch.tensor(compute_class_weight('balanced', classes=np.unique(y_train), y=y_train), dtype=torch.float32)\n",
    "class_weights = class_weights.to(torch.device(\"cuda\" if torch.cuda.is_available() else \"cpu\"))\n",
    "\n",
    "# normalizing X\n",
    "mean = X_train.mean(axis=(0, 2), keepdims=True)\n",
    "std = X_train.std(axis=(0, 2), keepdims=True)\n",
    "\n",
    "X_train = (X_train - mean) / std\n",
    "X_valid = (X_valid - mean) / std\n",
    "X_test = (X_test - mean) / std"
   ]
  },
  {
   "cell_type": "code",
   "execution_count": 8,
   "metadata": {},
   "outputs": [],
   "source": [
    "# Create datasets for each feature\n",
    "feature_indices = {'long_acc': 0, 'tranv_acc': 1, 'ang_vel': 2}\n",
    "\n",
    "train_datasets = {feature: SignalsDataset(X_train, y_train, idx) for feature, idx in feature_indices.items()}\n",
    "valid_datasets = {feature: SignalsDataset(X_valid, y_valid, idx) for feature, idx in feature_indices.items()}\n",
    "test_datasets = {feature: SignalsDataset(X_test, y_test, idx) for feature, idx in feature_indices.items()}\n",
    "\n",
    "## dataset for extracting feature maps from data\n",
    "all_dataset = {feature: SignalsDataset((X-mean)/std, y, idx) for feature, idx in feature_indices.items()}"
   ]
  },
  {
   "cell_type": "code",
   "execution_count": 9,
   "metadata": {},
   "outputs": [],
   "source": [
    "np.random.seed(1)\n",
    "\n",
    "batch_size = 8 \n",
    "train_dl_long = DataLoader(train_datasets['long_acc'], batch_size, shuffle=True)\n",
    "train_dl_tranv = DataLoader(train_datasets['tranv_acc'], batch_size, shuffle=True)\n",
    "train_dl_angvel = DataLoader(train_datasets['ang_vel'], batch_size, shuffle=True)\n",
    "\n",
    "valid_dl_long = DataLoader(valid_datasets['long_acc'], batch_size, shuffle=False)\n",
    "valid_dl_tranv = DataLoader(valid_datasets['tranv_acc'], batch_size, shuffle=False)\n",
    "valid_dl_angvel = DataLoader(valid_datasets['ang_vel'], batch_size, shuffle=False)\n",
    "\n",
    "test_dl_long = DataLoader(test_datasets['long_acc'], batch_size, shuffle=False)\n",
    "test_dl_tranv = DataLoader(test_datasets['tranv_acc'], batch_size, shuffle=False)\n",
    "test_dl_angvel = DataLoader(test_datasets['ang_vel'], batch_size, shuffle=False)"
   ]
  },
  {
   "cell_type": "markdown",
   "metadata": {},
   "source": [
    "Define Hyperparameter search space"
   ]
  },
  {
   "cell_type": "code",
   "execution_count": 10,
   "metadata": {},
   "outputs": [],
   "source": [
    "# Enhanced Hyperparameter search space\n",
    "config = {\n",
    "    \"optimizer\": tune.choice([\"adam\", \"sgd\"]),\n",
    "    \"lr\": tune.loguniform(1e-5, 1e-1),\n",
    "    \"scheduler\": tune.choice([\"step\", \"exp\", \"cos\"]),\n",
    "    \"step_size\": tune.choice([10, 20, 30, 40, 50]),\n",
    "    \"gamma\": tune.uniform(0.1, 0.9),\n",
    "    \"weight_decay\": tune.choice([0.0, 1e-4, 1e-3, 1e-2]),\n",
    "    \"epochs\": tune.choice([10, 20, 30]),\n",
    "    \"batch_size\": tune.choice([8, 16, 32, 64])\n",
    "}\n",
    "\n",
    "criterion = nn.CrossEntropyLoss(weight=class_weights)\n",
    "save_dir = 'test'\n",
    "model = SimpleCNN\n",
    "modelType = 'SimpleCNN'\n",
    "engine = simpleCNN_engine"
   ]
  },
  {
   "cell_type": "markdown",
   "metadata": {},
   "source": [
    "Define a training function that integrates with Ray Tune"
   ]
  },
  {
   "cell_type": "code",
   "execution_count": 11,
   "metadata": {},
   "outputs": [],
   "source": [
    "mytuner = RayTuning(config, save_dir, criterion, model, modelType, engine)"
   ]
  },
  {
   "cell_type": "code",
   "execution_count": 12,
   "metadata": {},
   "outputs": [
    {
     "data": {
      "text/html": [
       "<link rel=\"stylesheet\" type=\"text/css\" href=\"./custom.css\">"
      ],
      "text/plain": [
       "<IPython.core.display.HTML object>"
      ]
     },
     "metadata": {},
     "output_type": "display_data"
    }
   ],
   "source": [
    "from IPython.display import display, HTML\n",
    "\n",
    "# Load custom CSS file\n",
    "css = HTML('<link rel=\"stylesheet\" type=\"text/css\" href=\"./custom.css\">')  # Ensure the path is correct\n",
    "display(css)"
   ]
  },
  {
   "cell_type": "code",
   "execution_count": 13,
   "metadata": {},
   "outputs": [
    {
     "data": {
      "text/html": [
       "<div class=\"tuneStatus\">\n",
       "  <div style=\"display: flex;flex-direction: row\">\n",
       "    <div style=\"display: flex;flex-direction: column;\">\n",
       "      <h3>Tune Status</h3>\n",
       "      <table>\n",
       "<tbody>\n",
       "<tr><td>Current time:</td><td>2024-07-22 17:27:10</td></tr>\n",
       "<tr><td>Running for: </td><td>00:22:24.05        </td></tr>\n",
       "<tr><td>Memory:      </td><td>9.3/13.9 GiB       </td></tr>\n",
       "</tbody>\n",
       "</table>\n",
       "    </div>\n",
       "    <div class=\"vDivider\"></div>\n",
       "    <div class=\"systemInfo\">\n",
       "      <h3>System Info</h3>\n",
       "      Using AsyncHyperBand: num_stopped=10<br>Bracket: Iter 8.000: -1.1086356043815613 | Iter 4.000: -1.0960503220558167 | Iter 2.000: -1.0977782011032104 | Iter 1.000: -1.1015242179234823<br>Logical resource usage: 2.0/16 CPUs, 1.0/1 GPUs (0.0/1.0 accelerator_type:G)\n",
       "    </div>\n",
       "    \n",
       "  </div>\n",
       "  <div class=\"hDivider\"></div>\n",
       "  <div class=\"trialStatus\">\n",
       "    <h3>Trial Status</h3>\n",
       "    <table>\n",
       "<thead>\n",
       "<tr><th>Trial name             </th><th>status    </th><th>loc            </th><th style=\"text-align: right;\">  batch_size</th><th style=\"text-align: right;\">  epochs</th><th style=\"text-align: right;\">   gamma</th><th style=\"text-align: right;\">         lr</th><th>optimizer  </th><th>scheduler  </th><th style=\"text-align: right;\">  step_size</th><th style=\"text-align: right;\">  weight_decay</th><th style=\"text-align: right;\">  iter</th><th style=\"text-align: right;\">  total time (s)</th><th style=\"text-align: right;\">    loss</th><th style=\"text-align: right;\">  accuracy</th></tr>\n",
       "</thead>\n",
       "<tbody>\n",
       "<tr><td>train_model_1d5b1_00000</td><td>TERMINATED</td><td>127.0.0.1:12104</td><td style=\"text-align: right;\">           8</td><td style=\"text-align: right;\">      10</td><td style=\"text-align: right;\">0.341866</td><td style=\"text-align: right;\">0.0974404  </td><td>sgd        </td><td>step       </td><td style=\"text-align: right;\">         20</td><td style=\"text-align: right;\">        0.01  </td><td style=\"text-align: right;\">    10</td><td style=\"text-align: right;\">        540.055 </td><td style=\"text-align: right;\"> 1.11497</td><td style=\"text-align: right;\">   78.2609</td></tr>\n",
       "<tr><td>train_model_1d5b1_00001</td><td>TERMINATED</td><td>127.0.0.1:13072</td><td style=\"text-align: right;\">          32</td><td style=\"text-align: right;\">      20</td><td style=\"text-align: right;\">0.531053</td><td style=\"text-align: right;\">0.000241125</td><td>sgd        </td><td>cos        </td><td style=\"text-align: right;\">         20</td><td style=\"text-align: right;\">        0.001 </td><td style=\"text-align: right;\">     1</td><td style=\"text-align: right;\">         57.2564</td><td style=\"text-align: right;\"> 1.10892</td><td style=\"text-align: right;\">   20.2899</td></tr>\n",
       "<tr><td>train_model_1d5b1_00002</td><td>TERMINATED</td><td>127.0.0.1:8280 </td><td style=\"text-align: right;\">          16</td><td style=\"text-align: right;\">      20</td><td style=\"text-align: right;\">0.83117 </td><td style=\"text-align: right;\">0.0325439  </td><td>adam       </td><td>exp        </td><td style=\"text-align: right;\">         30</td><td style=\"text-align: right;\">        0.01  </td><td style=\"text-align: right;\">     1</td><td style=\"text-align: right;\">         57.2614</td><td style=\"text-align: right;\"> 1.10047</td><td style=\"text-align: right;\">   14.4928</td></tr>\n",
       "<tr><td>train_model_1d5b1_00003</td><td>TERMINATED</td><td>127.0.0.1:13780</td><td style=\"text-align: right;\">          16</td><td style=\"text-align: right;\">      30</td><td style=\"text-align: right;\">0.742206</td><td style=\"text-align: right;\">0.0129884  </td><td>adam       </td><td>exp        </td><td style=\"text-align: right;\">         20</td><td style=\"text-align: right;\">        0.0001</td><td style=\"text-align: right;\">     1</td><td style=\"text-align: right;\">         55.4   </td><td style=\"text-align: right;\"> 1.19581</td><td style=\"text-align: right;\">   40.5797</td></tr>\n",
       "<tr><td>train_model_1d5b1_00004</td><td>TERMINATED</td><td>127.0.0.1:26460</td><td style=\"text-align: right;\">          32</td><td style=\"text-align: right;\">      10</td><td style=\"text-align: right;\">0.235864</td><td style=\"text-align: right;\">0.0207294  </td><td>adam       </td><td>step       </td><td style=\"text-align: right;\">         40</td><td style=\"text-align: right;\">        0.0001</td><td style=\"text-align: right;\">     2</td><td style=\"text-align: right;\">        111.021 </td><td style=\"text-align: right;\"> 1.09778</td><td style=\"text-align: right;\">   13.0435</td></tr>\n",
       "<tr><td>train_model_1d5b1_00005</td><td>TERMINATED</td><td>127.0.0.1:15256</td><td style=\"text-align: right;\">          32</td><td style=\"text-align: right;\">      10</td><td style=\"text-align: right;\">0.653502</td><td style=\"text-align: right;\">0.0678513  </td><td>adam       </td><td>exp        </td><td style=\"text-align: right;\">         40</td><td style=\"text-align: right;\">        0.0001</td><td style=\"text-align: right;\">     1</td><td style=\"text-align: right;\">         55.0703</td><td style=\"text-align: right;\">60.9487 </td><td style=\"text-align: right;\">   20.2899</td></tr>\n",
       "<tr><td>train_model_1d5b1_00006</td><td>TERMINATED</td><td>127.0.0.1:2032 </td><td style=\"text-align: right;\">          64</td><td style=\"text-align: right;\">      30</td><td style=\"text-align: right;\">0.698533</td><td style=\"text-align: right;\">1.36989e-05</td><td>sgd        </td><td>cos        </td><td style=\"text-align: right;\">         10</td><td style=\"text-align: right;\">        0.01  </td><td style=\"text-align: right;\">     2</td><td style=\"text-align: right;\">        110.884 </td><td style=\"text-align: right;\"> 1.0962 </td><td style=\"text-align: right;\">   44.9275</td></tr>\n",
       "<tr><td>train_model_1d5b1_00007</td><td>TERMINATED</td><td>127.0.0.1:23236</td><td style=\"text-align: right;\">           8</td><td style=\"text-align: right;\">      20</td><td style=\"text-align: right;\">0.334891</td><td style=\"text-align: right;\">0.000618834</td><td>sgd        </td><td>exp        </td><td style=\"text-align: right;\">         40</td><td style=\"text-align: right;\">        0.01  </td><td style=\"text-align: right;\">     2</td><td style=\"text-align: right;\">        111.245 </td><td style=\"text-align: right;\"> 1.1025 </td><td style=\"text-align: right;\">   66.6667</td></tr>\n",
       "<tr><td>train_model_1d5b1_00008</td><td>TERMINATED</td><td>127.0.0.1:29476</td><td style=\"text-align: right;\">          64</td><td style=\"text-align: right;\">      20</td><td style=\"text-align: right;\">0.312437</td><td style=\"text-align: right;\">0.00519209 </td><td>sgd        </td><td>step       </td><td style=\"text-align: right;\">         10</td><td style=\"text-align: right;\">        0.01  </td><td style=\"text-align: right;\">     2</td><td style=\"text-align: right;\">        112.432 </td><td style=\"text-align: right;\"> 1.24011</td><td style=\"text-align: right;\">   14.4928</td></tr>\n",
       "<tr><td>train_model_1d5b1_00009</td><td>TERMINATED</td><td>127.0.0.1:2068 </td><td style=\"text-align: right;\">          16</td><td style=\"text-align: right;\">      20</td><td style=\"text-align: right;\">0.526759</td><td style=\"text-align: right;\">0.000110641</td><td>adam       </td><td>step       </td><td style=\"text-align: right;\">         10</td><td style=\"text-align: right;\">        0.0001</td><td style=\"text-align: right;\">     1</td><td style=\"text-align: right;\">         56.5806</td><td style=\"text-align: right;\"> 1.17898</td><td style=\"text-align: right;\">   42.029 </td></tr>\n",
       "</tbody>\n",
       "</table>\n",
       "  </div>\n",
       "</div>\n",
       "<style>\n",
       ".tuneStatus {\n",
       "  color: var(--jp-ui-font-color1);\n",
       "}\n",
       ".tuneStatus .systemInfo {\n",
       "  display: flex;\n",
       "  flex-direction: column;\n",
       "}\n",
       ".tuneStatus td {\n",
       "  white-space: nowrap;\n",
       "}\n",
       ".tuneStatus .trialStatus {\n",
       "  display: flex;\n",
       "  flex-direction: column;\n",
       "}\n",
       ".tuneStatus h3 {\n",
       "  font-weight: bold;\n",
       "}\n",
       ".tuneStatus .hDivider {\n",
       "  border-bottom-width: var(--jp-border-width);\n",
       "  border-bottom-color: var(--jp-border-color0);\n",
       "  border-bottom-style: solid;\n",
       "}\n",
       ".tuneStatus .vDivider {\n",
       "  border-left-width: var(--jp-border-width);\n",
       "  border-left-color: var(--jp-border-color0);\n",
       "  border-left-style: solid;\n",
       "  margin: 0.5em 1em 0.5em 1em;\n",
       "}\n",
       "</style>\n"
      ],
      "text/plain": [
       "<IPython.core.display.HTML object>"
      ]
     },
     "metadata": {},
     "output_type": "display_data"
    },
    {
     "name": "stderr",
     "output_type": "stream",
     "text": [
      "\u001b[36m(train_model pid=12104)\u001b[0m Checkpoint successfully created at: Checkpoint(filesystem=local, path=c:/Users/LEGION/Documents/Msc Data Science - Uni of Exeter/ECMM451 - Data Science Research Project (2023)/workspace/ray_results/test/trial_1d5b1_00000/checkpoint_000000)\n",
      "\u001b[36m(train_model pid=12104)\u001b[0m Checkpoint successfully created at: Checkpoint(filesystem=local, path=c:/Users/LEGION/Documents/Msc Data Science - Uni of Exeter/ECMM451 - Data Science Research Project (2023)/workspace/ray_results/test/trial_1d5b1_00000/checkpoint_000001)\n",
      "\u001b[36m(train_model pid=12104)\u001b[0m Checkpoint successfully created at: Checkpoint(filesystem=local, path=c:/Users/LEGION/Documents/Msc Data Science - Uni of Exeter/ECMM451 - Data Science Research Project (2023)/workspace/ray_results/test/trial_1d5b1_00000/checkpoint_000002)\n",
      "\u001b[36m(train_model pid=12104)\u001b[0m Checkpoint successfully created at: Checkpoint(filesystem=local, path=c:/Users/LEGION/Documents/Msc Data Science - Uni of Exeter/ECMM451 - Data Science Research Project (2023)/workspace/ray_results/test/trial_1d5b1_00000/checkpoint_000003)\n",
      "\u001b[36m(train_model pid=12104)\u001b[0m Checkpoint successfully created at: Checkpoint(filesystem=local, path=c:/Users/LEGION/Documents/Msc Data Science - Uni of Exeter/ECMM451 - Data Science Research Project (2023)/workspace/ray_results/test/trial_1d5b1_00000/checkpoint_000004)\n",
      "\u001b[36m(train_model pid=12104)\u001b[0m Checkpoint successfully created at: Checkpoint(filesystem=local, path=c:/Users/LEGION/Documents/Msc Data Science - Uni of Exeter/ECMM451 - Data Science Research Project (2023)/workspace/ray_results/test/trial_1d5b1_00000/checkpoint_000005)\n",
      "\u001b[36m(train_model pid=12104)\u001b[0m Checkpoint successfully created at: Checkpoint(filesystem=local, path=c:/Users/LEGION/Documents/Msc Data Science - Uni of Exeter/ECMM451 - Data Science Research Project (2023)/workspace/ray_results/test/trial_1d5b1_00000/checkpoint_000006)\n",
      "\u001b[36m(train_model pid=12104)\u001b[0m Checkpoint successfully created at: Checkpoint(filesystem=local, path=c:/Users/LEGION/Documents/Msc Data Science - Uni of Exeter/ECMM451 - Data Science Research Project (2023)/workspace/ray_results/test/trial_1d5b1_00000/checkpoint_000007)\n",
      "\u001b[36m(train_model pid=12104)\u001b[0m Checkpoint successfully created at: Checkpoint(filesystem=local, path=c:/Users/LEGION/Documents/Msc Data Science - Uni of Exeter/ECMM451 - Data Science Research Project (2023)/workspace/ray_results/test/trial_1d5b1_00000/checkpoint_000008)\n",
      "\u001b[36m(train_model pid=12104)\u001b[0m Checkpoint successfully created at: Checkpoint(filesystem=local, path=c:/Users/LEGION/Documents/Msc Data Science - Uni of Exeter/ECMM451 - Data Science Research Project (2023)/workspace/ray_results/test/trial_1d5b1_00000/checkpoint_000009)\n",
      "\u001b[36m(train_model pid=13072)\u001b[0m Checkpoint successfully created at: Checkpoint(filesystem=local, path=c:/Users/LEGION/Documents/Msc Data Science - Uni of Exeter/ECMM451 - Data Science Research Project (2023)/workspace/ray_results/test/trial_1d5b1_00001/checkpoint_000000)\n",
      "\u001b[36m(train_model pid=8280)\u001b[0m Checkpoint successfully created at: Checkpoint(filesystem=local, path=c:/Users/LEGION/Documents/Msc Data Science - Uni of Exeter/ECMM451 - Data Science Research Project (2023)/workspace/ray_results/test/trial_1d5b1_00002/checkpoint_000000)\n",
      "\u001b[36m(train_model pid=13780)\u001b[0m Checkpoint successfully created at: Checkpoint(filesystem=local, path=c:/Users/LEGION/Documents/Msc Data Science - Uni of Exeter/ECMM451 - Data Science Research Project (2023)/workspace/ray_results/test/trial_1d5b1_00003/checkpoint_000000)\n",
      "\u001b[36m(train_model pid=26460)\u001b[0m Checkpoint successfully created at: Checkpoint(filesystem=local, path=c:/Users/LEGION/Documents/Msc Data Science - Uni of Exeter/ECMM451 - Data Science Research Project (2023)/workspace/ray_results/test/trial_1d5b1_00004/checkpoint_000000)\n",
      "\u001b[36m(train_model pid=26460)\u001b[0m Checkpoint successfully created at: Checkpoint(filesystem=local, path=c:/Users/LEGION/Documents/Msc Data Science - Uni of Exeter/ECMM451 - Data Science Research Project (2023)/workspace/ray_results/test/trial_1d5b1_00004/checkpoint_000001)\n",
      "\u001b[36m(train_model pid=15256)\u001b[0m Checkpoint successfully created at: Checkpoint(filesystem=local, path=c:/Users/LEGION/Documents/Msc Data Science - Uni of Exeter/ECMM451 - Data Science Research Project (2023)/workspace/ray_results/test/trial_1d5b1_00005/checkpoint_000000)\n",
      "\u001b[36m(train_model pid=2032)\u001b[0m Checkpoint successfully created at: Checkpoint(filesystem=local, path=c:/Users/LEGION/Documents/Msc Data Science - Uni of Exeter/ECMM451 - Data Science Research Project (2023)/workspace/ray_results/test/trial_1d5b1_00006/checkpoint_000000)\n",
      "\u001b[36m(train_model pid=2032)\u001b[0m Checkpoint successfully created at: Checkpoint(filesystem=local, path=c:/Users/LEGION/Documents/Msc Data Science - Uni of Exeter/ECMM451 - Data Science Research Project (2023)/workspace/ray_results/test/trial_1d5b1_00006/checkpoint_000001)\n",
      "\u001b[36m(train_model pid=23236)\u001b[0m Checkpoint successfully created at: Checkpoint(filesystem=local, path=c:/Users/LEGION/Documents/Msc Data Science - Uni of Exeter/ECMM451 - Data Science Research Project (2023)/workspace/ray_results/test/trial_1d5b1_00007/checkpoint_000000)\n",
      "\u001b[36m(train_model pid=23236)\u001b[0m Checkpoint successfully created at: Checkpoint(filesystem=local, path=c:/Users/LEGION/Documents/Msc Data Science - Uni of Exeter/ECMM451 - Data Science Research Project (2023)/workspace/ray_results/test/trial_1d5b1_00007/checkpoint_000001)\n",
      "\u001b[36m(train_model pid=29476)\u001b[0m Checkpoint successfully created at: Checkpoint(filesystem=local, path=c:/Users/LEGION/Documents/Msc Data Science - Uni of Exeter/ECMM451 - Data Science Research Project (2023)/workspace/ray_results/test/trial_1d5b1_00008/checkpoint_000000)\n",
      "\u001b[36m(train_model pid=29476)\u001b[0m Checkpoint successfully created at: Checkpoint(filesystem=local, path=c:/Users/LEGION/Documents/Msc Data Science - Uni of Exeter/ECMM451 - Data Science Research Project (2023)/workspace/ray_results/test/trial_1d5b1_00008/checkpoint_000001)\n",
      "2024-07-22 17:27:10,004\tINFO tune.py:1009 -- Wrote the latest version of all result files and experiment state to 'c:/Users/LEGION/Documents/Msc Data Science - Uni of Exeter/ECMM451 - Data Science Research Project (2023)/workspace/ray_results/test' in 0.0175s.\n",
      "2024-07-22 17:27:10,031\tINFO tune.py:1041 -- Total run time: 1344.12 seconds (1344.03 seconds for the tuning loop).\n",
      "\u001b[36m(train_model pid=2068)\u001b[0m Checkpoint successfully created at: Checkpoint(filesystem=local, path=c:/Users/LEGION/Documents/Msc Data Science - Uni of Exeter/ECMM451 - Data Science Research Project (2023)/workspace/ray_results/test/trial_1d5b1_00009/checkpoint_000000)\n"
     ]
    },
    {
     "name": "stdout",
     "output_type": "stream",
     "text": [
      "Best trial config: {'optimizer': 'sgd', 'lr': 1.3698885785105936e-05, 'scheduler': 'cos', 'step_size': 10, 'gamma': 0.6985325235038715, 'weight_decay': 0.01, 'epochs': 30, 'batch_size': 64}\n",
      "Best trial final validation loss: 1.0962030291557312\n",
      "Best trial final validation accuracy: 44.9275%\n",
      "Test Accuracy: 0.4418604651162791\n",
      "Best trial test set accuracy: 0.4419%\n"
     ]
    }
   ],
   "source": [
    "mytuner.main(train_datasets['long_acc'], valid_datasets['long_acc'], test_datasets['long_acc'])"
   ]
  },
  {
   "cell_type": "markdown",
   "metadata": {},
   "source": [
    "Go with adam, exp, batchsize=32\n"
   ]
  },
  {
   "cell_type": "code",
   "execution_count": 14,
   "metadata": {},
   "outputs": [],
   "source": [
    "# Enhanced Hyperparameter search space\n",
    "config = {\n",
    "    \"optimizer\": tune.choice([\"adam\"]),\n",
    "    \"lr\": tune.loguniform(1e-4, 1e-1),\n",
    "    \"scheduler\": tune.choice([\"exp\"]),\n",
    "    #\"step_size\": tune.choice([10, 20, 30, 40, 50]),\n",
    "    \"gamma\": tune.uniform(0.1, 0.9),\n",
    "    #\"weight_decay\": tune.choice([0.0, 1e-4, 1e-3, 1e-2]),\n",
    "    \"epochs\": tune.choice([30]),\n",
    "    \"batch_size\": tune.choice([16])\n",
    "}"
   ]
  },
  {
   "cell_type": "code",
   "execution_count": 2,
   "metadata": {},
   "outputs": [
    {
     "data": {
      "text/plain": [
       "0.0001"
      ]
     },
     "execution_count": 2,
     "metadata": {},
     "output_type": "execute_result"
    }
   ],
   "source": [
    "1e-4"
   ]
  },
  {
   "cell_type": "code",
   "execution_count": 15,
   "metadata": {},
   "outputs": [],
   "source": [
    "mytuner = RayTuning(config, save_dir, criterion, model, modelType, engine)"
   ]
  },
  {
   "cell_type": "code",
   "execution_count": 16,
   "metadata": {},
   "outputs": [
    {
     "data": {
      "text/html": [
       "<div class=\"tuneStatus\">\n",
       "  <div style=\"display: flex;flex-direction: row\">\n",
       "    <div style=\"display: flex;flex-direction: column;\">\n",
       "      <h3>Tune Status</h3>\n",
       "      <table>\n",
       "<tbody>\n",
       "<tr><td>Current time:</td><td>2024-07-22 17:41:47</td></tr>\n",
       "<tr><td>Running for: </td><td>00:02:32.07        </td></tr>\n",
       "<tr><td>Memory:      </td><td>10.1/13.9 GiB      </td></tr>\n",
       "</tbody>\n",
       "</table>\n",
       "    </div>\n",
       "    <div class=\"vDivider\"></div>\n",
       "    <div class=\"systemInfo\">\n",
       "      <h3>System Info</h3>\n",
       "      Using AsyncHyperBand: num_stopped=0<br>Bracket: Iter 8.000: None | Iter 4.000: None | Iter 2.000: -1.15031099319458 | Iter 1.000: -1.0946589708328247<br>Logical resource usage: 2.0/16 CPUs, 1.0/1 GPUs (0.0/1.0 accelerator_type:G)\n",
       "    </div>\n",
       "    \n",
       "  </div>\n",
       "  <div class=\"hDivider\"></div>\n",
       "  <div class=\"trialStatus\">\n",
       "    <h3>Trial Status</h3>\n",
       "    <table>\n",
       "<thead>\n",
       "<tr><th>Trial name             </th><th>status  </th><th>loc           </th><th style=\"text-align: right;\">  batch_size</th><th style=\"text-align: right;\">  epochs</th><th style=\"text-align: right;\">   gamma</th><th style=\"text-align: right;\">         lr</th><th>optimizer  </th><th>scheduler  </th><th style=\"text-align: right;\">  iter</th><th style=\"text-align: right;\">  total time (s)</th><th style=\"text-align: right;\">   loss</th><th style=\"text-align: right;\">  accuracy</th></tr>\n",
       "</thead>\n",
       "<tbody>\n",
       "<tr><td>train_model_eea09_00000</td><td>RUNNING </td><td>127.0.0.1:4416</td><td style=\"text-align: right;\">          32</td><td style=\"text-align: right;\">      30</td><td style=\"text-align: right;\">0.528717</td><td style=\"text-align: right;\">0.000141208</td><td>adam       </td><td>exp        </td><td style=\"text-align: right;\">     2</td><td style=\"text-align: right;\">         110.616</td><td style=\"text-align: right;\">1.15031</td><td style=\"text-align: right;\">   44.9275</td></tr>\n",
       "<tr><td>train_model_eea09_00001</td><td>PENDING </td><td>              </td><td style=\"text-align: right;\">          32</td><td style=\"text-align: right;\">      30</td><td style=\"text-align: right;\">0.855676</td><td style=\"text-align: right;\">0.00350483 </td><td>adam       </td><td>exp        </td><td style=\"text-align: right;\">      </td><td style=\"text-align: right;\">                </td><td style=\"text-align: right;\">       </td><td style=\"text-align: right;\">          </td></tr>\n",
       "<tr><td>train_model_eea09_00002</td><td>PENDING </td><td>              </td><td style=\"text-align: right;\">          32</td><td style=\"text-align: right;\">      30</td><td style=\"text-align: right;\">0.20998 </td><td style=\"text-align: right;\">0.0513104  </td><td>adam       </td><td>exp        </td><td style=\"text-align: right;\">      </td><td style=\"text-align: right;\">                </td><td style=\"text-align: right;\">       </td><td style=\"text-align: right;\">          </td></tr>\n",
       "<tr><td>train_model_eea09_00003</td><td>PENDING </td><td>              </td><td style=\"text-align: right;\">          32</td><td style=\"text-align: right;\">      30</td><td style=\"text-align: right;\">0.418141</td><td style=\"text-align: right;\">0.0264347  </td><td>adam       </td><td>exp        </td><td style=\"text-align: right;\">      </td><td style=\"text-align: right;\">                </td><td style=\"text-align: right;\">       </td><td style=\"text-align: right;\">          </td></tr>\n",
       "<tr><td>train_model_eea09_00004</td><td>PENDING </td><td>              </td><td style=\"text-align: right;\">          32</td><td style=\"text-align: right;\">      30</td><td style=\"text-align: right;\">0.378213</td><td style=\"text-align: right;\">0.0606074  </td><td>adam       </td><td>exp        </td><td style=\"text-align: right;\">      </td><td style=\"text-align: right;\">                </td><td style=\"text-align: right;\">       </td><td style=\"text-align: right;\">          </td></tr>\n",
       "<tr><td>train_model_eea09_00005</td><td>PENDING </td><td>              </td><td style=\"text-align: right;\">          32</td><td style=\"text-align: right;\">      30</td><td style=\"text-align: right;\">0.806645</td><td style=\"text-align: right;\">0.0150659  </td><td>adam       </td><td>exp        </td><td style=\"text-align: right;\">      </td><td style=\"text-align: right;\">                </td><td style=\"text-align: right;\">       </td><td style=\"text-align: right;\">          </td></tr>\n",
       "<tr><td>train_model_eea09_00006</td><td>PENDING </td><td>              </td><td style=\"text-align: right;\">          32</td><td style=\"text-align: right;\">      30</td><td style=\"text-align: right;\">0.379119</td><td style=\"text-align: right;\">0.0178989  </td><td>adam       </td><td>exp        </td><td style=\"text-align: right;\">      </td><td style=\"text-align: right;\">                </td><td style=\"text-align: right;\">       </td><td style=\"text-align: right;\">          </td></tr>\n",
       "<tr><td>train_model_eea09_00007</td><td>PENDING </td><td>              </td><td style=\"text-align: right;\">          32</td><td style=\"text-align: right;\">      30</td><td style=\"text-align: right;\">0.442473</td><td style=\"text-align: right;\">0.0487145  </td><td>adam       </td><td>exp        </td><td style=\"text-align: right;\">      </td><td style=\"text-align: right;\">                </td><td style=\"text-align: right;\">       </td><td style=\"text-align: right;\">          </td></tr>\n",
       "<tr><td>train_model_eea09_00008</td><td>PENDING </td><td>              </td><td style=\"text-align: right;\">          32</td><td style=\"text-align: right;\">      30</td><td style=\"text-align: right;\">0.597357</td><td style=\"text-align: right;\">0.00977968 </td><td>adam       </td><td>exp        </td><td style=\"text-align: right;\">      </td><td style=\"text-align: right;\">                </td><td style=\"text-align: right;\">       </td><td style=\"text-align: right;\">          </td></tr>\n",
       "<tr><td>train_model_eea09_00009</td><td>PENDING </td><td>              </td><td style=\"text-align: right;\">          32</td><td style=\"text-align: right;\">      30</td><td style=\"text-align: right;\">0.45993 </td><td style=\"text-align: right;\">0.0705452  </td><td>adam       </td><td>exp        </td><td style=\"text-align: right;\">      </td><td style=\"text-align: right;\">                </td><td style=\"text-align: right;\">       </td><td style=\"text-align: right;\">          </td></tr>\n",
       "</tbody>\n",
       "</table>\n",
       "  </div>\n",
       "</div>\n",
       "<style>\n",
       ".tuneStatus {\n",
       "  color: var(--jp-ui-font-color1);\n",
       "}\n",
       ".tuneStatus .systemInfo {\n",
       "  display: flex;\n",
       "  flex-direction: column;\n",
       "}\n",
       ".tuneStatus td {\n",
       "  white-space: nowrap;\n",
       "}\n",
       ".tuneStatus .trialStatus {\n",
       "  display: flex;\n",
       "  flex-direction: column;\n",
       "}\n",
       ".tuneStatus h3 {\n",
       "  font-weight: bold;\n",
       "}\n",
       ".tuneStatus .hDivider {\n",
       "  border-bottom-width: var(--jp-border-width);\n",
       "  border-bottom-color: var(--jp-border-color0);\n",
       "  border-bottom-style: solid;\n",
       "}\n",
       ".tuneStatus .vDivider {\n",
       "  border-left-width: var(--jp-border-width);\n",
       "  border-left-color: var(--jp-border-color0);\n",
       "  border-left-style: solid;\n",
       "  margin: 0.5em 1em 0.5em 1em;\n",
       "}\n",
       "</style>\n"
      ],
      "text/plain": [
       "<IPython.core.display.HTML object>"
      ]
     },
     "metadata": {},
     "output_type": "display_data"
    },
    {
     "name": "stderr",
     "output_type": "stream",
     "text": [
      "\u001b[36m(train_model pid=4416)\u001b[0m Checkpoint successfully created at: Checkpoint(filesystem=local, path=c:/Users/LEGION/Documents/Msc Data Science - Uni of Exeter/ECMM451 - Data Science Research Project (2023)/workspace/ray_results/test/trial_eea09_00000/checkpoint_000000)\n",
      "\u001b[36m(train_model pid=4416)\u001b[0m Checkpoint successfully created at: Checkpoint(filesystem=local, path=c:/Users/LEGION/Documents/Msc Data Science - Uni of Exeter/ECMM451 - Data Science Research Project (2023)/workspace/ray_results/test/trial_eea09_00000/checkpoint_000001)\n"
     ]
    },
    {
     "ename": "",
     "evalue": "",
     "output_type": "error",
     "traceback": [
      "\u001b[1;31mThe Kernel crashed while executing code in the current cell or a previous cell. \n",
      "\u001b[1;31mPlease review the code in the cell(s) to identify a possible cause of the failure. \n",
      "\u001b[1;31mClick <a href='https://aka.ms/vscodeJupyterKernelCrash'>here</a> for more info. \n",
      "\u001b[1;31mView Jupyter <a href='command:jupyter.viewOutput'>log</a> for further details."
     ]
    }
   ],
   "source": [
    "mytuner.main(train_datasets['long_acc'], valid_datasets['long_acc'], test_datasets['long_acc'])"
   ]
  },
  {
   "cell_type": "code",
   "execution_count": null,
   "metadata": {},
   "outputs": [],
   "source": []
  }
 ],
 "metadata": {
  "kernelspec": {
   "display_name": "torch-gpu",
   "language": "python",
   "name": "python3"
  },
  "language_info": {
   "codemirror_mode": {
    "name": "ipython",
    "version": 3
   },
   "file_extension": ".py",
   "mimetype": "text/x-python",
   "name": "python",
   "nbconvert_exporter": "python",
   "pygments_lexer": "ipython3",
   "version": "3.10.13"
  }
 },
 "nbformat": 4,
 "nbformat_minor": 2
}
